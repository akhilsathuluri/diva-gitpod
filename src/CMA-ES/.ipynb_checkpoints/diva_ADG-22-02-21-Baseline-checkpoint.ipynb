{
 "cells": [
  {
   "cell_type": "code",
   "execution_count": 1,
   "metadata": {},
   "outputs": [],
   "source": [
    "# Imports\n",
    "import numpy as np\n",
    "import altair as alt\n",
    "import pydot\n",
    "from IPython.display import display, SVG, clear_output, HTML\n",
    "import matplotlib.pyplot as plt\n",
    "from pydrake.all import *\n",
    "from manipulation import running_as_notebook\n",
    "from manipulation.meshcat_cpp_utils import(\n",
    "    StartMeshcat, MeshcatJointSlidersThatPublish)\n",
    "from manipulation.scenarios import AddMultibodyTriad\n",
    "\n",
    "from sympy import *"
   ]
  },
  {
   "cell_type": "code",
   "execution_count": 2,
   "metadata": {},
   "outputs": [
    {
     "data": {
      "text/html": [
       "Meshcat is now available at <a href=\"http://localhost:7000\">http://localhost:7000</a>"
      ],
      "text/plain": [
       "<IPython.core.display.HTML object>"
      ]
     },
     "metadata": {},
     "output_type": "display_data"
    }
   ],
   "source": [
    "# Start the visualizer.\n",
    "meshcat = StartMeshcat()"
   ]
  },
  {
   "cell_type": "code",
   "execution_count": 3,
   "metadata": {},
   "outputs": [],
   "source": [
    "# Define the number of actuators\n",
    "na = 7"
   ]
  },
  {
   "cell_type": "code",
   "execution_count": 4,
   "metadata": {},
   "outputs": [
    {
     "name": "stdout",
     "output_type": "stream",
     "text": [
      "{'tau_mu': 0.0053, 'b0': 1.5e-05, 'Km': 0.19, 'Kt': 0.095, 'Kv': 100, 'k_velocity': 1.0606085407643906, 'tau_max_m': 1.2, 'omega_max_m': 4750, 'gear_ratio': 10, 'Kp': 18}\n"
     ]
    }
   ],
   "source": [
    "# Define design variables here\n",
    "# Assumed values\n",
    "tau_mu = 5.3e-3\n",
    "b0 = 1.5e-5\n",
    "# AK70-10 parameters\n",
    "# gear ratio\n",
    "gear_ratio = 10\n",
    "# motor design variables\n",
    "tau_max_m = 12/gear_ratio # Nm\n",
    "omega_max_m = 475*gear_ratio   # RPM\n",
    "Kt = 0.095        # Nm/A\n",
    "Kv = 100          # RPM/V\n",
    "Km = 0.19         # Nm/sqrt(W)\n",
    "# Computed matrix for joule loss\n",
    "K_joule = 1/np.sqrt(Km)*np.identity(na)\n",
    "k_velocity = 8.33/(75*2*np.pi/60) # Nm/(rad/s)\n",
    "\n",
    "# Control attributes\n",
    "Kp = 18\n",
    "\n",
    "dv_vals = [tau_mu, b0, Km, Kt, Kv, k_velocity, tau_max_m, omega_max_m, gear_ratio, Kp]\n",
    "dv_names = [\"tau_mu\", \"b0\", \"Km\", \"Kt\", \"Kv\", \"k_velocity\", \"tau_max_m\", \"omega_max_m\", \"gear_ratio\", \"Kp\"]\n",
    "# Define a dictionary for ease of usage and modulartiy of the dvs\n",
    "dv = dict(zip(dv_names, dv_vals))\n",
    "print(dv)"
   ]
  },
  {
   "cell_type": "code",
   "execution_count": 5,
   "metadata": {},
   "outputs": [],
   "source": [
    "# Task definition\n",
    "# Home position\n",
    "q0 = np.array([3.04, 0.07, 2.47, -0.48, 2.06, -0.89, 0.62])\n",
    "# Pick location\n",
    "carti = np.array([-0.33, 0.07, 0.8])\n",
    "# Enforcing the end-effector to be parallel with the table\n",
    "orii = np.array([-1.57, 0, 0])\n",
    "Ri = RotationMatrix(RollPitchYaw(orii))\n",
    "# Place location\n",
    "cartd = np.array([-0.03, 0.07, 0.8])\n",
    "# Intermediate location\n",
    "cartint = (cartd+carti)/2+np.array([0,-0.05,0.2])\n",
    "\n",
    "# Simulation settings\n",
    "time_step = 1e-4\n",
    "sim_time = 5\n",
    "error_threshold = 5e-3"
   ]
  },
  {
   "cell_type": "code",
   "execution_count": 6,
   "metadata": {},
   "outputs": [],
   "source": [
    "# Reference: https://wiki.ros.org/pr2_controller_manager/safety_limits\n",
    "# Defining the actuator box\n",
    "class ActuatorBox(LeafSystem):\n",
    "    # Input values are for motor and NOT for the joint\n",
    "    def __init__(self, tau_max_m, omega_max_m, gear_ratio, k_velocity):\n",
    "        LeafSystem.__init__(self)\n",
    "        # Both the values are motor specific NOT joint specific\n",
    "        # Get joint max torque\n",
    "        self.tau_max_j = tau_max_m*gear_ratio\n",
    "        self.k_vel = k_velocity\n",
    "        # Convert RPM of motor to joint velocity in rad/sec\n",
    "        self.omega_max_j = omega_max_m*(2*np.pi/60)/gear_ratio\n",
    "        self.DeclareVectorInputPort('commanded_torque', BasicVector(na))\n",
    "        self.DeclareVectorInputPort('joint_state', BasicVector(2*na))\n",
    "        self.DeclareVectorOutputPort('realised_torque', BasicVector(na), self.OutputJointTorque)\n",
    "\n",
    "    def OutputJointTorque(self, context, output):\n",
    "        # Get the state values\n",
    "        q = self.EvalVectorInput(context, 1).get_value()\n",
    "        qvel = q[na:]\n",
    "        u = self.EvalVectorInput(context, 0).get_value()\n",
    "        # Compute the instantaneous torque limit\n",
    "        # For the AK-70-10 motors\n",
    "        kv = self.k_vel\n",
    "        u_new = np.copy(u)\n",
    "        # Using URDF safety controller rules\n",
    "        for i in range(len(u)):\n",
    "            if qvel[i]>=0 and u[i]>=0:\n",
    "                u_bound = -kv*(qvel[i]-self.omega_max_j)\n",
    "                u_new[i] = np.min([u[i], u_bound, self.tau_max_j])\n",
    "            if qvel[i]>=0 and u[i]<=0:\n",
    "                u_bound = -self.tau_max_j\n",
    "                u_new[i] = np.max([u[i], u_bound])\n",
    "            if qvel[i]<=0 and u[i]>=0:\n",
    "                u_bound = self.tau_max_j\n",
    "                u_new[i] = np.min([u[i], u_bound])\n",
    "            if qvel[i]<=0 and u[i]<=0:\n",
    "#                 u_bound = -kv*(qvel[i]+self.omega_max_j)\n",
    "                u_bound = -(-kv*(np.abs(qvel[i])-self.omega_max_j))\n",
    "                u_new[i] = np.max([u[i], u_bound, -self.tau_max_j])\n",
    "#             print(qvel[i], u[i], u_bound, u_new, '\\n')\n",
    "        output.SetFromVector(u_new)"
   ]
  },
  {
   "cell_type": "code",
   "execution_count": 7,
   "metadata": {
    "scrolled": true
   },
   "outputs": [],
   "source": [
    "# Enter the robot path and finalise sim settings\n",
    "urdf_path = './urdfs/DIVAR2V/urdf/DIVAR2V_eef.urdf'\n",
    "\n",
    "meshcat.Delete()\n",
    "meshcat.DeleteAddedControls()\n",
    "\n",
    "builder = DiagramBuilder()\n",
    "plant, scene_graph = AddMultibodyPlantSceneGraph(builder, time_step=time_step)\n",
    "model = Parser(plant, scene_graph).AddModelFromFile(urdf_path, 'diva_robot')\n",
    "# Set robot near table\n",
    "table = Parser(plant, scene_graph).AddModelFromFile('./urdfs/table/extra_heavy_duty_table_modified.sdf','table')\n",
    "X_R = RigidTransform(RotationMatrix.MakeYRotation(0), np.array([-0.1, 0.5, 1]))\n",
    "plant.WeldFrames(plant.world_frame(), plant.get_body(plant.GetBodyIndices(model)[0]).body_frame(), X_R)\n",
    "# Set sphere to desired position\n",
    "sphere1 = Parser(plant, scene_graph).AddModelFromFile('./urdfs/helper/sphere.urdf','sphere1')\n",
    "X_R = RigidTransform(RotationMatrix(RollPitchYaw([0, 0, 0])), carti)\n",
    "plant.WeldFrames(plant.world_frame(), plant.get_body(plant.GetBodyIndices(sphere1)[0]).body_frame(), X_R)\n",
    "\n",
    "sphere2 = Parser(plant, scene_graph).AddModelFromFile('./urdfs/helper/sphere.urdf','sphere2')\n",
    "X_R = RigidTransform(RotationMatrix(RollPitchYaw([0, 0, 0])), cartd)\n",
    "plant.WeldFrames(plant.world_frame(), plant.get_body(plant.GetBodyIndices(sphere2)[0]).body_frame(), X_R)\n",
    "\n",
    "sphere3 = Parser(plant, scene_graph).AddModelFromFile('./urdfs/helper/sphere.urdf','sphere3')\n",
    "X_R = RigidTransform(RotationMatrix(RollPitchYaw([0, 0, 0])), cartint)\n",
    "plant.WeldFrames(plant.world_frame(), plant.get_body(plant.GetBodyIndices(sphere3)[0]).body_frame(), X_R)\n",
    "\n",
    "plant.Finalize()        \n",
    "actuator = builder.AddSystem(ActuatorBox(dv['tau_max_m'], dv['omega_max_m'], dv['gear_ratio'], dv['k_velocity']))"
   ]
  },
  {
   "cell_type": "code",
   "execution_count": 8,
   "metadata": {},
   "outputs": [],
   "source": [
    "# Draw the frames\n",
    "for body_name in [\"base_link\", \"eef\"]:\n",
    "#     for body_name in [\"base_link\", \"elbow\", \"shoud2\", \"should1\", \"under arm\", \"upper arm\", \"eef\"]:\n",
    "    AddMultibodyTriad(plant.GetFrameByName(body_name, model), scene_graph)\n",
    "\n",
    "# Adds the MeshcatVisualizer and wires it to the SceneGraph.\n",
    "visualizer = MeshcatVisualizerCpp.AddToBuilder(builder, scene_graph, meshcat)\n",
    "\n",
    "Kp = np.full(na, dv['Kp'])\n",
    "Ki = np.full(na, 0)\n",
    "Kd = np.full(na, 7.414)\n",
    "# Kd = 2*np.sqrt(Kp)\n",
    "\n",
    "iiwa_controller = builder.AddSystem(InverseDynamicsController(plant, Kp, Ki, Kd, False))\n",
    "iiwa_controller.set_name(\"iiwa_controller\");\n",
    "builder.Connect(plant.get_state_output_port(model),\n",
    "                iiwa_controller.get_input_port_estimated_state())\n",
    "\n",
    "# Add a motor characteristics box here to define how the motor output would be based on the commanded control \n",
    "builder.Connect(iiwa_controller.get_output_port_control(), \n",
    "                actuator.get_input_port(0))\n",
    "builder.Connect(plant.get_state_output_port(model),\n",
    "                actuator.get_input_port(1))\n",
    "builder.Connect(actuator.get_output_port(), plant.get_actuation_input_port())\n",
    "\n",
    "# Connecting a data logger\n",
    "# Commanded torque\n",
    "logger1 = LogVectorOutput(iiwa_controller.get_output_port_control(), builder)\n",
    "# Joint state\n",
    "logger2 = LogVectorOutput(plant.get_state_output_port(model), builder)\n",
    "# Realised torque\n",
    "logger3 = LogVectorOutput(actuator.get_output_port(), builder)\n",
    "\n",
    "diagram = builder.Build()"
   ]
  },
  {
   "cell_type": "code",
   "execution_count": 9,
   "metadata": {},
   "outputs": [],
   "source": [
    "context = diagram.CreateDefaultContext()\n",
    "plant_context = plant.GetMyMutableContextFromRoot(context)\n",
    "gripper_frame = plant.GetBodyByName(\"eef\").body_frame()"
   ]
  },
  {
   "cell_type": "code",
   "execution_count": 10,
   "metadata": {},
   "outputs": [
    {
     "name": "stdout",
     "output_type": "stream",
     "text": [
      "init pose IK:  True   [-2.44638919  0.23876803  1.59048134  0.09794963  3.00620177 -0.84260006\n",
      " -1.43429923]\n",
      "final pose IK:  True   [-2.38357708  0.08599855  2.14263713 -0.47696921  2.73985728 -1.57634596\n",
      " -1.86168229]\n",
      "final pose IK:  True   [-2.53725333 -0.32203878  1.97857906 -0.12785049  3.03252099 -0.9631777\n",
      " -2.07610007]\n"
     ]
    }
   ],
   "source": [
    "# Compute IK\n",
    "ik = InverseKinematics(plant, plant_context)\n",
    "# position constraint\n",
    "ik.AddPositionConstraint(\n",
    "            gripper_frame, [0, 0, 0], plant.world_frame(), \n",
    "            carti, carti)\n",
    "# orientation constraint\n",
    "ik.AddOrientationConstraint(\n",
    "    gripper_frame, RotationMatrix(), plant.world_frame(), \n",
    "    Ri, 0.0)\n",
    "prog = ik.get_mutable_prog()\n",
    "q = ik.q()\n",
    "prog.AddQuadraticErrorCost(np.identity(len(q)), q0, q)\n",
    "prog.SetInitialGuess(q, q0)\n",
    "result = Solve(ik.prog())\n",
    "qi = result.GetSolution(ik.q())\n",
    "# Condition the final angles to be between -pi and pi\n",
    "qi = (np.arctan2(np.sin(qi), np.cos(qi)))\n",
    "print('init pose IK: ', result.is_success(),' ', qi)\n",
    "\n",
    "# Compute ik for pose-int\n",
    "ik = InverseKinematics(plant, plant_context)\n",
    "ik.AddPositionConstraint(\n",
    "            gripper_frame, [0, 0, 0], plant.world_frame(), \n",
    "            cartint, cartint)\n",
    "ik.AddOrientationConstraint(\n",
    "    gripper_frame, RotationMatrix(), plant.world_frame(), \n",
    "    Ri, 0.0)\n",
    "prog = ik.get_mutable_prog()\n",
    "q = ik.q()\n",
    "prog.AddQuadraticErrorCost(np.identity(len(q)), q0, q)\n",
    "prog.SetInitialGuess(q, q0)\n",
    "result = Solve(ik.prog())\n",
    "qint = result.GetSolution(ik.q())\n",
    "# Condition the final angles to be between -pi and pi\n",
    "qint = (np.arctan2(np.sin(qint), np.cos(qint)))\n",
    "print('final pose IK: ', result.is_success(),' ', qint)\n",
    "\n",
    "# Compute ik for pose-2\n",
    "ik = InverseKinematics(plant, plant_context)\n",
    "ik.AddPositionConstraint(\n",
    "            gripper_frame, [0, 0, 0], plant.world_frame(), \n",
    "            cartd, cartd)\n",
    "ik.AddOrientationConstraint(\n",
    "    gripper_frame, RotationMatrix(), plant.world_frame(), \n",
    "    Ri, 0.0)\n",
    "prog = ik.get_mutable_prog()\n",
    "q = ik.q()\n",
    "prog.AddQuadraticErrorCost(np.identity(len(q)), q0, q)\n",
    "prog.SetInitialGuess(q, q0)\n",
    "result = Solve(ik.prog())\n",
    "qd = result.GetSolution(ik.q())\n",
    "# Condition the final angles to be between -pi and pi\n",
    "qd = (np.arctan2(np.sin(qd), np.cos(qd)))\n",
    "print('final pose IK: ', result.is_success(),' ', qd)"
   ]
  },
  {
   "cell_type": "code",
   "execution_count": 57,
   "metadata": {},
   "outputs": [
    {
     "name": "stdout",
     "output_type": "stream",
     "text": [
      "force_projection:  [ 4.30000000e+00  1.18048928e+00  2.76981026e-01 -2.19804952e+00\n",
      "  6.51261375e-02 -2.16869269e-03  1.85288457e-20]\n",
      "Gvec:  [-9.52616013e+00 -2.44094747e+00 -3.92563578e-01  3.56526182e+00\n",
      " -5.43116490e-02 -1.45949855e-03 -0.00000000e+00]\n",
      "joint_torques:  [ 5.22616013e+00  1.26045819e+00  1.15582552e-01 -1.36721231e+00\n",
      " -1.08144885e-02  3.62819124e-03 -1.85288457e-20]\n",
      "5.2261601343969515\n"
     ]
    }
   ],
   "source": [
    "# Check for applied force\n",
    "G = plant.GetBodyByName(\"eef\").body_frame()\n",
    "W = plant.world_frame()\n",
    "# If we can reach the final position, set that as the robots position\n",
    "plant.SetPositions(plant.GetMyContextFromRoot(context), model, qd)\n",
    "J_G = plant.CalcJacobianSpatialVelocity(plant_context, JacobianWrtVariable.kV, G, [0,0,0], W, W)\n",
    "# Required force in global frame\n",
    "force_applied = np.array([0,0,0,0,0,10])\n",
    "force_projection = np.matmul(J_G.transpose(), force_applied)\n",
    "print('force_projection: ', force_projection)\n",
    "\n",
    "# Calculate the gravity generalised forces\n",
    "Gvec = plant.CalcGravityGeneralizedForces(plant_context)\n",
    "print('Gvec: ', Gvec)\n",
    "joint_torques = -Gvec-force_projection\n",
    "\n",
    "print('joint_torques: ', joint_torques)\n",
    "print(np.max(np.abs(joint_torques)))\n",
    "# diagram.Publish(context)"
   ]
  },
  {
   "cell_type": "code",
   "execution_count": 60,
   "metadata": {},
   "outputs": [
    {
     "name": "stdout",
     "output_type": "stream",
     "text": [
      "True\n",
      "sol [-0.1 -0.1 -0.1 -0.1 -0.1  0.1 -0.1]\n",
      "[-1.52632932 -0.66975616  0.0303259  -3.89309876  7.91782701 22.47528633]\n"
     ]
    }
   ],
   "source": [
    "prog = MathematicalProgram()\n",
    "taus = prog.NewContinuousVariables(7, \"taus\")\n",
    "u_limits = np.array([[-1]*na,[1]*na])*0.1\n",
    "\n",
    "def get_max_zforce(taus):\n",
    "    f = -np.linalg.pinv(J_G.T)@(taus+Gvec)\n",
    "    return -f[-1]\n",
    "# Add corresponding cost\n",
    "prog.AddCost(get_max_zforce, vars=taus)\n",
    "prog.AddBoundingBoxConstraint(u_limits[0], u_limits[1], taus)\n",
    "# Maximise the zforce\n",
    "result = Solve(prog)\n",
    "print(result.is_success())\n",
    "tau_sol = result.GetSolution(taus)\n",
    "print('sol', tau_sol)\n",
    "# The max applicable zforce\n",
    "capable = -np.linalg.pinv(J_G.T)@(tau_sol+Gvec)\n",
    "print(capable)"
   ]
  },
  {
   "cell_type": "code",
   "execution_count": 61,
   "metadata": {},
   "outputs": [
    {
     "data": {
      "text/plain": [
       "array([-0.08098163, -0.149373  , -0.17851521, -0.0956363 ,  0.0207488 ,\n",
       "        0.10910507, -0.02965137])"
      ]
     },
     "execution_count": 61,
     "metadata": {},
     "output_type": "execute_result"
    }
   ],
   "source": [
    "-J_G.T@capable-Gvec"
   ]
  },
  {
   "cell_type": "code",
   "execution_count": 62,
   "metadata": {},
   "outputs": [
    {
     "name": "stdout",
     "output_type": "stream",
     "text": [
      "force_projection:  [-7.75370915e-03 -7.70163285e+00 -9.82279950e-02 -4.68325754e+00\n",
      " -8.15561891e-02 -1.99910618e+00 -2.29308759e-16]\n",
      "Gvec:  [  0.20210121 -13.82761986  -0.09886076  -5.82291847  -0.06788054\n",
      "  -1.47197039  -0.        ]\n",
      "joint_torques:  [-1.94347501e-01  2.15292527e+01  1.97088751e-01  1.05061760e+01\n",
      "  1.49436729e-01  3.47107658e+00  2.29308759e-16]\n",
      "21.52925271150426\n"
     ]
    }
   ],
   "source": [
    "G = plant.GetBodyByName(\"eef\").body_frame()\n",
    "# For payload computation\n",
    "fully_stretched = np.array([1.57,1.57,0,-1.3,0.06,0,0])\n",
    "plant.SetPositions(plant.GetMyContextFromRoot(context), model,\n",
    "              fully_stretched)\n",
    "J_G = plant.CalcJacobianSpatialVelocity(plant_context, JacobianWrtVariable.kV, G, [0,0,0], W, W)\n",
    "# Lift a weight of 10N (1kg payload)\n",
    "# Applied force should be in W frame\n",
    "force_applied = np.array([0,0,0,0,0,-10])\n",
    "force_projection = np.matmul(J_G.transpose(), force_applied)\n",
    "print('force_projection: ', force_projection)\n",
    "\n",
    "# Calculate the gravity generalised forces\n",
    "Gvec = plant.CalcGravityGeneralizedForces(plant_context)\n",
    "print('Gvec: ', Gvec)\n",
    "joint_torques = -Gvec-force_projection\n",
    "\n",
    "print('joint_torques: ', joint_torques)\n",
    "print(np.max(np.abs(joint_torques)))\n",
    "# diagram.Publish(context)"
   ]
  },
  {
   "cell_type": "code",
   "execution_count": 63,
   "metadata": {},
   "outputs": [
    {
     "name": "stdout",
     "output_type": "stream",
     "text": [
      "True\n",
      "sol [-0.1 -0.1  0.1  0.1  0.1  0.1  0.1]\n",
      "[-3.71452807e+00  1.19750178e+01 -3.55765257e+02 -6.23907852e+03\n",
      " -9.92622466e+02  3.32412391e+01]\n"
     ]
    }
   ],
   "source": [
    "prog = MathematicalProgram()\n",
    "taus = prog.NewContinuousVariables(7, \"taus\")\n",
    "u_limits = np.array([[-1]*na,[1]*na])*0.1\n",
    "\n",
    "def get_max_zforce(taus):\n",
    "    f = -np.linalg.pinv(J_G.T)@(taus+Gvec)\n",
    "    return -f[-1]\n",
    "# Add corresponding cost\n",
    "prog.AddCost(get_max_zforce, vars=taus)\n",
    "prog.AddBoundingBoxConstraint(u_limits[0], u_limits[1], taus)\n",
    "# Maximise the zforce\n",
    "result = Solve(prog)\n",
    "print(result.is_success())\n",
    "tau_sol = result.GetSolution(taus)\n",
    "print('sol', tau_sol)\n",
    "# The max applicable zforce\n",
    "capable = -np.linalg.pinv(J_G.T)@(tau_sol+Gvec)\n",
    "print(capable)"
   ]
  },
  {
   "cell_type": "code",
   "execution_count": 64,
   "metadata": {},
   "outputs": [
    {
     "data": {
      "text/plain": [
       "array([-0.12789878, -0.10089556,  0.14065205,  0.10231673,  0.03922016,\n",
       "        0.09861317,  0.05197215])"
      ]
     },
     "execution_count": 64,
     "metadata": {},
     "output_type": "execute_result"
    }
   ],
   "source": [
    "-J_G.T@capable-Gvec"
   ]
  },
  {
   "cell_type": "code",
   "execution_count": 13,
   "metadata": {},
   "outputs": [],
   "source": [
    "#  SVG(pydot.graph_from_dot_data(diagram.GetGraphvizString())[0].create_svg())"
   ]
  },
  {
   "cell_type": "code",
   "execution_count": 15,
   "metadata": {},
   "outputs": [],
   "source": [
    "xd = np.hstack((qint, 0*qint))\n",
    "# xd = np.hstack((qd, 0*qd))\n",
    "plant.SetPositions(plant_context, qi)\n",
    "iiwa_controller.GetInputPort('desired_state').FixValue(\n",
    "iiwa_controller.GetMyMutableContextFromRoot(context), xd);\n",
    "diagram.Publish(context)"
   ]
  },
  {
   "cell_type": "code",
   "execution_count": 15,
   "metadata": {},
   "outputs": [],
   "source": [
    "simulator = Simulator(diagram, context)\n",
    "simulator.AdvanceTo(sim_time);"
   ]
  },
  {
   "cell_type": "code",
   "execution_count": 16,
   "metadata": {},
   "outputs": [],
   "source": [
    "# Now we want to get the simulation data, i.e.,\n",
    "# the torque applied, final time of the joint variables\n",
    "log1 = logger1.FindLog(context)\n",
    "log2 = logger2.FindLog(context)\n",
    "log3 = logger3.FindLog(context)"
   ]
  },
  {
   "cell_type": "code",
   "execution_count": 17,
   "metadata": {},
   "outputs": [
    {
     "name": "stdout",
     "output_type": "stream",
     "text": [
      "2.164257765889961e-08\n"
     ]
    },
    {
     "data": {
      "text/plain": [
       "[<matplotlib.lines.Line2D at 0x7f90d7fc2af0>,\n",
       " <matplotlib.lines.Line2D at 0x7f90d7fc2a90>,\n",
       " <matplotlib.lines.Line2D at 0x7f90d7fc2bb0>,\n",
       " <matplotlib.lines.Line2D at 0x7f90d7fc2df0>,\n",
       " <matplotlib.lines.Line2D at 0x7f90d7fc2cd0>,\n",
       " <matplotlib.lines.Line2D at 0x7f90d7fc2e20>,\n",
       " <matplotlib.lines.Line2D at 0x7f90d7fd4070>]"
      ]
     },
     "execution_count": 17,
     "metadata": {},
     "output_type": "execute_result"
    },
    {
     "data": {
      "image/png": "[encoded data removed]",
      "text/plain": [
       "<Figure size 432x288 with 1 Axes>"
      ]
     },
     "metadata": {
      "needs_background": "light"
     },
     "output_type": "display_data"
    }
   ],
   "source": [
    "error = np.abs(log2.data()[:na,:].transpose() - np.tile(qint,(log3.data().shape[1],1)))\n",
    "e_norm = np.array([np.linalg.norm(val) for val in error])\n",
    "print(e_norm[-1])\n",
    "\n",
    "plt.plot(log2.sample_times(), error[:, 0], log2.sample_times(), error[:, 1],\\\n",
    "        log2.sample_times(), error[:, 2], log2.sample_times(), error[:, 3], \\\n",
    "        log2.sample_times(), error[:, 4], log2.sample_times(), error[:, 5], \n",
    "        log2.sample_times(), error[:, 6])"
   ]
  },
  {
   "cell_type": "code",
   "execution_count": 18,
   "metadata": {},
   "outputs": [],
   "source": [
    "omega_j = []\n",
    "for i in range(log2.data().shape[1]):\n",
    "    omega_j.append(log2.data()[:,i][na:])\n",
    "omega_j = np.array(omega_j).transpose()\n",
    "omega_m = omega_j*gear_ratio\n",
    "# Convert the motor speed to RPM\n",
    "omega_m_rpm = omega_m*60/(2*np.pi)\n",
    "# Motor torque realised\n",
    "tau_m = log3.data()/gear_ratio"
   ]
  },
  {
   "cell_type": "code",
   "execution_count": 19,
   "metadata": {},
   "outputs": [
    {
     "name": "stdout",
     "output_type": "stream",
     "text": [
      "max joint RPM: 1.2500450154034977\n"
     ]
    },
    {
     "data": {
      "image/png": "[encoded data removed]",
      "text/plain": [
       "<Figure size 432x288 with 1 Axes>"
      ]
     },
     "metadata": {
      "needs_background": "light"
     },
     "output_type": "display_data"
    }
   ],
   "source": [
    "# Angular angular velocity of the robot in RPM\n",
    "plt.plot(log2.sample_times(), omega_j[0, :], log2.sample_times(), omega_j[1, :],\\\n",
    "        log2.sample_times(), omega_j[2, :], log2.sample_times(), omega_j[3, :], \\\n",
    "        log2.sample_times(), omega_j[4, :])\n",
    "print('max joint RPM:', np.max(np.abs(omega_j)))"
   ]
  },
  {
   "cell_type": "code",
   "execution_count": 20,
   "metadata": {},
   "outputs": [
    {
     "name": "stdout",
     "output_type": "stream",
     "text": [
      "max motor RPM: 119.37050597331066\n"
     ]
    },
    {
     "data": {
      "image/png": "[encoded data removed]",
      "text/plain": [
       "<Figure size 432x288 with 1 Axes>"
      ]
     },
     "metadata": {
      "needs_background": "light"
     },
     "output_type": "display_data"
    }
   ],
   "source": [
    "# Angular angular velocity of the motor in RPM\n",
    "plt.plot(log2.sample_times(), omega_m_rpm[0, :], log2.sample_times(), omega_m_rpm[1, :],\\\n",
    "        log2.sample_times(), omega_m_rpm[2, :], log2.sample_times(), omega_m_rpm[3, :], \\\n",
    "        log2.sample_times(), omega_m_rpm[4, :])\n",
    "print('max motor RPM:', np.max(np.abs(omega_m_rpm)))"
   ]
  },
  {
   "cell_type": "code",
   "execution_count": 21,
   "metadata": {},
   "outputs": [],
   "source": [
    "# Total power loss\n",
    "inst_friction_power = []\n",
    "inst_joule_power = []\n",
    "for i in range(len(log3.sample_times())):\n",
    "    omega_inst = omega_m[:, i]\n",
    "    tau_f = dv['tau_mu']*np.sign(omega_inst)+dv['b0']*omega_inst\n",
    "    P_f = np.dot(tau_f, omega_inst)\n",
    "    inst_friction_power.append(P_f)\n",
    "    tau_t = tau_f+tau_m[:, i]\n",
    "    P_t = np.dot(K_joule.dot(tau_t), tau_t)\n",
    "    inst_joule_power.append(P_t)"
   ]
  },
  {
   "cell_type": "code",
   "execution_count": 22,
   "metadata": {},
   "outputs": [
    {
     "name": "stdout",
     "output_type": "stream",
     "text": [
      "total_friction_loss:  0.15122758406029455\n",
      "total_joule_loss:  13.972442854849067\n"
     ]
    }
   ],
   "source": [
    "# Computing the energy loss associated with friction and joule losses\n",
    "total_friction_loss = np.sum(inst_friction_power)*time_step\n",
    "total_joule_loss = np.sum(inst_joule_power)*time_step\n",
    "print('total_friction_loss: ', total_friction_loss)\n",
    "print('total_joule_loss: ', total_joule_loss)"
   ]
  },
  {
   "cell_type": "code",
   "execution_count": 23,
   "metadata": {},
   "outputs": [
    {
     "data": {
      "image/png": "[encoded data removed]",
      "text/plain": [
       "<Figure size 432x288 with 1 Axes>"
      ]
     },
     "metadata": {
      "needs_background": "light"
     },
     "output_type": "display_data"
    },
    {
     "data": {
      "image/png": "[encoded data removed]",
      "text/plain": [
       "<Figure size 432x288 with 1 Axes>"
      ]
     },
     "metadata": {
      "needs_background": "light"
     },
     "output_type": "display_data"
    }
   ],
   "source": [
    "fig = plt.figure();\n",
    "plt.plot(log1.sample_times(), log1.data()[0, :], log1.sample_times(), log1.data()[1, :],\\\n",
    "        log1.sample_times(), log1.data()[2, :], log1.sample_times(), log1.data()[3, :], \\\n",
    "        log1.sample_times(), log1.data()[4, :]);\n",
    "\n",
    "fig = plt.figure();\n",
    "plt.plot(log3.sample_times(), log3.data()[0, :], log3.sample_times(), log3.data()[1, :],\\\n",
    "        log3.sample_times(), log3.data()[2, :], log3.sample_times(), log3.data()[3, :], \\\n",
    "        log3.sample_times(), log3.data()[4, :]);"
   ]
  },
  {
   "cell_type": "code",
   "execution_count": 24,
   "metadata": {},
   "outputs": [
    {
     "name": "stdout",
     "output_type": "stream",
     "text": [
      "Settling time: 1.1946\n"
     ]
    }
   ],
   "source": [
    "e_norm = np.array([np.linalg.norm(val) for val in error])\n",
    "for i in range(len(e_norm)):\n",
    "    if np.all(e_norm[i:]<5e-3):\n",
    "        # print(i)\n",
    "        break\n",
    "\n",
    "ts = log2.sample_times()[i]\n",
    "print('Settling time:', ts)"
   ]
  },
  {
   "cell_type": "code",
   "execution_count": 25,
   "metadata": {},
   "outputs": [
    {
     "data": {
      "text/plain": [
       "2.164257765889961e-08"
      ]
     },
     "execution_count": 25,
     "metadata": {},
     "output_type": "execute_result"
    }
   ],
   "source": [
    "e_norm[-1]"
   ]
  },
  {
   "cell_type": "code",
   "execution_count": 26,
   "metadata": {},
   "outputs": [
    {
     "name": "stdout",
     "output_type": "stream",
     "text": [
      "11.866905712985442\n",
      "11.866905712985442\n"
     ]
    }
   ],
   "source": [
    "# Max torque required\n",
    "# We can enforce max torque requirements at each joint in the URDF itself\n",
    "print(np.max(np.abs(log1.data())))\n",
    "print(np.max(np.abs(log3.data())))"
   ]
  },
  {
   "cell_type": "code",
   "execution_count": 27,
   "metadata": {},
   "outputs": [
    {
     "name": "stdout",
     "output_type": "stream",
     "text": [
      "max power used:  3.59735134934626 W\n"
     ]
    },
    {
     "data": {
      "image/png": "[encoded data removed]",
      "text/plain": [
       "<Figure size 432x288 with 1 Axes>"
      ]
     },
     "metadata": {
      "needs_background": "light"
     },
     "output_type": "display_data"
    }
   ],
   "source": [
    "inst_power_m = []\n",
    "for i in range(len(log3.sample_times())):\n",
    "    # Compute inst power demanded\n",
    "    inst_power_m.append(np.multiply(tau_m[:,i], omega_m_rpm[:,i])/(dv['Kt']*dv['Kv']))\n",
    "\n",
    "# Plot instantaneous power demand of the motor\n",
    "plt.plot(log3.sample_times(), inst_power_m)\n",
    "print(\"max power used: \", np.max(np.abs(inst_power_m)), \"W\")"
   ]
  },
  {
   "cell_type": "code",
   "execution_count": 67,
   "metadata": {},
   "outputs": [
    {
     "name": "stdout",
     "output_type": "stream",
     "text": [
      "gripper position (m): [-0.12 0.02 0.85]\n",
      "gripper roll-pitch-yaw (rad):[-1.53 0.05 2.84]\n",
      "pose rotation:  RotationMatrix([\n",
      "  [-0.9531938610849812, 0.03268696537386539, -0.30058779995960044],\n",
      "  [0.2985398158882395, -0.05578320660558339, -0.9527655599307808],\n",
      "  [-0.04791076621513275, -0.9979077092374055, 0.04341384946341834],\n",
      "])\n"
     ]
    }
   ],
   "source": [
    "def gripper_forward_kinematics_example():\n",
    "    urdf_path = './urdfs/DIVAR2V/urdf/DIVAR2V_eef.urdf'\n",
    "    builder = DiagramBuilder()\n",
    "    plant, scene_graph = AddMultibodyPlantSceneGraph(builder, time_step=1e-4)\n",
    "    model = Parser(plant, scene_graph).AddModelFromFile(urdf_path, 'diva_robot')\n",
    "    # Transform for the robot location\n",
    "    X_R = RigidTransform(RotationMatrix.MakeYRotation(0), np.array([-0.1, 0.5, 1.25]))\n",
    "#     X_R = RigidTransform(RotationMatrix(RollPitchYaw([0.8, -0.8, 0])), np.array([-0.1, 0.5, 1]))\n",
    "    plant.WeldFrames(plant.world_frame(), plant.get_body(plant.GetBodyIndices(model)[0]).body_frame(), X_R)\n",
    "    # Spawn table\n",
    "    table = Parser(plant, scene_graph).AddModelFromFile('./urdfs/table/extra_heavy_duty_table_modified.sdf','table')\n",
    "    # Spawn spherical work piece\n",
    "    sphere = Parser(plant, scene_graph).AddModelFromFile('./urdfs/helper/sphere.urdf','sphere')\n",
    "    # Place the sphere at the center of the table\n",
    "    # Length, width and height and thickness of the table\n",
    "    # 1.39, 0.762, 0.736, 0.057\n",
    "    # Sphere radius -- Can be made a design variable\n",
    "    # 0.15\n",
    "    # We can sample end-points on the surface of the sphere\n",
    "    X_R = RigidTransform(RotationMatrix(RollPitchYaw([0, 0, 0])), np.array([0, 0, 0.736]))\n",
    "    plant.WeldFrames(plant.world_frame(), plant.get_body(plant.GetBodyIndices(sphere)[0]).body_frame(), X_R)\n",
    "\n",
    "    plant.Finalize()\n",
    "    \n",
    "    end_frame = \"eef\"\n",
    "    \n",
    "    # Draw the frames\n",
    "    for body_name in [\"base_link\", end_frame]:\n",
    "        AddMultibodyTriad(plant.GetFrameByName(body_name, model), scene_graph)\n",
    "\n",
    "    meshcat.Delete()\n",
    "    meshcat.DeleteAddedControls()\n",
    "\n",
    "    visualizer = MeshcatVisualizerCpp.AddToBuilder(builder, scene_graph, meshcat)\n",
    "\n",
    "    diagram = builder.Build()\n",
    "    context = diagram.CreateDefaultContext()\n",
    "\n",
    "    plant.SetPositions(plant.GetMyContextFromRoot(context),\n",
    "                  plant.GetModelInstanceByName(\"diva_robot\"),\n",
    "                  q0)\n",
    "    \n",
    "    gripper = plant.GetBodyByName(end_frame)\n",
    "    def pose_callback(context):\n",
    "        pose = plant.EvalBodyPoseInWorld(context, gripper)   ## This is the important line\n",
    "        print(pose.translation())\n",
    "        clear_output(wait=True)\n",
    "        print(\"gripper position (m): \" + np.array2string(\n",
    "            pose.translation(), formatter={\n",
    "                'float': lambda x: \"{:3.2f}\".format(x)}))\n",
    "        print(\"gripper roll-pitch-yaw (rad):\" + np.array2string(\n",
    "            RollPitchYaw(pose.rotation()).vector(),\n",
    "                         formatter={'float': lambda x: \"{:3.2f}\".format(x)}))\n",
    "        print(\"pose rotation: \", pose.rotation())\n",
    "    sliders = MeshcatJointSlidersThatPublish(meshcat, plant, visualizer, context)\n",
    "    # sliders.Run()\n",
    "    sliders.Run(pose_callback)\n",
    "\n",
    "gripper_forward_kinematics_example()"
   ]
  },
  {
   "cell_type": "code",
   "execution_count": null,
   "metadata": {},
   "outputs": [],
   "source": []
  }
 ],
 "metadata": {
  "colab": {
   "collapsed_sections": [],
   "name": "Robotic Manipulation - Let's get you a robot.ipynb",
   "provenance": [],
   "toc_visible": true
  },
  "interpreter": {
   "hash": "31f2aee4e71d21fbe5cf8b01ff0e069b9275f58929596ceb00d14d90e3e16cd6"
  },
  "kernelspec": {
   "display_name": "Python 3 (ipykernel)",
   "language": "python",
   "name": "python3"
  },
  "language_info": {
   "codemirror_mode": {
    "name": "ipython",
    "version": 3
   },
   "file_extension": ".py",
   "mimetype": "text/x-python",
   "name": "python",
   "nbconvert_exporter": "python",
   "pygments_lexer": "ipython3",
   "version": "3.8.5"
  }
 },
 "nbformat": 4,
 "nbformat_minor": 2
}
