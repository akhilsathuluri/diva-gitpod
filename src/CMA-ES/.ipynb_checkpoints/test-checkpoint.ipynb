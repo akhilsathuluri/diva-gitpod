{
 "cells": [
  {
   "cell_type": "code",
   "execution_count": 1,
   "metadata": {},
   "outputs": [],
   "source": [
    "class toy_problem:\n",
    "\n",
    "    def __init__(self, dim):\n",
    "\n",
    "        self.dim = dim\n",
    "\n",
    "\n",
    "    def fitness(self, x):\n",
    "\n",
    "        return [sum(x), 1 - sum(x*x), - sum(x)]\n",
    "\n",
    "\n",
    "    def gradient(self, x):\n",
    "\n",
    "        return pg.estimate_gradient(lambda x: self.fitness(x), x) # numerical gradient\n",
    "\n",
    "\n",
    "    def get_nec(self):\n",
    "\n",
    "        return 1\n",
    "\n",
    "\n",
    "    def get_nic(self):\n",
    "\n",
    "        return 1\n",
    "\n",
    "\n",
    "    def get_bounds(self):\n",
    "\n",
    "        return ([-1] * self.dim, [1] * self.dim)\n",
    "\n",
    "\n",
    "    def get_name(self):\n",
    "\n",
    "        return \"A toy problem\"\n",
    "\n",
    "\n",
    "    def get_extra_info(self):\n",
    "\n",
    "        return \"\\tDimensions: \" + str(self.dim)"
   ]
  },
  {
   "cell_type": "code",
   "execution_count": 2,
   "metadata": {},
   "outputs": [
    {
     "name": "stdout",
     "output_type": "stream",
     "text": [
      "Number of islands: 32\n",
      "Topology: Unconnected\n",
      "Migration type: point-to-point\n",
      "Migrant handling policy: preserve\n",
      "Status: idle\n",
      "\n",
      "Islands summaries:\n",
      "\n",
      "\t#   Type                    Algo                                          Prob           Size  Status  \n",
      "\t-------------------------------------------------------------------------------------------------------\n",
      "\t0   Multiprocessing island  sa-CNSTR: Self-adaptive constraints handling  A toy problem  70    idle    \n",
      "\t1   Multiprocessing island  sa-CNSTR: Self-adaptive constraints handling  A toy problem  70    idle    \n",
      "\t2   Multiprocessing island  sa-CNSTR: Self-adaptive constraints handling  A toy problem  70    idle    \n",
      "\t3   Multiprocessing island  sa-CNSTR: Self-adaptive constraints handling  A toy problem  70    idle    \n",
      "\t4   Multiprocessing island  sa-CNSTR: Self-adaptive constraints handling  A toy problem  70    idle    \n",
      "\t5   Multiprocessing island  sa-CNSTR: Self-adaptive constraints handling  A toy problem  70    idle    \n",
      "\t6   Multiprocessing island  sa-CNSTR: Self-adaptive constraints handling  A toy problem  70    idle    \n",
      "\t7   Multiprocessing island  sa-CNSTR: Self-adaptive constraints handling  A toy problem  70    idle    \n",
      "\t8   Multiprocessing island  sa-CNSTR: Self-adaptive constraints handling  A toy problem  70    idle    \n",
      "\t9   Multiprocessing island  sa-CNSTR: Self-adaptive constraints handling  A toy problem  70    idle    \n",
      "\t10  Multiprocessing island  sa-CNSTR: Self-adaptive constraints handling  A toy problem  70    idle    \n",
      "\t11  Multiprocessing island  sa-CNSTR: Self-adaptive constraints handling  A toy problem  70    idle    \n",
      "\t12  Multiprocessing island  sa-CNSTR: Self-adaptive constraints handling  A toy problem  70    idle    \n",
      "\t13  Multiprocessing island  sa-CNSTR: Self-adaptive constraints handling  A toy problem  70    idle    \n",
      "\t14  Multiprocessing island  sa-CNSTR: Self-adaptive constraints handling  A toy problem  70    idle    \n",
      "\t15  Multiprocessing island  sa-CNSTR: Self-adaptive constraints handling  A toy problem  70    idle    \n",
      "\t16  Multiprocessing island  sa-CNSTR: Self-adaptive constraints handling  A toy problem  70    idle    \n",
      "\t17  Multiprocessing island  sa-CNSTR: Self-adaptive constraints handling  A toy problem  70    idle    \n",
      "\t18  Multiprocessing island  sa-CNSTR: Self-adaptive constraints handling  A toy problem  70    idle    \n",
      "\t19  Multiprocessing island  sa-CNSTR: Self-adaptive constraints handling  A toy problem  70    idle    \n",
      "\t20  Multiprocessing island  sa-CNSTR: Self-adaptive constraints handling  A toy problem  70    idle    \n",
      "\t21  Multiprocessing island  sa-CNSTR: Self-adaptive constraints handling  A toy problem  70    idle    \n",
      "\t22  Multiprocessing island  sa-CNSTR: Self-adaptive constraints handling  A toy problem  70    idle    \n",
      "\t23  Multiprocessing island  sa-CNSTR: Self-adaptive constraints handling  A toy problem  70    idle    \n",
      "\t24  Multiprocessing island  sa-CNSTR: Self-adaptive constraints handling  A toy problem  70    idle    \n",
      "\t25  Multiprocessing island  sa-CNSTR: Self-adaptive constraints handling  A toy problem  70    idle    \n",
      "\t26  Multiprocessing island  sa-CNSTR: Self-adaptive constraints handling  A toy problem  70    idle    \n",
      "\t27  Multiprocessing island  sa-CNSTR: Self-adaptive constraints handling  A toy problem  70    idle    \n",
      "\t28  Multiprocessing island  sa-CNSTR: Self-adaptive constraints handling  A toy problem  70    idle    \n",
      "\t29  Multiprocessing island  sa-CNSTR: Self-adaptive constraints handling  A toy problem  70    idle    \n",
      "\t30  Multiprocessing island  sa-CNSTR: Self-adaptive constraints handling  A toy problem  70    idle    \n",
      "\t31  Multiprocessing island  sa-CNSTR: Self-adaptive constraints handling  A toy problem  70    idle    \n",
      "\n"
     ]
    }
   ],
   "source": [
    "import pygmo as pg\n",
    "\n",
    "a_cstrs_sa = pg.algorithm(pg.cstrs_self_adaptive(iters=1000))\n",
    "\n",
    "p_toy = pg.problem(toy_problem(50))\n",
    "\n",
    "p_toy.c_tol = [1e-4, 1e-4]\n",
    "\n",
    "archi = pg.archipelago(n=32,algo=a_cstrs_sa, prob=p_toy, pop_size=70)\n",
    "\n",
    "print(archi) "
   ]
  },
  {
   "cell_type": "code",
   "execution_count": 3,
   "metadata": {},
   "outputs": [
    {
     "data": {
      "text/plain": [
       "[array([  4.26872101, -11.6008724 ,  -4.26872101]),\n",
       " array([  5.89225555, -10.62091151,  -5.89225555]),\n",
       " array([  0.58794065, -12.79900527,  -0.58794065]),\n",
       " array([  6.44181935, -11.86869157,  -6.44181935]),\n",
       " array([  4.54856141, -10.67805851,  -4.54856141]),\n",
       " array([  4.11257366, -10.84810185,  -4.11257366]),\n",
       " array([  3.02220099, -11.47319194,  -3.02220099]),\n",
       " array([  2.44558258, -12.23291667,  -2.44558258]),\n",
       " array([  0.18531241, -12.07930415,  -0.18531241]),\n",
       " array([  3.11876358, -12.69221358,  -3.11876358]),\n",
       " array([  2.27239549, -11.12730495,  -2.27239549]),\n",
       " array([  1.66763184, -11.98859108,  -1.66763184]),\n",
       " array([  2.94588826, -11.84176207,  -2.94588826]),\n",
       " array([  5.69411688, -12.16460769,  -5.69411688]),\n",
       " array([  2.29316081, -10.64094395,  -2.29316081]),\n",
       " array([  1.78239378, -10.64011467,  -1.78239378]),\n",
       " array([ 0.66775366, -9.25457596, -0.66775366]),\n",
       " array([  7.74102527, -10.39841179,  -7.74102527]),\n",
       " array([  2.36576155, -11.18350727,  -2.36576155]),\n",
       " array([  6.06179554, -12.80206498,  -6.06179554]),\n",
       " array([  5.6000953 , -11.57019992,  -5.6000953 ]),\n",
       " array([  0.30294961, -10.72383065,  -0.30294961]),\n",
       " array([  0.49222733, -12.5983463 ,  -0.49222733]),\n",
       " array([  3.23813638, -11.02102625,  -3.23813638]),\n",
       " array([  2.25231662, -12.09874181,  -2.25231662]),\n",
       " array([  7.73321102, -11.6935378 ,  -7.73321102]),\n",
       " array([  3.16626427, -12.69829735,  -3.16626427]),\n",
       " array([  1.00701599, -11.77552182,  -1.00701599]),\n",
       " array([  1.84164298, -11.22106785,  -1.84164298]),\n",
       " array([  4.41047298, -11.89311015,  -4.41047298]),\n",
       " array([  1.46137932, -11.97766516,  -1.46137932]),\n",
       " array([  0.91458616, -12.523779  ,  -0.91458616])]"
      ]
     },
     "execution_count": 3,
     "metadata": {},
     "output_type": "execute_result"
    }
   ],
   "source": [
    "archi.get_champions_f() "
   ]
  },
  {
   "cell_type": "code",
   "execution_count": 4,
   "metadata": {},
   "outputs": [],
   "source": [
    "archi.evolve() "
   ]
  },
  {
   "cell_type": "code",
   "execution_count": 5,
   "metadata": {},
   "outputs": [
    {
     "name": "stdout",
     "output_type": "stream",
     "text": [
      "Number of islands: 32\n",
      "Topology: Unconnected\n",
      "Migration type: point-to-point\n",
      "Migrant handling policy: preserve\n",
      "Status: idle\n",
      "\n",
      "Islands summaries:\n",
      "\n",
      "\t#   Type                    Algo                                          Prob           Size  Status  \n",
      "\t-------------------------------------------------------------------------------------------------------\n",
      "\t0   Multiprocessing island  sa-CNSTR: Self-adaptive constraints handling  A toy problem  70    idle    \n",
      "\t1   Multiprocessing island  sa-CNSTR: Self-adaptive constraints handling  A toy problem  70    idle    \n",
      "\t2   Multiprocessing island  sa-CNSTR: Self-adaptive constraints handling  A toy problem  70    idle    \n",
      "\t3   Multiprocessing island  sa-CNSTR: Self-adaptive constraints handling  A toy problem  70    idle    \n",
      "\t4   Multiprocessing island  sa-CNSTR: Self-adaptive constraints handling  A toy problem  70    idle    \n",
      "\t5   Multiprocessing island  sa-CNSTR: Self-adaptive constraints handling  A toy problem  70    idle    \n",
      "\t6   Multiprocessing island  sa-CNSTR: Self-adaptive constraints handling  A toy problem  70    idle    \n",
      "\t7   Multiprocessing island  sa-CNSTR: Self-adaptive constraints handling  A toy problem  70    idle    \n",
      "\t8   Multiprocessing island  sa-CNSTR: Self-adaptive constraints handling  A toy problem  70    idle    \n",
      "\t9   Multiprocessing island  sa-CNSTR: Self-adaptive constraints handling  A toy problem  70    idle    \n",
      "\t10  Multiprocessing island  sa-CNSTR: Self-adaptive constraints handling  A toy problem  70    idle    \n",
      "\t11  Multiprocessing island  sa-CNSTR: Self-adaptive constraints handling  A toy problem  70    idle    \n",
      "\t12  Multiprocessing island  sa-CNSTR: Self-adaptive constraints handling  A toy problem  70    idle    \n",
      "\t13  Multiprocessing island  sa-CNSTR: Self-adaptive constraints handling  A toy problem  70    idle    \n",
      "\t14  Multiprocessing island  sa-CNSTR: Self-adaptive constraints handling  A toy problem  70    idle    \n",
      "\t15  Multiprocessing island  sa-CNSTR: Self-adaptive constraints handling  A toy problem  70    idle    \n",
      "\t16  Multiprocessing island  sa-CNSTR: Self-adaptive constraints handling  A toy problem  70    idle    \n",
      "\t17  Multiprocessing island  sa-CNSTR: Self-adaptive constraints handling  A toy problem  70    idle    \n",
      "\t18  Multiprocessing island  sa-CNSTR: Self-adaptive constraints handling  A toy problem  70    idle    \n",
      "\t19  Multiprocessing island  sa-CNSTR: Self-adaptive constraints handling  A toy problem  70    idle    \n",
      "\t20  Multiprocessing island  sa-CNSTR: Self-adaptive constraints handling  A toy problem  70    idle    \n",
      "\t21  Multiprocessing island  sa-CNSTR: Self-adaptive constraints handling  A toy problem  70    idle    \n",
      "\t22  Multiprocessing island  sa-CNSTR: Self-adaptive constraints handling  A toy problem  70    idle    \n",
      "\t23  Multiprocessing island  sa-CNSTR: Self-adaptive constraints handling  A toy problem  70    idle    \n",
      "\t24  Multiprocessing island  sa-CNSTR: Self-adaptive constraints handling  A toy problem  70    idle    \n",
      "\t25  Multiprocessing island  sa-CNSTR: Self-adaptive constraints handling  A toy problem  70    idle    \n",
      "\t26  Multiprocessing island  sa-CNSTR: Self-adaptive constraints handling  A toy problem  70    idle    \n",
      "\t27  Multiprocessing island  sa-CNSTR: Self-adaptive constraints handling  A toy problem  70    idle    \n",
      "\t28  Multiprocessing island  sa-CNSTR: Self-adaptive constraints handling  A toy problem  70    idle    \n",
      "\t29  Multiprocessing island  sa-CNSTR: Self-adaptive constraints handling  A toy problem  70    idle    \n",
      "\t30  Multiprocessing island  sa-CNSTR: Self-adaptive constraints handling  A toy problem  70    idle    \n",
      "\t31  Multiprocessing island  sa-CNSTR: Self-adaptive constraints handling  A toy problem  70    idle    \n",
      "\n"
     ]
    }
   ],
   "source": [
    "print(archi) "
   ]
  },
  {
   "cell_type": "code",
   "execution_count": 6,
   "metadata": {},
   "outputs": [
    {
     "data": {
      "text/plain": [
       "[array([ 9.68899209e-06, -8.78420414e-05, -9.68899209e-06]),\n",
       " array([ 8.63459932e-03, -6.85612963e-06, -8.63459932e-03]),\n",
       " array([ 0.04476365,  0.0067472 , -0.04476365]),\n",
       " array([-4.57754536e-05, -5.78629087e-05,  4.57754536e-05]),\n",
       " array([-3.00223976e-05, -9.78730119e-05,  3.00223976e-05]),\n",
       " array([-5.23519942e-05,  5.97650538e-05,  5.23519942e-05]),\n",
       " array([ 0.0298073 ,  0.00010222, -0.0298073 ]),\n",
       " array([-7.32695420e-05, -3.50391136e-05,  7.32695420e-05]),\n",
       " array([-9.73737508e-05,  1.03432891e-05,  9.73737508e-05]),\n",
       " array([ 0.00574941, -0.34397417, -0.00574941]),\n",
       " array([-3.60987164e-05, -1.37480037e-06,  3.60987164e-05]),\n",
       " array([-3.17679208e-05,  2.64643284e-05,  3.17679208e-05]),\n",
       " array([-8.92806724e-05, -1.38896310e-05,  8.92806724e-05]),\n",
       " array([-4.61113779e-05, -9.36672876e-05,  4.61113779e-05]),\n",
       " array([ 0.07642758, -0.48867953, -0.07642758]),\n",
       " array([ 0.01422344, -0.11190847, -0.01422344]),\n",
       " array([-9.82547480e-05,  1.31211048e-05,  9.82547480e-05]),\n",
       " array([-7.76557842e-05, -7.01942856e-05,  7.76557842e-05]),\n",
       " array([ 0.04021523, -0.70797839, -0.04021523]),\n",
       " array([ 1.19804711e-02,  1.76348508e-05, -1.19804711e-02]),\n",
       " array([-8.62228454e-05, -5.69113590e-05,  8.62228454e-05]),\n",
       " array([-4.68938463e-05, -8.04903203e-05,  4.68938463e-05]),\n",
       " array([-6.92741775e-05, -8.60734858e-05,  6.92741775e-05]),\n",
       " array([-6.59962184e-05, -1.17982817e-05,  6.59962184e-05]),\n",
       " array([ 5.11284456e-05, -8.81986498e-05, -5.11284456e-05]),\n",
       " array([ 0.06857044, -0.19400063, -0.06857044]),\n",
       " array([-1.08284253e-05,  7.48927976e-05,  1.08284253e-05]),\n",
       " array([-5.11328377e-05, -7.58659103e-05,  5.11328377e-05]),\n",
       " array([ 0.12648812, -0.24192784, -0.12648812]),\n",
       " array([ 5.82008073e-05,  2.78618087e-06, -5.82008073e-05]),\n",
       " array([-5.95797428e-05, -6.62406676e-05,  5.95797428e-05]),\n",
       " array([ 0.02455378,  0.00037368, -0.02455378])]"
      ]
     },
     "execution_count": 6,
     "metadata": {},
     "output_type": "execute_result"
    }
   ],
   "source": [
    "archi.wait()\n",
    "archi.get_champions_f() "
   ]
  },
  {
   "cell_type": "code",
   "execution_count": 7,
   "metadata": {},
   "outputs": [
    {
     "ename": "NameError",
     "evalue": "name 'raise_exception' is not defined",
     "output_type": "error",
     "traceback": [
      "\u001b[0;31m---------------------------------------------------------------------------\u001b[0m",
      "\u001b[0;31mNameError\u001b[0m                                 Traceback (most recent call last)",
      "Input \u001b[0;32mIn [7]\u001b[0m, in \u001b[0;36m<module>\u001b[0;34m\u001b[0m\n\u001b[0;32m----> 1\u001b[0m archi \u001b[38;5;241m=\u001b[39m pg\u001b[38;5;241m.\u001b[39marchipelago(n \u001b[38;5;241m=\u001b[39m \u001b[38;5;241m5\u001b[39m, algo \u001b[38;5;241m=\u001b[39m pg\u001b[38;5;241m.\u001b[39msimulated_annealing(Ts \u001b[38;5;241m=\u001b[39m \u001b[38;5;241m10\u001b[39m, Tf \u001b[38;5;241m=\u001b[39m \u001b[38;5;241m0.1\u001b[39m, n_T_adj  \u001b[38;5;241m=\u001b[39m \u001b[38;5;241m40\u001b[39m), prob \u001b[38;5;241m=\u001b[39m \u001b[43mraise_exception\u001b[49m(), pop_size \u001b[38;5;241m=\u001b[39m \u001b[38;5;241m20\u001b[39m)\n\u001b[1;32m      3\u001b[0m archi\u001b[38;5;241m.\u001b[39mevolve() \n\u001b[1;32m      5\u001b[0m archi\u001b[38;5;241m.\u001b[39mwait()\n",
      "\u001b[0;31mNameError\u001b[0m: name 'raise_exception' is not defined"
     ]
    }
   ],
   "source": [
    "archi = pg.archipelago(n = 5, algo = pg.simulated_annealing(Ts = 10, Tf = 0.1, n_T_adj  = 40), prob = raise_exception(), pop_size = 20)\n",
    "\n",
    "archi.evolve() \n",
    "\n",
    "archi.wait()\n",
    "\n",
    "print(archi) "
   ]
  },
  {
   "cell_type": "code",
   "execution_count": null,
   "metadata": {},
   "outputs": [],
   "source": []
  }
 ],
 "metadata": {
  "kernelspec": {
   "display_name": "Python 3 (ipykernel)",
   "language": "python",
   "name": "python3"
  },
  "language_info": {
   "codemirror_mode": {
    "name": "ipython",
    "version": 3
   },
   "file_extension": ".py",
   "mimetype": "text/x-python",
   "name": "python",
   "nbconvert_exporter": "python",
   "pygments_lexer": "ipython3",
   "version": "3.8.5"
  }
 },
 "nbformat": 4,
 "nbformat_minor": 4
}
