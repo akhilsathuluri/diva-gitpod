{
 "cells": [
  {
   "cell_type": "code",
   "execution_count": 1,
   "metadata": {},
   "outputs": [],
   "source": [
    "# Imports\n",
    "import numpy as np\n",
    "import altair as alt\n",
    "import pydot\n",
    "from IPython.display import display, SVG, clear_output, HTML\n",
    "import matplotlib.pyplot as plt\n",
    "from pydrake.all import *\n",
    "from manipulation import running_as_notebook\n",
    "from manipulation.meshcat_cpp_utils import(\n",
    "    StartMeshcat, MeshcatJointSlidersThatPublish)\n",
    "from manipulation.scenarios import AddMultibodyTriad\n",
    "\n",
    "# Import pygmo for optimisation\n",
    "import pygmo as pg\n",
    "import pandas as pd\n",
    "import time\n",
    "from numba import jit"
   ]
  },
  {
   "cell_type": "code",
   "execution_count": 2,
   "metadata": {},
   "outputs": [
    {
     "data": {
      "text/html": [
       "Meshcat is now available at <a href=\"http://localhost:7000\">http://localhost:7000</a>"
      ],
      "text/plain": [
       "<IPython.core.display.HTML object>"
      ]
     },
     "metadata": {},
     "output_type": "display_data"
    }
   ],
   "source": [
    "# Start the visualizer.\n",
    "meshcat = StartMeshcat()"
   ]
  },
  {
   "cell_type": "code",
   "execution_count": 38,
   "metadata": {},
   "outputs": [
    {
     "name": "stdout",
     "output_type": "stream",
     "text": [
      "./urdfs/TwoLinkRobot.urdf\n",
      "{'tau_mu': 0.0053, 'b0': 1.5e-05, 'Km': 0.19, 'k_velocity': 1.0606085407643906, 'tau_max_m': 1.2, 'omega_max_m': 4750, 'gear_ratio': 10, 'Kp': 87.49974872, 'Kd': 13.94633054, 'm_m': 0.452}\n"
     ]
    }
   ],
   "source": [
    "# Define the number of actuators\n",
    "na = 2\n",
    "\n",
    "# GLOBAL PROBLEM SETUP\n",
    "\n",
    "# Reference: https://wiki.ros.org/pr2_controller_manager/safety_limits\n",
    "# Defining the actuator box\n",
    "class ActuatorBox(LeafSystem):\n",
    "    # Input values are for motor and NOT for the joint\n",
    "    def __init__(self, tau_max_m, omega_max_m, gear_ratio, k_velocity):\n",
    "        LeafSystem.__init__(self)\n",
    "        # Both the values are motor specific and NOT joint specific\n",
    "        # Get joint max torque\n",
    "        self.tau_max_j = tau_max_m*gear_ratio\n",
    "        self.k_vel = k_velocity\n",
    "        # Convert RPM of motor to joint velocity in rad/sec\n",
    "        self.omega_max_j = omega_max_m*(2*np.pi/60)/gear_ratio\n",
    "        self.DeclareVectorInputPort('commanded_torque', BasicVector(na))\n",
    "        self.DeclareVectorInputPort('joint_state', BasicVector(2*na))\n",
    "        self.DeclareVectorOutputPort('realised_torque', BasicVector(na), self.OutputJointTorque)\n",
    "\n",
    "    def OutputJointTorque(self, context, output):\n",
    "        # Get the state values\n",
    "        q = self.EvalVectorInput(context, 1).get_value()\n",
    "        qvel = q[na:]\n",
    "        u = self.EvalVectorInput(context, 0).get_value()\n",
    "        # Compute the instantaneous torque limit\n",
    "        # For the AK-70-10 motors\n",
    "        kv = self.k_vel\n",
    "        u_new = np.copy(u)\n",
    "        # Using URDF safety controller rules\n",
    "        for i in range(len(u)):\n",
    "            if qvel[i]>=0 and u[i]>=0:\n",
    "                u_bound = -kv*(qvel[i]-self.omega_max_j)\n",
    "                u_new[i] = np.min([u[i], u_bound, self.tau_max_j])\n",
    "            if qvel[i]>=0 and u[i]<=0:\n",
    "                u_bound = -self.tau_max_j\n",
    "                u_new[i] = np.max([u[i], u_bound])\n",
    "            if qvel[i]<=0 and u[i]>=0:\n",
    "                u_bound = self.tau_max_j\n",
    "                u_new[i] = np.min([u[i], u_bound])\n",
    "            if qvel[i]<=0 and u[i]<=0:\n",
    "                u_bound = -(-kv*(np.abs(qvel[i])-self.omega_max_j))\n",
    "                u_new[i] = np.max([u[i], u_bound, -self.tau_max_j])\n",
    "        output.SetFromVector(u_new)\n",
    "\n",
    "# Task definition\n",
    "# Home position\n",
    "carti = np.array([-0.22, 0.14, 1.00])\n",
    "qi = np.array([0.93, 0.45])\n",
    "cartd = np.array([0.18, 0.15, 1.00])\n",
    "qd = np.array([0.01, 0.22])\n",
    "qint = qd\n",
    "\n",
    "# Simulation settings\n",
    "time_step = 1e-4\n",
    "sim_time = 5\n",
    "error_threshold = 5e-3\n",
    "\n",
    "# Robot URDF\n",
    "urdf_path = './urdfs/TwoLinkRobot.urdf'\n",
    "print(urdf_path)\n",
    "\n",
    "# motor mass\n",
    "m_m = 0.452\n",
    "# Assumed values\n",
    "tau_mu = 5.3e-3\n",
    "b0 = 1.5e-5\n",
    "# AK70-10 parameters\n",
    "# gear ratio\n",
    "gear_ratio = 10\n",
    "# motor design variables\n",
    "tau_max_m = 12/gear_ratio # Nm\n",
    "omega_max_m = 475*gear_ratio   # RPM\n",
    "Kt = 0.095        # Nm/A\n",
    "Kv = 100          # RPM/V\n",
    "Km = 0.19         # Nm/sqrt(W)\n",
    "# Computed matrix for joule loss\n",
    "K_joule = 1/np.sqrt(Km)*np.identity(na)\n",
    "k_velocity = 8.33/(75*2*np.pi/60) # Nm/(rad/s)\n",
    "# Control attributes\n",
    "Kp = 87.49974872\n",
    "Kd = 13.94633054\n",
    "\n",
    "\n",
    "study = [\"baseline_control\", \"baseline_motor\", \"sim\"]\n",
    "\n",
    "case = study[2]\n",
    "if case==\"baseline_control\":\n",
    "    # For baseline-control study\n",
    "    pre_val_vals = [tau_mu, b0, Km, k_velocity, tau_max_m, omega_max_m, gear_ratio, m_m]\n",
    "    pre_val_names = [\"tau_mu\", \"b0\", \"Km\", \"k_velocity\", \"tau_max_m\", \"omega_max_m\", \"gear_ratio\", \"m_m\"]\n",
    "    # Define a dictionary for ease of usage and modulartiy of the dvs\n",
    "    pre_val = dict(zip(pre_val_names, pre_val_vals))\n",
    "    dv_names = [\"Kp\", \"Kd\"]\n",
    "    print(pre_val, dv_names)\n",
    "    sample_dv = [15, 2*np.sqrt(15)]\n",
    "    print(sample_dv)\n",
    "    \n",
    "if case==\"baseline_motor\":\n",
    "    # For baseline-control-motor study\n",
    "    pre_val_vals = []\n",
    "    pre_val_names = []\n",
    "    # Define a dictionary for ease of usage and modulartiy of the dvs\n",
    "    pre_val = dict(zip(pre_val_names, pre_val_vals))\n",
    "    dv_names = [\"tau_mu\", \"b0\", \"Km\", \"k_velocity\", \"tau_max_m\", \"omega_max_m\", \"gear_ratio\", \"Kp\", \"Kd\", \"m_m\"]\n",
    "    print(pre_val, dv_names)\n",
    "    sample_dv = [0.0053, 1.5e-05, 0.19, 1.0606085407643906, 1.2, 4750, 10, 15, 2*np.sqrt(15), 0.452]\n",
    "    print('Sample-DV: ', sample_dv)\n",
    "    \n",
    "if case==\"sim\":\n",
    "    # For simulation study\n",
    "    pre_val_vals = [tau_mu, b0, Km, k_velocity, tau_max_m, omega_max_m, gear_ratio, Kp, Kd, m_m]\n",
    "    pre_val_names = [\"tau_mu\", \"b0\", \"Km\", \"k_velocity\", \"tau_max_m\", \"omega_max_m\", \"gear_ratio\", \"Kp\", \"Kd\", \"m_m\"]\n",
    "    # Define a dictionary for ease of usage and modulartiy of the dvs\n",
    "    pre_val = dict(zip(pre_val_names, pre_val_vals))\n",
    "    dv_names = []\n",
    "    sample_dv = []\n",
    "    print(pre_val)"
   ]
  },
  {
   "cell_type": "code",
   "execution_count": 39,
   "metadata": {
    "scrolled": true
   },
   "outputs": [
    {
     "name": "stdout",
     "output_type": "stream",
     "text": [
      "[0.00000000e+00 0.00000000e+00 0.00000000e+00 0.00000000e+00\n",
      " 7.62500000e-01 6.92468533e-02 2.47720621e-01 6.76604425e-16]\n"
     ]
    }
   ],
   "source": [
    "# Construct the master dv list\n",
    "dv = {**pre_val, **dict(zip(dv_names, sample_dv))}\n",
    "# Construct the sim diagram\n",
    "builder = DiagramBuilder()\n",
    "plant, scene_graph = AddMultibodyPlantSceneGraph(builder, time_step=time_step)\n",
    "model = Parser(plant, scene_graph).AddModelFromFile(urdf_path, 'diva_robot')\n",
    "# Robot is made vertical to see the effect of gravity and hence the mass of the links play a role\n",
    "X_R = RigidTransform(RotationMatrix.MakeYRotation(0), np.array([-0.1, 0.5, 1]))\n",
    "plant.WeldFrames(plant.world_frame(), plant.get_body(plant.GetBodyIndices(model)[0]).body_frame(), X_R)\n",
    "# Spawn table\n",
    "table = Parser(plant, scene_graph).AddModelFromFile('./urdfs/table/extra_heavy_duty_table_modified.sdf','table')\n",
    "# Due to the way the problem is formulated, spheres and the table can be safely ignored\n",
    "plant.Finalize()\n",
    "actuator = builder.AddSystem(ActuatorBox(dv['tau_max_m'], dv['omega_max_m'], dv['gear_ratio'], dv['k_velocity']))\n",
    "\n",
    "visualizer = MeshcatVisualizerCpp.AddToBuilder(builder, scene_graph, meshcat)\n",
    "\n",
    "# Initialise controller params, for now limited to Kp and Kd search\n",
    "Kp = np.full(na, dv['Kp'])\n",
    "Ki = np.full(na, 0)\n",
    "Kd = np.full(na, dv['Kd'])\n",
    "\n",
    "iiwa_controller = builder.AddSystem(InverseDynamicsController(plant, Kp, Ki, Kd, False))\n",
    "iiwa_controller.set_name(\"iiwa_controller\");\n",
    "# Complete connections\n",
    "builder.Connect(plant.get_state_output_port(model),\n",
    "            iiwa_controller.get_input_port_estimated_state())\n",
    "builder.Connect(iiwa_controller.get_output_port_control(), \n",
    "            actuator.get_input_port(0))\n",
    "builder.Connect(plant.get_state_output_port(model),\n",
    "            actuator.get_input_port(1))\n",
    "builder.Connect(actuator.get_output_port(), plant.get_actuation_input_port())\n",
    "\n",
    "# Connecting a data logger\n",
    "# Commanded torque\n",
    "logger1 = LogVectorOutput(iiwa_controller.get_output_port_control(), builder)\n",
    "# Joint state\n",
    "logger2 = LogVectorOutput(plant.get_state_output_port(model), builder)\n",
    "# Realised torque\n",
    "logger3 = LogVectorOutput(actuator.get_output_port(), builder)\n",
    "\n",
    "diagram = builder.Build()\n",
    "context = diagram.CreateDefaultContext()\n",
    "plant_context = plant.GetMyMutableContextFromRoot(context)\n",
    "gripper_frame = plant.GetBodyByName(\"eef\").body_frame()\n",
    "    \n",
    "# Now computing the QoIs\n",
    "# WORKSPACE\n",
    "# Workspace is always satisfied since its the same robot\n",
    "workspace = 0\n",
    "# DEFLECTION\n",
    "# Deflection is not applicable as we consider only rigid components\n",
    "deflection = 0\n",
    "# APPLIED FORCE\n",
    "# Applied force will also remain the same given that the tau_max is fixed\n",
    "applied_force = 0\n",
    "# PAYLOAD\n",
    "# same as applied force\n",
    "payload = 0\n",
    "# Setup the simulation\n",
    "xd = np.hstack((qint, 0*qint))\n",
    "plant.SetPositions(plant_context, qi)\n",
    "iiwa_controller.GetInputPort('desired_state').FixValue(\n",
    "iiwa_controller.GetMyMutableContextFromRoot(context), xd);\n",
    "# Simulation\n",
    "simulator = Simulator(diagram, context)\n",
    "simulator.AdvanceTo(sim_time);\n",
    "\n",
    "# Now we want to get the simulation data, i.e., \n",
    "# the torque applied, final time of the joint variables\n",
    "log1 = logger1.FindLog(context)\n",
    "log2 = logger2.FindLog(context)\n",
    "log3 = logger3.FindLog(context)\n",
    "    \n",
    "error = np.abs(log2.data()[:na,:].transpose() - np.tile(qint,(log3.data().shape[1],1)))\n",
    "e_norm = np.array([np.linalg.norm(val) for val in error])\n",
    "for i in range(len(e_norm)):\n",
    "    if np.all(e_norm[i:]<error_threshold):\n",
    "        break\n",
    "final_error = e_norm[-1]\n",
    "# CYCLE TIME\n",
    "ts = log2.sample_times()[i]\n",
    "\n",
    "omega_j = []\n",
    "for i in range(log2.data().shape[1]):\n",
    "    omega_j.append(log2.data()[:,i][na:])\n",
    "omega_j = np.array(omega_j).transpose()\n",
    "omega_m = omega_j*dv['gear_ratio']\n",
    "# Convert the motor speed to RPM\n",
    "omega_m_rpm = omega_m*60/(2*np.pi)\n",
    "# Motor torque realised\n",
    "tau_m = log3.data()/dv['gear_ratio']\n",
    "\n",
    "K_joule = 1/np.sqrt(dv['Km'])*np.identity(na)\n",
    "# Total power losses\n",
    "inst_friction_power = []\n",
    "inst_joule_power = []\n",
    "for i in range(len(log3.sample_times())):\n",
    "    omega_inst = omega_m[:, i]\n",
    "    tau_f = dv['tau_mu']*np.sign(omega_inst)+dv['b0']*omega_inst\n",
    "    P_f = np.dot(tau_f, omega_inst)\n",
    "    inst_friction_power.append(P_f)\n",
    "    tau_t = tau_f+tau_m[:, i]\n",
    "    P_t = np.dot(K_joule.dot(tau_t), tau_t)\n",
    "    inst_joule_power.append(P_t)\n",
    "\n",
    "# POWER LOSSES\n",
    "total_friction_loss = np.sum(inst_friction_power)*time_step\n",
    "total_joule_loss = np.sum(inst_joule_power)*time_step\n",
    "\n",
    "results = np.array([workspace, deflection, applied_force, payload, ts, total_friction_loss, total_joule_loss, final_error])\n",
    "print(results)"
   ]
  },
  {
   "cell_type": "code",
   "execution_count": null,
   "metadata": {},
   "outputs": [],
   "source": []
  },
  {
   "cell_type": "code",
   "execution_count": 31,
   "metadata": {},
   "outputs": [],
   "source": [
    "# Baseline\n",
    "# Kp = 15, Kd = 2*np.sqrt(Kp)\n",
    "# [0.00000000e+00 0.00000000e+00 0.00000000e+00 0.00000000e+00\n",
    "#  1.90340000e+00 6.25552970e-02 2.21488702e-01 7.65725114e-08]\n",
    "\n",
    "# Control optimisation\n",
    "# K_w = np.diag([1,1,1,1,100,2,2,1e3])\n",
    "# n=32, gen=10, pop_size=70, sigma0=0.3, algo=CMA-ES\n",
    "# Kp = 95.7, Kd = 17.05\n",
    "# [0.00000000e+00 0.00000000e+00 0.00000000e+00 0.00000000e+00\n",
    "#  5.08100000e-01 6.55059639e-02 2.40415266e-01 7.31161087e-15]\n",
    "\n",
    "# Control optimisation\n",
    "# K_w = np.diag([1,1,1,1,100,5,5,0])\n",
    "# n=1, gen=10, pop_size=70, sigma0=0.3, algo=CMA-ES\n",
    "# Kp = 87.49974872, Kd=13.94633054\n",
    "# [0.00000000e+00 0.00000000e+00 0.00000000e+00 0.00000000e+00\n",
    "#  7.62500000e-01 6.92468533e-02 2.47720621e-01 6.76604425e-16]\n",
    "\n",
    "# Motor optimisation\n",
    "# K_w = np.diag([1,1,1,1,100,5,5,0])\n",
    "# n=1, gen=2, pop_size=70, sigma0=0.3, algo=CMA-ES\n",
    "# ['tau_mu'=4.3e-02, 'b0'=0.75, 'Km'=3.9, 'k_velocity'=45, 'tau_max_m'=1.2, 'omega_max_m'=5625, 'gear_ratio'=9.1,\n",
    "# 'Kp'=0.51, 'Kd'=54.5, 'm_m'=0.402]\n",
    "# [4.29824783e-02 7.46295075e-01 3.92209280e+00 4.54874893e+01\n",
    "#  1.20803481e+00 5.62591715e+03 9.14647611e+00 5.10765833e-01\n",
    "#  5.44733947e+01 4.02556131e-01]"
   ]
  },
  {
   "cell_type": "code",
   "execution_count": 40,
   "metadata": {},
   "outputs": [
    {
     "name": "stdout",
     "output_type": "stream",
     "text": [
      "Max realised torque 12.0\n"
     ]
    },
    {
     "data": {
      "image/png": "[encoded data removed]",
      "text/plain": [
       "<Figure size 432x288 with 1 Axes>"
      ]
     },
     "metadata": {
      "needs_background": "light"
     },
     "output_type": "display_data"
    },
    {
     "data": {
      "image/png": "[encoded data removed]",
      "text/plain": [
       "<Figure size 432x288 with 1 Axes>"
      ]
     },
     "metadata": {
      "needs_background": "light"
     },
     "output_type": "display_data"
    },
    {
     "data": {
      "image/png": "[encoded data removed]",
      "text/plain": [
       "<Figure size 432x288 with 1 Axes>"
      ]
     },
     "metadata": {
      "needs_background": "light"
     },
     "output_type": "display_data"
    }
   ],
   "source": [
    "# Angular angular velocity of the motors in RPM\n",
    "motor_rpm = omega_j*gear_ratio*60/(2*np.pi)\n",
    "plt.plot(log2.sample_times(), motor_rpm[0, :], log2.sample_times(), motor_rpm[1, :])\n",
    "plt.title('motor RPM vs time')\n",
    "\n",
    "# Motor torque demanded\n",
    "fig = plt.figure()\n",
    "plt.plot(log1.sample_times(), log1.data()[0, :], log1.sample_times(), log1.data()[1, :])\n",
    "plt.title(\"motor torque demanded vs time\")\n",
    "\n",
    "# Motor torque demanded\n",
    "fig = plt.figure()\n",
    "plt.plot(log1.sample_times(), log3.data()[0, :], log1.sample_times(), log3.data()[1, :])\n",
    "plt.title(\"motor torque realised vs time\")\n",
    "\n",
    "print('Max realised torque', np.max(np.abs(log3.data())))"
   ]
  },
  {
   "cell_type": "code",
   "execution_count": 10,
   "metadata": {},
   "outputs": [
    {
     "name": "stdout",
     "output_type": "stream",
     "text": [
      "gripper position (m): [0.26 0.14 1.00]\n",
      "gripper roll-pitch-yaw (rad):[0.79 1.57 -0.79]\n",
      "pose rotation:  RotationMatrix([\n",
      "  [6.123233995736766e-17, 0.9999999953605743, 9.632679474766714e-05],\n",
      "  [0.0, 9.632679474766714e-05, -0.9999999953605743],\n",
      "  [-1.0, 6.123233967328477e-17, 5.898315042992732e-21],\n",
      "])\n"
     ]
    }
   ],
   "source": [
    "def gripper_forward_kinematics_example():\n",
    "    urdf_path = './urdfs/TwoLinkRobot.urdf'\n",
    "    builder = DiagramBuilder()\n",
    "    plant, scene_graph = AddMultibodyPlantSceneGraph(builder, time_step=1e-4)\n",
    "    model = Parser(plant, scene_graph).AddModelFromFile(urdf_path, 'diva_robot')\n",
    "    # Transform for the robot location\n",
    "    X_R = RigidTransform(RotationMatrix.MakeYRotation(0), np.array([-0.1, 0.5, 1.0]))\n",
    "    plant.WeldFrames(plant.world_frame(), plant.get_body(plant.GetBodyIndices(model)[0]).body_frame(), X_R)\n",
    "    # Spawn table\n",
    "    table = Parser(plant, scene_graph).AddModelFromFile('./urdfs/table/extra_heavy_duty_table_modified.sdf','table')\n",
    "    # Spawn spherical work piece\n",
    "    sphere = Parser(plant, scene_graph).AddModelFromFile('./urdfs/helper/sphere.urdf','sphere')\n",
    "    X_R = RigidTransform(RotationMatrix(RollPitchYaw([0, 0, 0])), np.array([0, 0, 0.736]))\n",
    "    plant.WeldFrames(plant.world_frame(), plant.get_body(plant.GetBodyIndices(sphere)[0]).body_frame(), X_R)\n",
    "\n",
    "    plant.Finalize()\n",
    "    \n",
    "    end_frame = \"eef\"\n",
    "    \n",
    "    # Draw the frames\n",
    "    for body_name in [\"base_link\", end_frame]:\n",
    "        AddMultibodyTriad(plant.GetFrameByName(body_name, model), scene_graph)\n",
    "\n",
    "    meshcat.Delete()\n",
    "    meshcat.DeleteAddedControls()\n",
    "\n",
    "    visualizer = MeshcatVisualizerCpp.AddToBuilder(builder, scene_graph, meshcat)\n",
    "\n",
    "    diagram = builder.Build()\n",
    "    context = diagram.CreateDefaultContext()\n",
    "\n",
    "#     plant.SetPositions(plant.GetMyContextFromRoot(context),\n",
    "#                   plant.GetModelInstanceByName(\"diva_robot\"),\n",
    "#                   q0)\n",
    "    \n",
    "    gripper = plant.GetBodyByName(end_frame)\n",
    "    def pose_callback(context):\n",
    "        pose = plant.EvalBodyPoseInWorld(context, gripper)   ## This is the important line\n",
    "        print(pose.translation())\n",
    "        clear_output(wait=True)\n",
    "        print(\"gripper position (m): \" + np.array2string(\n",
    "            pose.translation(), formatter={\n",
    "                'float': lambda x: \"{:3.2f}\".format(x)}))\n",
    "        print(\"gripper roll-pitch-yaw (rad):\" + np.array2string(\n",
    "            RollPitchYaw(pose.rotation()).vector(),\n",
    "                         formatter={'float': lambda x: \"{:3.2f}\".format(x)}))\n",
    "        print(\"pose rotation: \", pose.rotation())\n",
    "    sliders = MeshcatJointSlidersThatPublish(meshcat, plant, visualizer, context)\n",
    "    # sliders.Run()\n",
    "    sliders.Run(pose_callback)\n",
    "\n",
    "gripper_forward_kinematics_example()"
   ]
  },
  {
   "cell_type": "code",
   "execution_count": null,
   "metadata": {},
   "outputs": [],
   "source": []
  },
  {
   "cell_type": "code",
   "execution_count": null,
   "metadata": {},
   "outputs": [],
   "source": []
  }
 ],
 "metadata": {
  "colab": {
   "collapsed_sections": [],
   "name": "Robotic Manipulation - Let's get you a robot.ipynb",
   "provenance": [],
   "toc_visible": true
  },
  "interpreter": {
   "hash": "31f2aee4e71d21fbe5cf8b01ff0e069b9275f58929596ceb00d14d90e3e16cd6"
  },
  "kernelspec": {
   "display_name": "Python 3 (ipykernel)",
   "language": "python",
   "name": "python3"
  },
  "language_info": {
   "codemirror_mode": {
    "name": "ipython",
    "version": 3
   },
   "file_extension": ".py",
   "mimetype": "text/x-python",
   "name": "python",
   "nbconvert_exporter": "python",
   "pygments_lexer": "ipython3",
   "version": "3.8.5"
  }
 },
 "nbformat": 4,
 "nbformat_minor": 2
}
