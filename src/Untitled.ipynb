{
 "cells": [
  {
   "cell_type": "code",
   "execution_count": 1,
   "id": "47957043",
   "metadata": {},
   "outputs": [],
   "source": [
    "import numpy as np\n",
    "\n",
    "from pydrake.all import *\n",
    "\n",
    "import pandas as pd\n",
    "from random import randrange\n",
    "\n",
    "import manipulation\n",
    "from manipulation.meshcat_cpp_utils import (\n",
    "    StartMeshcat, MeshcatJointSliders)"
   ]
  },
  {
   "cell_type": "code",
   "execution_count": 2,
   "id": "a49b1eef",
   "metadata": {},
   "outputs": [
    {
     "name": "stderr",
     "output_type": "stream",
     "text": [
      "INFO:drake:Meshcat listening for connections at http://localhost:7002\n"
     ]
    }
   ],
   "source": [
    "meshcat = StartMeshcat()"
   ]
  },
  {
   "cell_type": "code",
   "execution_count": 4,
   "id": "f704bc65",
   "metadata": {},
   "outputs": [
    {
     "ename": "RuntimeError",
     "evalue": "Error parsing file '/home/laniakea/git/research/DIVA-R1.1.3-V/src/urdftest1128mitmesh/meshes/base_link.obj' : Failed parse `f' line(e.g. zero value for face index. line 78.)\n",
     "output_type": "error",
     "traceback": [
      "\u001b[0;31m---------------------------------------------------------------------------\u001b[0m",
      "\u001b[0;31mRuntimeError\u001b[0m                              Traceback (most recent call last)",
      "Input \u001b[0;32mIn [4]\u001b[0m, in \u001b[0;36m<cell line: 46>\u001b[0;34m()\u001b[0m\n\u001b[1;32m     43\u001b[0m     sliders \u001b[38;5;241m=\u001b[39m MeshcatJointSliders(meshcat, plant, context)\n\u001b[1;32m     44\u001b[0m     sliders\u001b[38;5;241m.\u001b[39mRun(visualizer, context, pose_callback)\n\u001b[0;32m---> 46\u001b[0m \u001b[43mgripper_forward_kinematics_example\u001b[49m\u001b[43m(\u001b[49m\u001b[43m)\u001b[49m\n",
      "Input \u001b[0;32mIn [4]\u001b[0m, in \u001b[0;36mgripper_forward_kinematics_example\u001b[0;34m()\u001b[0m\n\u001b[1;32m      3\u001b[0m builder \u001b[38;5;241m=\u001b[39m DiagramBuilder()\n\u001b[1;32m      4\u001b[0m plant, scene_graph \u001b[38;5;241m=\u001b[39m AddMultibodyPlantSceneGraph(builder, time_step\u001b[38;5;241m=\u001b[39m\u001b[38;5;241m1e-4\u001b[39m)\n\u001b[0;32m----> 5\u001b[0m model \u001b[38;5;241m=\u001b[39m \u001b[43mParser\u001b[49m\u001b[43m(\u001b[49m\u001b[43mplant\u001b[49m\u001b[43m,\u001b[49m\u001b[43m \u001b[49m\u001b[43mscene_graph\u001b[49m\u001b[43m)\u001b[49m\u001b[38;5;241;43m.\u001b[39;49m\u001b[43mAddModelFromFile\u001b[49m\u001b[43m(\u001b[49m\u001b[43murdf_path\u001b[49m\u001b[43m,\u001b[49m\u001b[43m \u001b[49m\u001b[38;5;124;43m'\u001b[39;49m\u001b[38;5;124;43mviz-robot\u001b[39;49m\u001b[38;5;124;43m'\u001b[39;49m\u001b[43m)\u001b[49m\n\u001b[1;32m      6\u001b[0m \u001b[38;5;66;03m# Weld the robot to the world frame\u001b[39;00m\n\u001b[1;32m      7\u001b[0m plant\u001b[38;5;241m.\u001b[39mWeldFrames(plant\u001b[38;5;241m.\u001b[39mworld_frame(), plant\u001b[38;5;241m.\u001b[39mget_body(plant\u001b[38;5;241m.\u001b[39mGetBodyIndices(model)[\u001b[38;5;241m0\u001b[39m])\u001b[38;5;241m.\u001b[39mbody_frame())\n",
      "\u001b[0;31mRuntimeError\u001b[0m: Error parsing file '/home/laniakea/git/research/DIVA-R1.1.3-V/src/urdftest1128mitmesh/meshes/base_link.obj' : Failed parse `f' line(e.g. zero value for face index. line 78.)\n"
     ]
    }
   ],
   "source": [
    "def gripper_forward_kinematics_example():\n",
    "    urdf_path = './urdftest1128mitmesh.urdf'\n",
    "    builder = DiagramBuilder()\n",
    "    plant, scene_graph = AddMultibodyPlantSceneGraph(builder, time_step=1e-4)\n",
    "    model = Parser(plant, scene_graph).AddModelFromFile(urdf_path, 'viz-robot')\n",
    "    # Weld the robot to the world frame\n",
    "    plant.WeldFrames(plant.world_frame(), plant.get_body(plant.GetBodyIndices(model)[0]).body_frame())\n",
    "    \n",
    "    plant.Finalize()\n",
    "\n",
    "    meshcat.Delete()\n",
    "    meshcat.DeleteAddedControls()\n",
    "    \n",
    "    end_frame = \"Link1\"\n",
    "    gripper_frame = plant.GetBodyByName(end_frame).body_frame()\n",
    "#     AddMultibodyTriad(gripper_frame, scene_graph)\n",
    "\n",
    "    meshcat.Delete()\n",
    "    meshcat.DeleteAddedControls()\n",
    "\n",
    "    visualizer = MeshcatVisualizerCpp.AddToBuilder(builder, scene_graph, meshcat)\n",
    "\n",
    "    diagram = builder.Build()\n",
    "    context = diagram.CreateDefaultContext()\n",
    "\n",
    "#     plant.SetPositions(plant.GetMyContextFromRoot(context),\n",
    "#                   plant.GetModelInstanceByName(\"lcl-robot\"),\n",
    "#                   np.array([1.19000225, -0.5890859, -1.04350496, 0.]))\n",
    "\n",
    "    gripper = plant.GetBodyByName(end_frame)\n",
    "    def pose_callback(context):\n",
    "        pose = plant.EvalBodyPoseInWorld(context, gripper)   ## This is the important line\n",
    "        print(pose.translation())\n",
    "        clear_output(wait=True)\n",
    "        print(\"gripper position (m): \" + np.array2string(\n",
    "            pose.translation(), formatter={\n",
    "                'float': lambda x: \"{:3.2f}\".format(x)}))\n",
    "        print(\"gripper roll-pitch-yaw (rad):\" + np.array2string(\n",
    "            RollPitchYaw(pose.rotation()).vector(),\n",
    "                         formatter={'float': lambda x: \"{:3.2f}\".format(x)}))\n",
    "        print(\"pose rotation: \", pose.rotation())\n",
    "\n",
    "    sliders = MeshcatJointSliders(meshcat, plant, context)\n",
    "    sliders.Run(visualizer, context, pose_callback)\n",
    "\n",
    "gripper_forward_kinematics_example()"
   ]
  },
  {
   "cell_type": "code",
   "execution_count": null,
   "id": "acd62429",
   "metadata": {},
   "outputs": [],
   "source": []
  }
 ],
 "metadata": {
  "kernelspec": {
   "display_name": "Python 3 (ipykernel)",
   "language": "python",
   "name": "python3"
  },
  "language_info": {
   "codemirror_mode": {
    "name": "ipython",
    "version": 3
   },
   "file_extension": ".py",
   "mimetype": "text/x-python",
   "name": "python",
   "nbconvert_exporter": "python",
   "pygments_lexer": "ipython3",
   "version": "3.8.13"
  }
 },
 "nbformat": 4,
 "nbformat_minor": 5
}
