{
 "cells": [
  {
   "cell_type": "markdown",
   "metadata": {
    "id": "NTwYntjmAJOg"
   },
   "source": [
    "# Hello PyBullet!\n",
    "\n",
    "This notebook shows how to install and create a simple application on PyBullet."
   ]
  },
  {
   "cell_type": "markdown",
   "metadata": {
    "id": "AAAUJ8y0BjBs"
   },
   "source": [
    "## Setup\n",
    "\n",
    "First, let's install the [PyBullet](https://pybullet.org/wordpress/) module.\n"
   ]
  },
  {
   "cell_type": "code",
   "execution_count": 1,
   "metadata": {
    "colab": {
     "base_uri": "https://localhost:8080/"
    },
    "id": "xyDqmV_YitDg",
    "outputId": "8f4eb838-dbda-47eb-9a70-802cd39dc1f3"
   },
   "outputs": [
    {
     "name": "stdout",
     "output_type": "stream",
     "text": [
      "Collecting pybullet\n",
      "  Downloading pybullet-3.2.1-cp37-cp37m-manylinux_2_5_x86_64.manylinux1_x86_64.whl (90.8 MB)\n",
      "\u001b[K     |████████████████████████████████| 90.8 MB 245 bytes/s \n",
      "\u001b[?25hInstalling collected packages: pybullet\n",
      "Successfully installed pybullet-3.2.1\n"
     ]
    }
   ],
   "source": [
    "# Install the PyBullet module.\n",
    "!pip install -U pybullet"
   ]
  },
  {
   "cell_type": "markdown",
   "metadata": {
    "id": "INLvCOjvEfSl"
   },
   "source": [
    "## Hello PyBullet World!\n",
    "\n",
    "This is based on the\n",
    "[PyBullet Quickstart Guide](https://docs.google.com/document/d/10sXEhzFRSnvFcl3XxNGhnD4N2SedqwdAvK3dsihxVUA/edit?usp=sharing).\n",
    "\n",
    "After importing the PyBullet module, the first thing to do is 'connecting' to the physics simulation.\n",
    "PyBullet is designed around a client-server driven API, with a client sending commands and a physics server returning the status.\n",
    "\n",
    "PyBullet has some built-in physics servers: `DIRECT` and `GUI`.\n",
    "Both `GUI` and `DIRECT` connections will execute the physics simulation and rendering in the same process as PyBullet.\n",
    "\n",
    "In this example, we'll use the `DIRECT` mode to do the calculations independently of rendering."
   ]
  },
  {
   "cell_type": "code",
   "execution_count": 1,
   "metadata": {
    "colab": {
     "base_uri": "https://localhost:8080/"
    },
    "id": "ZgNi0AkOipoQ",
    "outputId": "219debd8-e8a0-4502-ef5b-1439f4179a7d"
   },
   "outputs": [
    {
     "data": {
      "text/plain": [
       "0"
      ]
     },
     "execution_count": 1,
     "metadata": {},
     "output_type": "execute_result"
    }
   ],
   "source": [
    "import pybullet as p\n",
    "\n",
    "p.connect(p.DIRECT)"
   ]
  },
  {
   "cell_type": "markdown",
   "metadata": {
    "id": "V1nNu07MG7kR"
   },
   "source": [
    "We want to access the example\n",
    "[Bullet data](https://github.com/bulletphysics/bullet3/tree/master/data)\n",
    "files.\n",
    "Fortunately, we can specify a new search path in PyBullet and point it to the `py_bullet_data.getDataPath()`."
   ]
  },
  {
   "cell_type": "code",
   "execution_count": 2,
   "metadata": {
    "id": "FW-AXeioHrU4"
   },
   "outputs": [],
   "source": [
    "import pybullet_data\n",
    "\n",
    "p.setAdditionalSearchPath(pybullet_data.getDataPath())"
   ]
  },
  {
   "cell_type": "markdown",
   "metadata": {
    "id": "6fb-HzCsH6Fs"
   },
   "source": [
    "Now, we can load models from the example data in the\n",
    "[Unified Robot Description Format (URDF)](https://wiki.ros.org/urdf) format.\n",
    "\n",
    "Let's load a `plane` to serve as our simulation floor plane,\n",
    "and an [R2D2 droid](https://en.wikipedia.org/wiki/R2-D2).\n",
    "\n",
    "In Bullet Physics, you can use whatever units you want as long as you are consistent.\n",
    "For this example, we'll use the\n",
    "[metric system](https://en.wikipedia.org/wiki/Metric_system)."
   ]
  },
  {
   "cell_type": "code",
   "execution_count": 4,
   "metadata": {
    "colab": {
     "base_uri": "https://localhost:8080/"
    },
    "id": "4UHhYcEgipoX",
    "outputId": "23a3adf5-9a50-4895-e113-95809ac2e602"
   },
   "outputs": [
    {
     "ename": "error",
     "evalue": "Cannot load URDF file.",
     "output_type": "error",
     "traceback": [
      "\u001b[0;31m---------------------------------------------------------------------------\u001b[0m",
      "\u001b[0;31merror\u001b[0m                                     Traceback (most recent call last)",
      "\u001b[0;32m<ipython-input-4-89ed2426886f>\u001b[0m in \u001b[0;36m<module>\u001b[0;34m\u001b[0m\n\u001b[1;32m      7\u001b[0m \u001b[0;34m\u001b[0m\u001b[0m\n\u001b[1;32m      8\u001b[0m \u001b[0;31m# Load an R2D2 droid at the position at 0.5 meters height in the z-axis.\u001b[0m\u001b[0;34m\u001b[0m\u001b[0;34m\u001b[0m\u001b[0;34m\u001b[0m\u001b[0m\n\u001b[0;32m----> 9\u001b[0;31m \u001b[0mr2d2\u001b[0m \u001b[0;34m=\u001b[0m \u001b[0mp\u001b[0m\u001b[0;34m.\u001b[0m\u001b[0mloadURDF\u001b[0m\u001b[0;34m(\u001b[0m\u001b[0;34m'./diva_teleop_boxy.urdf'\u001b[0m\u001b[0;34m)\u001b[0m\u001b[0;34m\u001b[0m\u001b[0;34m\u001b[0m\u001b[0m\n\u001b[0m\u001b[1;32m     10\u001b[0m \u001b[0;34m\u001b[0m\u001b[0m\n\u001b[1;32m     11\u001b[0m \u001b[0;31m# We can check the number of bodies we have in the simulation.\u001b[0m\u001b[0;34m\u001b[0m\u001b[0;34m\u001b[0m\u001b[0;34m\u001b[0m\u001b[0m\n",
      "\u001b[0;31merror\u001b[0m: Cannot load URDF file."
     ]
    }
   ],
   "source": [
    "# First, let's make sure we start with a fresh new simulation.\n",
    "# Otherwise, we can keep adding objects by running this cell over again.\n",
    "p.resetSimulation()\n",
    "\n",
    "# Load our simulation floor plane at the origin (0, 0, 0).\n",
    "p.loadURDF('plane.urdf')\n",
    "\n",
    "# Load an R2D2 droid at the position at 0.5 meters height in the z-axis.\n",
    "r2d2 = p.loadURDF('./diva_teleop_boxy.urdf')\n",
    "\n",
    "# We can check the number of bodies we have in the simulation.\n",
    "p.getNumBodies()"
   ]
  },
  {
   "cell_type": "markdown",
   "metadata": {
    "id": "5mafnqVkJu67"
   },
   "source": [
    "### Joint information\n",
    "\n",
    "Now that we've populated our simulation with those two objects,\n",
    "we can analyze them to see what's inside.\n",
    "\n",
    "The [`getJointInfo()`](https://docs.google.com/document/d/10sXEhzFRSnvFcl3XxNGhnD4N2SedqwdAvK3dsihxVUA/edit?usp=sharing#heading=h.la294ocbo43o)\n",
    "function returns a list of all the information from the selected joint."
   ]
  },
  {
   "cell_type": "code",
   "execution_count": 5,
   "metadata": {
    "colab": {
     "base_uri": "https://localhost:8080/"
    },
    "id": "TkIm1cG-ipof",
    "outputId": "e473e096-6e95-4ef3-ade5-b85fce5e6b41"
   },
   "outputs": [
    {
     "name": "stdout",
     "output_type": "stream",
     "text": [
      "r2d2 unique ID: 1\n",
      "Joint(index=0, name='base_to_right_leg', type=4, gIndex=-1, uIndex=-1, flags=0, damping=0.0, friction=0.0, lowerLimit=0.0, upperLimit=-1.0, maxForce=0.0, maxVelocity=0.0, linkName='right_leg', axis=(0.0, 0.0, 0.0), parentFramePosition=(0.22, 0.0, 0.25), parentFrameOrientation=(0.0, -0.7070904020014416, 0.0, 0.7071231599922604), parentIndex=-1)\n",
      "Joint(index=1, name='right_base_joint', type=4, gIndex=-1, uIndex=-1, flags=0, damping=0.0, friction=0.0, lowerLimit=0.0, upperLimit=-1.0, maxForce=0.0, maxVelocity=0.0, linkName='right_base', axis=(0.0, 0.0, 0.0), parentFramePosition=(0.2999999996780742, 0.0, -1.3898038463944216e-05), parentFrameOrientation=(0.0, 0.7070904020014416, 0.0, 0.7071231599922604), parentIndex=0)\n",
      "Joint(index=2, name='right_front_wheel_joint', type=0, gIndex=7, uIndex=6, flags=1, damping=0.0, friction=0.0, lowerLimit=0.0, upperLimit=-1.0, maxForce=100.0, maxVelocity=100.0, linkName='right_front_wheel', axis=(0.0, 0.0, 1.0), parentFramePosition=(0.0, 0.133333333333, -0.085), parentFrameOrientation=(0.0, -0.7070904020014416, 0.0, 0.7071231599922604), parentIndex=1)\n",
      "Joint(index=3, name='right_back_wheel_joint', type=0, gIndex=8, uIndex=7, flags=1, damping=0.0, friction=0.0, lowerLimit=0.0, upperLimit=-1.0, maxForce=100.0, maxVelocity=100.0, linkName='right_back_wheel', axis=(0.0, 0.0, 1.0), parentFramePosition=(0.0, -0.133333333333, -0.085), parentFrameOrientation=(0.0, -0.7070904020014416, 0.0, 0.7071231599922604), parentIndex=1)\n",
      "Joint(index=4, name='base_to_left_leg', type=4, gIndex=-1, uIndex=-1, flags=0, damping=0.0, friction=0.0, lowerLimit=0.0, upperLimit=-1.0, maxForce=0.0, maxVelocity=0.0, linkName='left_leg', axis=(0.0, 0.0, 0.0), parentFramePosition=(-0.22, 0.0, 0.25), parentFrameOrientation=(0.0, -0.7070904020014416, 0.0, 0.7071231599922604), parentIndex=-1)\n",
      "Joint(index=5, name='left_base_joint', type=4, gIndex=-1, uIndex=-1, flags=0, damping=0.0, friction=0.0, lowerLimit=0.0, upperLimit=-1.0, maxForce=0.0, maxVelocity=0.0, linkName='left_base', axis=(0.0, 0.0, 0.0), parentFramePosition=(0.2999999996780742, 0.0, -1.3898038463944216e-05), parentFrameOrientation=(0.0, 0.7070904020014416, 0.0, 0.7071231599922604), parentIndex=4)\n",
      "Joint(index=6, name='left_front_wheel_joint', type=0, gIndex=9, uIndex=8, flags=1, damping=0.0, friction=0.0, lowerLimit=0.0, upperLimit=-1.0, maxForce=100.0, maxVelocity=100.0, linkName='left_front_wheel', axis=(0.0, 0.0, 1.0), parentFramePosition=(0.0, 0.133333333333, -0.085), parentFrameOrientation=(0.0, -0.7070904020014416, 0.0, 0.7071231599922604), parentIndex=5)\n",
      "Joint(index=7, name='left_back_wheel_joint', type=0, gIndex=10, uIndex=9, flags=1, damping=0.0, friction=0.0, lowerLimit=0.0, upperLimit=-1.0, maxForce=100.0, maxVelocity=100.0, linkName='left_back_wheel', axis=(0.0, 0.0, 1.0), parentFramePosition=(0.0, -0.133333333333, -0.085), parentFrameOrientation=(0.0, -0.7070904020014416, 0.0, 0.7071231599922604), parentIndex=5)\n",
      "Joint(index=8, name='gripper_extension', type=1, gIndex=11, uIndex=10, flags=1, damping=0.0, friction=0.0, lowerLimit=-0.38, upperLimit=0.0, maxForce=1000.0, maxVelocity=0.5, linkName='gripper_pole', axis=(1.0, 0.0, 0.0), parentFramePosition=(0.0, 0.19, 0.2), parentFrameOrientation=(0.0, 0.0, -0.7070904020014416, 0.7071231599922604), parentIndex=-1)\n",
      "Joint(index=9, name='left_gripper_joint', type=0, gIndex=12, uIndex=11, flags=1, damping=0.0, friction=0.0, lowerLimit=0.0, upperLimit=0.548, maxForce=1000.0, maxVelocity=0.5, linkName='left_gripper', axis=(0.0, 0.0, 1.0), parentFramePosition=(0.2, 0.02, 0.0), parentFrameOrientation=(0.0, 0.0, 0.0, 1.0), parentIndex=8)\n",
      "Joint(index=10, name='left_tip_joint', type=4, gIndex=-1, uIndex=-1, flags=0, damping=0.0, friction=0.0, lowerLimit=0.0, upperLimit=-1.0, maxForce=0.0, maxVelocity=0.0, linkName='left_tip', axis=(0.0, 0.0, 0.0), parentFramePosition=(0.0, 0.0, 0.0), parentFrameOrientation=(0.0, 0.0, 0.0, 1.0), parentIndex=9)\n",
      "Joint(index=11, name='right_gripper_joint', type=0, gIndex=13, uIndex=12, flags=1, damping=0.0, friction=0.0, lowerLimit=0.0, upperLimit=0.548, maxForce=1000.0, maxVelocity=0.5, linkName='right_gripper', axis=(0.0, 0.0, -1.0), parentFramePosition=(0.2, -0.02, 0.0), parentFrameOrientation=(0.0, 0.0, 0.0, 1.0), parentIndex=8)\n",
      "Joint(index=12, name='right_tip_joint', type=4, gIndex=-1, uIndex=-1, flags=0, damping=0.0, friction=0.0, lowerLimit=0.0, upperLimit=-1.0, maxForce=0.0, maxVelocity=0.0, linkName='right_tip', axis=(0.0, 0.0, 0.0), parentFramePosition=(0.0, 0.0, 0.0), parentFrameOrientation=(0.0, 0.0, 0.0, 1.0), parentIndex=11)\n",
      "Joint(index=13, name='head_swivel', type=0, gIndex=14, uIndex=13, flags=1, damping=0.0, friction=0.0, lowerLimit=-0.38, upperLimit=0.0, maxForce=1000.0, maxVelocity=0.5, linkName='head', axis=(0.0, 0.0, 1.0), parentFramePosition=(0.0, 0.0, 0.3), parentFrameOrientation=(0.0, 0.0, 0.0, 1.0), parentIndex=-1)\n",
      "Joint(index=14, name='tobox', type=4, gIndex=-1, uIndex=-1, flags=0, damping=0.0, friction=0.0, lowerLimit=0.0, upperLimit=-1.0, maxForce=0.0, maxVelocity=0.0, linkName='box', axis=(0.0, 0.0, 0.0), parentFramePosition=(0.0, 0.1214, 0.1214), parentFrameOrientation=(0.0, 0.0, 0.0, 1.0), parentIndex=13)\n"
     ]
    }
   ],
   "source": [
    "# First let's define a class for the JointInfo.\n",
    "from dataclasses import dataclass\n",
    "\n",
    "@dataclass\n",
    "class Joint:\n",
    "  index: int\n",
    "  name: str\n",
    "  type: int\n",
    "  gIndex: int\n",
    "  uIndex: int\n",
    "  flags: int\n",
    "  damping: float\n",
    "  friction: float\n",
    "  lowerLimit: float\n",
    "  upperLimit: float\n",
    "  maxForce: float\n",
    "  maxVelocity: float\n",
    "  linkName: str\n",
    "  axis: tuple\n",
    "  parentFramePosition: tuple\n",
    "  parentFrameOrientation: tuple\n",
    "  parentIndex: int\n",
    "\n",
    "  def __post_init__(self):\n",
    "    self.name = str(self.name, 'utf-8')\n",
    "    self.linkName = str(self.linkName, 'utf-8')\n",
    "\n",
    "# Let's analyze the R2D2 droid!\n",
    "print(f\"r2d2 unique ID: {r2d2}\")\n",
    "for i in range(p.getNumJoints(r2d2)):\n",
    "  joint = Joint(*p.getJointInfo(r2d2, i))\n",
    "  print(joint)"
   ]
  },
  {
   "cell_type": "markdown",
   "metadata": {
    "id": "lTxQQmc_Vrue"
   },
   "source": [
    "To start the simulation, first we must set the gravity.\n",
    "We'll use [Earth's gravity](http://www.geophys.ac.cn/infowin/Gravity.asp) for convenience, so we'll set it up to `-9.807` m/s<sup>2</sup>."
   ]
  },
  {
   "cell_type": "code",
   "execution_count": 8,
   "metadata": {
    "id": "RMZKELbripoh"
   },
   "outputs": [],
   "source": [
    "# Set the gravity to Earth's gravity.\n",
    "p.setGravity(0, 0, -9.807)\n",
    "\n",
    "# Run the simulation for a fixed amount of steps.\n",
    "# for i in range(20):\n",
    "#     position, orientation = p.getBasePositionAndOrientation(r2d2)\n",
    "#     x, y, z = position\n",
    "#     roll, pitch, yaw = p.getEulerFromQuaternion(orientation)\n",
    "#     print(f\"{i:3}: x={x:0.10f}, y={y:0.10f}, z={z:0.10f}), roll={roll:0.10f}, pitch={pitch:0.10f}, yaw={yaw:0.10f}\")\n",
    "#     p.stepSimulation()"
   ]
  },
  {
   "cell_type": "markdown",
   "metadata": {
    "id": "y8fiKPz8-aOp"
   },
   "source": [
    "### Rendering\n",
    "\n",
    "The [`getCameraImage`](https://docs.google.com/document/d/10sXEhzFRSnvFcl3XxNGhnD4N2SedqwdAvK3dsihxVUA/edit?usp=sharing#heading=h.u1jisfnt6984)\n",
    "API will return a RGB image, a depth buffer and a segmentation mask buffer with body unique ids of visible objects for each pixel"
   ]
  },
  {
   "cell_type": "code",
   "execution_count": 7,
   "metadata": {
    "colab": {
     "base_uri": "https://localhost:8080/",
     "height": 669
    },
    "id": "tHb7uAveipon",
    "outputId": "35ada2fa-3cab-4f26-a036-269388614bc3"
   },
   "outputs": [
    {
     "name": "stdout",
     "output_type": "stream",
     "text": [
      "rgba shape=(200, 320, 4), dtype=uint8\n"
     ]
    },
    {
     "data": {
      "image/png": "[encoded data removed]",
      "text/plain": [
       "<PIL.Image.Image image mode=RGBA size=320x200 at 0x7FB3EADEB190>"
      ]
     },
     "metadata": {},
     "output_type": "display_data"
    },
    {
     "name": "stdout",
     "output_type": "stream",
     "text": [
      "depth shape=(200, 320), dtype=float32, as values from 0.0 (near) to 1.0 (far)\n"
     ]
    },
    {
     "data": {
      "image/png": "[encoded data removed]",
      "text/plain": [
       "<PIL.Image.Image image mode=L size=320x200 at 0x7FB3EADDE5D0>"
      ]
     },
     "metadata": {},
     "output_type": "display_data"
    },
    {
     "name": "stdout",
     "output_type": "stream",
     "text": [
      "mask shape=(200, 320), dtype=int32, as unique values from 0 to N-1 entities, and -1 as None\n"
     ]
    },
    {
     "data": {
      "image/png": "[encoded data removed]",
      "text/plain": [
       "<PIL.Image.Image image mode=L size=320x200 at 0x7FB3EADEB050>"
      ]
     },
     "metadata": {},
     "output_type": "display_data"
    }
   ],
   "source": [
    "import numpy as np\n",
    "from PIL import Image\n",
    "from IPython.display import display\n",
    "\n",
    "width = 320\n",
    "height = 200\n",
    "img_arr = p.getCameraImage(\n",
    "    width,\n",
    "    height,\n",
    "    viewMatrix=p.computeViewMatrixFromYawPitchRoll(\n",
    "        cameraTargetPosition=[0, 0, 0],\n",
    "        distance=4,\n",
    "        yaw=60,\n",
    "        pitch=-10,\n",
    "        roll=0,\n",
    "        upAxisIndex=2,\n",
    "    ),\n",
    "    projectionMatrix=p.computeProjectionMatrixFOV(\n",
    "        fov=60,\n",
    "        aspect=width/height,\n",
    "        nearVal=0.01,\n",
    "        farVal=100,\n",
    "    ),\n",
    "    shadow=True,\n",
    "    lightDirection=[1, 1, 1],\n",
    ")\n",
    "\n",
    "width, height, rgba, depth, mask = img_arr\n",
    "print(f\"rgba shape={rgba.shape}, dtype={rgba.dtype}\")\n",
    "display(Image.fromarray(rgba, 'RGBA'))\n",
    "print(f\"depth shape={depth.shape}, dtype={depth.dtype}, as values from 0.0 (near) to 1.0 (far)\")\n",
    "display(Image.fromarray((depth*255).astype('uint8')))\n",
    "print(f\"mask shape={mask.shape}, dtype={mask.dtype}, as unique values from 0 to N-1 entities, and -1 as None\")\n",
    "display(Image.fromarray(np.interp(mask, (-1, mask.max()), (0, 255)).astype('uint8')))"
   ]
  },
  {
   "cell_type": "code",
   "execution_count": null,
   "metadata": {
    "id": "HhBYHkooMEfS"
   },
   "outputs": [],
   "source": []
  }
 ],
 "metadata": {
  "colab": {
   "name": "HelloPyBullet.ipynb",
   "provenance": [],
   "toc_visible": true
  },
  "kernelspec": {
   "display_name": "Python 3",
   "language": "python",
   "name": "python3"
  },
  "language_info": {
   "codemirror_mode": {
    "name": "ipython",
    "version": 3
   },
   "file_extension": ".py",
   "mimetype": "text/x-python",
   "name": "python",
   "nbconvert_exporter": "python",
   "pygments_lexer": "ipython3",
   "version": "3.8.8"
  }
 },
 "nbformat": 4,
 "nbformat_minor": 1
}
