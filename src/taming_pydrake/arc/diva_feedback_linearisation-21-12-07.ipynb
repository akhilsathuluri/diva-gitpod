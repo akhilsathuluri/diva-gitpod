{
 "cells": [
  {
   "cell_type": "code",
   "execution_count": 1,
   "metadata": {},
   "outputs": [],
   "source": [
    "# Imports\n",
    "import numpy as np\n",
    "import altair as alt\n",
    "import pydot\n",
    "from IPython.display import display, SVG, clear_output, HTML\n",
    "import matplotlib.pyplot as plt\n",
    "\n",
    "from pydrake.all import (\n",
    "    AddMultibodyPlantSceneGraph, AngleAxis, BasicVector, GenerateHtml,\n",
    "    DiagramBuilder, FindResourceOrThrow, Integrator, JacobianWrtVariable, \n",
    "    LeafSystem, MeshcatVisualizerCpp, MultibodyPlant, MultibodyPositionToGeometryPose, Parser,\n",
    "    PiecewisePose, PiecewisePolynomial, Quaternion, RigidTransform, \n",
    "    RollPitchYaw, RotationMatrix, SceneGraph, Simulator, TrajectorySource, MeshcatVisualizerParams,\n",
    "    InverseDynamicsController, LogVectorOutput, InverseKinematics, Solve\n",
    ")\n",
    "from pydrake.examples.manipulation_station import ManipulationStation\n",
    "\n",
    "from manipulation import running_as_notebook\n",
    "from manipulation.meshcat_cpp_utils import (\n",
    "    StartMeshcat, MeshcatJointSlidersThatPublish)\n",
    "from manipulation.scenarios import AddMultibodyTriad, SetColor"
   ]
  },
  {
   "cell_type": "code",
   "execution_count": 2,
   "metadata": {},
   "outputs": [
    {
     "data": {
      "text/html": [
       "Meshcat is now available at <a href=\"http://localhost:7001\">http://localhost:7001</a>"
      ],
      "text/plain": [
       "<IPython.core.display.HTML object>"
      ]
     },
     "metadata": {},
     "output_type": "display_data"
    }
   ],
   "source": [
    "# Start the visualizer.\n",
    "meshcat = StartMeshcat()"
   ]
  },
  {
   "cell_type": "code",
   "execution_count": 4,
   "metadata": {},
   "outputs": [],
   "source": [
    "# Adding a table\n",
    "\n",
    "builder = DiagramBuilder()\n",
    "\n",
    "# urdf_path = './diva_teleop_boxy.urdf'\n",
    "# urdf_path = './urdfs/sample_designs/divar3v7303.urdf'\n",
    "urdf_path = './divar3v-reference.urdf'\n",
    "plant, scene_graph = AddMultibodyPlantSceneGraph(builder, time_step=1e-4)\n",
    "model = Parser(plant, scene_graph).AddModelFromFile(urdf_path, 'diva_robot')\n",
    "\n",
    "\n",
    "# Transform for the table location\n",
    "X_R = RigidTransform(RotationMatrix.MakeYRotation(-np.pi/2), np.array([-0.1, 0.5, 1]))\n",
    "# For shoulder re-orientation use below\n",
    "# X_R = RigidTransform(RotationMatrix(RollPitchYaw([0.8, -0.8, 0])), np.array([-0.1, 0.5, 1]))\n",
    "Parser(plant, scene_graph).AddModelFromFile('./urdfs/table/extra_heavy_duty_table_modified.sdf','table')\n",
    "\n",
    "plant.WeldFrames(plant.world_frame(), plant.get_body(plant.GetBodyIndices(model)[0]).body_frame(), X_R)\n",
    "# plant.WeldFrames(plant.world_frame(), plant.get_body(plant.GetBodyIndices(table)[0]).body_frame(), X_T)\n",
    "plant.Finalize()\n",
    "\n",
    "# Delete any previous models\n",
    "meshcat.Delete()\n",
    "meshcat.DeleteAddedControls()\n",
    "\n",
    "visualizer = MeshcatVisualizerCpp.AddToBuilder(builder, scene_graph, meshcat)\n",
    "\n",
    "diagram = builder.Build()\n",
    "context = diagram.CreateDefaultContext()\n",
    "plant.SetPositions(plant.GetMyContextFromRoot(context),model,\n",
    "                      [0.21, -1.03, 1.28, -1.1, 2.8, 1.5, 0])\n",
    "# To actually see the context, publish diagram\n",
    "diagram.Publish(context)"
   ]
  },
  {
   "cell_type": "code",
   "execution_count": null,
   "metadata": {},
   "outputs": [
    {
     "name": "stdout",
     "output_type": "stream",
     "text": [
      "gripper position (m): [-0.58 0.01 0.97]\n",
      "gripper roll-pitch-yaw (rad):[2.06 -0.02 1.56]\n"
     ]
    }
   ],
   "source": [
    "def gripper_forward_kinematics_example():\n",
    "    builder = DiagramBuilder()\n",
    "\n",
    "    plant, scene_graph = AddMultibodyPlantSceneGraph(builder, time_step=1e-4)\n",
    "    \n",
    "    urdf_path = './urdfs/sample_designs/divar3v53687.urdf'\n",
    "    model = Parser(plant, scene_graph).AddModelFromFile(urdf_path, 'diva_robot')\n",
    "    \n",
    "#     model = Parser(plant, scene_graph).AddModelFromFile('./diva_teleop_boxy.urdf', 'diva_robot')\n",
    "    # Transform for the robot root\n",
    "    X_R = RigidTransform(RotationMatrix.MakeYRotation(-np.pi/2), np.array([-0.1, 0.5, 1]))\n",
    "    # Robot root transform similar to the berkley blue\n",
    "    # X_R = RigidTransform(RotationMatrix(RollPitchYaw([-0.61087, -0.5236, 3.1416])), np.array([-0.1, 0.5, 1]))\n",
    "    # Robot root transform similar to a bi-manual humanoid robot\n",
    "#     X_R = RigidTransform(RotationMatrix(RollPitchYaw([0.61, -0.61, 0])), np.array([-0.1, 0.5, 1]))\n",
    "    plant.WeldFrames(plant.world_frame(), plant.get_body(plant.GetBodyIndices(model)[0]).body_frame(), X_R)\n",
    "\n",
    "    table = Parser(plant, scene_graph).AddModelFromFile('./urdfs/table/extra_heavy_duty_table_modified.sdf','table')\n",
    "    plant.Finalize()\n",
    "\n",
    "    # Draw the frames\n",
    "#     for body_name in [\"base_link\", \"link1\", \"link2\", \"link3\", \"link4\", \"link5\", \"link6\", \"link7\", \"eef\"]:\n",
    "    for body_name in [\"base_link\", \"eef\"]:\n",
    "        AddMultibodyTriad(plant.GetFrameByName(body_name), scene_graph)\n",
    "\n",
    "    meshcat.Delete()\n",
    "    meshcat.DeleteAddedControls()\n",
    "\n",
    "    visualizer = MeshcatVisualizerCpp.AddToBuilder(builder, scene_graph, meshcat)\n",
    "\n",
    "    diagram = builder.Build()\n",
    "    context = diagram.CreateDefaultContext()\n",
    "    plant.SetPositions(plant.GetMyContextFromRoot(context),model,\n",
    "                      [0.21, -1.03, 1.28, -1.1, 2.8, 1.5, 0])\n",
    "    \n",
    "    gripper = plant.GetBodyByName(\"eef\")\n",
    "    def pose_callback(context):\n",
    "        pose = plant.EvalBodyPoseInWorld(context, gripper)   ## This is the important line\n",
    "        clear_output(wait=True)\n",
    "        print(\"gripper position (m): \" + np.array2string(\n",
    "            pose.translation(), formatter={\n",
    "                'float': lambda x: \"{:3.2f}\".format(x)}))\n",
    "        print(\"gripper roll-pitch-yaw (rad):\" + np.array2string(\n",
    "            RollPitchYaw(pose.rotation()).vector(),\n",
    "                         formatter={'float': lambda x: \"{:3.2f}\".format(x)}))\n",
    "\n",
    "    sliders = MeshcatJointSlidersThatPublish(meshcat, plant, visualizer, context)\n",
    "    # sliders.Run()\n",
    "    sliders.Run(pose_callback)\n",
    "\n",
    "gripper_forward_kinematics_example()"
   ]
  },
  {
   "cell_type": "code",
   "execution_count": 19,
   "metadata": {},
   "outputs": [],
   "source": [
    "builder = DiagramBuilder()\n",
    "urdf_path = './divar3v-reference.urdf'\n",
    "# urdf_path = './diva_teleop_boxy.urdf'\n",
    "plant, scene_graph = AddMultibodyPlantSceneGraph(builder, time_step=1e-4)\n",
    "model = Parser(plant, scene_graph).AddModelFromFile(urdf_path, 'diva_robot')\n",
    "# Transform for the robot location\n",
    "X_R = RigidTransform(RotationMatrix.MakeYRotation(-np.pi/2), np.array([-0.1, 0.5, 1]))\n",
    "plant.WeldFrames(plant.world_frame(), plant.get_body(plant.GetBodyIndices(model)[0]).body_frame(), X_R)\n",
    "# Spawn table\n",
    "table = Parser(plant, scene_graph).AddModelFromFile('./urdfs/table/extra_heavy_duty_table_modified.sdf','table')\n",
    "# Spawn spherical work piece\n",
    "sphere = Parser(plant, scene_graph).AddModelFromFile('./urdfs/helper/sphere.urdf','sphere')\n",
    "# Place the sphere at the center of the table\n",
    "# Length, width and height and thickness of the table\n",
    "# 1.39, 0.762, 0.736, 0.057\n",
    "# Sphere radius -- Can be made a design variable\n",
    "# 0.15\n",
    "# We can sample end-points on the surface of the sphere\n",
    "X_R = RigidTransform(RotationMatrix(RollPitchYaw([0, 0, 0])), np.array([0, 0, 0.736]))\n",
    "plant.WeldFrames(plant.world_frame(), plant.get_body(plant.GetBodyIndices(sphere)[0]).body_frame(), X_R)\n",
    "\n",
    "plant.Finalize()\n",
    "\n",
    "\n",
    "# Draw the frames\n",
    "for body_name in [\"base_link\", \"eef\"]:\n",
    "    AddMultibodyTriad(plant.GetFrameByName(body_name, model), scene_graph)\n",
    "\n",
    "# Adds the MeshcatVisualizer and wires it to the SceneGraph.\n",
    "visualizer = MeshcatVisualizerCpp.AddToBuilder(builder, scene_graph, meshcat)\n",
    "\n",
    "# Adds an approximation of the iiwa controller.\n",
    "# TODO(russt): replace this with the joint impedance controller.\n",
    "Kp = np.full(7, 5.5)\n",
    "# Ki = 2 * np.sqrt(Kp)\n",
    "Ki = np.full(7, 0)\n",
    "# Kd = np.full(7, 1)\n",
    "Kd = 2 * np.sqrt(Kp)\n",
    "iiwa_controller = builder.AddSystem(InverseDynamicsController(plant, Kp, Ki, Kd, False))\n",
    "iiwa_controller.set_name(\"iiwa_controller\");\n",
    "builder.Connect(plant.get_state_output_port(model),\n",
    "                iiwa_controller.get_input_port_estimated_state())\n",
    "builder.Connect(iiwa_controller.get_output_port_control(),\n",
    "                plant.get_actuation_input_port())\n",
    "# Connecting a data logger\n",
    "logger1 = LogVectorOutput(iiwa_controller.get_output_port_control(), builder)\n",
    "logger2 = LogVectorOutput(plant.get_state_output_port(model), builder)\n",
    "\n",
    "diagram = builder.Build()"
   ]
  },
  {
   "cell_type": "code",
   "execution_count": 20,
   "metadata": {},
   "outputs": [],
   "source": [
    "# SVG(pydot.graph_from_dot_data(diagram.GetGraphvizString())[0].create_svg())"
   ]
  },
  {
   "cell_type": "code",
   "execution_count": 21,
   "metadata": {},
   "outputs": [],
   "source": [
    "# diagram.set_name(\"diagram\")\n",
    "# HTML('<script src=\"https://unpkg.com/gojs/release/go.js\"></script>' + GenerateHtml(diagram))"
   ]
  },
  {
   "cell_type": "code",
   "execution_count": 22,
   "metadata": {},
   "outputs": [
    {
     "name": "stdout",
     "output_type": "stream",
     "text": [
      "[ 0.30424047  0.48715449  0.47032551 -0.99735637  0.05934939 -0.36167854\n",
      "  0.09665982]\n"
     ]
    }
   ],
   "source": [
    "context = diagram.CreateDefaultContext()\n",
    "plant_context = plant.GetMyMutableContextFromRoot(context)\n",
    "q0 = plant.GetPositions(plant_context)\n",
    "gripper_frame = plant.GetBodyByName(\"eef\").body_frame()\n",
    "# Initial position and velocity\n",
    "# cart0 = np.array([np.random.uniform(-0.17, -0.695), np.random.uniform(-0.381, 0.381), np.random.uniform(0.74, 0.80)])\n",
    "# cartd = np.array([np.random.uniform(-0.17, 0), np.random.uniform(-0.17, 0.17), np.random.uniform(0.74, 0.90)])\n",
    "cart0 = np.array([-0.35, 0.15, 0.8])\n",
    "cartd = np.array([0,0,0.8])\n",
    "# Compute IK\n",
    "ik = InverseKinematics(plant, plant_context)\n",
    "ik.AddPositionConstraint(\n",
    "            gripper_frame, [0, 0, 0], plant.world_frame(), \n",
    "            cart0, cart0)\n",
    "prog = ik.get_mutable_prog()\n",
    "q = ik.q()\n",
    "prog.AddQuadraticErrorCost(np.identity(len(q)), q0, q)\n",
    "prog.SetInitialGuess(q, q0)\n",
    "result = Solve(ik.prog())\n",
    "q0 = result.GetSolution(ik.q())\n",
    "\n",
    "# Document mapping bottom-up mapping from link \n",
    "# lengths to the workspace\n",
    "\n",
    "ik = InverseKinematics(plant, plant_context)\n",
    "ik.AddPositionConstraint(\n",
    "            gripper_frame, [0, 0, 0], plant.world_frame(), \n",
    "            cartd, cartd)\n",
    "prog = ik.get_mutable_prog()\n",
    "q = ik.q()\n",
    "prog.AddQuadraticErrorCost(np.identity(len(q)), q0, q)\n",
    "prog.SetInitialGuess(q, q0)\n",
    "result = Solve(ik.prog())\n",
    "qd = result.GetSolution(ik.q())\n",
    "print(qd)\n",
    "\n",
    "# q0 = np.array([-1.57, 0.1, 0, -1.2, 0, 1.6, 0])\n",
    "# # Setting the desired position\n",
    "# qd = np.array([0.21, -1.03, 1.28, -1.1, 2.8, 1.5, 0])\n",
    "# x0 = np.hstack((q0, 0*q0))\n",
    "xd = np.hstack((qd, 0*qd))\n",
    "plant.SetPositions(plant_context, q0)\n",
    "iiwa_controller.GetInputPort('desired_state').FixValue(\n",
    "    iiwa_controller.GetMyMutableContextFromRoot(context), xd)\n",
    "# print(context)\n",
    "diagram.Publish(context)"
   ]
  },
  {
   "cell_type": "code",
   "execution_count": 23,
   "metadata": {},
   "outputs": [],
   "source": [
    "simulator = Simulator(diagram, context)\n",
    "simulator.set_target_realtime_rate(-1.0);\n",
    "# simulator.set_target_realtime_rate(1.0);\n",
    "# simulator.AdvanceTo(5.0 if running_as_notebook else 0.1);\n",
    "logger1.FindMutableLog(context).Clear()\n",
    "simulator.AdvanceTo(5.0);"
   ]
  },
  {
   "cell_type": "code",
   "execution_count": 24,
   "metadata": {},
   "outputs": [],
   "source": [
    "# Now we want to get the simulation data, i.e., \n",
    "# the torque applied, final time and the \n",
    "log1 = logger1.FindLog(context)\n",
    "log2 = logger2.FindLog(context)"
   ]
  },
  {
   "cell_type": "code",
   "execution_count": 25,
   "metadata": {},
   "outputs": [
    {
     "data": {
      "text/plain": [
       "array([ 7.19444289, -1.38272296,  0.52419941,  1.38202475,  0.02150888,\n",
       "        0.05186687,  0.04254594])"
      ]
     },
     "execution_count": 25,
     "metadata": {},
     "output_type": "execute_result"
    }
   ],
   "source": [
    "# Final control input\n",
    "log1.data()[:, -1]"
   ]
  },
  {
   "cell_type": "code",
   "execution_count": 26,
   "metadata": {},
   "outputs": [
    {
     "data": {
      "text/plain": [
       "array([ 3.04274513e-01,  4.87098911e-01,  4.70300890e-01, -9.97468265e-01,\n",
       "        5.93467703e-02, -3.61440962e-01,  9.66488860e-02, -7.34666876e-05,\n",
       "        1.20010336e-04,  5.31654453e-05,  2.41293391e-04,  5.67207412e-06,\n",
       "       -5.08622039e-04,  2.35856507e-05])"
      ]
     },
     "execution_count": 26,
     "metadata": {},
     "output_type": "execute_result"
    }
   ],
   "source": [
    "# Final state of the robot\n",
    "log2.data()[:, -1]"
   ]
  },
  {
   "cell_type": "code",
   "execution_count": 27,
   "metadata": {},
   "outputs": [
    {
     "data": {
      "text/plain": [
       "<Figure size 432x288 with 0 Axes>"
      ]
     },
     "metadata": {},
     "output_type": "display_data"
    }
   ],
   "source": [
    "fig = plt.figure()"
   ]
  },
  {
   "cell_type": "code",
   "execution_count": 28,
   "metadata": {},
   "outputs": [
    {
     "data": {
      "text/plain": [
       "[<matplotlib.lines.Line2D at 0x7f19af8c2820>,\n",
       " <matplotlib.lines.Line2D at 0x7f19a8807880>,\n",
       " <matplotlib.lines.Line2D at 0x7f19a8807940>,\n",
       " <matplotlib.lines.Line2D at 0x7f19a8807c10>,\n",
       " <matplotlib.lines.Line2D at 0x7f19a8807af0>,\n",
       " <matplotlib.lines.Line2D at 0x7f19a8807c40>,\n",
       " <matplotlib.lines.Line2D at 0x7f19a8807e50>]"
      ]
     },
     "execution_count": 28,
     "metadata": {},
     "output_type": "execute_result"
    },
    {
     "data": {
      "image/png": "[encoded data removed]",
      "text/plain": [
       "<Figure size 432x288 with 1 Axes>"
      ]
     },
     "metadata": {
      "needs_background": "light"
     },
     "output_type": "display_data"
    }
   ],
   "source": [
    "plt.plot(log1.sample_times(), log1.data()[0, :], log1.sample_times(), log1.data()[1, :],\\\n",
    "        log1.sample_times(), log1.data()[2, :], log1.sample_times(), log1.data()[3, :], \\\n",
    "        log1.sample_times(), log1.data()[4, :], log1.sample_times(), log1.data()[5, :], \\\n",
    "        log1.sample_times(), log1.data()[6, :])"
   ]
  },
  {
   "cell_type": "code",
   "execution_count": 29,
   "metadata": {},
   "outputs": [
    {
     "data": {
      "text/plain": [
       "7.400279551252254"
      ]
     },
     "execution_count": 29,
     "metadata": {},
     "output_type": "execute_result"
    }
   ],
   "source": [
    "# Max torque required\n",
    "# We can enforce max torque requirements at each joint in the URDF itself\n",
    "np.max(log1.data())"
   ]
  },
  {
   "cell_type": "code",
   "execution_count": 36,
   "metadata": {},
   "outputs": [
    {
     "data": {
      "text/plain": [
       "array([ 0.6097111 , -0.04402484,  0.22363931, -1.88203719,  0.01227733,\n",
       "       -0.72208045,  0.05594299,  0.        ,  0.        ,  0.        ,\n",
       "        0.        ,  0.        ,  0.        ,  0.        ])"
      ]
     },
     "execution_count": 36,
     "metadata": {},
     "output_type": "execute_result"
    }
   ],
   "source": [
    "# Now we need to compute settling time\n",
    "log2.data()[:, 0]"
   ]
  },
  {
   "cell_type": "code",
   "execution_count": 60,
   "metadata": {},
   "outputs": [
    {
     "name": "stdout",
     "output_type": "stream",
     "text": [
      "3.4112114616897666\n"
     ]
    }
   ],
   "source": [
    "# Use the same formula as before for the settling time\n",
    "ts = 8/np.sqrt(Kp)[0]\n",
    "print(ts)"
   ]
  },
  {
   "cell_type": "code",
   "execution_count": 59,
   "metadata": {},
   "outputs": [
    {
     "name": "stdout",
     "output_type": "stream",
     "text": [
      "[-2.83674977e-03 -1.00000000e+01 -3.89790754e-16 -2.22500000e+00\n",
      " -4.51319227e-16 -5.50000000e-01 -1.00000000e+01]\n",
      "10.0\n"
     ]
    }
   ],
   "source": [
    "# We need to compute forces on the end-effector\n",
    "G = plant.GetBodyByName(\"eef\").body_frame()\n",
    "W = plant.world_frame()\n",
    "J_G = plant.CalcJacobianSpatialVelocity(plant_context, JacobianWrtVariable.kQDot, G, [0,0,0], W, W)\n",
    "# We need forces in Z direction in general but at kind of force and moment can be \n",
    "# added as long as the system is statico\n",
    "joint_torques = np.matmul(J_G.transpose(), np.array([0,0,-10,0,0,-5]))\n",
    "print(joint_torques)\n",
    "print(np.max(abs(joint_torques)))"
   ]
  },
  {
   "cell_type": "code",
   "execution_count": 58,
   "metadata": {},
   "outputs": [
    {
     "name": "stdout",
     "output_type": "stream",
     "text": [
      "[ 0.00000000e+00  0.00000000e+00 -6.99999943e-03  9.99999755e+00\n",
      " -6.99999943e-03  9.99999755e+00  0.00000000e+00]\n",
      "9.9999975500001\n"
     ]
    }
   ],
   "source": [
    "# For payload computation\n",
    "# We need to compute forces on the end-effector\n",
    "G = plant.GetBodyByName(\"eef\").body_frame()\n",
    "W = plant.world_frame()\n",
    "plant.SetPositions(plant.GetMyContextFromRoot(context),model,\n",
    "                      [0,-1.57,0,0,0,0,0])\n",
    "diagram.Publish(context)\n",
    "\n",
    "J_G = plant.CalcJacobianSpatialVelocity(plant_context, JacobianWrtVariable.kQDot, G, [0,0,0], W, W)\n",
    "joint_torques = np.matmul(J_G.transpose(), np.array([0,10,0,0,0,0]))\n",
    "print(joint_torques)\n",
    "print(np.max(abs(joint_torques)))"
   ]
  },
  {
   "cell_type": "code",
   "execution_count": 33,
   "metadata": {},
   "outputs": [],
   "source": [
    "# Now all that is left is to integrate these\n",
    "# bottom-up mappings with auto-generation of the URDF\n",
    "# and solution space computation"
   ]
  }
 ],
 "metadata": {
  "colab": {
   "collapsed_sections": [],
   "name": "Robotic Manipulation - Let's get you a robot.ipynb",
   "provenance": [],
   "toc_visible": true
  },
  "interpreter": {
   "hash": "31f2aee4e71d21fbe5cf8b01ff0e069b9275f58929596ceb00d14d90e3e16cd6"
  },
  "kernelspec": {
   "display_name": "Python 3 (ipykernel)",
   "language": "python",
   "name": "python3"
  },
  "language_info": {
   "codemirror_mode": {
    "name": "ipython",
    "version": 3
   },
   "file_extension": ".py",
   "mimetype": "text/x-python",
   "name": "python",
   "nbconvert_exporter": "python",
   "pygments_lexer": "ipython3",
   "version": "3.8.5"
  }
 },
 "nbformat": 4,
 "nbformat_minor": 2
}
