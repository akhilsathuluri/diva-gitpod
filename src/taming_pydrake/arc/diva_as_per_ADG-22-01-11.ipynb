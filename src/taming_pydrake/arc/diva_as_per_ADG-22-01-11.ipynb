{
 "cells": [
  {
   "cell_type": "code",
   "execution_count": 6,
   "metadata": {},
   "outputs": [],
   "source": [
    "# Imports\n",
    "import numpy as np\n",
    "import pandas as pd\n",
    "import pydot\n",
    "from pydot import Dot, Edge, Node\n",
    "from IPython.display import display, SVG, clear_output, HTML\n",
    "import matplotlib.pyplot as plt\n",
    "import graphviz\n",
    "\n",
    "from pydrake.all import *\n",
    "from pydrake.examples.manipulation_station import ManipulationStation\n",
    "\n",
    "from manipulation import running_as_notebook\n",
    "from manipulation.meshcat_cpp_utils import (\n",
    "    StartMeshcat, MeshcatJointSlidersThatPublish)\n",
    "from manipulation.scenarios import AddMultibodyTriad, SetColor"
   ]
  },
  {
   "cell_type": "code",
   "execution_count": 2,
   "metadata": {},
   "outputs": [
    {
     "data": {
      "text/html": [
       "Meshcat is now available at <a href=\"http://localhost:7000\">http://localhost:7000</a>"
      ],
      "text/plain": [
       "<IPython.core.display.HTML object>"
      ]
     },
     "metadata": {},
     "output_type": "display_data"
    }
   ],
   "source": [
    "# Start the visualizer.\n",
    "meshcat = StartMeshcat()"
   ]
  },
  {
   "cell_type": "code",
   "execution_count": 29,
   "metadata": {},
   "outputs": [],
   "source": [
    "dv = pd.read_csv('./input/dv_space.csv')\n",
    "qoi = pd.read_csv('./input/qoi_space.csv')"
   ]
  },
  {
   "cell_type": "code",
   "execution_count": 25,
   "metadata": {},
   "outputs": [],
   "source": [
    "graph = pydot.Dot(\"ADG\", graph_type=\"digraph\", bgcolor=\"transparent\", rankdir='BT')"
   ]
  },
  {
   "cell_type": "code",
   "execution_count": 37,
   "metadata": {},
   "outputs": [],
   "source": [
    "# Add nodes\n",
    "dv_nodes = []\n",
    "for var in dv.Variables:\n",
    "    dvnode = pydot.Node(var)\n",
    "    graph.add_node(dvnode)\n",
    "    dv_nodes.append(dvnode)\n",
    "    \n",
    "qoi_nodes = []\n",
    "for var in qoi.Variables:\n",
    "    qoinode = pydot.Node(var)\n",
    "    graph.add_node(qoinode)\n",
    "    qoi_nodes.append(qoinode)\n",
    "    \n",
    "# for i in range(len(qoi_nodes)):\n",
    "#     for j in range(len(dv_nodes)):\n",
    "#         graph.add_edge(pydot.Edge(qoi_nodes[i], dv_nodes[j]))"
   ]
  },
  {
   "cell_type": "code",
   "execution_count": 53,
   "metadata": {},
   "outputs": [],
   "source": [
    "# Adding clusters\n",
    "clusters = []\n",
    "for cluster in set(list(dv.Cluster)):\n",
    "    # Set cluster properties\n",
    "    temp_cluster = pydot.Cluster(cluster, style='filled', color='lightgrey', label=cluster)\n",
    "    # Find corresponding dv_nodes\n",
    "    cluster_indices = list(dv[dv['Cluster']==cluster].index)\n",
    "    # Add dv nodes to the cluster\n",
    "    for index in cluster_indices:\n",
    "        temp_cluster.add_node(dv_nodes[index])\n",
    "    # Add cluster to the graph    \n",
    "    graph.add_subgraph(temp_cluster)\n",
    "    clusters.append(temp_cluster)"
   ]
  },
  {
   "cell_type": "code",
   "execution_count": 54,
   "metadata": {},
   "outputs": [],
   "source": [
    "graph.write_png(\"output.png\")"
   ]
  },
  {
   "cell_type": "code",
   "execution_count": 21,
   "metadata": {},
   "outputs": [],
   "source": [
    "# pydot.Dot.set_node_defaults(graph, color='lightgray',\n",
    "#                             style='filled',\n",
    "#                             shape='box',\n",
    "#                             fontname='Courier',\n",
    "#                             fontsize='10')"
   ]
  },
  {
   "cell_type": "code",
   "execution_count": 22,
   "metadata": {},
   "outputs": [],
   "source": [
    "graph = pydot.Dot(\"my_graph\", graph_type=\"graph\", bgcolor=\"transparent\", rankdir='BT')\n",
    "\n",
    "# Add nodes\n",
    "my_node = pydot.Node(\"a\", label=\"Foo\")\n",
    "graph.add_node(my_node)\n",
    "# Or, without using an intermediate variable:\n",
    "graph.add_node(pydot.Node(\"b\", shape=\"circle\"))\n",
    "\n",
    "# Add edges\n",
    "my_edge = pydot.Edge(\"a\", \"b\", color=\"blue\")\n",
    "graph.add_edge(my_edge)\n",
    "# Or, without using an intermediate variable:\n",
    "graph.add_edge(pydot.Edge(\"b\", \"c\", color=\"blue\"))\n",
    "\n",
    "output_graphviz_svg = graph.create_svg()\n",
    "graph.write_png(\"output.png\")"
   ]
  },
  {
   "cell_type": "code",
   "execution_count": 115,
   "metadata": {},
   "outputs": [],
   "source": [
    "# Adding a table\n",
    "\n",
    "builder = DiagramBuilder()\n",
    "\n",
    "# urdf_path = './diva_teleop_boxy.urdf'\n",
    "urdf_path = './urdfs/modified.urdf'\n",
    "\n",
    "plant, scene_graph = AddMultibodyPlantSceneGraph(builder, time_step=1e-4)\n",
    "model = Parser(plant, scene_graph).AddModelFromFile(urdf_path, 'diva_robot')\n",
    "\n",
    "\n",
    "# Transform for the table location\n",
    "X_R = RigidTransform(RotationMatrix.MakeYRotation(-np.pi/2), np.array([-0.1, 0.5, 1]))\n",
    "# For shoulder re-orientation use below\n",
    "# X_R = RigidTransform(RotationMatrix(RollPitchYaw([0.8, -0.8, 0])), np.array([-0.1, 0.5, 1]))\n",
    "# Parser(plant, scene_graph).AddModelFromFile('./urdfs/table/extra_heavy_duty_table_modified.sdf','table')\n",
    "\n",
    "plant.WeldFrames(plant.world_frame(), plant.get_body(plant.GetBodyIndices(model)[0]).body_frame(), X_R)\n",
    "# plant.WeldFrames(plant.world_frame(), plant.get_body(plant.GetBodyIndices(table)[0]).body_frame(), X_T)\n",
    "plant.Finalize()\n",
    "\n",
    "# Delete any previous models\n",
    "meshcat.Delete()\n",
    "meshcat.DeleteAddedControls()\n",
    "\n",
    "visualizer = MeshcatVisualizerCpp.AddToBuilder(builder, scene_graph, meshcat)\n",
    "\n",
    "diagram = builder.Build()\n",
    "context = diagram.CreateDefaultContext()\n",
    "plant.SetPositions(plant.GetMyContextFromRoot(context),model,\n",
    "                      [0.21, -1.03, 1.28, -1.1, 2.8, 1.5, 0])\n",
    "# To actually see the context, publish diagram\n",
    "diagram.Publish(context)"
   ]
  },
  {
   "cell_type": "code",
   "execution_count": 116,
   "metadata": {},
   "outputs": [],
   "source": [
    "plant_context = plant.GetMyMutableContextFromRoot(context)\n",
    "# Compute mass matrix\n",
    "Mmat = plant.CalcMassMatrix(plant_context)"
   ]
  },
  {
   "cell_type": "code",
   "execution_count": 117,
   "metadata": {},
   "outputs": [
    {
     "name": "stdout",
     "output_type": "stream",
     "text": [
      "Rotor inertia:  0.0001044497765458742\n",
      "Minmax inertia from mass matrix:  0.6933292788589145 0.0005432127148800003\n"
     ]
    }
   ],
   "source": [
    "# Extracting the diagonal parts of the inertia matrix\n",
    "Mmat.diagonal()\n",
    "# Rotor inerta of T-motors AK60-6 is not found in specifications\n",
    "# So using the formula from the paper\n",
    "rotor_inertia = 7.19e-4*(315/1000)**1.67\n",
    "gear_ratio = 8\n",
    "reflected_inertia = gear_ratio**2*rotor_inertia\n",
    "# print(reflected_inertia, Mmat.diagonal().max(), Mmat.diagonal().min())\n",
    "print('Rotor inertia: ', rotor_inertia)\n",
    "print('Minmax inertia from mass matrix: ', Mmat.diagonal().max(), Mmat.diagonal().min())\n",
    "# Since the reflected inertia is still smaller compared to the \n",
    "# moving inertia, it is neglected until I undertsand how to incorporate \n",
    "# it in the model\n",
    "# Reference for incorporating rotor inertia in pydrake: https://github.com/RobotLocomotion/drake/issues/12335\n",
    "# Not yet implemented in python\\\n",
    "\n",
    "# Accessing the joint actuator to add rotor_inertia and gear ratio\n",
    "motor = plant.GetJointActuatorByName('motor1')\n",
    "motor.name()\n",
    "motor.effort_limit();\n",
    "# Not implemented yet\n",
    "# motor.rotor_inertia"
   ]
  },
  {
   "cell_type": "code",
   "execution_count": 118,
   "metadata": {},
   "outputs": [
    {
     "name": "stdout",
     "output_type": "stream",
     "text": [
      "14.29656761723368\n"
     ]
    }
   ],
   "source": [
    "# Check if the regression from the paper is valid with T-motors\n",
    "m_m = 315/1000\n",
    "# Max motor torque\n",
    "tau_max = 5.48*m_m**0.97\n",
    "# After gear reduction\n",
    "print(gear_ratio*tau_max)\n",
    "# The actual tau_max is 9\n",
    "# Since its a regression, this is close enough"
   ]
  },
  {
   "cell_type": "code",
   "execution_count": 119,
   "metadata": {},
   "outputs": [],
   "source": [
    "builder = DiagramBuilder()\n",
    "# urdf_path = './divar3v-reference.urdf'\n",
    "urdf_path = './urdfs/modified.urdf'\n",
    "plant, scene_graph = AddMultibodyPlantSceneGraph(builder, time_step=1e-4)\n",
    "model = Parser(plant, scene_graph).AddModelFromFile(urdf_path, 'diva_robot')\n",
    "# Transform for the robot location\n",
    "X_R = RigidTransform(RotationMatrix.MakeYRotation(-np.pi/2), np.array([-0.1, 0.5, 1]))\n",
    "plant.WeldFrames(plant.world_frame(), plant.get_body(plant.GetBodyIndices(model)[0]).body_frame(), X_R)\n",
    "# Spawn table\n",
    "# table = Parser(plant, scene_graph).AddModelFromFile('./urdfs/table/extra_heavy_duty_table_modified.sdf','table')\n",
    "# Spawn spherical work piece\n",
    "sphere = Parser(plant, scene_graph).AddModelFromFile('./urdfs/helper/sphere.urdf','sphere')\n",
    "# Place the sphere at the center of the table\n",
    "# Length, width and height and thickness of the table\n",
    "# 1.39, 0.762, 0.736, 0.057\n",
    "# Sphere radius -- Can be made a design variable\n",
    "# 0.15\n",
    "# We can sample end-points on the surface of the sphere\n",
    "X_R = RigidTransform(RotationMatrix(RollPitchYaw([0, 0, 0])), np.array([0, 0, 0.736]))\n",
    "plant.WeldFrames(plant.world_frame(), plant.get_body(plant.GetBodyIndices(sphere)[0]).body_frame(), X_R)\n",
    "\n",
    "plant.Finalize()\n",
    "\n",
    "\n",
    "# Draw the frames\n",
    "for body_name in [\"base_link\", \"eef\"]:\n",
    "    AddMultibodyTriad(plant.GetFrameByName(body_name, model), scene_graph)\n",
    "\n",
    "# Adds the MeshcatVisualizer and wires it to the SceneGraph.\n",
    "visualizer = MeshcatVisualizerCpp.AddToBuilder(builder, scene_graph, meshcat)\n",
    "\n",
    "# Adds an approximation of the iiwa controller.\n",
    "# TODO(russt): replace this with the joint impedance controller.\n",
    "Kp = np.full(7, 5.5)\n",
    "# Ki = 2 * np.sqrt(Kp)\n",
    "Ki = np.full(7, 0)\n",
    "# Kd = np.full(7, 1)\n",
    "Kd = 2 * np.sqrt(Kp)\n",
    "iiwa_controller = builder.AddSystem(InverseDynamicsController(plant, Kp, Ki, Kd, False))\n",
    "iiwa_controller.set_name(\"iiwa_controller\");\n",
    "builder.Connect(plant.get_state_output_port(model),\n",
    "                iiwa_controller.get_input_port_estimated_state())\n",
    "builder.Connect(iiwa_controller.get_output_port_control(),\n",
    "                plant.get_actuation_input_port())\n",
    "# Connecting a data logger\n",
    "logger1 = LogVectorOutput(iiwa_controller.get_output_port_control(), builder)\n",
    "logger2 = LogVectorOutput(plant.get_state_output_port(model), builder)\n",
    "\n",
    "diagram = builder.Build()"
   ]
  },
  {
   "cell_type": "code",
   "execution_count": 120,
   "metadata": {},
   "outputs": [],
   "source": [
    "# SVG(pydot.graph_from_dot_data(diagram.GetGraphvizString())[0].create_svg())"
   ]
  },
  {
   "cell_type": "code",
   "execution_count": 121,
   "metadata": {},
   "outputs": [],
   "source": [
    "# diagram.set_name(\"diagram\")\n",
    "# HTML('<script src=\"https://unpkg.com/gojs/release/go.js\"></script>' + GenerateHtml(diagram))"
   ]
  },
  {
   "cell_type": "code",
   "execution_count": 122,
   "metadata": {},
   "outputs": [
    {
     "name": "stdout",
     "output_type": "stream",
     "text": [
      "[ 0.3327415   0.2380094   0.24857718 -1.04897648  0.00762071 -0.43263109\n",
      "  0.08855819]\n"
     ]
    }
   ],
   "source": [
    "context = diagram.CreateDefaultContext()\n",
    "plant_context = plant.GetMyMutableContextFromRoot(context)\n",
    "q0 = plant.GetPositions(plant_context)\n",
    "gripper_frame = plant.GetBodyByName(\"eef\").body_frame()\n",
    "# Initial position and velocity\n",
    "# cart0 = np.array([np.random.uniform(-0.17, -0.695), np.random.uniform(-0.381, 0.381), np.random.uniform(0.74, 0.80)])\n",
    "# cartd = np.array([np.random.uniform(-0.17, 0), np.random.uniform(-0.17, 0.17), np.random.uniform(0.74, 0.90)])\n",
    "cart0 = np.array([-0.35, 0.15, 0.8])\n",
    "cartd = np.array([-0.2,-0.1,0.8])\n",
    "# Compute IK\n",
    "ik = InverseKinematics(plant, plant_context)\n",
    "ik.AddPositionConstraint(\n",
    "            gripper_frame, [0, 0, 0], plant.world_frame(), \n",
    "            cart0, cart0)\n",
    "prog = ik.get_mutable_prog()\n",
    "q = ik.q()\n",
    "prog.AddQuadraticErrorCost(np.identity(len(q)), q0, q)\n",
    "prog.SetInitialGuess(q, q0)\n",
    "result = Solve(ik.prog())\n",
    "qinit = result.GetSolution(ik.q())\n",
    "\n",
    "# Document mapping bottom-up mapping from link \n",
    "# lengths to the workspace\n",
    "\n",
    "ik = InverseKinematics(plant, plant_context)\n",
    "ik.AddPositionConstraint(\n",
    "            gripper_frame, [0, 0, 0], plant.world_frame(), \n",
    "            cartd, cartd)\n",
    "prog = ik.get_mutable_prog()\n",
    "q = ik.q()\n",
    "prog.AddQuadraticErrorCost(np.identity(len(q)), q0, q)\n",
    "prog.SetInitialGuess(q, q0)\n",
    "result = Solve(ik.prog())\n",
    "qd = result.GetSolution(ik.q())\n",
    "print(qd)\n",
    "\n",
    "# q0 = np.array([-1.57, 0.1, 0, -1.2, 0, 1.6, 0])\n",
    "# # Setting the desired position\n",
    "# qd = np.array([0.21, -1.03, 1.28, -1.1, 2.8, 1.5, 0])\n",
    "# x0 = np.hstack((q0, 0*q0))\n",
    "xd = np.hstack((qd, 0*qd))\n",
    "plant.SetPositions(plant_context, qinit)\n",
    "iiwa_controller.GetInputPort('desired_state').FixValue(\n",
    "    iiwa_controller.GetMyMutableContextFromRoot(context), xd)\n",
    "# print(context)\n",
    "diagram.Publish(context)"
   ]
  },
  {
   "cell_type": "code",
   "execution_count": 123,
   "metadata": {},
   "outputs": [],
   "source": [
    "plant.SetPositions(plant_context, qd)\n",
    "diagram.Publish(context)"
   ]
  },
  {
   "cell_type": "code",
   "execution_count": 124,
   "metadata": {},
   "outputs": [],
   "source": [
    "builder = DiagramBuilder()\n",
    "# urdf_path = './divar3v-reference.urdf'\n",
    "urdf_path = './urdfs/modified.urdf'\n",
    "plant, scene_graph = AddMultibodyPlantSceneGraph(builder, time_step=1e-4)\n",
    "model = Parser(plant, scene_graph).AddModelFromFile(urdf_path, 'diva_robot')\n",
    "# Transform for the robot location\n",
    "X_R = RigidTransform(RotationMatrix.MakeYRotation(-np.pi/2), np.array([-0.1, 0.5, 1]))\n",
    "plant.WeldFrames(plant.world_frame(), plant.get_body(plant.GetBodyIndices(model)[0]).body_frame(), X_R)\n",
    "# Spawn table\n",
    "# table = Parser(plant, scene_graph).AddModelFromFile('./urdfs/table/extra_heavy_duty_table_modified.sdf','table')\n",
    "# Spawn spherical work piece\n",
    "sphere = Parser(plant, scene_graph).AddModelFromFile('./urdfs/helper/sphere.urdf','sphere')\n",
    "# Place the sphere at the center of the table\n",
    "# Length, width and height and thickness of the table\n",
    "# 1.39, 0.762, 0.736, 0.057\n",
    "# Sphere radius -- Can be made a design variable\n",
    "# 0.15\n",
    "# We can sample end-points on the surface of the sphere\n",
    "X_R = RigidTransform(RotationMatrix(RollPitchYaw([0, 0, 0])), np.array([0, 0, 0.736]))\n",
    "plant.WeldFrames(plant.world_frame(), plant.get_body(plant.GetBodyIndices(sphere)[0]).body_frame(), X_R)\n",
    "\n",
    "plant.Finalize()\n",
    "\n",
    "\n",
    "# Draw the frames\n",
    "for body_name in [\"base_link\", \"eef\"]:\n",
    "    AddMultibodyTriad(plant.GetFrameByName(body_name, model), scene_graph)\n",
    "\n",
    "# Adds the MeshcatVisualizer and wires it to the SceneGraph.\n",
    "visualizer = MeshcatVisualizerCpp.AddToBuilder(builder, scene_graph, meshcat)\n",
    "\n",
    "# Adds an approximation of the iiwa controller.\n",
    "# TODO(russt): replace this with the joint impedance controller.\n",
    "Kp = np.full(7, 15.5)\n",
    "# Ki = 2 * np.sqrt(Kp)\n",
    "Ki = np.full(7, 0)\n",
    "# Kd = np.full(7, 1)\n",
    "Kd = 2 * np.sqrt(Kp)\n",
    "iiwa_controller = builder.AddSystem(InverseDynamicsController(plant, Kp, Ki, Kd, False))\n",
    "iiwa_controller.set_name(\"iiwa_controller\");\n",
    "builder.Connect(plant.get_state_output_port(model),\n",
    "                iiwa_controller.get_input_port_estimated_state())\n",
    "builder.Connect(iiwa_controller.get_output_port_control(),\n",
    "                plant.get_actuation_input_port())\n",
    "# Connecting a data logger\n",
    "logger1 = LogVectorOutput(iiwa_controller.get_output_port_control(), builder)\n",
    "logger2 = LogVectorOutput(plant.get_state_output_port(model), builder)\n",
    "\n",
    "diagram = builder.Build()"
   ]
  },
  {
   "cell_type": "code",
   "execution_count": 125,
   "metadata": {},
   "outputs": [],
   "source": [
    "context = diagram.CreateDefaultContext()\n",
    "plant_context = plant.GetMyMutableContextFromRoot(context)\n",
    "plant.SetPositions(plant_context, qinit)\n",
    "iiwa_controller.GetInputPort('desired_state').FixValue(\n",
    "    iiwa_controller.GetMyMutableContextFromRoot(context), xd)\n",
    "\n",
    "diagram.Publish(context)"
   ]
  },
  {
   "cell_type": "code",
   "execution_count": 126,
   "metadata": {},
   "outputs": [],
   "source": [
    "simulator = Simulator(diagram, context)\n",
    "simulator.set_target_realtime_rate(-1.0);\n",
    "# simulator.set_target_realtime_rate(1.0);\n",
    "# simulator.AdvanceTo(5.0 if running_as_notebook else 0.1);\n",
    "logger1.FindMutableLog(context).Clear()\n",
    "simulator.AdvanceTo(5.0);"
   ]
  },
  {
   "cell_type": "code",
   "execution_count": 127,
   "metadata": {},
   "outputs": [],
   "source": [
    "# Now we want to get the simulation data, i.e., \n",
    "# the torque applied, final time and the \n",
    "log1 = logger1.FindLog(context)\n",
    "log2 = logger2.FindLog(context)"
   ]
  },
  {
   "cell_type": "code",
   "execution_count": 128,
   "metadata": {},
   "outputs": [
    {
     "data": {
      "text/plain": [
       "array([ 1.50454544e+01, -1.49408561e+00,  6.55662127e-01,  3.47233879e+00,\n",
       "        1.13960542e-02,  3.69543540e-02,  1.86713522e-02])"
      ]
     },
     "execution_count": 128,
     "metadata": {},
     "output_type": "execute_result"
    }
   ],
   "source": [
    "# Final control input\n",
    "log1.data()[:, -1]"
   ]
  },
  {
   "cell_type": "code",
   "execution_count": 129,
   "metadata": {},
   "outputs": [],
   "source": [
    "# Extracting the angular velocity\n",
    "vel = []\n",
    "for i in range(log2.data().shape[1]):\n",
    "    vel.append(log2.data()[:,i][7:])\n",
    "vel = np.array(vel).transpose()"
   ]
  },
  {
   "cell_type": "code",
   "execution_count": 130,
   "metadata": {},
   "outputs": [
    {
     "name": "stdout",
     "output_type": "stream",
     "text": [
      "9.653093633864827\n",
      "41.88790204786391\n"
     ]
    }
   ],
   "source": [
    "# max velocity in radians/sec\n",
    "traj_max_vel = np.max(vel*gear_ratio)\n",
    "print(traj_max_vel)\n",
    "# Max velocity of the T-motor AK60\n",
    "motor_max_vel = 400*2*np.pi/60.0\n",
    "print(motor_max_vel)\n",
    "# We are well within the angular velocity peak"
   ]
  },
  {
   "cell_type": "code",
   "execution_count": 131,
   "metadata": {},
   "outputs": [
    {
     "data": {
      "text/plain": [
       "[<matplotlib.lines.Line2D at 0x7ff4c68c9670>]"
      ]
     },
     "execution_count": 131,
     "metadata": {},
     "output_type": "execute_result"
    },
    {
     "data": {
      "image/png": "[encoded data removed]",
      "text/plain": [
       "<Figure size 432x288 with 1 Axes>"
      ]
     },
     "metadata": {
      "needs_background": "light"
     },
     "output_type": "display_data"
    }
   ],
   "source": [
    "plt.plot(vel[6, :200])"
   ]
  },
  {
   "cell_type": "code",
   "execution_count": 132,
   "metadata": {},
   "outputs": [
    {
     "data": {
      "text/plain": [
       "[<matplotlib.lines.Line2D at 0x7ff4c70dba90>]"
      ]
     },
     "execution_count": 132,
     "metadata": {},
     "output_type": "execute_result"
    },
    {
     "data": {
      "image/png": "[encoded data removed]",
      "text/plain": [
       "<Figure size 432x288 with 1 Axes>"
      ]
     },
     "metadata": {
      "needs_background": "light"
     },
     "output_type": "display_data"
    }
   ],
   "source": [
    "plt.plot(np.gradient(vel[6, :200]))"
   ]
  },
  {
   "cell_type": "code",
   "execution_count": 133,
   "metadata": {},
   "outputs": [
    {
     "data": {
      "text/plain": [
       "[<matplotlib.lines.Line2D at 0x7ff4c703d190>,\n",
       " <matplotlib.lines.Line2D at 0x7ff4c703d1c0>,\n",
       " <matplotlib.lines.Line2D at 0x7ff4c703d2b0>,\n",
       " <matplotlib.lines.Line2D at 0x7ff4c703d430>,\n",
       " <matplotlib.lines.Line2D at 0x7ff4c703d130>,\n",
       " <matplotlib.lines.Line2D at 0x7ff4c703d460>,\n",
       " <matplotlib.lines.Line2D at 0x7ff4c703d5b0>]"
      ]
     },
     "execution_count": 133,
     "metadata": {},
     "output_type": "execute_result"
    },
    {
     "data": {
      "image/png": "[encoded data removed]",
      "text/plain": [
       "<Figure size 432x288 with 1 Axes>"
      ]
     },
     "metadata": {
      "needs_background": "light"
     },
     "output_type": "display_data"
    }
   ],
   "source": [
    "# Angular velocity of the robot\n",
    "plt.plot(log1.sample_times(), vel[0, :-1], log1.sample_times(), vel[1, :-1],\\\n",
    "        log1.sample_times(), vel[2, :-1], log1.sample_times(), vel[3, :-1], \\\n",
    "        log1.sample_times(), vel[4, :-1], log1.sample_times(), vel[5, :-1], \\\n",
    "        log1.sample_times(), vel[6, :-1])"
   ]
  },
  {
   "cell_type": "code",
   "execution_count": 134,
   "metadata": {},
   "outputs": [
    {
     "name": "stdout",
     "output_type": "stream",
     "text": [
      "[ 0.33274151  0.23800938  0.24857718 -1.04897653  0.00762071 -0.43263111\n",
      "  0.08855819]\n",
      "[ 0.3327415   0.2380094   0.24857718 -1.04897648  0.00762071 -0.43263109\n",
      "  0.08855819]\n"
     ]
    }
   ],
   "source": [
    "# Final state of the robot\n",
    "print(log2.data()[:7, -1])\n",
    "print(qd)"
   ]
  },
  {
   "cell_type": "code",
   "execution_count": 135,
   "metadata": {},
   "outputs": [
    {
     "data": {
      "text/plain": [
       "<Figure size 432x288 with 0 Axes>"
      ]
     },
     "metadata": {},
     "output_type": "display_data"
    }
   ],
   "source": [
    "fig = plt.figure()"
   ]
  },
  {
   "cell_type": "code",
   "execution_count": 136,
   "metadata": {
    "scrolled": false
   },
   "outputs": [
    {
     "data": {
      "text/plain": [
       "[<matplotlib.lines.Line2D at 0x7ff4c7ef1250>,\n",
       " <matplotlib.lines.Line2D at 0x7ff4c7029d60>,\n",
       " <matplotlib.lines.Line2D at 0x7ff4c7029f70>,\n",
       " <matplotlib.lines.Line2D at 0x7ff4c7034130>,\n",
       " <matplotlib.lines.Line2D at 0x7ff4c7034070>,\n",
       " <matplotlib.lines.Line2D at 0x7ff4c7034160>,\n",
       " <matplotlib.lines.Line2D at 0x7ff4c70342b0>]"
      ]
     },
     "execution_count": 136,
     "metadata": {},
     "output_type": "execute_result"
    },
    {
     "data": {
      "image/png": "[encoded data removed]",
      "text/plain": [
       "<Figure size 432x288 with 1 Axes>"
      ]
     },
     "metadata": {
      "needs_background": "light"
     },
     "output_type": "display_data"
    }
   ],
   "source": [
    "plt.plot(log1.sample_times(), log1.data()[0, :], log1.sample_times(), log1.data()[1, :],\\\n",
    "        log1.sample_times(), log1.data()[2, :], log1.sample_times(), log1.data()[3, :], \\\n",
    "        log1.sample_times(), log1.data()[4, :], log1.sample_times(), log1.data()[5, :], \\\n",
    "        log1.sample_times(), log1.data()[6, :])"
   ]
  },
  {
   "cell_type": "code",
   "execution_count": 137,
   "metadata": {},
   "outputs": [
    {
     "data": {
      "text/plain": [
       "15.045454436412363"
      ]
     },
     "execution_count": 137,
     "metadata": {},
     "output_type": "execute_result"
    }
   ],
   "source": [
    "# Max torque required\n",
    "# We can enforce max torque requirements at each joint in the URDF itself\n",
    "np.max(np.abs(log1.data()))"
   ]
  },
  {
   "cell_type": "code",
   "execution_count": 138,
   "metadata": {},
   "outputs": [
    {
     "data": {
      "text/plain": [
       "[<matplotlib.lines.Line2D at 0x7ff4c7008c10>,\n",
       " <matplotlib.lines.Line2D at 0x7ff4c6f97970>,\n",
       " <matplotlib.lines.Line2D at 0x7ff4c6f97ac0>,\n",
       " <matplotlib.lines.Line2D at 0x7ff4c6f97c40>,\n",
       " <matplotlib.lines.Line2D at 0x7ff4c6f97a60>,\n",
       " <matplotlib.lines.Line2D at 0x7ff4c6f97c70>,\n",
       " <matplotlib.lines.Line2D at 0x7ff4c6f97dc0>]"
      ]
     },
     "execution_count": 138,
     "metadata": {},
     "output_type": "execute_result"
    },
    {
     "data": {
      "image/png": "[encoded data removed]",
      "text/plain": [
       "<Figure size 432x288 with 1 Axes>"
      ]
     },
     "metadata": {
      "needs_background": "light"
     },
     "output_type": "display_data"
    }
   ],
   "source": [
    "plt.plot(log2.sample_times(), log2.data()[0, :], log2.sample_times(), log2.data()[1, :],\\\n",
    "        log2.sample_times(), log2.data()[2, :], log2.sample_times(), log2.data()[3, :], \\\n",
    "        log2.sample_times(), log2.data()[4, :], log2.sample_times(), log2.data()[5, :], \\\n",
    "        log2.sample_times(), log2.data()[6, :])"
   ]
  },
  {
   "cell_type": "code",
   "execution_count": 139,
   "metadata": {
    "scrolled": true
   },
   "outputs": [
    {
     "data": {
      "text/plain": [
       "array([ 0.33274151,  0.23800938,  0.24857718, -1.04897653,  0.00762071,\n",
       "       -0.43263111,  0.08855819])"
      ]
     },
     "execution_count": 139,
     "metadata": {},
     "output_type": "execute_result"
    }
   ],
   "source": [
    "# Now we need to compute settling time\n",
    "log2.data()[:7, -1]"
   ]
  },
  {
   "cell_type": "code",
   "execution_count": 140,
   "metadata": {},
   "outputs": [
    {
     "data": {
      "text/plain": [
       "array([ 0.3327415 ,  0.2380094 ,  0.24857718, -1.04897648,  0.00762071,\n",
       "       -0.43263109,  0.08855819])"
      ]
     },
     "execution_count": 140,
     "metadata": {},
     "output_type": "execute_result"
    }
   ],
   "source": [
    "qd"
   ]
  },
  {
   "cell_type": "code",
   "execution_count": 141,
   "metadata": {},
   "outputs": [
    {
     "data": {
      "text/plain": [
       "5.76638461676179e-08"
      ]
     },
     "execution_count": 141,
     "metadata": {},
     "output_type": "execute_result"
    }
   ],
   "source": [
    "np.linalg.norm(qd-(log2.data()[:7, -1]))"
   ]
  },
  {
   "cell_type": "code",
   "execution_count": 142,
   "metadata": {},
   "outputs": [
    {
     "name": "stdout",
     "output_type": "stream",
     "text": [
      "2.032002032003048\n"
     ]
    }
   ],
   "source": [
    "# Use the same formula as before for the settling time\n",
    "ts = 8/np.sqrt(Kp)[0]\n",
    "print(ts)"
   ]
  },
  {
   "cell_type": "code",
   "execution_count": 143,
   "metadata": {},
   "outputs": [
    {
     "name": "stdout",
     "output_type": "stream",
     "text": [
      "[-2.99999995 -9.07260718 -3.53281383  0.118406    6.45338925  1.41730442\n",
      " -4.10482416]\n",
      "9.072607175883626\n"
     ]
    }
   ],
   "source": [
    "# We need to compute forces on the end-effector\n",
    "G = plant.GetBodyByName(\"eef\").body_frame()\n",
    "W = plant.world_frame()\n",
    "J_G = plant.CalcJacobianSpatialVelocity(plant_context, JacobianWrtVariable.kQDot, G, [0,0,0], W, W)\n",
    "# We need forces in Z direction in general but at kind of force and moment can be \n",
    "# added as long as the system is statico\n",
    "joint_torques = np.matmul(J_G.transpose(), np.array([0,0,-10,0,0,-5]))\n",
    "print(joint_torques)\n",
    "print(np.max(np.abs(joint_torques)))"
   ]
  },
  {
   "cell_type": "code",
   "execution_count": 144,
   "metadata": {},
   "outputs": [
    {
     "name": "stdout",
     "output_type": "stream",
     "text": [
      "[ 0.00000000e+00  0.00000000e+00 -6.99999943e-03  9.99999755e+00\n",
      " -6.99999943e-03  9.99999755e+00  0.00000000e+00]\n",
      "9.9999975500001\n"
     ]
    }
   ],
   "source": [
    "# For payload computation\n",
    "# We need to compute forces on the end-effector\n",
    "G = plant.GetBodyByName(\"eef\").body_frame()\n",
    "W = plant.world_frame()\n",
    "plant.SetPositions(plant.GetMyContextFromRoot(context),model,\n",
    "                      [0,-1.57,0,0,0,0,0])\n",
    "diagram.Publish(context)\n",
    "\n",
    "J_G = plant.CalcJacobianSpatialVelocity(plant_context, JacobianWrtVariable.kQDot, G, [0,0,0], W, W)\n",
    "joint_torques = np.matmul(J_G.transpose(), np.array([0,10,0,0,0,0]))\n",
    "print(joint_torques)\n",
    "print(np.max(np.abs(joint_torques)))"
   ]
  },
  {
   "cell_type": "code",
   "execution_count": 145,
   "metadata": {},
   "outputs": [],
   "source": [
    "# Now all that is left is to integrate these\n",
    "# bottom-up mappings with auto-generation of the URDF\n",
    "# and solution space computation"
   ]
  },
  {
   "cell_type": "code",
   "execution_count": 146,
   "metadata": {},
   "outputs": [
    {
     "name": "stdout",
     "output_type": "stream",
     "text": [
      "friction losses:  0.07517760814591028\n",
      "joule losses:  48.54486302895513\n"
     ]
    }
   ],
   "source": [
    "# Motor angular velocity\n",
    "omega = []\n",
    "for i in range(log2.data().shape[1]):\n",
    "    omega.append(log2.data()[:,i][7:])\n",
    "omega_m = np.array(omega).transpose()*gear_ratio\n",
    "# Motor torque\n",
    "tau_m = log1.data()/gear_ratio\n",
    "\n",
    "# Friction torque\n",
    "tau_mu = 5.3e-3\n",
    "b0 = 1.5e-5\n",
    "# Motor constant matrix\n",
    "km = 0.14\n",
    "K = 1/np.sqrt(km)*np.identity(7)\n",
    "\n",
    "# Total friction power loss\n",
    "inst_friction_power = []\n",
    "inst_joule_power = []\n",
    "\n",
    "for i in range(len(log1.sample_times())):\n",
    "    omega_inst = omega_m[:, i]\n",
    "    tau_f = tau_mu*np.sign(omega_inst)+b0*omega_inst\n",
    "    P_f = np.dot(tau_f, omega_inst)\n",
    "    inst_friction_power.append(P_f)\n",
    "    tau_t = tau_f+tau_m[:, i]\n",
    "    P_t = np.dot(K.dot(tau_t), tau_t)\n",
    "    inst_joule_power.append(P_t)\n",
    "# Normalising to step size, since its an integration\n",
    "# If the step size is constant, this can be ignored\n",
    "print('friction losses: ', np.sum(inst_friction_power)*1e-4)\n",
    "# Losses due to joule effecto at motor windings\n",
    "print('joule losses: ', np.sum(inst_joule_power)*1e-4)"
   ]
  },
  {
   "cell_type": "code",
   "execution_count": 148,
   "metadata": {},
   "outputs": [
    {
     "name": "stdout",
     "output_type": "stream",
     "text": [
      "max power used:  28.406743852602688 W\n"
     ]
    },
    {
     "data": {
      "image/png": "[encoded data removed]",
      "text/plain": [
       "<Figure size 432x288 with 1 Axes>"
      ]
     },
     "metadata": {
      "needs_background": "light"
     },
     "output_type": "display_data"
    }
   ],
   "source": [
    "# The joule losses feel very high, is this common or is \n",
    "plt.plot(log1.sample_times(), inst_joule_power)\n",
    "print(\"max power used: \", np.max(inst_joule_power), \"W\")"
   ]
  },
  {
   "cell_type": "code",
   "execution_count": 149,
   "metadata": {},
   "outputs": [
    {
     "data": {
      "text/plain": [
       "array([0.0000e+00, 1.0000e-04, 2.0000e-04, ..., 4.9999e+00, 5.0000e+00,\n",
       "       5.0000e+00])"
      ]
     },
     "execution_count": 149,
     "metadata": {},
     "output_type": "execute_result"
    }
   ],
   "source": [
    "log1.sample_times()"
   ]
  },
  {
   "cell_type": "code",
   "execution_count": 150,
   "metadata": {},
   "outputs": [],
   "source": [
    "# Now make DIVAR3V compatible with xray-tool v0.0.3a and add these QoI\n",
    "# Add sphere for joint\n",
    "# Add dependency of motor mass on max-torque"
   ]
  },
  {
   "cell_type": "code",
   "execution_count": 151,
   "metadata": {},
   "outputs": [
    {
     "data": {
      "text/plain": [
       "366.14291226651324"
      ]
     },
     "execution_count": 151,
     "metadata": {},
     "output_type": "execute_result"
    }
   ],
   "source": [
    "38.342396111348336*60/(2*np.pi)"
   ]
  },
  {
   "cell_type": "code",
   "execution_count": null,
   "metadata": {},
   "outputs": [],
   "source": []
  }
 ],
 "metadata": {
  "colab": {
   "collapsed_sections": [],
   "name": "Robotic Manipulation - Let's get you a robot.ipynb",
   "provenance": [],
   "toc_visible": true
  },
  "interpreter": {
   "hash": "31f2aee4e71d21fbe5cf8b01ff0e069b9275f58929596ceb00d14d90e3e16cd6"
  },
  "kernelspec": {
   "display_name": "Python 3 (ipykernel)",
   "language": "python",
   "name": "python3"
  },
  "language_info": {
   "codemirror_mode": {
    "name": "ipython",
    "version": 3
   },
   "file_extension": ".py",
   "mimetype": "text/x-python",
   "name": "python",
   "nbconvert_exporter": "python",
   "pygments_lexer": "ipython3",
   "version": "3.8.11"
  }
 },
 "nbformat": 4,
 "nbformat_minor": 2
}
