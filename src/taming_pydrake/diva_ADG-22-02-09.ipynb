{
 "cells": [
  {
   "cell_type": "code",
   "execution_count": 2,
   "metadata": {},
   "outputs": [],
   "source": [
    "# Imports\n",
    "import numpy as np\n",
    "import altair as alt\n",
    "import pydot\n",
    "from IPython.display import display, SVG, clear_output, HTML\n",
    "import matplotlib.pyplot as plt\n",
    "\n",
    "from pydrake.all import *\n",
    "from pydrake.examples.manipulation_station import ManipulationStation\n",
    "\n",
    "from manipulation import running_as_notebook\n",
    "from manipulation.meshcat_cpp_utils import (\n",
    "    StartMeshcat, MeshcatJointSlidersThatPublish)\n",
    "from manipulation.scenarios import AddMultibodyTriad, SetColor\n",
    "\n",
    "import pandas as pd\n",
    "\n",
    "import torch\n",
    "import joblib\n",
    "import json"
   ]
  },
  {
   "cell_type": "code",
   "execution_count": 3,
   "metadata": {},
   "outputs": [
    {
     "data": {
      "text/html": [
       "Meshcat is now available at <a href=\"http://localhost:7001\">http://localhost:7001</a>"
      ],
      "text/plain": [
       "<IPython.core.display.HTML object>"
      ]
     },
     "metadata": {},
     "output_type": "display_data"
    }
   ],
   "source": [
    "# Start the visualizer.\n",
    "meshcat = StartMeshcat()"
   ]
  },
  {
   "cell_type": "code",
   "execution_count": 29,
   "metadata": {},
   "outputs": [],
   "source": [
    "def dv_sampled2dv_urdf(dv):\n",
    "    dv = list(dv)\n",
    "    # a1, a2, a3, a4, a5 + rho, s1, s2 + K, taumax, m_m, N, Pmax, Kd, a7\n",
    "    return [dv[0], dv[1]*dv[2], dv[1]*(1-dv[2]), dv[3]*dv[4], dv[3]*(1-dv[4])]+ [1050, 0.05, 0.1] +dv[5:]"
   ]
  },
  {
   "cell_type": "code",
   "execution_count": 30,
   "metadata": {},
   "outputs": [],
   "source": [
    "# Generating the URDF for DIVA-R1.1.2-D\n",
    "# Trying to load the URDF into drake\n",
    "# dv = []"
   ]
  },
  {
   "cell_type": "code",
   "execution_count": 31,
   "metadata": {},
   "outputs": [],
   "source": [
    "# class ActuatorBox(LeafSystem):\n",
    "#     def __init__(self, tau_max_dv, inst_power_max):\n",
    "#         LeafSystem.__init__(self)\n",
    "#         self.tau_max = tau_max_dv\n",
    "#         self.inst_power_max = inst_power_max\n",
    "#         self.DeclareVectorInputPort('commanded_torque', BasicVector(7))\n",
    "#         self.DeclareVectorInputPort('joint_state', BasicVector(14))\n",
    "#         self.DeclareVectorOutputPort('realised_torque', BasicVector(7), self.OutputJointTorque)\n",
    "        \n",
    "#     def OutputJointTorque(self, context, output):\n",
    "#         u = self.EvalVectorInput(context, 0).get_value()\n",
    "#         # Enforcing saturation with joint effort\n",
    "#         u = np.array(u)\n",
    "#         u_demanded = u\n",
    "#         # Bound control input with tau_max\n",
    "#         u[u>self.tau_max]=self.tau_max\n",
    "#         u[u<-self.tau_max]=-self.tau_max\n",
    "#         # Also check for instantaneous power delivered\n",
    "#         q = self.EvalVectorInput(context, 1).get_value()\n",
    "#         # Extract joint velocity\n",
    "#         qvel = np.array(q)[7:]\n",
    "#         # We need Kt and Kv to compute the power\n",
    "#         # Assuming them to be constant for now\n",
    "#         Kt = 0.068\n",
    "#         Kv = 140\n",
    "#         # Compute inst power demanded\n",
    "#         inst_power = np.abs(np.multiply(u, qvel))/(Kt*Kv)\n",
    "#         # Find joints which violate power \n",
    "#         if np.any(inst_power>=self.inst_power_max):\n",
    "#             pindex = np.where(inst_power >= self.inst_power_max)\n",
    "#             for i in pindex:\n",
    "#                 u[i] = self.inst_power_max/qvel[i]\n",
    "#         if np.any(qvel>=400):\n",
    "#             omega_index = np.where(qvel>=400)\n",
    "#             for i in omega_index:\n",
    "#                 u[i] = self.inst_power_max/qvel[i]\n",
    "            \n",
    "#         output.SetFromVector(u)\n",
    "\n",
    "\n",
    "# Defining the actuator box\n",
    "class ActuatorBox(LeafSystem):\n",
    "    def __init__(self, tau_max_dv, omega_max_dv, gear_ratio):\n",
    "        LeafSystem.__init__(self)\n",
    "        # Both the values are motor specific NOT joint specific\n",
    "        self.tau_max = tau_max_dv*gear_ratio\n",
    "        # Convert RPM of motor to joint velocity in rad/sec\n",
    "        self.omega_max = omega_max_dv*2*np.pi/60/gear_ratio\n",
    "        self.DeclareVectorInputPort('commanded_torque', BasicVector(7))\n",
    "        self.DeclareVectorInputPort('joint_state', BasicVector(14))\n",
    "        self.DeclareVectorOutputPort('realised_torque', BasicVector(7), self.OutputJointTorque)\n",
    "\n",
    "    def OutputJointTorque(self, context, output):\n",
    "        # Get the state values\n",
    "        q = self.EvalVectorInput(context, 1).get_value()\n",
    "        qvel = q[7:]\n",
    "        # Define a Kv (slope of plot between omega and tau)\n",
    "        u = self.EvalVectorInput(context, 0).get_value()\n",
    "        # Compute the instantaneous torque limit\n",
    "        kv = 1/50\n",
    "        u_new = np.copy(u)\n",
    "#         print('uold: ', u)\n",
    "#         print('qvel: ', qvel)\n",
    "        # Using URDF safety controller rules\n",
    "        for i in range(len(u)):\n",
    "            if qvel[i]>=0 and u[i]>=0:\n",
    "                u_bound = -kv*(qvel[i]-self.omega_max)\n",
    "                u_new[i] = np.minimum(u[i], u_bound)\n",
    "            if qvel[i]>=0 and u[i]<=0:\n",
    "                u_bound = -self.tau_max\n",
    "                u_new[i] = np.maximum(u[i], u_bound)\n",
    "            if qvel[i]<=0 and u[i]>=0:\n",
    "                u_bound = self.tau_max\n",
    "                u_new[i] = np.minimum(u[i], u_bound)\n",
    "            if qvel[i]<=0 and u[i]<=0:\n",
    "                u_bound = -(-kv*(np.abs(qvel[i])-self.omega_max))\n",
    "                u_new[i] = np.maximum(u[i], u_bound)\n",
    "#         print('unew: ', u_new)\n",
    "        output.SetFromVector(u)"
   ]
  },
  {
   "cell_type": "code",
   "execution_count": 32,
   "metadata": {},
   "outputs": [],
   "source": [
    "# Sample design from the DV space\n",
    "input_path = '~/git/research/xray/src/problems/DIVAR3V/input/'\n",
    "dv_frame = pd.read_csv(input_path+'dv_space.csv')\n",
    "qoi = pd.read_csv(input_path+'qoi_space.csv')\n",
    "\n",
    "def sample_variables(dv):\n",
    "    dv_samples = pd.DataFrame(np.random.uniform(dv.Lower, dv.Upper, (1, len(dv))),columns=dv.Variables)\n",
    "    return dv_samples"
   ]
  },
  {
   "cell_type": "code",
   "execution_count": 33,
   "metadata": {},
   "outputs": [],
   "source": [
    "# Loading the models\n",
    "clf = joblib.load('../../../xray/src/problems/DIVAR3VMM/library/feasibility_classifier.pkl')\n",
    "# Load the scales\n",
    "fit_file = open('../../../xray/src/problems/DIVAR3VMM/library/mean_and_scale.json')\n",
    "fit_params = json.load(fit_file)\n",
    "fit_file.close()"
   ]
  },
  {
   "cell_type": "code",
   "execution_count": 34,
   "metadata": {},
   "outputs": [
    {
     "name": "stdout",
     "output_type": "stream",
     "text": [
      "taumax:  30.0\n",
      "pmax:  163.8995\n",
      "Kp_sample:  16.0\n",
      "Kd_sample:  4.52\n",
      "gear_ratio:  30.0\n",
      "stiffness_vals:  [6.46e+02 6.90e+07 5.60e+07]\n",
      "./urdfs/divar3v7308465156.urdf\n",
      "[1.848000e-01 3.646000e-01 5.000000e-01 3.600000e-01 5.000000e-01\n",
      " 1.600000e+01 3.000000e+01 1.000000e-01 3.000000e+01 1.638995e+02\n",
      " 4.520000e+00 2.000000e-01 6.460000e+02 6.900000e+07 5.600000e+07]\n"
     ]
    }
   ],
   "source": [
    "# a1, lua, a23_distr, lfa, a45_distr, K, taumax, m_m, N, Pmax, Kd, a7\n",
    "# sample_dv_frame = sample_variables(dv_frame)\n",
    "# dv = sample_dv_frame.values.tolist()[0]\n",
    "# print(sample_dv_frame)\n",
    "# print(sample_dv)\n",
    "# a1, lua, a23_distr, lfa, a45_distr, K, taumax, m_m, N, Pmax, Kd, a7, k11, k22, k33\n",
    "dv = [1.84800000e-01, 3.64600000e-01, 5.00000000e-01, 3.60000000e-01,\n",
    " 5.00000000e-01, 1.60000000e+01, 3.00000000e+01, 1.00000000e-01,\n",
    " 30, 1.63899500e+02, 4.52000000e+00, 2.00000000e-01,\n",
    " 6.4600e+02, 6.9e+07, 5.6e+07]\n",
    "# Round off to 4 decimals\n",
    "dv = np.round(dv,4)\n",
    "carti = np.array([-0.65, 0.2, 0.8])\n",
    "cartd = np.array([-0.25, 0.05,0.45])\n",
    "\n",
    "sim_time = qoi[qoi.Variables.str.match('tcycle')].Upper[0]\n",
    "error_threshold = 5e-3\n",
    "# Friction torque\n",
    "tau_mu = 5.3e-3\n",
    "b0 = 1.5e-5\n",
    "# Motor constant matrix\n",
    "km = 0.14\n",
    "\n",
    "# a1, lua, a23_distr, lfa, a45_distr, K, taumax, m_m, N, Pmax, Kd, a7\n",
    "taumax = dv[6]\n",
    "# taumax = 10\n",
    "pmax = dv[9]\n",
    "Kp_sample = dv[5]\n",
    "Kd_sample = dv[10]\n",
    "# Kd_sample = 3\n",
    "# Kd_sample = 2*np.sqrt(Kp_sample)\n",
    "gear_ratio = dv[8]\n",
    "kvals = dv[12:15]\n",
    "\n",
    "print('taumax: ', taumax)\n",
    "print('pmax: ', pmax)\n",
    "print('Kp_sample: ', Kp_sample)\n",
    "print('Kd_sample: ', Kd_sample)\n",
    "print('gear_ratio: ', gear_ratio)\n",
    "print('stiffness_vals: ', kvals)\n",
    "\n",
    "# Run this every time a new URDF is to be created\n",
    "# Clear kernel every time urdf_creator is changed\n",
    "import sys\n",
    "sys.path.append('../../../xray/src/problems/DIVAR3V/library')\n",
    "from urdf_creator import *\n",
    "save_path = './urdfs/'\n",
    "urdf_path = urdf_creator(dv, path = save_path)\n",
    "print(urdf_path)\n",
    "print(dv)\n",
    "# Now modify dv to get link lengths\n",
    "dv = dv_sampled2dv_urdf(dv)"
   ]
  },
  {
   "cell_type": "code",
   "execution_count": 35,
   "metadata": {},
   "outputs": [
    {
     "name": "stdout",
     "output_type": "stream",
     "text": [
      "[1. 1. 1. 1. 1.]\n"
     ]
    }
   ],
   "source": [
    "# Check feasibility of the design\n",
    "link_lengths = np.array(dv)[:5]\n",
    "input_list = np.c_[np.array([kvals,]*5), link_lengths*1000]\n",
    "input_list_torch = torch.from_numpy(input_list)\n",
    "feas_mean = np.array(fit_params['feas_data']['mean'])\n",
    "feas_scale = np.array(fit_params['feas_data']['scale'])\n",
    "# Scale this value based on the fit_params\n",
    "norm_input_list = (input_list_torch-feas_mean)/feas_scale\n",
    "# Now predict output\n",
    "pred_feas = clf.predict(norm_input_list.cpu().numpy())\n",
    "print(pred_feas)"
   ]
  },
  {
   "cell_type": "code",
   "execution_count": 42,
   "metadata": {},
   "outputs": [],
   "source": [
    "meshcat.Delete()\n",
    "meshcat.DeleteAddedControls()\n",
    "\n",
    "urdf_path = './urdfs/DIVAR2V/urdf/DIVAR2V.urdf'\n",
    "\n",
    "builder = DiagramBuilder()\n",
    "time_step = 1e-4\n",
    "plant, scene_graph = AddMultibodyPlantSceneGraph(builder, time_step=time_step)\n",
    "model = Parser(plant, scene_graph).AddModelFromFile(urdf_path, 'diva_robot')\n",
    "# Set robot near table\n",
    "X_R = RigidTransform(RotationMatrix.MakeYRotation(-np.pi/2), np.array([-0.1, 0.5, 1]))\n",
    "plant.WeldFrames(plant.world_frame(), plant.get_body(plant.GetBodyIndices(model)[0]).body_frame(), X_R)\n",
    "# Set sphere to desired position\n",
    "sphere = Parser(plant, scene_graph).AddModelFromFile('./urdfs/helper/sphere.urdf','sphere')\n",
    "X_R = RigidTransform(RotationMatrix(RollPitchYaw([0, 0, 0])), cartd)\n",
    "plant.WeldFrames(plant.world_frame(), plant.get_body(plant.GetBodyIndices(sphere)[0]).body_frame(), X_R)\n",
    "plant.Finalize()        \n",
    "actuator = builder.AddSystem(ActuatorBox(taumax, 550*gear_ratio, gear_ratio))"
   ]
  },
  {
   "cell_type": "code",
   "execution_count": 38,
   "metadata": {},
   "outputs": [],
   "source": [
    "# Draw the frames\n",
    "# for body_name in [\"base_link\", \"eef\", 'link1', 'link2', 'link3', 'link4', 'link5', 'link6']:\n",
    "# # for body_name in [\"base_link\", \"eef\"]:\n",
    "#     AddMultibodyTriad(plant.GetFrameByName(body_name, model), scene_graph)\n",
    "\n",
    "for body_name in [\"base_link\", \"elbow\", \"shoud2\", \"should1\", \"under arm\", \"upper arm\"]:\n",
    "# for body_name in [\"base_link\", \"eef\"]:\n",
    "    AddMultibodyTriad(plant.GetFrameByName(body_name, model), scene_graph)\n",
    "\n",
    "# Adds the MeshcatVisualizer and wires it to the SceneGraph.\n",
    "visualizer = MeshcatVisualizerCpp.AddToBuilder(builder, scene_graph, meshcat)\n",
    "\n",
    "Kp = np.full(7, Kp_sample)\n",
    "Ki = np.full(7, 0)\n",
    "Kd = np.full(7, Kd_sample)\n",
    "# Kd = np.full(7, 3)\n",
    "\n",
    "# iiwa_controller = builder.AddSystem(InverseDynamicsController(plant, Kp, Ki, Kd, False))\n",
    "# iiwa_controller.set_name(\"iiwa_controller\");\n",
    "# builder.Connect(plant.get_state_output_port(model),\n",
    "#                 iiwa_controller.get_input_port_estimated_state())\n",
    "\n",
    "# # Add a motor characteristics box here to define how the motor output would be based on the commanded control \n",
    "# builder.Connect(iiwa_controller.get_output_port_control(), \n",
    "#                 actuator.get_input_port(0))\n",
    "# builder.Connect(plant.get_state_output_port(model),\n",
    "#                 actuator.get_input_port(1))\n",
    "# builder.Connect(actuator.get_output_port(),  plant.get_actuation_input_port())\n",
    "\n",
    "# Connecting a data logger\n",
    "# Commanded torque\n",
    "# logger1 = LogVectorOutput(iiwa_controller.get_output_port_control(), builder)\n",
    "# # Joint state\n",
    "# logger2 = LogVectorOutput(plant.get_state_output_port(model), builder)\n",
    "# # Realised torque\n",
    "# logger3 = LogVectorOutput(actuator.get_output_port(), builder)\n",
    "\n",
    "diagram = builder.Build()"
   ]
  },
  {
   "cell_type": "code",
   "execution_count": 39,
   "metadata": {},
   "outputs": [],
   "source": [
    "#  SVG(pydot.graph_from_dot_data(diagram.GetGraphvizString())[0].create_svg())"
   ]
  },
  {
   "cell_type": "code",
   "execution_count": 40,
   "metadata": {},
   "outputs": [],
   "source": [
    "# diagram.set_name(\"diagram\")\n",
    "# HTML('<script src=\"https://unpkg.com/gojs/release/go.js\"></script>' + GenerateHtml(diagram))"
   ]
  },
  {
   "cell_type": "code",
   "execution_count": 41,
   "metadata": {},
   "outputs": [],
   "source": [
    "context = diagram.CreateDefaultContext()\n",
    "plant_context = plant.GetMyMutableContextFromRoot(context)\n",
    "# q0 = plant.GetPositions(plant_context)\n",
    "q0 = np.array([-0.88, -1, -0.9, 0.97, -0.31, 0.7, 0])\n",
    "# gripper_frame = plant.GetBodyByName(\"eef\").body_frame()\n",
    "\n",
    "\n",
    "diagram.Publish(context)"
   ]
  },
  {
   "cell_type": "code",
   "execution_count": 26,
   "metadata": {},
   "outputs": [
    {
     "ename": "NameError",
     "evalue": "name 'gripper_frame' is not defined",
     "output_type": "error",
     "traceback": [
      "\u001b[0;31m---------------------------------------------------------------------------\u001b[0m",
      "\u001b[0;31mNameError\u001b[0m                                 Traceback (most recent call last)",
      "Input \u001b[0;32mIn [26]\u001b[0m, in \u001b[0;36m<module>\u001b[0;34m\u001b[0m\n\u001b[1;32m      1\u001b[0m \u001b[38;5;66;03m# Find the average position\u001b[39;00m\n\u001b[1;32m      2\u001b[0m \u001b[38;5;66;03m# cart_int = (carti+cartd)/2.\u001b[39;00m\n\u001b[1;32m      3\u001b[0m \u001b[38;5;66;03m# print(cart_int)\u001b[39;00m\n\u001b[0;32m   (...)\u001b[0m\n\u001b[1;32m     19\u001b[0m \n\u001b[1;32m     20\u001b[0m \u001b[38;5;66;03m# Compute IK\u001b[39;00m\n\u001b[1;32m     21\u001b[0m ik \u001b[38;5;241m=\u001b[39m InverseKinematics(plant, plant_context)\n\u001b[1;32m     22\u001b[0m ik\u001b[38;5;241m.\u001b[39mAddPositionConstraint(\n\u001b[0;32m---> 23\u001b[0m             \u001b[43mgripper_frame\u001b[49m, [\u001b[38;5;241m0\u001b[39m, \u001b[38;5;241m0\u001b[39m, \u001b[38;5;241m0\u001b[39m], plant\u001b[38;5;241m.\u001b[39mworld_frame(), \n\u001b[1;32m     24\u001b[0m             carti, carti)\n\u001b[1;32m     25\u001b[0m prog \u001b[38;5;241m=\u001b[39m ik\u001b[38;5;241m.\u001b[39mget_mutable_prog()\n\u001b[1;32m     26\u001b[0m q \u001b[38;5;241m=\u001b[39m ik\u001b[38;5;241m.\u001b[39mq()\n",
      "\u001b[0;31mNameError\u001b[0m: name 'gripper_frame' is not defined"
     ]
    }
   ],
   "source": [
    "\n",
    "# Find the average position\n",
    "# cart_int = (carti+cartd)/2.\n",
    "# print(cart_int)\n",
    "# # Compute IK\n",
    "# ik = InverseKinematics(plant, plant_context)\n",
    "# ik.AddPositionConstraint(\n",
    "#             gripper_frame, [0, 0, 0], plant.world_frame(), \n",
    "#             cart_int, cart_int)\n",
    "# prog = ik.get_mutable_prog()\n",
    "# q = ik.q()\n",
    "# prog.AddQuadraticErrorCost(np.identity(len(q)), q0, q)\n",
    "# prog.SetInitialGuess(q, q0)\n",
    "# result = Solve(ik.prog())\n",
    "# q_int = result.GetSolution(ik.q())\n",
    "# # Condition the final angles to be between -pi and pi\n",
    "# q_int = (np.arctan2(np.sin(q_int), np.cos(q_int)))\n",
    "# print('init pose IK: ', result.is_success(),' ', q_int )\n",
    "# q_int = (np.arctan2(np.sin(q_int), np.cos(q_int)))\n",
    "\n",
    "# Compute IK\n",
    "ik = InverseKinematics(plant, plant_context)\n",
    "ik.AddPositionConstraint(\n",
    "            gripper_frame, [0, 0, 0], plant.world_frame(), \n",
    "            carti, carti)\n",
    "prog = ik.get_mutable_prog()\n",
    "q = ik.q()\n",
    "prog.AddQuadraticErrorCost(np.identity(len(q)), q0, q)\n",
    "prog.SetInitialGuess(q, q0)\n",
    "result = Solve(ik.prog())\n",
    "qinit = result.GetSolution(ik.q())\n",
    "# Condition the final angles to be between -pi and pi\n",
    "# qinit = (np.arctan2(np.sin(qinit), np.cos(qinit)))\n",
    "print('init pose IK: ', result.is_success(),' ', qinit )\n",
    "\n",
    "# Compute ik for pose-2\n",
    "ik = InverseKinematics(plant, plant_context)\n",
    "ik.AddPositionConstraint(\n",
    "            gripper_frame, [0, 0, 0], plant.world_frame(), \n",
    "            cartd, cartd)\n",
    "prog = ik.get_mutable_prog()\n",
    "q = ik.q()\n",
    "prog.AddQuadraticErrorCost(np.identity(len(q)), qinit, q)\n",
    "prog.SetInitialGuess(q, qinit)\n",
    "result = Solve(ik.prog())\n",
    "qd = result.GetSolution(ik.q())\n",
    "# Condition the final angles to be between -pi and pi\n",
    "# qd = (np.arctan2(np.sin(qd), np.cos(qd)))\n",
    "print('final pose IK: ', result.is_success(),' ', qd)\n",
    "# diagram.Publish(context)"
   ]
  },
  {
   "cell_type": "code",
   "execution_count": 24,
   "metadata": {},
   "outputs": [
    {
     "name": "stdout",
     "output_type": "stream",
     "text": [
      "force_projection:  [ 4.5         0.29513497  3.08036577  2.63363388  1.16086433  1.02021654\n",
      " -1.4736356 ]\n",
      "Gvec:  [-7.51494249  3.80095703 -3.11364944 -2.18084261 -0.36351187 -0.31948542\n",
      "  0.4591703 ]\n",
      "joint_torques:  [ 3.01494249 -4.096092    0.03328367 -0.45279127 -0.79735246 -0.70073112\n",
      "  1.0144653 ]\n",
      "4.09609199807516\n"
     ]
    }
   ],
   "source": [
    "# Check for applied force\n",
    "G = plant.GetBodyByName(\"eef\").body_frame()\n",
    "W = plant.world_frame()\n",
    "# If we can reach the final position, set that as the robots position\n",
    "plant.SetPositions(plant.GetMyContextFromRoot(context), model, qd)\n",
    "J_G = plant.CalcJacobianSpatialVelocity(plant_context, JacobianWrtVariable.kV, G, [0,0,0], W, W)\n",
    "# Required force in global frame\n",
    "force_applied = np.array([0,0,0,0,0,10])\n",
    "force_projection = np.matmul(J_G.transpose(), force_applied)\n",
    "print('force_projection: ', force_projection)\n",
    "\n",
    "# Calculate the gravity generalised forces\n",
    "Gvec = plant.CalcGravityGeneralizedForces(plant_context)\n",
    "print('Gvec: ', Gvec)\n",
    "joint_torques = -Gvec-force_projection\n",
    "\n",
    "print('joint_torques: ', joint_torques)\n",
    "print(np.max(np.abs(joint_torques)))\n",
    "# diagram.Publish(context)"
   ]
  },
  {
   "cell_type": "code",
   "execution_count": 25,
   "metadata": {},
   "outputs": [
    {
     "name": "stdout",
     "output_type": "stream",
     "text": [
      "force_projection:  [-6.47919947e-03  3.96736545e-19  1.95156391e-17 -5.61000000e+00\n",
      " -1.55583012e-16 -2.01000000e+00  8.57252689e-20]\n",
      "Gvec:  [-1.05903747e-02  6.48473426e-19  8.67361738e-19 -5.43293779e+00\n",
      " -2.16840434e-19 -6.29427632e-01  2.67111473e-20]\n",
      "joint_torques:  [ 1.70695742e-02 -1.04520997e-18 -2.03830008e-17  1.10429378e+01\n",
      "  1.55799852e-16  2.63942763e+00 -1.12436416e-19]\n",
      "11.04293778650625\n"
     ]
    }
   ],
   "source": [
    "G = plant.GetBodyByName(\"eef\").body_frame()\n",
    "# For payload computation\n",
    "fully_stretched = np.array([0,-1.57,0,0,0,0,0])\n",
    "plant.SetPositions(plant.GetMyContextFromRoot(context), model,\n",
    "              fully_stretched)\n",
    "J_G = plant.CalcJacobianSpatialVelocity(plant_context, JacobianWrtVariable.kV, G, [0,0,0], W, W)\n",
    "# Lift a weight of 10N (1kg payload)\n",
    "# Applied force should be in W frame\n",
    "force_applied = np.array([0,0,0,0,0,-10])\n",
    "force_projection = np.matmul(J_G.transpose(), force_applied)\n",
    "print('force_projection: ', force_projection)\n",
    "\n",
    "# Calculate the gravity generalised forces\n",
    "Gvec = plant.CalcGravityGeneralizedForces(plant_context)\n",
    "print('Gvec: ', Gvec)\n",
    "joint_torques = -Gvec-force_projection\n",
    "\n",
    "print('joint_torques: ', joint_torques)\n",
    "print(np.max(np.abs(joint_torques)))\n",
    "# diagram.Publish(context)"
   ]
  },
  {
   "cell_type": "code",
   "execution_count": 26,
   "metadata": {},
   "outputs": [],
   "source": [
    "# Modifying the robot to fully streteched\n",
    "qd = fully_stretched\n",
    "xd = np.hstack((qd, 0*qd))\n",
    "plant.SetPositions(plant_context, qinit)\n",
    "iiwa_controller.GetInputPort('desired_state').FixValue(\n",
    "iiwa_controller.GetMyMutableContextFromRoot(context), xd)\n",
    "diagram.Publish(context)"
   ]
  },
  {
   "cell_type": "code",
   "execution_count": 27,
   "metadata": {},
   "outputs": [],
   "source": [
    "simulator = Simulator(diagram, context)\n",
    "simulator.AdvanceTo(sim_time);"
   ]
  },
  {
   "cell_type": "code",
   "execution_count": 28,
   "metadata": {},
   "outputs": [],
   "source": [
    "# Now we want to get the simulation data, i.e., \n",
    "# the torque applied, final time and the \n",
    "log1 = logger1.FindLog(context)\n",
    "log2 = logger2.FindLog(context)\n",
    "log3 = logger3.FindLog(context)"
   ]
  },
  {
   "cell_type": "code",
   "execution_count": 29,
   "metadata": {},
   "outputs": [
    {
     "name": "stdout",
     "output_type": "stream",
     "text": [
      "3.602678490780743e-05\n"
     ]
    }
   ],
   "source": [
    "error = np.abs(log2.data()[:7,:].transpose() - np.tile(qd,(log3.data().shape[1],1)))\n",
    "e_norm = np.array([np.linalg.norm(val) for val in error])\n",
    "print(e_norm[-1])"
   ]
  },
  {
   "cell_type": "code",
   "execution_count": 34,
   "metadata": {},
   "outputs": [],
   "source": [
    "omega_j = []\n",
    "for i in range(log2.data().shape[1]):\n",
    "    omega_j.append(log2.data()[:,i][7:])\n",
    "omega_j = np.array(omega_j).transpose()\n",
    "omega_m = omega_j*gear_ratio\n",
    "# Convert the motor speed to RPM\n",
    "omega_m_rpm = omega_m*60/(2*np.pi)\n",
    "# Motor torque realised\n",
    "tau_m = log3.data()/gear_ratio\n",
    "# Costant matrix for tau->joule_loss\n",
    "K = 1/np.sqrt(km)*np.identity(7)\n",
    "Kt = 0.068\n",
    "Kv = 140"
   ]
  },
  {
   "cell_type": "code",
   "execution_count": 35,
   "metadata": {},
   "outputs": [
    {
     "name": "stdout",
     "output_type": "stream",
     "text": [
      "max RPM: 2.807605476384789\n"
     ]
    },
    {
     "data": {
      "image/png": "[encoded data removed]",
      "text/plain": [
       "<Figure size 432x288 with 1 Axes>"
      ]
     },
     "metadata": {
      "needs_background": "light"
     },
     "output_type": "display_data"
    }
   ],
   "source": [
    "# Angular angular velocity of the robot in RPM\n",
    "plt.plot(log2.sample_times(), omega_j[0, :], log2.sample_times(), omega_j[1, :],\\\n",
    "        log2.sample_times(), omega_j[2, :], log2.sample_times(), omega_j[3, :], \\\n",
    "        log2.sample_times(), omega_j[4, :], log2.sample_times(), omega_j[5, :], \\\n",
    "        log2.sample_times(), omega_j[6, :])\n",
    "print('max RPM:', np.max(np.abs(omega_j)))"
   ]
  },
  {
   "cell_type": "code",
   "execution_count": 32,
   "metadata": {},
   "outputs": [
    {
     "name": "stdout",
     "output_type": "stream",
     "text": [
      "max RPM: 804.3197216733267\n"
     ]
    },
    {
     "data": {
      "image/png": "[encoded data removed]",
      "text/plain": [
       "<Figure size 432x288 with 1 Axes>"
      ]
     },
     "metadata": {
      "needs_background": "light"
     },
     "output_type": "display_data"
    }
   ],
   "source": [
    "# Angular angular velocity of the robot in RPM\n",
    "plt.plot(log2.sample_times(), omega_m_rpm[0, :], log2.sample_times(), omega_m_rpm[1, :],\\\n",
    "        log2.sample_times(), omega_m_rpm[2, :], log2.sample_times(), omega_m_rpm[3, :], \\\n",
    "        log2.sample_times(), omega_m_rpm[4, :], log2.sample_times(), omega_m_rpm[5, :], \\\n",
    "        log2.sample_times(), omega_m_rpm[6, :])\n",
    "print('max RPM:', np.max(np.abs(omega_m_rpm)))"
   ]
  },
  {
   "cell_type": "code",
   "execution_count": 36,
   "metadata": {},
   "outputs": [],
   "source": [
    "# Total power loss\n",
    "inst_friction_power = []\n",
    "inst_joule_power = []\n",
    "for i in range(len(log3.sample_times())):\n",
    "    omega_inst = omega_m[:, i]\n",
    "    tau_f = tau_mu*np.sign(omega_inst)+b0*omega_inst\n",
    "    P_f = np.dot(tau_f, omega_inst)\n",
    "    inst_friction_power.append(P_f)\n",
    "    tau_t = tau_f+tau_m[:, i]\n",
    "    P_t = np.dot(K.dot(tau_t), tau_t)\n",
    "    inst_joule_power.append(P_t)"
   ]
  },
  {
   "cell_type": "code",
   "execution_count": 37,
   "metadata": {},
   "outputs": [
    {
     "name": "stdout",
     "output_type": "stream",
     "text": [
      "total_friction_loss:  1.2354427724031691\n",
      "total_joule_loss:  0.6295205294735872\n"
     ]
    }
   ],
   "source": [
    "# Figure out how to compute these losses correctly!!!\n",
    "total_friction_loss = np.sum(inst_friction_power)*time_step\n",
    "total_joule_loss = np.sum(inst_joule_power)*time_step\n",
    "print('total_friction_loss: ', total_friction_loss)\n",
    "print('total_joule_loss: ', total_joule_loss)"
   ]
  },
  {
   "cell_type": "code",
   "execution_count": 38,
   "metadata": {},
   "outputs": [
    {
     "data": {
      "text/plain": [
       "3.602678490780743e-05"
      ]
     },
     "execution_count": 38,
     "metadata": {},
     "output_type": "execute_result"
    }
   ],
   "source": [
    "# Final state of the robot\n",
    "np.linalg.norm(qd-(log2.data()[:7, -1]))"
   ]
  },
  {
   "cell_type": "code",
   "execution_count": 39,
   "metadata": {},
   "outputs": [
    {
     "data": {
      "image/png": "[encoded data removed]",
      "text/plain": [
       "<Figure size 432x288 with 1 Axes>"
      ]
     },
     "metadata": {
      "needs_background": "light"
     },
     "output_type": "display_data"
    },
    {
     "data": {
      "image/png": "[encoded data removed]",
      "text/plain": [
       "<Figure size 432x288 with 1 Axes>"
      ]
     },
     "metadata": {
      "needs_background": "light"
     },
     "output_type": "display_data"
    }
   ],
   "source": [
    "fig = plt.figure();\n",
    "plt.plot(log1.sample_times(), log1.data()[0, :], log1.sample_times(), log1.data()[1, :],\\\n",
    "        log1.sample_times(), log1.data()[2, :], log1.sample_times(), log1.data()[3, :], \\\n",
    "        log1.sample_times(), log1.data()[4, :], log1.sample_times(), log1.data()[5, :], \\\n",
    "        log1.sample_times(), log1.data()[6, :]);\n",
    "\n",
    "fig = plt.figure();\n",
    "plt.plot(log3.sample_times(), log3.data()[0, :], log3.sample_times(), log3.data()[1, :],\\\n",
    "        log3.sample_times(), log3.data()[2, :], log3.sample_times(), log3.data()[3, :], \\\n",
    "        log3.sample_times(), log3.data()[4, :], log3.sample_times(), log3.data()[5, :], \\\n",
    "        log3.sample_times(), log3.data()[6, :]);"
   ]
  },
  {
   "cell_type": "code",
   "execution_count": 40,
   "metadata": {},
   "outputs": [
    {
     "data": {
      "image/png": "[encoded data removed]",
      "text/plain": [
       "<Figure size 432x288 with 1 Axes>"
      ]
     },
     "metadata": {
      "needs_background": "light"
     },
     "output_type": "display_data"
    }
   ],
   "source": [
    "error = np.abs(log2.data()[:7,:].transpose() - np.tile(qd,(log3.data().shape[1],1)))\n",
    "plt.plot(error);"
   ]
  },
  {
   "cell_type": "code",
   "execution_count": 41,
   "metadata": {},
   "outputs": [
    {
     "name": "stdout",
     "output_type": "stream",
     "text": [
      "24449\n",
      "2.4331\n"
     ]
    }
   ],
   "source": [
    "e_norm = np.array([np.linalg.norm(val) for val in error])\n",
    "for i in range(len(e_norm)):\n",
    "    if np.all(e_norm[i:]<5e-3):\n",
    "        print(i)\n",
    "        break\n",
    "\n",
    "ts = log2.sample_times()[i]\n",
    "print(ts)"
   ]
  },
  {
   "cell_type": "code",
   "execution_count": 42,
   "metadata": {},
   "outputs": [
    {
     "name": "stdout",
     "output_type": "stream",
     "text": [
      "13.797071634096064\n",
      "13.797071634096064\n"
     ]
    }
   ],
   "source": [
    "# Max torque required\n",
    "# We can enforce max torque requirements at each joint in the URDF itself\n",
    "print(np.max(np.abs(log1.data())))\n",
    "print(np.max(np.abs(log3.data())))"
   ]
  },
  {
   "cell_type": "code",
   "execution_count": 47,
   "metadata": {},
   "outputs": [],
   "source": [
    "inst_power_m = []\n",
    "Kt = 0.068\n",
    "Kv = 140\n",
    "for i in range(len(log3.sample_times())):\n",
    "    # Compute inst power demanded\n",
    "#     inst_power_m.append(np.abs(np.multiply(tau_m[:,i], omega_m_rpm[:,i]))/(Kt*Kv))\n",
    "    inst_power_m.append(np.multiply(tau_m[:,i], omega_m_rpm[:,i])/(Kt*Kv))"
   ]
  },
  {
   "cell_type": "code",
   "execution_count": 49,
   "metadata": {},
   "outputs": [
    {
     "name": "stdout",
     "output_type": "stream",
     "text": [
      "max power used:  12.144389223560262 W\n"
     ]
    },
    {
     "data": {
      "image/png": "[encoded data removed]",
      "text/plain": [
       "<Figure size 432x288 with 1 Axes>"
      ]
     },
     "metadata": {
      "needs_background": "light"
     },
     "output_type": "display_data"
    }
   ],
   "source": [
    "# The joule losses feel very high, is this common or is\n",
    "plt.plot(log3.sample_times(), inst_power_m)\n",
    "print(\"max power used: \", np.max(np.abs(inst_power_m)), \"W\")"
   ]
  },
  {
   "cell_type": "code",
   "execution_count": 50,
   "metadata": {
    "scrolled": true
   },
   "outputs": [
    {
     "name": "stdout",
     "output_type": "stream",
     "text": [
      "max power used:  0.9469464321766676 W\n"
     ]
    },
    {
     "data": {
      "image/png": "[encoded data removed]",
      "text/plain": [
       "<Figure size 432x288 with 1 Axes>"
      ]
     },
     "metadata": {
      "needs_background": "light"
     },
     "output_type": "display_data"
    }
   ],
   "source": [
    "# The joule losses feel very high, is this common or is\n",
    "plt.plot(log1.sample_times(), inst_joule_power)\n",
    "print(\"max power used: \", np.max(inst_joule_power), \"W\")"
   ]
  },
  {
   "cell_type": "code",
   "execution_count": null,
   "metadata": {},
   "outputs": [],
   "source": [
    "print(total_friction_loss)\n",
    "print(total_joule_loss)"
   ]
  },
  {
   "cell_type": "code",
   "execution_count": null,
   "metadata": {},
   "outputs": [],
   "source": [
    "# Compute cost\n",
    "print(1+1+1+ts+total_friction_loss+total_joule_loss)"
   ]
  },
  {
   "cell_type": "code",
   "execution_count": 6,
   "metadata": {},
   "outputs": [
    {
     "name": "stdout",
     "output_type": "stream",
     "text": [
      "gripper position (m): [-0.08 0.30 0.85]\n",
      "gripper roll-pitch-yaw (rad):[2.91 -1.15 -0.22]\n",
      "pose rotation:  RotationMatrix([\n",
      "  [0.3963517388769562, -0.41764356614187936, 0.8176057428550183],\n",
      "  [-0.0882695622840001, -0.90375158954275, -0.4188574325151014],\n",
      "  [0.9138456015451428, 0.09384517067620039, -0.39506872880215493],\n",
      "])\n"
     ]
    }
   ],
   "source": [
    "def gripper_forward_kinematics_example():\n",
    "    urdf_path = './urdfs/DIVAR2V/urdf/DIVAR2V.urdf'\n",
    "    builder = DiagramBuilder()\n",
    "    plant, scene_graph = AddMultibodyPlantSceneGraph(builder, time_step=1e-4)\n",
    "    model = Parser(plant, scene_graph).AddModelFromFile(urdf_path, 'diva_robot')\n",
    "    # Transform for the robot location\n",
    "    X_R = RigidTransform(RotationMatrix.MakeYRotation(0), np.array([-0.1, 0.5, 1.25]))\n",
    "#     X_R = RigidTransform(RotationMatrix(RollPitchYaw([0.8, -0.8, 0])), np.array([-0.1, 0.5, 1]))\n",
    "    plant.WeldFrames(plant.world_frame(), plant.get_body(plant.GetBodyIndices(model)[0]).body_frame(), X_R)\n",
    "    # Spawn table\n",
    "    table = Parser(plant, scene_graph).AddModelFromFile('./urdfs/table/extra_heavy_duty_table_modified.sdf','table')\n",
    "    # Spawn spherical work piece\n",
    "    sphere = Parser(plant, scene_graph).AddModelFromFile('./urdfs/helper/sphere.urdf','sphere')\n",
    "    # Place the sphere at the center of the table\n",
    "    # Length, width and height and thickness of the table\n",
    "    # 1.39, 0.762, 0.736, 0.057\n",
    "    # Sphere radius -- Can be made a design variable\n",
    "    # 0.15\n",
    "    # We can sample end-points on the surface of the sphere\n",
    "    X_R = RigidTransform(RotationMatrix(RollPitchYaw([0, 0, 0])), np.array([0, 0, 0.736]))\n",
    "    plant.WeldFrames(plant.world_frame(), plant.get_body(plant.GetBodyIndices(sphere)[0]).body_frame(), X_R)\n",
    "\n",
    "    plant.Finalize()\n",
    "    \n",
    "    end_frame = \"eef\"\n",
    "    \n",
    "    # Draw the frames\n",
    "    for body_name in [\"base_link\", end_frame]:\n",
    "        AddMultibodyTriad(plant.GetFrameByName(body_name, model), scene_graph)\n",
    "\n",
    "    meshcat.Delete()\n",
    "    meshcat.DeleteAddedControls()\n",
    "\n",
    "    visualizer = MeshcatVisualizerCpp.AddToBuilder(builder, scene_graph, meshcat)\n",
    "\n",
    "    diagram = builder.Build()\n",
    "    context = diagram.CreateDefaultContext()\n",
    "\n",
    "#     plant.SetPositions(plant.GetMyContextFromRoot(context),\n",
    "#                   plant.GetModelInstanceByName(\"diva_robot\"),\n",
    "#                   [-3.54, -2.33, -1.49, -1.62, -0.97, -0.19, 0.47])\n",
    "#     plant.SetPositions(plant.GetMyContextFromRoot(context),\n",
    "#                   plant.GetModelInstanceByName(\"diva_robot\"),\n",
    "#                   fully_stretched)\n",
    "    \n",
    "    gripper = plant.GetBodyByName(end_frame)\n",
    "    def pose_callback(context):\n",
    "        pose = plant.EvalBodyPoseInWorld(context, gripper)   ## This is the important line\n",
    "        print(pose.translation())\n",
    "        clear_output(wait=True)\n",
    "        print(\"gripper position (m): \" + np.array2string(\n",
    "            pose.translation(), formatter={\n",
    "                'float': lambda x: \"{:3.2f}\".format(x)}))\n",
    "        print(\"gripper roll-pitch-yaw (rad):\" + np.array2string(\n",
    "            RollPitchYaw(pose.rotation()).vector(),\n",
    "                         formatter={'float': lambda x: \"{:3.2f}\".format(x)}))\n",
    "        print(\"pose rotation: \", pose.rotation())\n",
    "    sliders = MeshcatJointSlidersThatPublish(meshcat, plant, visualizer, context)\n",
    "    # sliders.Run()\n",
    "    sliders.Run(pose_callback)\n",
    "\n",
    "gripper_forward_kinematics_example()"
   ]
  },
  {
   "cell_type": "code",
   "execution_count": null,
   "metadata": {},
   "outputs": [],
   "source": [
    "# robot_base_pos = np.array([0, 0, 0.736])\n",
    "# Pose-1\n",
    "# cart_pos = np.array([-0.21, 0.18, 1.1])\n",
    "# ori_pos = np.array([-2.93, -0.88, -1.09])\n",
    "# Pose-2\n",
    "# cart_pos = np.array([-0.25, 0.33, 0.94])\n",
    "# ori_pos = np.array([-2.8, -0.60, -0.87])"
   ]
  }
 ],
 "metadata": {
  "colab": {
   "collapsed_sections": [],
   "name": "Robotic Manipulation - Let's get you a robot.ipynb",
   "provenance": [],
   "toc_visible": true
  },
  "interpreter": {
   "hash": "31f2aee4e71d21fbe5cf8b01ff0e069b9275f58929596ceb00d14d90e3e16cd6"
  },
  "kernelspec": {
   "display_name": "Python 3 (ipykernel)",
   "language": "python",
   "name": "python3"
  },
  "language_info": {
   "codemirror_mode": {
    "name": "ipython",
    "version": 3
   },
   "file_extension": ".py",
   "mimetype": "text/x-python",
   "name": "python",
   "nbconvert_exporter": "python",
   "pygments_lexer": "ipython3",
   "version": "3.8.5"
  }
 },
 "nbformat": 4,
 "nbformat_minor": 2
}
