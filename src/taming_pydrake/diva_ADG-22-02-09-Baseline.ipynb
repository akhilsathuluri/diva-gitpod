{
 "cells": [
  {
   "cell_type": "code",
   "execution_count": 1,
   "metadata": {},
   "outputs": [],
   "source": [
    "# Imports\n",
    "import numpy as np\n",
    "import altair as alt\n",
    "import pydot\n",
    "from IPython.display import display, SVG, clear_output, HTML\n",
    "import matplotlib.pyplot as plt\n",
    "\n",
    "from pydrake.all import *\n",
    "from pydrake.examples.manipulation_station import ManipulationStation\n",
    "\n",
    "from manipulation import running_as_notebook\n",
    "from manipulation.meshcat_cpp_utils import (\n",
    "    StartMeshcat, MeshcatJointSlidersThatPublish)\n",
    "from manipulation.scenarios import AddMultibodyTriad, SetColor\n",
    "\n",
    "import pandas as pd\n",
    "\n",
    "import torch\n",
    "import joblib\n",
    "import json"
   ]
  },
  {
   "cell_type": "code",
   "execution_count": 2,
   "metadata": {},
   "outputs": [
    {
     "data": {
      "text/html": [
       "Meshcat is now available at <a href=\"http://localhost:7002\">http://localhost:7002</a>"
      ],
      "text/plain": [
       "<IPython.core.display.HTML object>"
      ]
     },
     "metadata": {},
     "output_type": "display_data"
    }
   ],
   "source": [
    "# Start the visualizer.\n",
    "meshcat = StartMeshcat()"
   ]
  },
  {
   "cell_type": "code",
   "execution_count": 3,
   "metadata": {},
   "outputs": [],
   "source": [
    "# Define the number of actuators\n",
    "na = 5\n",
    "# To set\n",
    "# kv, Kt, km, Kv, tau_mu, b0"
   ]
  },
  {
   "cell_type": "code",
   "execution_count": 4,
   "metadata": {},
   "outputs": [],
   "source": [
    "# Defining the actuator box\n",
    "class ActuatorBox(LeafSystem):\n",
    "    def __init__(self, tau_max_dv, omega_max_dv, gear_ratio):\n",
    "        LeafSystem.__init__(self)\n",
    "        # Both the values are motor specific NOT joint specific\n",
    "        self.tau_max = tau_max_dv*gear_ratio\n",
    "        # Convert RPM of motor to joint velocity in rad/sec\n",
    "        self.omega_max = omega_max_dv*2*np.pi/60/gear_ratio\n",
    "        self.DeclareVectorInputPort('commanded_torque', BasicVector(na))\n",
    "        self.DeclareVectorInputPort('joint_state', BasicVector(2*na))\n",
    "        self.DeclareVectorOutputPort('realised_torque', BasicVector(na), self.OutputJointTorque)\n",
    "\n",
    "    def OutputJointTorque(self, context, output):\n",
    "        # Get the state values\n",
    "        q = self.EvalVectorInput(context, 1).get_value()\n",
    "        qvel = q[na:]\n",
    "        # Define a Kv (slope of plot between omega and tau)\n",
    "        u = self.EvalVectorInput(context, 0).get_value()\n",
    "        # Compute the instantaneous torque limit\n",
    "        # For the AK-70-10 motors\n",
    "        kv = 0.111\n",
    "        u_new = np.copy(u)\n",
    "#         print('uold: ', u)\n",
    "#         print('qvel: ', qvel)\n",
    "        # Using URDF safety controller rules\n",
    "        for i in range(len(u)):\n",
    "            if qvel[i]>=0 and u[i]>=0:\n",
    "                u_bound = -kv*(qvel[i]-self.omega_max)\n",
    "                u_new[i] = np.minimum(u[i], u_bound)\n",
    "            if qvel[i]>=0 and u[i]<=0:\n",
    "                u_bound = -self.tau_max\n",
    "                u_new[i] = np.maximum(u[i], u_bound)\n",
    "            if qvel[i]<=0 and u[i]>=0:\n",
    "                u_bound = self.tau_max\n",
    "                u_new[i] = np.minimum(u[i], u_bound)\n",
    "            if qvel[i]<=0 and u[i]<=0:\n",
    "                u_bound = -(-kv*(np.abs(qvel[i])-self.omega_max))\n",
    "                u_new[i] = np.maximum(u[i], u_bound)\n",
    "#         print('unew: ', u_new)\n",
    "        output.SetFromVector(u)"
   ]
  },
  {
   "cell_type": "code",
   "execution_count": 5,
   "metadata": {},
   "outputs": [
    {
     "name": "stdout",
     "output_type": "stream",
     "text": [
      "taumax:  0.8300000000000001\n",
      "omegamax:  4750\n",
      "Kp_sample:  3\n",
      "Kd_sample:  3.4641016151377544\n",
      "gear_ratio:  10\n"
     ]
    }
   ],
   "source": [
    "# Define task variables\n",
    "carti = np.array([-0.65, 0.2, 0.8])\n",
    "cartd = np.array([-0.25, 0.05,0.45])\n",
    "\n",
    "sim_time = 5\n",
    "error_threshold = 5e-3\n",
    "# Friction torque\n",
    "tau_mu = 5.3e-3\n",
    "b0 = 1.5e-5\n",
    "# Motor constant matrix\n",
    "km = 0.19\n",
    "# Costant matrix for tau->joule_loss\n",
    "K = 1/np.sqrt(km)*np.identity(na)\n",
    "Kt = 0.095\n",
    "Kv = 100\n",
    "\n",
    "# Define other variables\n",
    "Kp_sample = 3\n",
    "Kd_sample = 2*np.sqrt(Kp_sample)\n",
    "gear_ratio = 10\n",
    "# motor values\n",
    "taumax = 8.3/gear_ratio\n",
    "omegamax = 475*gear_ratio\n",
    "\n",
    "print('taumax: ', taumax)\n",
    "print('omegamax: ', omegamax)\n",
    "print('Kp_sample: ', Kp_sample)\n",
    "print('Kd_sample: ', Kd_sample)\n",
    "print('gear_ratio: ', gear_ratio)\n",
    "\n",
    "urdf_path = './urdfs/DIVAR2V/urdf/DIVAR2V.urdf'"
   ]
  },
  {
   "cell_type": "code",
   "execution_count": 6,
   "metadata": {
    "scrolled": true
   },
   "outputs": [],
   "source": [
    "meshcat.Delete()\n",
    "meshcat.DeleteAddedControls()\n",
    "\n",
    "builder = DiagramBuilder()\n",
    "time_step = 1e-4\n",
    "plant, scene_graph = AddMultibodyPlantSceneGraph(builder, time_step=time_step)\n",
    "model = Parser(plant, scene_graph).AddModelFromFile(urdf_path, 'diva_robot')\n",
    "# Set robot near table\n",
    "X_R = RigidTransform(RotationMatrix.MakeYRotation(0), np.array([-0.1, 0.5, 1]))\n",
    "plant.WeldFrames(plant.world_frame(), plant.get_body(plant.GetBodyIndices(model)[0]).body_frame(), X_R)\n",
    "# Set sphere to desired position\n",
    "sphere = Parser(plant, scene_graph).AddModelFromFile('./urdfs/helper/sphere.urdf','sphere')\n",
    "X_R = RigidTransform(RotationMatrix(RollPitchYaw([0, 0, 0])), cartd)\n",
    "plant.WeldFrames(plant.world_frame(), plant.get_body(plant.GetBodyIndices(sphere)[0]).body_frame(), X_R)\n",
    "plant.Finalize()        \n",
    "actuator = builder.AddSystem(ActuatorBox(taumax, 550*gear_ratio, gear_ratio))"
   ]
  },
  {
   "cell_type": "code",
   "execution_count": 7,
   "metadata": {},
   "outputs": [],
   "source": [
    "# Draw the frames\n",
    "for body_name in [\"base_link\", \"eef\"]:\n",
    "#     for body_name in [\"base_link\", \"elbow\", \"shoud2\", \"should1\", \"under arm\", \"upper arm\", \"eef\"]:\n",
    "    AddMultibodyTriad(plant.GetFrameByName(body_name, model), scene_graph)\n",
    "\n",
    "# Adds the MeshcatVisualizer and wires it to the SceneGraph.\n",
    "visualizer = MeshcatVisualizerCpp.AddToBuilder(builder, scene_graph, meshcat)\n",
    "\n",
    "Kp = np.full(na, Kp_sample)\n",
    "Ki = np.full(na, 0)\n",
    "Kd = np.full(na, Kd_sample)\n",
    "\n",
    "iiwa_controller = builder.AddSystem(InverseDynamicsController(plant, Kp, Ki, Kd, False))\n",
    "iiwa_controller.set_name(\"iiwa_controller\");\n",
    "builder.Connect(plant.get_state_output_port(model),\n",
    "                iiwa_controller.get_input_port_estimated_state())\n",
    "\n",
    "# Add a motor characteristics box here to define how the motor output would be based on the commanded control \n",
    "builder.Connect(iiwa_controller.get_output_port_control(), \n",
    "                actuator.get_input_port(0))\n",
    "builder.Connect(plant.get_state_output_port(model),\n",
    "                actuator.get_input_port(1))\n",
    "builder.Connect(actuator.get_output_port(),  plant.get_actuation_input_port())\n",
    "\n",
    "# Connecting a data logger\n",
    "# Commanded torque\n",
    "logger1 = LogVectorOutput(iiwa_controller.get_output_port_control(), builder)\n",
    "# Joint state\n",
    "logger2 = LogVectorOutput(plant.get_state_output_port(model), builder)\n",
    "# Realised torque\n",
    "logger3 = LogVectorOutput(actuator.get_output_port(), builder)\n",
    "\n",
    "diagram = builder.Build()"
   ]
  },
  {
   "cell_type": "code",
   "execution_count": 8,
   "metadata": {},
   "outputs": [],
   "source": [
    "context = diagram.CreateDefaultContext()\n",
    "plant_context = plant.GetMyMutableContextFromRoot(context)\n",
    "# q0 = plant.GetPositions(plant_context)\n",
    "q0 = np.array([-0.88, -1, -0.9, 0.97, -0.31])\n",
    "gripper_frame = plant.GetBodyByName(\"eef\").body_frame()\n",
    "# diagram.Publish(context)"
   ]
  },
  {
   "cell_type": "code",
   "execution_count": 9,
   "metadata": {},
   "outputs": [
    {
     "name": "stdout",
     "output_type": "stream",
     "text": [
      "force_projection:  [ 4.65723743 -0.50353766  1.65680293 -0.66971913  0.        ]\n",
      "Gvec:  [-2.54076345e+00  5.17086855e-02 -2.11697360e-01  8.52435436e-02\n",
      " -1.09620408e-05]\n",
      "joint_torques:  [-2.11647398e+00  4.51828973e-01 -1.44510557e+00  5.84475586e-01\n",
      "  1.09620408e-05]\n",
      "2.1164739762907265\n"
     ]
    }
   ],
   "source": [
    "# Or define desired positions in joint space since we have only one robot here\n",
    "qi = np.array([2.83, 0.02, 2.58, -0.55, 0.44])\n",
    "qd = np.array([2.16, 0.19, 2.87, -0.42, -0.28])\n",
    "\n",
    "# Check for applied force\n",
    "G = plant.GetBodyByName(\"eef\").body_frame()\n",
    "W = plant.world_frame()\n",
    "# If we can reach the final position, set that as the robots position\n",
    "plant.SetPositions(plant.GetMyContextFromRoot(context), model, qi)\n",
    "J_G = plant.CalcJacobianSpatialVelocity(plant_context, JacobianWrtVariable.kV, G, [0,0,0], W, W)\n",
    "# Required force in global frame\n",
    "force_applied = np.array([0,0,0,0,0,10])\n",
    "force_projection = np.matmul(J_G.transpose(), force_applied)\n",
    "print('force_projection: ', force_projection)\n",
    "\n",
    "# Calculate the gravity generalised forces\n",
    "Gvec = plant.CalcGravityGeneralizedForces(plant_context)\n",
    "print('Gvec: ', Gvec)\n",
    "joint_torques = -Gvec-force_projection\n",
    "\n",
    "print('joint_torques: ', joint_torques)\n",
    "print(np.max(np.abs(joint_torques)))\n",
    "# diagram.Publish(context)"
   ]
  },
  {
   "cell_type": "code",
   "execution_count": 10,
   "metadata": {},
   "outputs": [
    {
     "name": "stdout",
     "output_type": "stream",
     "text": [
      "force_projection:  [ 7.52726849e-02 -6.20176948e+00 -1.52066788e-02 -3.18920282e+00\n",
      " -2.83518868e-16]\n",
      "Gvec:  [ 1.26670380e-01 -2.87760894e+00 -6.81761191e-03 -4.09582575e-01\n",
      " -2.45731840e-08]\n",
      "joint_torques:  [-2.01943065e-01  9.07937842e+00  2.20242908e-02  3.59878540e+00\n",
      "  2.45731843e-08]\n",
      "9.079378419924424\n"
     ]
    }
   ],
   "source": [
    "G = plant.GetBodyByName(\"eef\").body_frame()\n",
    "# For payload computation\n",
    "fully_stretched = np.array([1.57,1.57,0,-1.3,0])\n",
    "plant.SetPositions(plant.GetMyContextFromRoot(context), model,\n",
    "              fully_stretched)\n",
    "J_G = plant.CalcJacobianSpatialVelocity(plant_context, JacobianWrtVariable.kV, G, [0,0,0], W, W)\n",
    "# Lift a weight of 10N (1kg payload)\n",
    "# Applied force should be in W frame\n",
    "force_applied = np.array([0,0,0,0,0,-10])\n",
    "force_projection = np.matmul(J_G.transpose(), force_applied)\n",
    "print('force_projection: ', force_projection)\n",
    "\n",
    "# Calculate the gravity generalised forces\n",
    "Gvec = plant.CalcGravityGeneralizedForces(plant_context)\n",
    "print('Gvec: ', Gvec)\n",
    "joint_torques = -Gvec-force_projection\n",
    "\n",
    "print('joint_torques: ', joint_torques)\n",
    "print(np.max(np.abs(joint_torques)))\n",
    "# diagram.Publish(context)"
   ]
  },
  {
   "cell_type": "code",
   "execution_count": 11,
   "metadata": {},
   "outputs": [],
   "source": [
    "xd = np.hstack((qd, 0*qd))\n",
    "plant.SetPositions(plant_context, qi)\n",
    "iiwa_controller.GetInputPort('desired_state').FixValue(\n",
    "iiwa_controller.GetMyMutableContextFromRoot(context), xd)\n",
    "diagram.Publish(context)"
   ]
  },
  {
   "cell_type": "code",
   "execution_count": 12,
   "metadata": {},
   "outputs": [],
   "source": [
    "simulator = Simulator(diagram, context)\n",
    "simulator.AdvanceTo(sim_time);"
   ]
  },
  {
   "cell_type": "code",
   "execution_count": 13,
   "metadata": {},
   "outputs": [],
   "source": [
    "# Now we want to get the simulation data, i.e., \n",
    "# the torque applied, final time and the \n",
    "log1 = logger1.FindLog(context)\n",
    "log2 = logger2.FindLog(context)\n",
    "log3 = logger3.FindLog(context)"
   ]
  },
  {
   "cell_type": "code",
   "execution_count": 14,
   "metadata": {},
   "outputs": [
    {
     "name": "stdout",
     "output_type": "stream",
     "text": [
      "0.8024216191044172\n"
     ]
    }
   ],
   "source": [
    "error = np.abs(log2.data()[:na,:].transpose() - np.tile(qd,(log3.data().shape[1],1)))\n",
    "e_norm = np.array([np.linalg.norm(val) for val in error])\n",
    "print(e_norm[-1])"
   ]
  },
  {
   "cell_type": "code",
   "execution_count": 15,
   "metadata": {},
   "outputs": [],
   "source": [
    "omega_j = []\n",
    "for i in range(log2.data().shape[1]):\n",
    "    omega_j.append(log2.data()[:,i][na:])\n",
    "omega_j = np.array(omega_j).transpose()\n",
    "omega_m = omega_j*gear_ratio\n",
    "# Convert the motor speed to RPM\n",
    "omega_m_rpm = omega_m*60/(2*np.pi)\n",
    "# Motor torque realised\n",
    "tau_m = log3.data()/gear_ratio"
   ]
  },
  {
   "cell_type": "code",
   "execution_count": 16,
   "metadata": {},
   "outputs": [
    {
     "name": "stdout",
     "output_type": "stream",
     "text": [
      "max RPM: 0.45011812556531977\n"
     ]
    },
    {
     "data": {
      "image/png": "[encoded data removed]",
      "text/plain": [
       "<Figure size 432x288 with 1 Axes>"
      ]
     },
     "metadata": {
      "needs_background": "light"
     },
     "output_type": "display_data"
    }
   ],
   "source": [
    "# Angular angular velocity of the robot in RPM\n",
    "plt.plot(log2.sample_times(), omega_j[0, :], log2.sample_times(), omega_j[1, :],\\\n",
    "        log2.sample_times(), omega_j[2, :], log2.sample_times(), omega_j[3, :], \\\n",
    "        log2.sample_times(), omega_j[4, :])\n",
    "print('max RPM:', np.max(np.abs(omega_j)))"
   ]
  },
  {
   "cell_type": "code",
   "execution_count": 17,
   "metadata": {},
   "outputs": [
    {
     "name": "stdout",
     "output_type": "stream",
     "text": [
      "max RPM: 42.98311479538745\n"
     ]
    },
    {
     "data": {
      "image/png": "[encoded data removed]",
      "text/plain": [
       "<Figure size 432x288 with 1 Axes>"
      ]
     },
     "metadata": {
      "needs_background": "light"
     },
     "output_type": "display_data"
    }
   ],
   "source": [
    "# Angular angular velocity of the robot in RPM\n",
    "plt.plot(log2.sample_times(), omega_m_rpm[0, :], log2.sample_times(), omega_m_rpm[1, :],\\\n",
    "        log2.sample_times(), omega_m_rpm[2, :], log2.sample_times(), omega_m_rpm[3, :], \\\n",
    "        log2.sample_times(), omega_m_rpm[4, :])\n",
    "print('max RPM:', np.max(np.abs(omega_m_rpm)))"
   ]
  },
  {
   "cell_type": "code",
   "execution_count": 18,
   "metadata": {},
   "outputs": [],
   "source": [
    "# Total power loss\n",
    "inst_friction_power = []\n",
    "inst_joule_power = []\n",
    "for i in range(len(log3.sample_times())):\n",
    "    omega_inst = omega_m[:, i]\n",
    "    tau_f = tau_mu*np.sign(omega_inst)+b0*omega_inst\n",
    "    P_f = np.dot(tau_f, omega_inst)\n",
    "    inst_friction_power.append(P_f)\n",
    "    tau_t = tau_f+tau_m[:, i]\n",
    "    P_t = np.dot(K.dot(tau_t), tau_t)\n",
    "    inst_joule_power.append(P_t)"
   ]
  },
  {
   "cell_type": "code",
   "execution_count": 19,
   "metadata": {},
   "outputs": [
    {
     "name": "stdout",
     "output_type": "stream",
     "text": [
      "total_friction_loss:  0.15476771614211068\n",
      "total_joule_loss:  0.31608305497233286\n"
     ]
    }
   ],
   "source": [
    "# Figure out how to compute these losses correctly!!!\n",
    "total_friction_loss = np.sum(inst_friction_power)*time_step\n",
    "total_joule_loss = np.sum(inst_joule_power)*time_step\n",
    "print('total_friction_loss: ', total_friction_loss)\n",
    "print('total_joule_loss: ', total_joule_loss)"
   ]
  },
  {
   "cell_type": "code",
   "execution_count": 20,
   "metadata": {},
   "outputs": [
    {
     "data": {
      "text/plain": [
       "0.8024216191044172"
      ]
     },
     "execution_count": 20,
     "metadata": {},
     "output_type": "execute_result"
    }
   ],
   "source": [
    "# Final state of the robot\n",
    "np.linalg.norm(qd-(log2.data()[:na, -1]))"
   ]
  },
  {
   "cell_type": "code",
   "execution_count": 21,
   "metadata": {},
   "outputs": [
    {
     "data": {
      "image/png": "[encoded data removed]",
      "text/plain": [
       "<Figure size 432x288 with 1 Axes>"
      ]
     },
     "metadata": {
      "needs_background": "light"
     },
     "output_type": "display_data"
    },
    {
     "data": {
      "image/png": "[encoded data removed]",
      "text/plain": [
       "<Figure size 432x288 with 1 Axes>"
      ]
     },
     "metadata": {
      "needs_background": "light"
     },
     "output_type": "display_data"
    }
   ],
   "source": [
    "fig = plt.figure();\n",
    "plt.plot(log1.sample_times(), log1.data()[0, :], log1.sample_times(), log1.data()[1, :],\\\n",
    "        log1.sample_times(), log1.data()[2, :], log1.sample_times(), log1.data()[3, :], \\\n",
    "        log1.sample_times(), log1.data()[4, :]);\n",
    "\n",
    "fig = plt.figure();\n",
    "plt.plot(log3.sample_times(), log3.data()[0, :], log3.sample_times(), log3.data()[1, :],\\\n",
    "        log3.sample_times(), log3.data()[2, :], log3.sample_times(), log3.data()[3, :], \\\n",
    "        log3.sample_times(), log3.data()[4, :]);"
   ]
  },
  {
   "cell_type": "code",
   "execution_count": null,
   "metadata": {},
   "outputs": [],
   "source": [
    "log2.data()[:,0]"
   ]
  },
  {
   "cell_type": "code",
   "execution_count": null,
   "metadata": {},
   "outputs": [],
   "source": [
    "qd"
   ]
  },
  {
   "cell_type": "code",
   "execution_count": null,
   "metadata": {},
   "outputs": [],
   "source": [
    "log2.data()[:,-1]"
   ]
  },
  {
   "cell_type": "code",
   "execution_count": null,
   "metadata": {},
   "outputs": [],
   "source": [
    "error = np.abs(log2.data()[:na,:].transpose() - np.tile(qd,(log3.data().shape[1],1)))\n",
    "plt.plot(error);"
   ]
  },
  {
   "cell_type": "code",
   "execution_count": null,
   "metadata": {},
   "outputs": [],
   "source": [
    "e_norm = np.array([np.linalg.norm(val) for val in error])\n",
    "for i in range(len(e_norm)):\n",
    "    if np.all(e_norm[i:]<5e-3):\n",
    "        print(i)\n",
    "        break\n",
    "\n",
    "ts = log2.sample_times()[i]\n",
    "print(ts)"
   ]
  },
  {
   "cell_type": "code",
   "execution_count": null,
   "metadata": {},
   "outputs": [],
   "source": [
    "# Max torque required\n",
    "# We can enforce max torque requirements at each joint in the URDF itself\n",
    "print(np.max(np.abs(log1.data())))\n",
    "print(np.max(np.abs(log3.data())))"
   ]
  },
  {
   "cell_type": "code",
   "execution_count": null,
   "metadata": {},
   "outputs": [],
   "source": [
    "inst_power_m = []\n",
    "Kt = 0.068\n",
    "Kv = 140\n",
    "for i in range(len(log3.sample_times())):\n",
    "    # Compute inst power demanded\n",
    "#     inst_power_m.append(np.abs(np.multiply(tau_m[:,i], omega_m_rpm[:,i]))/(Kt*Kv))\n",
    "    inst_power_m.append(np.multiply(tau_m[:,i], omega_m_rpm[:,i])/(Kt*Kv))"
   ]
  },
  {
   "cell_type": "code",
   "execution_count": null,
   "metadata": {},
   "outputs": [],
   "source": [
    "# The joule losses feel very high, is this common or is\n",
    "plt.plot(log3.sample_times(), inst_power_m)\n",
    "print(\"max power used: \", np.max(np.abs(inst_power_m)), \"W\")"
   ]
  },
  {
   "cell_type": "code",
   "execution_count": null,
   "metadata": {
    "scrolled": true
   },
   "outputs": [],
   "source": [
    "# The joule losses feel very high, is this common or is\n",
    "plt.plot(log1.sample_times(), inst_joule_power)\n",
    "print(\"max power used: \", np.max(inst_joule_power), \"W\")"
   ]
  },
  {
   "cell_type": "code",
   "execution_count": null,
   "metadata": {
    "scrolled": true
   },
   "outputs": [],
   "source": [
    "print(total_friction_loss)\n",
    "print(total_joule_loss)"
   ]
  },
  {
   "cell_type": "code",
   "execution_count": null,
   "metadata": {},
   "outputs": [],
   "source": [
    "# Compute cost\n",
    "print(1+1+1+ts+total_friction_loss+total_joule_loss)"
   ]
  },
  {
   "cell_type": "code",
   "execution_count": 13,
   "metadata": {},
   "outputs": [
    {
     "ename": "RuntimeError",
     "evalue": "drake::parsers::GetFullPath: ERROR: file_name \"./urdfs/DIVAR2V/urdf/DIVAR2V_eef.urdf\" is not a file or does not exist.",
     "output_type": "error",
     "traceback": [
      "\u001b[0;31m---------------------------------------------------------------------------\u001b[0m",
      "\u001b[0;31mRuntimeError\u001b[0m                              Traceback (most recent call last)",
      "Input \u001b[0;32mIn [13]\u001b[0m, in \u001b[0;36m<module>\u001b[0;34m\u001b[0m\n\u001b[1;32m     56\u001b[0m     \u001b[38;5;66;03m# sliders.Run()\u001b[39;00m\n\u001b[1;32m     57\u001b[0m     sliders\u001b[38;5;241m.\u001b[39mRun(pose_callback)\n\u001b[0;32m---> 59\u001b[0m \u001b[43mgripper_forward_kinematics_example\u001b[49m\u001b[43m(\u001b[49m\u001b[43m)\u001b[49m\n",
      "Input \u001b[0;32mIn [13]\u001b[0m, in \u001b[0;36mgripper_forward_kinematics_example\u001b[0;34m()\u001b[0m\n\u001b[1;32m      3\u001b[0m builder \u001b[38;5;241m=\u001b[39m DiagramBuilder()\n\u001b[1;32m      4\u001b[0m plant, scene_graph \u001b[38;5;241m=\u001b[39m AddMultibodyPlantSceneGraph(builder, time_step\u001b[38;5;241m=\u001b[39m\u001b[38;5;241m1e-4\u001b[39m)\n\u001b[0;32m----> 5\u001b[0m model \u001b[38;5;241m=\u001b[39m \u001b[43mParser\u001b[49m\u001b[43m(\u001b[49m\u001b[43mplant\u001b[49m\u001b[43m,\u001b[49m\u001b[43m \u001b[49m\u001b[43mscene_graph\u001b[49m\u001b[43m)\u001b[49m\u001b[38;5;241;43m.\u001b[39;49m\u001b[43mAddModelFromFile\u001b[49m\u001b[43m(\u001b[49m\u001b[43murdf_path\u001b[49m\u001b[43m,\u001b[49m\u001b[43m \u001b[49m\u001b[38;5;124;43m'\u001b[39;49m\u001b[38;5;124;43mdiva_robot\u001b[39;49m\u001b[38;5;124;43m'\u001b[39;49m\u001b[43m)\u001b[49m\n\u001b[1;32m      6\u001b[0m \u001b[38;5;66;03m# Transform for the robot location\u001b[39;00m\n\u001b[1;32m      7\u001b[0m X_R \u001b[38;5;241m=\u001b[39m RigidTransform(RotationMatrix\u001b[38;5;241m.\u001b[39mMakeYRotation(\u001b[38;5;241m0\u001b[39m), np\u001b[38;5;241m.\u001b[39marray([\u001b[38;5;241m-\u001b[39m\u001b[38;5;241m0.1\u001b[39m, \u001b[38;5;241m0.5\u001b[39m, \u001b[38;5;241m1.25\u001b[39m]))\n",
      "\u001b[0;31mRuntimeError\u001b[0m: drake::parsers::GetFullPath: ERROR: file_name \"./urdfs/DIVAR2V/urdf/DIVAR2V_eef.urdf\" is not a file or does not exist."
     ]
    }
   ],
   "source": [
    "def gripper_forward_kinematics_example():\n",
    "    urdf_path = './urdfs/DIVAR2V/urdf/DIVAR2V_eef.urdf'\n",
    "    builder = DiagramBuilder()\n",
    "    plant, scene_graph = AddMultibodyPlantSceneGraph(builder, time_step=1e-4)\n",
    "    model = Parser(plant, scene_graph).AddModelFromFile(urdf_path, 'diva_robot')\n",
    "    # Transform for the robot location\n",
    "    X_R = RigidTransform(RotationMatrix.MakeYRotation(0), np.array([-0.1, 0.5, 1.25]))\n",
    "#     X_R = RigidTransform(RotationMatrix(RollPitchYaw([0.8, -0.8, 0])), np.array([-0.1, 0.5, 1]))\n",
    "    plant.WeldFrames(plant.world_frame(), plant.get_body(plant.GetBodyIndices(model)[0]).body_frame(), X_R)\n",
    "    # Spawn table\n",
    "    table = Parser(plant, scene_graph).AddModelFromFile('./urdfs/table/extra_heavy_duty_table_modified.sdf','table')\n",
    "    # Spawn spherical work piece\n",
    "    sphere = Parser(plant, scene_graph).AddModelFromFile('./urdfs/helper/sphere.urdf','sphere')\n",
    "    # Place the sphere at the center of the table\n",
    "    # Length, width and height and thickness of the table\n",
    "    # 1.39, 0.762, 0.736, 0.057\n",
    "    # Sphere radius -- Can be made a design variable\n",
    "    # 0.15\n",
    "    # We can sample end-points on the surface of the sphere\n",
    "    X_R = RigidTransform(RotationMatrix(RollPitchYaw([0, 0, 0])), np.array([0, 0, 0.736]))\n",
    "    plant.WeldFrames(plant.world_frame(), plant.get_body(plant.GetBodyIndices(sphere)[0]).body_frame(), X_R)\n",
    "\n",
    "    plant.Finalize()\n",
    "    \n",
    "    end_frame = \"eef\"\n",
    "    \n",
    "    # Draw the frames\n",
    "    for body_name in [\"base_link\", end_frame]:\n",
    "        AddMultibodyTriad(plant.GetFrameByName(body_name, model), scene_graph)\n",
    "\n",
    "    meshcat.Delete()\n",
    "    meshcat.DeleteAddedControls()\n",
    "\n",
    "    visualizer = MeshcatVisualizerCpp.AddToBuilder(builder, scene_graph, meshcat)\n",
    "\n",
    "    diagram = builder.Build()\n",
    "    context = diagram.CreateDefaultContext()\n",
    "\n",
    "    plant.SetPositions(plant.GetMyContextFromRoot(context),\n",
    "                  plant.GetModelInstanceByName(\"diva_robot\"),\n",
    "                  qi)\n",
    "    \n",
    "    gripper = plant.GetBodyByName(end_frame)\n",
    "    def pose_callback(context):\n",
    "        pose = plant.EvalBodyPoseInWorld(context, gripper)   ## This is the important line\n",
    "        print(pose.translation())\n",
    "        clear_output(wait=True)\n",
    "        print(\"gripper position (m): \" + np.array2string(\n",
    "            pose.translation(), formatter={\n",
    "                'float': lambda x: \"{:3.2f}\".format(x)}))\n",
    "        print(\"gripper roll-pitch-yaw (rad):\" + np.array2string(\n",
    "            RollPitchYaw(pose.rotation()).vector(),\n",
    "                         formatter={'float': lambda x: \"{:3.2f}\".format(x)}))\n",
    "        print(\"pose rotation: \", pose.rotation())\n",
    "    sliders = MeshcatJointSlidersThatPublish(meshcat, plant, visualizer, context)\n",
    "    # sliders.Run()\n",
    "    sliders.Run(pose_callback)\n",
    "\n",
    "gripper_forward_kinematics_example()"
   ]
  },
  {
   "cell_type": "code",
   "execution_count": null,
   "metadata": {},
   "outputs": [],
   "source": []
  }
 ],
 "metadata": {
  "colab": {
   "collapsed_sections": [],
   "name": "Robotic Manipulation - Let's get you a robot.ipynb",
   "provenance": [],
   "toc_visible": true
  },
  "interpreter": {
   "hash": "31f2aee4e71d21fbe5cf8b01ff0e069b9275f58929596ceb00d14d90e3e16cd6"
  },
  "kernelspec": {
   "display_name": "Python 3 (ipykernel)",
   "language": "python",
   "name": "python3"
  },
  "language_info": {
   "codemirror_mode": {
    "name": "ipython",
    "version": 3
   },
   "file_extension": ".py",
   "mimetype": "text/x-python",
   "name": "python",
   "nbconvert_exporter": "python",
   "pygments_lexer": "ipython3",
   "version": "3.8.5"
  }
 },
 "nbformat": 4,
 "nbformat_minor": 2
}
