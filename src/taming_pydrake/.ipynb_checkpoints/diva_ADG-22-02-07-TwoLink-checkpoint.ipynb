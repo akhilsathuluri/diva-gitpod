{
 "cells": [
  {
   "cell_type": "code",
   "execution_count": 1,
   "metadata": {},
   "outputs": [],
   "source": [
    "# Imports\n",
    "import numpy as np\n",
    "import altair as alt\n",
    "import pydot\n",
    "from IPython.display import display, SVG, clear_output, HTML\n",
    "import matplotlib.pyplot as plt\n",
    "\n",
    "from pydrake.all import *\n",
    "from pydrake.examples.manipulation_station import ManipulationStation\n",
    "\n",
    "from manipulation import running_as_notebook\n",
    "from manipulation.meshcat_cpp_utils import (\n",
    "    StartMeshcat, MeshcatJointSlidersThatPublish)\n",
    "from manipulation.scenarios import AddMultibodyTriad, SetColor\n",
    "\n",
    "import pandas as pd\n",
    "import joblib\n",
    "import sys\n",
    "import json"
   ]
  },
  {
   "cell_type": "code",
   "execution_count": 2,
   "metadata": {},
   "outputs": [
    {
     "data": {
      "text/html": [
       "Meshcat is now available at <a href=\"http://localhost:7003\">http://localhost:7003</a>"
      ],
      "text/plain": [
       "<IPython.core.display.HTML object>"
      ]
     },
     "metadata": {},
     "output_type": "display_data"
    }
   ],
   "source": [
    "# Start the visualizer.\n",
    "meshcat = StartMeshcat()"
   ]
  },
  {
   "cell_type": "code",
   "execution_count": 3,
   "metadata": {},
   "outputs": [],
   "source": [
    "# Defining the actuator box\n",
    "class ActuatorBox(LeafSystem):\n",
    "    def __init__(self, tau_max_dv, omega_max_dv, gear_ratio):\n",
    "        LeafSystem.__init__(self)\n",
    "        # Both the values are motor specific NOT joint specific\n",
    "        self.tau_max = tau_max_dv*gear_ratio\n",
    "        # Convert RPM of motor to joint velocity in rad/sec\n",
    "        self.omega_max = omega_max_dv*2*np.pi/60/gear_ratio\n",
    "        self.DeclareVectorInputPort('commanded_torque', BasicVector(2))\n",
    "        self.DeclareVectorInputPort('joint_state', BasicVector(4))\n",
    "        self.DeclareVectorOutputPort('realised_torque', BasicVector(2), self.OutputJointTorque)\n",
    "\n",
    "    def OutputJointTorque(self, context, output):\n",
    "        # Get the state values\n",
    "        q = self.EvalVectorInput(context, 1).get_value()\n",
    "        qvel = q[2:]\n",
    "        # Define a Kv (slope of plot between omega and tau)\n",
    "        u = self.EvalVectorInput(context, 0).get_value()\n",
    "        # Compute the instantaneous torque limit\n",
    "        kv = 1/50\n",
    "        u_new = np.copy(u)\n",
    "#         print('uold: ', u)\n",
    "#         print('qvel: ', qvel)\n",
    "        # Using URDF safety controller rules\n",
    "        for i in range(len(u)):\n",
    "            if qvel[i]>=0 and u[i]>=0:\n",
    "                u_bound = -kv*(qvel[i]-self.omega_max)\n",
    "                u_new[i] = np.minimum(u[i], u_bound)\n",
    "            if qvel[i]>=0 and u[i]<=0:\n",
    "                u_bound = -self.tau_max\n",
    "                u_new[i] = np.maximum(u[i], u_bound)\n",
    "            if qvel[i]<=0 and u[i]>=0:\n",
    "                u_bound = self.tau_max\n",
    "                u_new[i] = np.minimum(u[i], u_bound)\n",
    "            if qvel[i]<=0 and u[i]<=0:\n",
    "                u_bound = -(-kv*(np.abs(qvel[i])-self.omega_max))\n",
    "                u_new[i] = np.maximum(u[i], u_bound)\n",
    "#         print('unew: ', u_new)\n",
    "        output.SetFromVector(u)"
   ]
  },
  {
   "cell_type": "code",
   "execution_count": 4,
   "metadata": {},
   "outputs": [],
   "source": [
    "# Sample design from the DV space\n",
    "input_path = '~/git/research/xray/src/problems/TwoLink/input/'\n",
    "dv_frame = pd.read_csv(input_path+'dv_space.csv')\n",
    "qoi = pd.read_csv(input_path+'qoi_space.csv')\n",
    "\n",
    "def sample_variables(dv):\n",
    "    dv_samples = pd.DataFrame(np.random.uniform(dv.Lower, dv.Upper, (1, len(dv))),columns=dv.Variables)\n",
    "    return dv_samples"
   ]
  },
  {
   "cell_type": "code",
   "execution_count": 5,
   "metadata": {},
   "outputs": [],
   "source": [
    "\n",
    "# Loading the models\n",
    "clf = joblib.load('../../../xray/src/problems/TwoLink/library/feasibility_classifier.pkl')\n",
    "# Load the scales\n",
    "fit_file = open('../../../xray/src/problems/TwoLink/library/mean_and_scale.json')\n",
    "fit_params = json.load(fit_file)\n",
    "fit_file.close()"
   ]
  },
  {
   "cell_type": "code",
   "execution_count": 6,
   "metadata": {},
   "outputs": [
    {
     "name": "stdout",
     "output_type": "stream",
     "text": [
      "taumax:  221.0\n",
      "omegamax:  105.2872\n",
      "Kp_sample:  100\n",
      "Kd_sample:  3.96\n",
      "gear_ratio:  13.0\n",
      "motor_torque_max:  221.0\n"
     ]
    },
    {
     "ename": "ModuleNotFoundError",
     "evalue": "No module named 'urdf_creator_sim'",
     "output_type": "error",
     "traceback": [
      "\u001b[0;31m---------------------------------------------------------------------------\u001b[0m",
      "\u001b[0;31mModuleNotFoundError\u001b[0m                       Traceback (most recent call last)",
      "Input \u001b[0;32mIn [6]\u001b[0m, in \u001b[0;36m<module>\u001b[0;34m\u001b[0m\n\u001b[1;32m     51\u001b[0m \u001b[38;5;66;03m# Run this every time a new URDF is to be created\u001b[39;00m\n\u001b[1;32m     52\u001b[0m \u001b[38;5;66;03m# Clear kernel every time urdf_creator is changed\u001b[39;00m\n\u001b[1;32m     54\u001b[0m sys\u001b[38;5;241m.\u001b[39mpath\u001b[38;5;241m.\u001b[39mappend(\u001b[38;5;124m'\u001b[39m\u001b[38;5;124m../../../xray/src/problems/TwoLink/library\u001b[39m\u001b[38;5;124m'\u001b[39m)\n\u001b[0;32m---> 55\u001b[0m \u001b[38;5;28;01mfrom\u001b[39;00m \u001b[38;5;21;01murdf_creator_sim\u001b[39;00m \u001b[38;5;28;01mimport\u001b[39;00m \u001b[38;5;241m*\u001b[39m\n\u001b[1;32m     56\u001b[0m save_path \u001b[38;5;241m=\u001b[39m \u001b[38;5;124m'\u001b[39m\u001b[38;5;124m./urdfs/\u001b[39m\u001b[38;5;124m'\u001b[39m\n\u001b[1;32m     57\u001b[0m urdf_path \u001b[38;5;241m=\u001b[39m urdf_creator(dv, fit_params, path \u001b[38;5;241m=\u001b[39m save_path)\n",
      "\u001b[0;31mModuleNotFoundError\u001b[0m: No module named 'urdf_creator_sim'"
     ]
    }
   ],
   "source": [
    "# a1, lua, a23_distr, lfa, a45_distr, K, taumax, m_m, N, Pmax, Kd, a7\n",
    "# sample_dv_frame = sample_variables(dv_frame)\n",
    "# dv = sample_dv_frame.values.tolist()[0]\n",
    "# print(sample_dv_frame)\n",
    "# print(sample_dv)\n",
    "# a1, lua, a23_distr, lfa, a45_distr, K, taumax, m_m, N, Pmax, Kd, a7\n",
    "# dv = [0.3, 0.3, 0.5, 0.3, 0.5, 10.5, 32.88886082, 0.55, 15.43, 150., 14.16907122, 0.175]\n",
    "# Bad design\n",
    "# dv = [1.37824764e-01, 3.80908499e-01, 9.48871510e-01, 1.11472923e-01,\n",
    "#  4.51461495e-01, 1.17623087e+01, 1.05489844e+01, 7.51899527e-01,\n",
    "#  9.31085993e+00, 1.96724922e+02, 4.51052437e+00, 2.48978655e-01]\n",
    "\n",
    "# Best design from pygmo optimisation\n",
    "# a1, a2 + rho, s1, s2 + K, taumax, m_m, N, Pmax, Kd, k11, k22, k33\n",
    "# dv = [0.1544, 0.2481, 16.2884, 15.7707, 0.4523, 12.0032, 174.2067, 19.9298, 29109.3986, 81336546.9555, 8414614.769]\n",
    "# dv = [0.36, 0.36, 16.2884, 15.7707, 0.4523, 12.0032, 174.2067, 9.9298, 646.2338, 6.9424e+07, 5.6102e+07]\n",
    "# dv = [0.36, 0.36, 50, 15.7707, 0.4523, 12.0032, 174.2067, 9.9298, 646.2338, 6.9424e+07, 5.6102e+07]\n",
    "dv = [3.600000e-01, 3.600000e-01, 1.600000e+01, 1.700000e+01, 4.500000e-01,\n",
    " 1.300000e+01, 1.052872e+02, 3.960000e+00, 6.462338e+02, 6.940000e+07,\n",
    " 5.610000e+07]\n",
    "# Round off to 4 decimals\n",
    "dv = np.round(dv,4)\n",
    "qd = np.array([0.7, -0.4])\n",
    "qinit = np.array([0.1, 0.1])\n",
    "\n",
    "qoi = pd.read_csv('~/git/research/xray/src/problems/TwoLink/input/qoi_space.csv')\n",
    "sim_time = qoi[qoi.Variables.str.match('tcycle')].Upper[0]\n",
    "error_threshold = 5e-3\n",
    "# Friction torque\n",
    "tau_mu = 5.3e-3\n",
    "b0 = 1.5e-5\n",
    "# Motor constant matrix\n",
    "km = 0.14\n",
    "taumax_m = dv[3]\n",
    "omegamax_m = dv[6]\n",
    "# Kp_sample = dv[2]\n",
    "Kp_sample = 100\n",
    "Kd_sample = dv[7]\n",
    "gear_ratio = dv[5]\n",
    "kvals = dv[8:11]\n",
    "taumax = taumax_m*gear_ratio\n",
    "# omegamax_m = 160*gear_ratio\n",
    "\n",
    "print('taumax: ', taumax)\n",
    "print('omegamax: ', omegamax_m)\n",
    "print('Kp_sample: ', Kp_sample)\n",
    "print('Kd_sample: ', Kd_sample)\n",
    "print('gear_ratio: ', gear_ratio)\n",
    "print('motor_torque_max: ', taumax)\n",
    "\n",
    "# Run this every time a new URDF is to be created\n",
    "# Clear kernel every time urdf_creator is changed\n",
    "\n",
    "sys.path.append('../../../xray/src/problems/TwoLink/library')\n",
    "from urdf_creator_sim import *\n",
    "save_path = './urdfs/'\n",
    "urdf_path = urdf_creator(dv, fit_params, path = save_path)\n",
    "print(urdf_path)\n",
    "print(dv)\n",
    "# urdf_path = './urdfs/divar3v4803583300.urdf'"
   ]
  },
  {
   "cell_type": "code",
   "execution_count": null,
   "metadata": {},
   "outputs": [],
   "source": [
    "# clf.predict(((np.array([646.2338, 6.9424e+07, 5.6102e+07, 360])-feas_mean)/feas_scale).reshape(1, -1))"
   ]
  },
  {
   "cell_type": "code",
   "execution_count": null,
   "metadata": {},
   "outputs": [],
   "source": [
    "# Check feasibility of the design\n",
    "link_lengths = np.array(dv)[:2]\n",
    "input_list = np.c_[np.array([kvals,]*2), link_lengths*1000]\n",
    "input_list_torch = torch.from_numpy(input_list)\n",
    "feas_mean = np.array(fit_params['feas_data']['mean'])\n",
    "feas_scale = np.array(fit_params['feas_data']['scale'])\n",
    "# Scale this value based on the fit_params\n",
    "norm_input_list = (input_list_torch-feas_mean)/feas_scale\n",
    "# Now predict output\n",
    "pred_feas = clf.predict(norm_input_list.cpu().numpy())\n",
    "print(pred_feas)"
   ]
  },
  {
   "cell_type": "code",
   "execution_count": null,
   "metadata": {},
   "outputs": [],
   "source": [
    "builder = DiagramBuilder()\n",
    "# Create plant\n",
    "time_step = 1e-4\n",
    "plant, scene_graph = AddMultibodyPlantSceneGraph(builder, time_step=time_step)\n",
    "model = Parser(plant, scene_graph).AddModelFromFile(urdf_path, 'diva_robot')\n",
    "# Transform for the robot location\n",
    "X_R = RigidTransform(RotationMatrix.MakeYRotation(-np.pi/2), np.array([-0.1, 0.5, 1]))\n",
    "plant.WeldFrames(plant.world_frame(), plant.get_body(plant.GetBodyIndices(model)[0]).body_frame(), X_R)\n",
    "plant.Finalize()\n",
    "# Initialise the acutator module\n",
    "actuator = builder.AddSystem(ActuatorBox(taumax_m, omegamax_m, gear_ratio))"
   ]
  },
  {
   "cell_type": "code",
   "execution_count": 36,
   "metadata": {},
   "outputs": [],
   "source": [
    "# Draw the frames\n",
    "# for body_name in [\"base_link\", \"eef\"]:\n",
    "# # for body_name in [\"base_link\", \"eef\"]:\n",
    "#     AddMultibodyTriad(plant.GetFrameByName(body_name, model), scene_graph)\n",
    "\n",
    "# Adds the MeshcatVisualizer and wires it to the SceneGraph.\n",
    "visualizer = MeshcatVisualizerCpp.AddToBuilder(builder, scene_graph, meshcat)\n",
    "\n",
    "Kp = np.full(2, Kp_sample)\n",
    "Ki = np.full(2, 0)\n",
    "Kd = np.full(2, Kd_sample)\n",
    "iiwa_controller = builder.AddSystem(InverseDynamicsController(plant, Kp, Ki, Kd, False))\n",
    "iiwa_controller.set_name(\"iiwa_controller\");\n",
    "builder.Connect(plant.get_state_output_port(model),\n",
    "                iiwa_controller.get_input_port_estimated_state())\n",
    "# Add a motor characteristics box here to define how the motor output would be based on the commanded control\n",
    "builder.Connect(iiwa_controller.get_output_port_control(),\n",
    "                actuator.get_input_port(0))\n",
    "builder.Connect(plant.get_state_output_port(model),\n",
    "                actuator.get_input_port(1))\n",
    "builder.Connect(actuator.get_output_port(),  plant.get_actuation_input_port())\n",
    "# Connecting a data logger\n",
    "# Get actuation input\n",
    "logger1 = LogVectorOutput(iiwa_controller.get_output_port_control(), builder)\n",
    "# Joint state\n",
    "logger2 = LogVectorOutput(plant.get_state_output_port(model), builder)\n",
    "# Realised torque\n",
    "logger3 = LogVectorOutput(actuator.get_output_port(), builder)\n",
    "diagram = builder.Build()"
   ]
  },
  {
   "cell_type": "code",
   "execution_count": 37,
   "metadata": {},
   "outputs": [],
   "source": [
    "#  SVG(pydot.graph_from_dot_data(diagram.GetGraphvizString())[0].create_svg())"
   ]
  },
  {
   "cell_type": "code",
   "execution_count": 38,
   "metadata": {},
   "outputs": [],
   "source": [
    "# diagram.set_name(\"diagram\")\n",
    "# HTML('<script src=\"https://unpkg.com/gojs/release/go.js\"></script>' + GenerateHtml(diagram))"
   ]
  },
  {
   "cell_type": "code",
   "execution_count": 39,
   "metadata": {},
   "outputs": [],
   "source": [
    "context = diagram.CreateDefaultContext()\n",
    "plant_context = plant.GetMyMutableContextFromRoot(context)\n",
    "gripper_frame = plant.GetBodyByName(\"eef\").body_frame()"
   ]
  },
  {
   "cell_type": "code",
   "execution_count": 40,
   "metadata": {},
   "outputs": [
    {
     "name": "stdout",
     "output_type": "stream",
     "text": [
      "2.071406417078276\n"
     ]
    }
   ],
   "source": [
    "G = plant.GetBodyByName(\"eef\").body_frame()\n",
    "W = plant.world_frame()\n",
    "# If we can reach the final position, set that as the robots position\n",
    "plant.SetPositions(plant.GetMyContextFromRoot(context), model, qd)\n",
    "# changed from kQDot to kV for jacobian computation\n",
    "J_G = plant.CalcJacobianSpatialVelocity(plant_context, JacobianWrtVariable.kV, G, [0,0,0], W, W)\n",
    "# Force on robot body in global frame due to contact\n",
    "force_applied = np.array([0,0,0,0,0,10])\n",
    "force_projection = np.matmul(J_G.transpose(), force_applied)\n",
    "# Compute gravity potential vector\n",
    "Gvec = plant.CalcGravityGeneralizedForces(plant_context)\n",
    "# As per pydrake documentation\n",
    "joint_torques = -Gvec-force_projection\n",
    "print(np.max(np.abs(joint_torques)))"
   ]
  },
  {
   "cell_type": "code",
   "execution_count": 41,
   "metadata": {},
   "outputs": [
    {
     "name": "stdout",
     "output_type": "stream",
     "text": [
      "0.002981642184597467\n"
     ]
    }
   ],
   "source": [
    "fully_stretched = np.array([0,-1.57])\n",
    "plant.SetPositions(plant.GetMyContextFromRoot(context), model,\n",
    "              fully_stretched)\n",
    "J_G = plant.CalcJacobianSpatialVelocity(plant_context, JacobianWrtVariable.kV, G, [0,0,0], W, W)\n",
    "# Lift a weight of 10N (1kg payload)\n",
    "force_applied = np.array([0,0,0,0,0,-10])\n",
    "force_projection = np.matmul(J_G.transpose(), force_applied)\n",
    "# Compute gravity potential vector\n",
    "Gvec = plant.CalcGravityGeneralizedForces(plant_context)\n",
    "# As per pydrake documentation\n",
    "joint_torques = -Gvec-force_projection\n",
    "print(np.max(np.abs(joint_torques)))"
   ]
  },
  {
   "cell_type": "code",
   "execution_count": 42,
   "metadata": {},
   "outputs": [
    {
     "data": {
      "text/plain": [
       "<pydrake.systems.framework.FixedInputPortValue at 0x7f9c205449b0>"
      ]
     },
     "execution_count": 42,
     "metadata": {},
     "output_type": "execute_result"
    }
   ],
   "source": [
    "xd = np.hstack((qd, 0*qd))\n",
    "plant.SetPositions(plant_context, qinit)\n",
    "iiwa_controller.GetInputPort('desired_state').FixValue(\n",
    "    iiwa_controller.GetMyMutableContextFromRoot(context), xd)"
   ]
  },
  {
   "cell_type": "code",
   "execution_count": 43,
   "metadata": {},
   "outputs": [],
   "source": [
    "simulator = Simulator(diagram, context)\n",
    "simulator.AdvanceTo(sim_time);"
   ]
  },
  {
   "cell_type": "code",
   "execution_count": 44,
   "metadata": {},
   "outputs": [],
   "source": [
    "# Now we want to get the simulation data, i.e., \n",
    "# the torque applied, final time and the \n",
    "log1 = logger1.FindLog(context)\n",
    "log2 = logger2.FindLog(context)\n",
    "log3 = logger3.FindLog(context)"
   ]
  },
  {
   "cell_type": "code",
   "execution_count": 45,
   "metadata": {},
   "outputs": [
    {
     "name": "stdout",
     "output_type": "stream",
     "text": [
      "4.824689695650269e-06\n"
     ]
    }
   ],
   "source": [
    "error = np.abs(log2.data()[:2,:].transpose() - np.tile(qd,(log2.data().shape[1],1)))\n",
    "e_norm = np.array([np.linalg.norm(val) for val in error])\n",
    "print(e_norm[-1])"
   ]
  },
  {
   "cell_type": "code",
   "execution_count": 46,
   "metadata": {},
   "outputs": [],
   "source": [
    "omega = []\n",
    "for i in range(log2.data().shape[1]):\n",
    "    omega.append(log2.data()[:,i][2:])\n",
    "omega_m = np.array(omega).transpose()*gear_ratio\n",
    "\n",
    "# Motor torque realised\n",
    "tau_m = log3.data()/gear_ratio\n",
    "# Costant matrix for tau->joule_loss\n",
    "K = 1/np.sqrt(km)*np.identity(2)"
   ]
  },
  {
   "cell_type": "code",
   "execution_count": 47,
   "metadata": {},
   "outputs": [],
   "source": [
    "# Total power loss\n",
    "inst_friction_power = []\n",
    "inst_joule_power = []\n",
    "for i in range(len(log3.sample_times())):\n",
    "    omega_inst = omega_m[:, i]\n",
    "    tau_f = tau_mu*np.sign(omega_inst)+b0*omega_inst\n",
    "    P_f = np.dot(tau_f, omega_inst)\n",
    "    inst_friction_power.append(P_f)\n",
    "    tau_t = tau_f+tau_m[:, i]\n",
    "    P_t = np.dot(K.dot(tau_t), tau_t)\n",
    "    inst_joule_power.append(P_t)"
   ]
  },
  {
   "cell_type": "code",
   "execution_count": 48,
   "metadata": {},
   "outputs": [
    {
     "name": "stdout",
     "output_type": "stream",
     "text": [
      "total_friction_loss:  0.2675927261471378\n",
      "total_joule_loss:  0.025472393245920752\n"
     ]
    }
   ],
   "source": [
    "total_friction_loss = np.sum(inst_friction_power)*time_step\n",
    "total_joule_loss = np.sum(inst_joule_power)*time_step\n",
    "print('total_friction_loss: ', total_friction_loss)\n",
    "print('total_joule_loss: ', total_joule_loss)"
   ]
  },
  {
   "cell_type": "code",
   "execution_count": 49,
   "metadata": {},
   "outputs": [],
   "source": [
    "# Extracting the angular velocity\n",
    "vel = []\n",
    "for i in range(log2.data().shape[1]):\n",
    "    vel.append(log2.data()[:,i][2:])\n",
    "vel = np.array(vel).transpose()"
   ]
  },
  {
   "cell_type": "code",
   "execution_count": 50,
   "metadata": {},
   "outputs": [],
   "source": [
    "# Instantaneous joint power\n",
    "inst_power = []\n",
    "for i in range(2):\n",
    "    inst_power.append(np.multiply(log3.data()[i,:], vel[i,:]))\n",
    "inst_power = np.abs(np.array(inst_power))\n",
    "    \n",
    "# plt.plot(log1.sample_times(), inst_power[0, :], log1.sample_times(), motor_rpm[1, :],\\\n",
    "#     log1.sample_times(), inst_power[2, :], log1.sample_times(), inst_power[3, :], \\\n",
    "#     log1.sample_times(), inst_power[4, :], log1.sample_times(), inst_power[5, :], \\\n",
    "#     log1.sample_times(), inst_power[6, :])"
   ]
  },
  {
   "cell_type": "code",
   "execution_count": 51,
   "metadata": {},
   "outputs": [
    {
     "data": {
      "text/plain": [
       "0.00040705464163552673"
      ]
     },
     "execution_count": 51,
     "metadata": {},
     "output_type": "execute_result"
    }
   ],
   "source": [
    "np.max(inst_power*time_step)\n",
    "# Clearly never reaches maximum"
   ]
  },
  {
   "cell_type": "code",
   "execution_count": 52,
   "metadata": {
    "scrolled": false
   },
   "outputs": [
    {
     "data": {
      "text/plain": [
       "[<matplotlib.lines.Line2D at 0x7f9c217ac730>,\n",
       " <matplotlib.lines.Line2D at 0x7f9c217ac790>]"
      ]
     },
     "execution_count": 52,
     "metadata": {},
     "output_type": "execute_result"
    },
    {
     "data": {
      "image/png": "[encoded data removed]",
      "text/plain": [
       "<Figure size 432x288 with 1 Axes>"
      ]
     },
     "metadata": {
      "needs_background": "light"
     },
     "output_type": "display_data"
    }
   ],
   "source": [
    "# Angular angular velocity of the robot\n",
    "motor_rpm = vel*gear_ratio*60/(2*np.pi)\n",
    "plt.plot(log2.sample_times(), motor_rpm[0, :], log2.sample_times(), motor_rpm[1, :])"
   ]
  },
  {
   "cell_type": "code",
   "execution_count": 53,
   "metadata": {
    "scrolled": true
   },
   "outputs": [
    {
     "data": {
      "text/plain": [
       "564.65407664943"
      ]
     },
     "execution_count": 53,
     "metadata": {},
     "output_type": "execute_result"
    }
   ],
   "source": [
    "np.max(np.abs(motor_rpm[0,:]))"
   ]
  },
  {
   "cell_type": "code",
   "execution_count": 54,
   "metadata": {},
   "outputs": [
    {
     "data": {
      "text/plain": [
       "4.824689695650269e-06"
      ]
     },
     "execution_count": 54,
     "metadata": {},
     "output_type": "execute_result"
    }
   ],
   "source": [
    "# Final state of the robot\n",
    "np.linalg.norm(qd-(log2.data()[:2, -1]))"
   ]
  },
  {
   "cell_type": "code",
   "execution_count": 55,
   "metadata": {},
   "outputs": [
    {
     "data": {
      "text/plain": [
       "[<matplotlib.lines.Line2D at 0x7f9c2050ae80>,\n",
       " <matplotlib.lines.Line2D at 0x7f9c204cf580>]"
      ]
     },
     "execution_count": 55,
     "metadata": {},
     "output_type": "execute_result"
    },
    {
     "data": {
      "image/png": "[encoded data removed]",
      "text/plain": [
       "<Figure size 432x288 with 1 Axes>"
      ]
     },
     "metadata": {
      "needs_background": "light"
     },
     "output_type": "display_data"
    }
   ],
   "source": [
    "fig = plt.figure()\n",
    "plt.plot(log1.sample_times(), log1.data()[0, :], log1.sample_times(), log1.data()[1, :])"
   ]
  },
  {
   "cell_type": "code",
   "execution_count": 56,
   "metadata": {},
   "outputs": [
    {
     "data": {
      "text/plain": [
       "[<matplotlib.lines.Line2D at 0x7f9c204b2190>,\n",
       " <matplotlib.lines.Line2D at 0x7f9c204b21f0>]"
      ]
     },
     "execution_count": 56,
     "metadata": {},
     "output_type": "execute_result"
    },
    {
     "data": {
      "image/png": "[encoded data removed]",
      "text/plain": [
       "<Figure size 432x288 with 1 Axes>"
      ]
     },
     "metadata": {
      "needs_background": "light"
     },
     "output_type": "display_data"
    }
   ],
   "source": [
    "fig = plt.figure()\n",
    "plt.plot(log3.sample_times(), log3.data()[0, :], log3.sample_times(), log3.data()[1, :])"
   ]
  },
  {
   "cell_type": "code",
   "execution_count": 57,
   "metadata": {},
   "outputs": [],
   "source": [
    "error = np.abs(log2.data()[:2,:].transpose() - np.tile(qd,(log2.data().shape[1],1)))"
   ]
  },
  {
   "cell_type": "code",
   "execution_count": 58,
   "metadata": {},
   "outputs": [
    {
     "data": {
      "text/plain": [
       "[<matplotlib.lines.Line2D at 0x7f9c204092b0>,\n",
       " <matplotlib.lines.Line2D at 0x7f9c204099d0>]"
      ]
     },
     "execution_count": 58,
     "metadata": {},
     "output_type": "execute_result"
    },
    {
     "data": {
      "image/png": "[encoded data removed]",
      "text/plain": [
       "<Figure size 432x288 with 1 Axes>"
      ]
     },
     "metadata": {
      "needs_background": "light"
     },
     "output_type": "display_data"
    }
   ],
   "source": [
    "plt.plot(error)"
   ]
  },
  {
   "cell_type": "code",
   "execution_count": 59,
   "metadata": {},
   "outputs": [
    {
     "name": "stdout",
     "output_type": "stream",
     "text": [
      "23617\n"
     ]
    }
   ],
   "source": [
    "e_norm = np.array([np.linalg.norm(val) for val in error])\n",
    "for i in range(len(e_norm)):\n",
    "    if np.all(e_norm[i:]<5e-3):\n",
    "        print(i)\n",
    "        break"
   ]
  },
  {
   "cell_type": "code",
   "execution_count": 60,
   "metadata": {},
   "outputs": [
    {
     "name": "stdout",
     "output_type": "stream",
     "text": [
      "2.3504\n"
     ]
    }
   ],
   "source": [
    "ts = log2.sample_times()[i]\n",
    "print(ts)"
   ]
  },
  {
   "cell_type": "code",
   "execution_count": null,
   "metadata": {},
   "outputs": [],
   "source": [
    "# Max torque required\n",
    "# We can enforce max torque requirements at each joint in the URDF itself\n",
    "# print(np.max(np.abs(log1.data())))\n",
    "print(np.max(np.abs(log3.data())))"
   ]
  },
  {
   "cell_type": "code",
   "execution_count": null,
   "metadata": {},
   "outputs": [],
   "source": [
    "plt.plot(log2.sample_times(), log2.data()[0, :], log2.sample_times(), log2.data()[1, :],\\\n",
    "        log2.sample_times(), log2.data()[2, :], log2.sample_times(), log2.data()[3, :])"
   ]
  },
  {
   "cell_type": "code",
   "execution_count": null,
   "metadata": {},
   "outputs": [],
   "source": [
    "# Now all that is left is to integrate these\n",
    "# bottom-up mappings with auto-generation of the URDF\n",
    "# and solution space computation"
   ]
  },
  {
   "cell_type": "code",
   "execution_count": null,
   "metadata": {},
   "outputs": [],
   "source": [
    "# Motor angular velocity\n",
    "omega = []\n",
    "for i in range(log2.data().shape[1]):\n",
    "    omega.append(log2.data()[:,i][2:])\n",
    "omega_m = np.array(omega).transpose()*gear_ratio\n",
    "# Motor torque\n",
    "tau_m = log3.data()/gear_ratio\n",
    "\n",
    "# Friction torque\n",
    "tau_mu = 5.3e-3\n",
    "b0 = 1.5e-5\n",
    "# Motor constant matrix\n",
    "km = 0.14\n",
    "K = 1/np.sqrt(km)*np.identity(2)\n",
    "\n",
    "# Total friction power loss\n",
    "inst_friction_power = []\n",
    "inst_joule_power = []\n",
    "\n",
    "for i in range(len(log3.sample_times())):\n",
    "    omega_inst = omega_m[:, i]\n",
    "    tau_f = tau_mu*np.sign(omega_inst)+b0*omega_inst\n",
    "    P_f = np.dot(tau_f, omega_inst)\n",
    "    inst_friction_power.append(P_f)\n",
    "    tau_t = tau_f+tau_m[:, i]\n",
    "    P_t = np.dot(K.dot(tau_t), tau_t)\n",
    "    inst_joule_power.append(P_t)\n",
    "# Normalising to step size, since its an integration\n",
    "# If the step size is constant, this can be ignored\n",
    "print('friction losses: ', np.sum(inst_friction_power)*1e-4)\n",
    "# Losses due to joule effecto at motor windings\n",
    "print('joule losses: ', np.sum(inst_joule_power)*1e-4)"
   ]
  },
  {
   "cell_type": "code",
   "execution_count": null,
   "metadata": {},
   "outputs": [],
   "source": [
    "inst_power = []\n",
    "Kt = 0.068\n",
    "Kv = 140\n",
    "for i in range(len(log3.sample_times())):    \n",
    "    # Compute inst power demanded\n",
    "    inst_power.append(np.abs(np.multiply(log3.data()[:,i], omega[i]))/(Kt*Kv))\n",
    "\n",
    "inst_power_m = []\n",
    "Kt = 0.068\n",
    "Kv = 140\n",
    "for i in range(len(log3.sample_times())):    \n",
    "    # Compute inst power demanded\n",
    "    inst_power_m.append(np.abs(np.multiply(tau_m[:,i], omega_m[:,i]))/(Kt*Kv))"
   ]
  },
  {
   "cell_type": "code",
   "execution_count": null,
   "metadata": {},
   "outputs": [],
   "source": [
    "# The joule losses feel very high, is this common or is\n",
    "plt.plot(log3.sample_times(), inst_power)\n",
    "print(\"max power used: \", np.max(inst_power), \"W\")"
   ]
  },
  {
   "cell_type": "code",
   "execution_count": null,
   "metadata": {
    "scrolled": true
   },
   "outputs": [],
   "source": [
    "# The joule losses feel very high, is this common or is\n",
    "plt.plot(log3.sample_times(), inst_joule_power)\n",
    "print(\"max power used: \", np.max(inst_joule_power), \"W\")"
   ]
  },
  {
   "cell_type": "code",
   "execution_count": null,
   "metadata": {},
   "outputs": [],
   "source": [
    "inst_power_m = []\n",
    "Kt = 0.068\n",
    "Kv = 140\n",
    "for i in range(len(log3.sample_times())):    \n",
    "    # Compute inst power demanded\n",
    "    inst_power_m.append(np.multiply(tau_m[:,i], omega_m[:,i]*60/(2*np.pi))/(Kt*Kv))\n",
    "    \n",
    "    # The joule losses feel very high, is this common or is\n",
    "plt.plot(log3.sample_times(), inst_power_m)\n",
    "print(\"max power used: \", np.max(inst_power_m), \"W\")"
   ]
  },
  {
   "cell_type": "code",
   "execution_count": null,
   "metadata": {},
   "outputs": [],
   "source": [
    "print(total_friction_loss)\n",
    "print(total_joule_loss)"
   ]
  },
  {
   "cell_type": "code",
   "execution_count": null,
   "metadata": {},
   "outputs": [],
   "source": [
    "# Compute cost\n",
    "print(1+1+1+ts+total_friction_loss+total_joule_loss)"
   ]
  },
  {
   "cell_type": "code",
   "execution_count": null,
   "metadata": {},
   "outputs": [],
   "source": [
    "def gripper_forward_kinematics_example():\n",
    "    builder = DiagramBuilder()\n",
    "    plant, scene_graph = AddMultibodyPlantSceneGraph(builder, time_step=1e-4)\n",
    "    model = Parser(plant, scene_graph).AddModelFromFile(urdf_path, 'diva_robot')\n",
    "    # Transform for the robot location\n",
    "    X_R = RigidTransform(RotationMatrix.MakeYRotation(-np.pi/2), np.array([-0.1, 0.5, 1]))\n",
    "#     X_R = RigidTransform(RotationMatrix(RollPitchYaw([0.8, -0.8, 0])), np.array([-0.1, 0.5, 1]))\n",
    "    plant.WeldFrames(plant.world_frame(), plant.get_body(plant.GetBodyIndices(model)[0]).body_frame(), X_R)\n",
    "    # Spawn table\n",
    "    table = Parser(plant, scene_graph).AddModelFromFile('./urdfs/table/extra_heavy_duty_table_modified.sdf','table')\n",
    "    # Spawn spherical work piece\n",
    "    sphere = Parser(plant, scene_graph).AddModelFromFile('./urdfs/helper/sphere.urdf','sphere')\n",
    "    # Place the sphere at the center of the table\n",
    "    # Length, width and height and thickness of the table\n",
    "    # 1.39, 0.762, 0.736, 0.057\n",
    "    # Sphere radius -- Can be made a design variable\n",
    "    # 0.15\n",
    "    # We can sample end-points on the surface of the sphere\n",
    "    X_R = RigidTransform(RotationMatrix(RollPitchYaw([0, 0, 0])), np.array([0, 0, 0.736]))\n",
    "    plant.WeldFrames(plant.world_frame(), plant.get_body(plant.GetBodyIndices(sphere)[0]).body_frame(), X_R)\n",
    "\n",
    "    plant.Finalize()\n",
    "    \n",
    "    end_frame = \"eef\"\n",
    "    \n",
    "    # Draw the frames\n",
    "    for body_name in [\"base_link\", end_frame]:\n",
    "        AddMultibodyTriad(plant.GetFrameByName(body_name, model), scene_graph)\n",
    "\n",
    "    meshcat.Delete()\n",
    "    meshcat.DeleteAddedControls()\n",
    "\n",
    "    visualizer = MeshcatVisualizerCpp.AddToBuilder(builder, scene_graph, meshcat)\n",
    "\n",
    "    diagram = builder.Build()\n",
    "    context = diagram.CreateDefaultContext()\n",
    "\n",
    "#     plant.SetPositions(plant.GetMyContextFromRoot(context),\n",
    "#                   plant.GetModelInstanceByName(\"diva_robot\"),\n",
    "#                   [-3.54, -2.33, -1.49, -1.62, -0.97, -0.19, 0.47])\n",
    "    plant.SetPositions(plant.GetMyContextFromRoot(context),\n",
    "                  plant.GetModelInstanceByName(\"diva_robot\"),\n",
    "                  fully_stretched)\n",
    "    \n",
    "    gripper = plant.GetBodyByName(end_frame)\n",
    "    def pose_callback(context):\n",
    "        pose = plant.EvalBodyPoseInWorld(context, gripper)   ## This is the important line\n",
    "        print(pose.translation())\n",
    "        clear_output(wait=True)\n",
    "        print(\"gripper position (m): \" + np.array2string(\n",
    "            pose.translation(), formatter={\n",
    "                'float': lambda x: \"{:3.2f}\".format(x)}))\n",
    "        print(\"gripper roll-pitch-yaw (rad):\" + np.array2string(\n",
    "            RollPitchYaw(pose.rotation()).vector(),\n",
    "                         formatter={'float': lambda x: \"{:3.2f}\".format(x)}))\n",
    "        print(\"pose rotation: \", pose.rotation())\n",
    "    sliders = MeshcatJointSlidersThatPublish(meshcat, plant, visualizer, context)\n",
    "    # sliders.Run()\n",
    "    sliders.Run(pose_callback)\n",
    "\n",
    "gripper_forward_kinematics_example()"
   ]
  },
  {
   "cell_type": "code",
   "execution_count": null,
   "metadata": {},
   "outputs": [],
   "source": []
  }
 ],
 "metadata": {
  "colab": {
   "collapsed_sections": [],
   "name": "Robotic Manipulation - Let's get you a robot.ipynb",
   "provenance": [],
   "toc_visible": true
  },
  "interpreter": {
   "hash": "31f2aee4e71d21fbe5cf8b01ff0e069b9275f58929596ceb00d14d90e3e16cd6"
  },
  "kernelspec": {
   "display_name": "Python 3 (ipykernel)",
   "language": "python",
   "name": "python3"
  },
  "language_info": {
   "codemirror_mode": {
    "name": "ipython",
    "version": 3
   },
   "file_extension": ".py",
   "mimetype": "text/x-python",
   "name": "python",
   "nbconvert_exporter": "python",
   "pygments_lexer": "ipython3",
   "version": "3.8.5"
  }
 },
 "nbformat": 4,
 "nbformat_minor": 2
}
