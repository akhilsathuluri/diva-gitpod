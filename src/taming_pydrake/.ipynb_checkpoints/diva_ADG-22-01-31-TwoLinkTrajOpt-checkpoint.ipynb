{
 "cells": [
  {
   "cell_type": "code",
   "execution_count": 1,
   "metadata": {},
   "outputs": [],
   "source": [
    "# Imports\n",
    "import numpy as np\n",
    "import altair as alt\n",
    "import pydot\n",
    "from IPython.display import display, SVG, clear_output, HTML\n",
    "import matplotlib.pyplot as plt\n",
    "\n",
    "from pydrake.all import *\n",
    "from pydrake.examples.manipulation_station import ManipulationStation\n",
    "\n",
    "from manipulation import running_as_notebook\n",
    "from manipulation.meshcat_cpp_utils import (\n",
    "    StartMeshcat, MeshcatJointSlidersThatPublish)\n",
    "from manipulation.scenarios import AddMultibodyTriad, SetColor\n",
    "\n",
    "import pandas as pd\n",
    "import joblib\n",
    "import sys\n",
    "import json\n",
    "import time"
   ]
  },
  {
   "cell_type": "code",
   "execution_count": 2,
   "metadata": {},
   "outputs": [
    {
     "data": {
      "text/html": [
       "Meshcat is now available at <a href=\"http://localhost:7002\">http://localhost:7002</a>"
      ],
      "text/plain": [
       "<IPython.core.display.HTML object>"
      ]
     },
     "metadata": {},
     "output_type": "display_data"
    }
   ],
   "source": [
    "# Start the visualizer.\n",
    "meshcat = StartMeshcat()"
   ]
  },
  {
   "cell_type": "code",
   "execution_count": 3,
   "metadata": {},
   "outputs": [],
   "source": [
    "# Defining the actuator box\n",
    "class ActuatorBox(LeafSystem):\n",
    "    def __init__(self, tau_max_dv, inst_power_max):\n",
    "        LeafSystem.__init__(self)\n",
    "        self.tau_max = tau_max_dv\n",
    "        self.inst_power_max = inst_power_max\n",
    "        self.DeclareVectorInputPort('commanded_torque', BasicVector(2))\n",
    "        self.DeclareVectorInputPort('joint_state', BasicVector(4))\n",
    "        self.DeclareVectorOutputPort('realised_torque', BasicVector(2), self.OutputJointTorque)\n",
    "\n",
    "    def OutputJointTorque(self, context, output):\n",
    "        u = self.EvalVectorInput(context, 0).get_value()\n",
    "        # Enforcing saturation with joint effort\n",
    "        u = np.array(u)\n",
    "        # Bound control input with tau_max\n",
    "        u[u>self.tau_max]=self.tau_max\n",
    "        u[u<-self.tau_max]=-self.tau_max\n",
    "        # Also check for instantaneous power delivered\n",
    "        q = self.EvalVectorInput(context, 1).get_value()\n",
    "        # Extract joint velocity\n",
    "        qvel = np.array(q)[2:]\n",
    "        # We need Kt and Kv to compute the power\n",
    "        # Assuming them to be constant for now\n",
    "        Kt = 0.068\n",
    "        Kv = 140\n",
    "        # Compute inst power demanded\n",
    "        inst_power = np.abs(np.multiply(u, qvel))/(Kt*Kv)\n",
    "        # Find joints which violate power\n",
    "        index = np.where(inst_power >= self.inst_power_max)\n",
    "        for i in index:\n",
    "            u[i] = self.inst_power_max/qvel[i]\n",
    "        output.SetFromVector(u)\n"
   ]
  },
  {
   "cell_type": "code",
   "execution_count": 4,
   "metadata": {},
   "outputs": [],
   "source": [
    "# Sample design from the DV space\n",
    "input_path = '~/git/research/xray/src/problems/TwoLinkTrajOpt/input/'\n",
    "dv_frame = pd.read_csv(input_path+'dv_space.csv')\n",
    "qoi = pd.read_csv(input_path+'qoi_space.csv')\n",
    "\n",
    "def sample_variables(dv):\n",
    "    dv_samples = pd.DataFrame(np.random.uniform(dv.Lower, dv.Upper, (1, len(dv))),columns=dv.Variables)\n",
    "    return dv_samples"
   ]
  },
  {
   "cell_type": "code",
   "execution_count": 5,
   "metadata": {},
   "outputs": [],
   "source": [
    "# Loading the models\n",
    "clf = joblib.load('../../../xray/src/problems/TwoLinkTrajOpt/library/feasibility_classifier.pkl')\n",
    "# Load the scales\n",
    "fit_file = open('../../../xray/src/problems/TwoLinkTrajOpt/library/mean_and_scale.json')\n",
    "fit_params = json.load(fit_file)\n",
    "fit_file.close()"
   ]
  },
  {
   "cell_type": "code",
   "execution_count": 6,
   "metadata": {},
   "outputs": [
    {
     "name": "stdout",
     "output_type": "stream",
     "text": [
      "taumax:  15.7707\n",
      "pmax:  174.2067\n",
      "Kp_sample:  50.0\n",
      "Kd_sample:  9.9298\n",
      "gear_ratio:  12.0032\n",
      "./urdfs/twolink130893178.urdf\n",
      "[3.600000e-01 3.600000e-01 5.000000e+01 1.577070e+01 4.523000e-01\n",
      " 1.200320e+01 1.742067e+02 9.929800e+00 6.462338e+02 6.942400e+07\n",
      " 5.610200e+07]\n"
     ]
    }
   ],
   "source": [
    "# a1, lua, a23_distr, lfa, a45_distr, K, taumax, m_m, N, Pmax, Kd, a7\n",
    "# sample_dv_frame = sample_variables(dv_frame)\n",
    "# dv = sample_dv_frame.values.tolist()[0]\n",
    "# print(sample_dv_frame)\n",
    "# print(sample_dv)\n",
    "# a1, lua, a23_distr, lfa, a45_distr, K, taumax, m_m, N, Pmax, Kd, a7\n",
    "# dv = [0.3, 0.3, 0.5, 0.3, 0.5, 10.5, 32.88886082, 0.55, 15.43, 150., 14.16907122, 0.175]\n",
    "# Bad design\n",
    "# dv = [1.37824764e-01, 3.80908499e-01, 9.48871510e-01, 1.11472923e-01,\n",
    "#  4.51461495e-01, 1.17623087e+01, 1.05489844e+01, 7.51899527e-01,\n",
    "#  9.31085993e+00, 1.96724922e+02, 4.51052437e+00, 2.48978655e-01]\n",
    "\n",
    "# Best design from pygmo optimisation\n",
    "# a1, a2 + rho, s1, s2 + K, taumax, m_m, N, Pmax, Kd, k11, k22, k33\n",
    "# dv = [0.1544, 0.2481, 16.2884, 15.7707, 0.4523, 12.0032, 174.2067, 19.9298, 29109.3986, 81336546.9555, 8414614.769]\n",
    "# dv = [0.36, 0.36, 16.2884, 15.7707, 0.4523, 12.0032, 174.2067, 9.9298, 646.2338, 6.9424e+07, 5.6102e+07]\n",
    "dv = [0.36, 0.36, 50, 15.7707, 0.4523, 12.0032, 174.2067, 9.9298, 646.2338, 6.9424e+07, 5.6102e+07]\n",
    "# Round off to 4 decimals\n",
    "dv = np.round(dv,4)\n",
    "qd = np.array([0.7, -0.4])\n",
    "qinit = np.array([0.1, 0.1])\n",
    "\n",
    "qoi = pd.read_csv('~/git/research/xray/src/problems/TwoLinkTrajOpt/input/qoi_space.csv')\n",
    "sim_time = qoi[qoi.Variables.str.match('tcycle')].Upper[0]\n",
    "error_threshold = 5e-3\n",
    "# Friction torque\n",
    "tau_mu = 5.3e-3\n",
    "b0 = 1.5e-5\n",
    "# Motor constant matrix\n",
    "km = 0.14\n",
    "taumax = dv[3]\n",
    "pmax = dv[6]\n",
    "Kp_sample = dv[2]\n",
    "Kd_sample = dv[7]\n",
    "gear_ratio = dv[5]\n",
    "kvals = dv[8:11]\n",
    "\n",
    "print('taumax: ', taumax)\n",
    "print('pmax: ', pmax)\n",
    "print('Kp_sample: ', Kp_sample)\n",
    "print('Kd_sample: ', Kd_sample)\n",
    "print('gear_ratio: ', gear_ratio)\n",
    "\n",
    "# Run this every time a new URDF is to be created\n",
    "# Clear kernel every time urdf_creator is changed\n",
    "\n",
    "sys.path.append('../../../xray/src/problems/TwoLinkTrajOpt/library')\n",
    "from urdf_creator_sim import *\n",
    "save_path = './urdfs/'\n",
    "urdf_path = urdf_creator(dv, fit_params, path = save_path)\n",
    "print(urdf_path)\n",
    "print(dv)\n",
    "# urdf_path = './urdfs/divar3v4803583300.urdf'"
   ]
  },
  {
   "cell_type": "code",
   "execution_count": 7,
   "metadata": {},
   "outputs": [],
   "source": [
    "# clf.predict(((np.array([646.2338, 6.9424e+07, 5.6102e+07, 360])-feas_mean)/feas_scale).reshape(1, -1))"
   ]
  },
  {
   "cell_type": "code",
   "execution_count": 8,
   "metadata": {},
   "outputs": [
    {
     "name": "stdout",
     "output_type": "stream",
     "text": [
      "[1. 1.]\n"
     ]
    }
   ],
   "source": [
    "# Check feasibility of the design\n",
    "link_lengths = np.array(dv)[:2]\n",
    "input_list = np.c_[np.array([kvals,]*2), link_lengths*1000]\n",
    "input_list_torch = torch.from_numpy(input_list)\n",
    "feas_mean = np.array(fit_params['feas_data']['mean'])\n",
    "feas_scale = np.array(fit_params['feas_data']['scale'])\n",
    "# Scale this value based on the fit_params\n",
    "norm_input_list = (input_list_torch-feas_mean)/feas_scale\n",
    "# Now predict output\n",
    "pred_feas = clf.predict(norm_input_list.cpu().numpy())\n",
    "print(pred_feas)"
   ]
  },
  {
   "cell_type": "code",
   "execution_count": 9,
   "metadata": {},
   "outputs": [],
   "source": [
    "builder = DiagramBuilder()\n",
    "# Create plant\n",
    "time_step = 1e-4\n",
    "plant, scene_graph = AddMultibodyPlantSceneGraph(builder, time_step=time_step)\n",
    "model = Parser(plant, scene_graph).AddModelFromFile(urdf_path, 'diva_robot')\n",
    "# Transform for the robot location\n",
    "X_R = RigidTransform(RotationMatrix.MakeYRotation(-np.pi/2), np.array([-0.1, 0.5, 1]))\n",
    "plant.WeldFrames(plant.world_frame(), plant.get_body(plant.GetBodyIndices(model)[0]).body_frame(), X_R)\n",
    "plant.Finalize()\n",
    "# Initialise the acutator module\n",
    "actuator = builder.AddSystem(ActuatorBox(taumax, pmax))"
   ]
  },
  {
   "cell_type": "code",
   "execution_count": 10,
   "metadata": {},
   "outputs": [],
   "source": [
    "# Draw the frames\n",
    "# for body_name in [\"base_link\", \"eef\"]:\n",
    "# # for body_name in [\"base_link\", \"eef\"]:\n",
    "#     AddMultibodyTriad(plant.GetFrameByName(body_name, model), scene_graph)\n",
    "\n",
    "# Adds the MeshcatVisualizer and wires it to the SceneGraph.\n",
    "visualizer = MeshcatVisualizerCpp.AddToBuilder(builder, scene_graph, meshcat)\n",
    "\n",
    "Kp = np.full(2, Kp_sample)\n",
    "Ki = np.full(2, 0)\n",
    "Kd = np.full(2, Kd_sample)\n",
    "iiwa_controller = builder.AddSystem(InverseDynamicsController(plant, Kp, Ki, Kd, False))\n",
    "iiwa_controller.set_name(\"iiwa_controller\");\n",
    "builder.Connect(plant.get_state_output_port(model),\n",
    "                iiwa_controller.get_input_port_estimated_state())\n",
    "# Add a motor characteristics box here to define how the motor output would be based on the commanded control\n",
    "builder.Connect(iiwa_controller.get_output_port_control(),\n",
    "                actuator.get_input_port(0))\n",
    "builder.Connect(plant.get_state_output_port(model),\n",
    "                actuator.get_input_port(1))\n",
    "builder.Connect(actuator.get_output_port(),  plant.get_actuation_input_port())\n",
    "# Connecting a data logger\n",
    "# Joint state\n",
    "logger2 = LogVectorOutput(plant.get_state_output_port(model), builder)\n",
    "# Realised torque\n",
    "logger3 = LogVectorOutput(actuator.get_output_port(), builder)\n",
    "diagram = builder.Build()"
   ]
  },
  {
   "cell_type": "code",
   "execution_count": 11,
   "metadata": {},
   "outputs": [],
   "source": [
    "#  SVG(pydot.graph_from_dot_data(diagram.GetGraphvizString())[0].create_svg())"
   ]
  },
  {
   "cell_type": "code",
   "execution_count": 12,
   "metadata": {},
   "outputs": [],
   "source": [
    "# diagram.set_name(\"diagram\")\n",
    "# HTML('<script src=\"https://unpkg.com/gojs/release/go.js\"></script>' + GenerateHtml(diagram))"
   ]
  },
  {
   "cell_type": "code",
   "execution_count": 13,
   "metadata": {},
   "outputs": [],
   "source": [
    "context = diagram.CreateDefaultContext()\n",
    "plant_context = plant.GetMyMutableContextFromRoot(context)\n",
    "gripper_frame = plant.GetBodyByName(\"eef\").body_frame()"
   ]
  },
  {
   "cell_type": "code",
   "execution_count": 14,
   "metadata": {},
   "outputs": [
    {
     "name": "stdout",
     "output_type": "stream",
     "text": [
      "2.071220113122675\n"
     ]
    }
   ],
   "source": [
    "G = plant.GetBodyByName(\"eef\").body_frame()\n",
    "W = plant.world_frame()\n",
    "# If we can reach the final position, set that as the robots position\n",
    "plant.SetPositions(plant.GetMyContextFromRoot(context), model, qd)\n",
    "# changed from kQDot to kV for jacobian computation\n",
    "J_G = plant.CalcJacobianSpatialVelocity(plant_context, JacobianWrtVariable.kV, G, [0,0,0], W, W)\n",
    "# Force on robot body in global frame due to contact\n",
    "force_applied = np.array([0,0,0,0,0,10])\n",
    "force_projection = np.matmul(J_G.transpose(), force_applied)\n",
    "# Compute gravity potential vector\n",
    "Gvec = plant.CalcGravityGeneralizedForces(plant_context)\n",
    "# As per pydrake documentation\n",
    "joint_torques = -Gvec-force_projection\n",
    "print(np.max(np.abs(joint_torques)))"
   ]
  },
  {
   "cell_type": "code",
   "execution_count": 15,
   "metadata": {},
   "outputs": [
    {
     "name": "stdout",
     "output_type": "stream",
     "text": [
      "0.0029818273149143414\n"
     ]
    }
   ],
   "source": [
    "fully_stretched = np.array([0,-1.57])\n",
    "plant.SetPositions(plant.GetMyContextFromRoot(context), model,\n",
    "              fully_stretched)\n",
    "J_G = plant.CalcJacobianSpatialVelocity(plant_context, JacobianWrtVariable.kV, G, [0,0,0], W, W)\n",
    "# Lift a weight of 10N (1kg payload)\n",
    "force_applied = np.array([0,0,0,0,0,-10])\n",
    "force_projection = np.matmul(J_G.transpose(), force_applied)\n",
    "# Compute gravity potential vector\n",
    "Gvec = plant.CalcGravityGeneralizedForces(plant_context)\n",
    "# As per pydrake documentation\n",
    "joint_torques = -Gvec-force_projection\n",
    "print(np.max(np.abs(joint_torques)))"
   ]
  },
  {
   "cell_type": "code",
   "execution_count": 16,
   "metadata": {},
   "outputs": [
    {
     "data": {
      "text/plain": [
       "<pydrake.systems.framework.FixedInputPortValue at 0x7ff03f00e630>"
      ]
     },
     "execution_count": 16,
     "metadata": {},
     "output_type": "execute_result"
    }
   ],
   "source": [
    "xd = np.hstack((qd, 0*qd))\n",
    "plant.SetPositions(plant_context, qinit)\n",
    "iiwa_controller.GetInputPort('desired_state').FixValue(\n",
    "    iiwa_controller.GetMyMutableContextFromRoot(context), xd)"
   ]
  },
  {
   "cell_type": "code",
   "execution_count": 17,
   "metadata": {},
   "outputs": [],
   "source": [
    "simulator = Simulator(diagram, context)\n",
    "simulator.AdvanceTo(sim_time);"
   ]
  },
  {
   "cell_type": "code",
   "execution_count": 18,
   "metadata": {},
   "outputs": [],
   "source": [
    "# Now we want to get the simulation data, i.e., \n",
    "# the torque applied, final time and the \n",
    "# log1 = logger1.FindLog(context)\n",
    "log2 = logger2.FindLog(context)\n",
    "log3 = logger3.FindLog(context)"
   ]
  },
  {
   "cell_type": "code",
   "execution_count": 19,
   "metadata": {},
   "outputs": [
    {
     "name": "stdout",
     "output_type": "stream",
     "text": [
      "1.3283173513275586e-11\n"
     ]
    }
   ],
   "source": [
    "error = np.abs(log2.data()[:2,:].transpose() - np.tile(qd,(log2.data().shape[1],1)))\n",
    "e_norm = np.array([np.linalg.norm(val) for val in error])\n",
    "print(e_norm[-1])"
   ]
  },
  {
   "cell_type": "code",
   "execution_count": 20,
   "metadata": {},
   "outputs": [
    {
     "name": "stdout",
     "output_type": "stream",
     "text": [
      "SNOPT/fortran\n",
      "True\n"
     ]
    }
   ],
   "source": [
    "# Now instead of a PID control, we are going to do \n",
    "# trajectory optimisation, with state and control bounds\n",
    "# However, in this case there is absolutely no control \n",
    "# parameter that can be varied as a design variable, instead \n",
    "# this is a cascaded approach to co-design\n",
    "def autoDiffArrayEqual(a,b):\n",
    "    return np.array_equal(a, b) and np.array_equal(ExtractGradient(a), ExtractGradient(b))\n",
    "# Initialise the system here\n",
    "prog = MathematicalProgram()\n",
    "# Time steps\n",
    "ti = 0\n",
    "tf = 1\n",
    "N = 100\n",
    "h = (tf-ti)/N\n",
    "\n",
    "# Create one context per timestep (to maximize cache hits)\n",
    "context = [plant.CreateDefaultContext() for i in range(N)]\n",
    "# We could get rid of this by implementing a few more Jacobians in MultibodyPlant:\n",
    "ad_plant = plant.ToAutoDiffXd()\n",
    "\n",
    "# Create new variables\n",
    "nq = plant.num_positions()\n",
    "nv = plant.num_velocities()\n",
    "nu = plant.num_actuators()\n",
    "q = prog.NewContinuousVariables(nq, N, 'q')\n",
    "v = prog.NewContinuousVariables(nv, N, 'v')\n",
    "u = prog.NewContinuousVariables(nu, N, 'u')\n",
    "\n",
    "# Set lower and upper limits\n",
    "q_limits = np.array([[-np.pi, -np.pi], [np.pi, np.pi]])\n",
    "v_limits = np.array([[-1,-1],[1,1]])*5\n",
    "u_limits = np.array([-1,1])*10\n",
    "# Initial state\n",
    "q0 = np.array([0.25, 1.51])\n",
    "qf = np.array([0,0])\n",
    "v0 = np.array([0, 0])\n",
    "u0 = np.array([0,0])\n",
    "# Cost coefficient\n",
    "Qmat = np.diag(np.full(nq,1))\n",
    "Vmat = np.diag(np.full(nv, 1))\n",
    "Umat = np.diag(np.full(nu, 1))\n",
    "\n",
    "# Defining velocity constraints\n",
    "ad_velocity_dynamics_context = [ad_plant.CreateDefaultContext() for i in range(N)]\n",
    "def velocity_dynamics_constraint(vars, context_index):\n",
    "    q, v, qn = np.split(vars, [nq, nq+nv])\n",
    "    if isinstance(vars[0], AutoDiffXd):\n",
    "        if not autoDiffArrayEqual(q, ad_plant.GetPositions(ad_velocity_dynamics_context[context_index])):\n",
    "            ad_plant.SetPositions(ad_velocity_dynamics_context[context_index], q)\n",
    "        v_from_qdot = ad_plant.MapQDotToVelocity(ad_velocity_dynamics_context[context_index], (qn - q)/h)\n",
    "    else:\n",
    "        if not np.array_equal(q, plant.GetPositions(context[context_index])):\n",
    "            plant.SetPositions(context[context_index], q)\n",
    "        v_from_qdot = plant.MapQDotToVelocity(context[context_index], (qn - q)/h)\n",
    "    return v - v_from_qdot\n",
    "\n",
    "# Add velocity constraint at each instant\n",
    "for n in range(N-1):\n",
    "    prog.AddConstraint(\n",
    "    partial(velocity_dynamics_constraint, context_index=n),\n",
    "    lb=[0]*nv, ub=[0]*nv,\n",
    "    vars=np.concatenate((q[:,n], v[:,n], q[:,n+1])))\n",
    "\n",
    "# Defining dynamics constraints\n",
    "ad_dynamics_context = [ad_plant.CreateDefaultContext() for i in range(N)]\n",
    "W = ad_plant.world_frame()\n",
    "G = ad_plant.GetBodyByName(\"eef\").body_frame()\n",
    "def dynamics_constraints(vars, context_index):\n",
    "    q, v, vn, u = np.split(vars, [nq, nq+nv, nq+2*nv])\n",
    "    ad_plant.SetPositionsAndVelocities(ad_dynamics_context[context_index], np.concatenate((q,v)))\n",
    "    # Now since q and v are set, compute vdot\n",
    "    Mmat = ad_plant.CalcMassMatrix(ad_dynamics_context[context_index])\n",
    "    Gvec = ad_plant.CalcGravityGeneralizedForces(ad_dynamics_context[context_index])\n",
    "    Cb = ad_plant.CalcBiasTerm(ad_dynamics_context[context_index])\n",
    "    dynamics_residue = Mmat@(vn-v)/h + Cb - u - Gvec\n",
    "    return dynamics_residue\n",
    "\n",
    "# Add dynamics constraint at each instant\n",
    "for n in range(N-1):\n",
    "    prog.AddConstraint(\n",
    "    partial(dynamics_constraints, context_index=n),\n",
    "    lb=[0]*nv, ub=[0]*nv,\n",
    "    vars=np.concatenate((q[:,n], v[:,n], v[:,n+1],u[:,n])))\n",
    "\n",
    "# Add constraints\n",
    "for n in range(N-1):\n",
    "    # Joint limits\n",
    "    prog.AddBoundingBoxConstraint(q_limits[0], q_limits[1], q[:,n])\n",
    "    prog.AddBoundingBoxConstraint(v_limits[0], v_limits[1], v[:,n])\n",
    "    prog.AddBoundingBoxConstraint(u_limits[0], u_limits[1], u[:,n])\n",
    "    # Initial guess for all the positions\n",
    "    prog.SetInitialGuess(q[:,n], q0)\n",
    "    prog.SetInitialGuess(u[:,n], u0)    \n",
    "    # Add costs\n",
    "    prog.AddQuadraticErrorCost(Qmat, q0, q[:,n])\n",
    "    prog.AddQuadraticErrorCost(Vmat, v0, v[:,n])\n",
    "    prog.AddQuadraticErrorCost(Umat, u0, u[:,n])\n",
    "\n",
    "# Add an inital and end constraints\n",
    "prog.AddConstraint(eq(q0, q[:,0]))\n",
    "prog.AddConstraint(eq(qf, q[:,N-1]))\n",
    "# All we need now is a dynamics constraint at each time step\n",
    "# Observing from the iCub jump paper, no one really uses the entire dynamics for jumping\n",
    "# We need to come-up with smart ways to make the robot jump without heavy computation on the constraints\n",
    "\n",
    "result = Solve(prog)\n",
    "print(result.get_solver_id().name())\n",
    "print(result.is_success())"
   ]
  },
  {
   "cell_type": "code",
   "execution_count": 24,
   "metadata": {},
   "outputs": [
    {
     "data": {
      "text/plain": [
       "[<matplotlib.lines.Line2D at 0x7ff03dc63a90>,\n",
       " <matplotlib.lines.Line2D at 0x7ff03dc63af0>]"
      ]
     },
     "execution_count": 24,
     "metadata": {},
     "output_type": "execute_result"
    },
    {
     "data": {
      "image/png": "[encoded data removed]",
      "text/plain": [
       "<Figure size 432x288 with 3 Axes>"
      ]
     },
     "metadata": {
      "needs_background": "light"
     },
     "output_type": "display_data"
    }
   ],
   "source": [
    "qsol = result.GetSolution(q)\n",
    "vsol = result.GetSolution(v)\n",
    "usol = result.GetSolution(u)\n",
    "\n",
    "fig, ax = plt.subplots(3,1)\n",
    "ax[0].plot(usol.transpose())\n",
    "ax[1].plot(qsol.transpose())\n",
    "ax[2].plot(vsol.transpose())"
   ]
  },
  {
   "cell_type": "code",
   "execution_count": 25,
   "metadata": {},
   "outputs": [],
   "source": [
    "context = diagram.CreateDefaultContext()\n",
    "plant_context = plant.GetMyMutableContextFromRoot(context)\n",
    "plant.SetPositions(plant_context, q0)\n",
    "iiwa_controller.GetInputPort('desired_state').FixValue(\n",
    "    iiwa_controller.GetMyMutableContextFromRoot(context), xd)\n",
    "diagram.Publish(context)\n",
    "\n",
    "# Visualise the motion\n",
    "for i in range(qsol.shape[1]):\n",
    "    plant.SetPositions(plant_context, qsol[:,i])\n",
    "    diagram.Publish(context)\n",
    "    time.sleep(0.05)"
   ]
  },
  {
   "cell_type": "code",
   "execution_count": 56,
   "metadata": {},
   "outputs": [],
   "source": [
    "omega_j = vsol\n",
    "omega_m = np.array(omega_j).transpose()*gear_ratio\n",
    "# Convert the motor speed to RPM\n",
    "omega_m_rpm = omega_m*60/(2*np.pi)\n",
    "# Motor torque realised\n",
    "tau_m = usol.transpose()/gear_ratio\n",
    "# Costant matrix for tau->joule_loss\n",
    "K = 1/np.sqrt(km)*np.identity(2)\n",
    "Kt = 0.068\n",
    "Kv = 140"
   ]
  },
  {
   "cell_type": "code",
   "execution_count": 57,
   "metadata": {},
   "outputs": [],
   "source": [
    "# Total power loss\n",
    "inst_friction_power = []\n",
    "inst_joule_power = []\n",
    "for i in range(N):\n",
    "    omega_inst = omega_m[i]\n",
    "    tau_f = tau_mu*np.sign(omega_inst)+b0*omega_inst\n",
    "    P_f = np.dot(tau_f, omega_inst)\n",
    "    inst_friction_power.append(P_f)\n",
    "    tau_t = tau_f+tau_m[i]\n",
    "    P_t = np.dot(K.dot(tau_t), tau_t)\n",
    "    inst_joule_power.append(P_t)"
   ]
  },
  {
   "cell_type": "code",
   "execution_count": 58,
   "metadata": {},
   "outputs": [
    {
     "name": "stdout",
     "output_type": "stream",
     "text": [
      "total_friction_loss:  0.0011939853890332991\n",
      "total_joule_loss:  2.9784340125762646e-05\n"
     ]
    }
   ],
   "source": [
    "total_friction_loss = np.sum(inst_friction_power)*time_step\n",
    "total_joule_loss = np.sum(inst_joule_power)*time_step\n",
    "print('total_friction_loss: ', total_friction_loss)\n",
    "print('total_joule_loss: ', total_joule_loss)"
   ]
  },
  {
   "cell_type": "code",
   "execution_count": 62,
   "metadata": {},
   "outputs": [
    {
     "data": {
      "text/plain": [
       "[<matplotlib.lines.Line2D at 0x7fd530c2ee50>,\n",
       " <matplotlib.lines.Line2D at 0x7fd530b76f10>]"
      ]
     },
     "execution_count": 62,
     "metadata": {},
     "output_type": "execute_result"
    },
    {
     "data": {
      "image/png": "[encoded data removed]",
      "text/plain": [
       "<Figure size 432x288 with 1 Axes>"
      ]
     },
     "metadata": {
      "needs_background": "light"
     },
     "output_type": "display_data"
    }
   ],
   "source": [
    "inst_power_m = []\n",
    "Kt = 0.068\n",
    "Kv = 140\n",
    "for i in range(N):\n",
    "    # Compute inst power demanded\n",
    "    inst_power_m.append(np.abs(np.multiply(tau_m[i], omega_m_rpm[i]))/(Kt*Kv))\n",
    "    \n",
    "plt.plot(inst_power_m)"
   ]
  },
  {
   "cell_type": "code",
   "execution_count": null,
   "metadata": {},
   "outputs": [],
   "source": [
    "# Final state of the robot\n",
    "np.linalg.norm(qd-(log2.data()[:2, -1]))"
   ]
  },
  {
   "cell_type": "code",
   "execution_count": null,
   "metadata": {},
   "outputs": [],
   "source": [
    "fig = plt.figure()\n",
    "plt.plot(log3.sample_times(), log3.data()[0, :], log3.sample_times(), log3.data()[1, :])"
   ]
  },
  {
   "cell_type": "code",
   "execution_count": null,
   "metadata": {},
   "outputs": [],
   "source": [
    "error = np.abs(log2.data()[:2,:].transpose() - np.tile(qd,(log2.data().shape[1],1)))"
   ]
  },
  {
   "cell_type": "code",
   "execution_count": null,
   "metadata": {},
   "outputs": [],
   "source": [
    "plt.plot(error)"
   ]
  },
  {
   "cell_type": "code",
   "execution_count": null,
   "metadata": {},
   "outputs": [],
   "source": [
    "e_norm = np.array([np.linalg.norm(val) for val in error])\n",
    "for i in range(len(e_norm)):\n",
    "    if np.all(e_norm[i:]<5e-3):\n",
    "        print(i)\n",
    "        break"
   ]
  },
  {
   "cell_type": "code",
   "execution_count": null,
   "metadata": {},
   "outputs": [],
   "source": [
    "ts = log2.sample_times()[i]\n",
    "print(ts)"
   ]
  },
  {
   "cell_type": "code",
   "execution_count": null,
   "metadata": {},
   "outputs": [],
   "source": [
    "# Max torque required\n",
    "# We can enforce max torque requirements at each joint in the URDF itself\n",
    "# print(np.max(np.abs(log1.data())))\n",
    "print(np.max(np.abs(log3.data())))"
   ]
  },
  {
   "cell_type": "code",
   "execution_count": null,
   "metadata": {},
   "outputs": [],
   "source": [
    "plt.plot(log2.sample_times(), log2.data()[0, :], log2.sample_times(), log2.data()[1, :],\\\n",
    "        log2.sample_times(), log2.data()[2, :], log2.sample_times(), log2.data()[3, :])"
   ]
  },
  {
   "cell_type": "code",
   "execution_count": null,
   "metadata": {},
   "outputs": [],
   "source": [
    "# Now all that is left is to integrate these\n",
    "# bottom-up mappings with auto-generation of the URDF\n",
    "# and solution space computation"
   ]
  },
  {
   "cell_type": "code",
   "execution_count": null,
   "metadata": {},
   "outputs": [],
   "source": [
    "# Motor angular velocity\n",
    "omega = []\n",
    "for i in range(log2.data().shape[1]):\n",
    "    omega.append(log2.data()[:,i][2:])\n",
    "omega_m = np.array(omega).transpose()*gear_ratio\n",
    "# Motor torque\n",
    "tau_m = log3.data()/gear_ratio\n",
    "\n",
    "# Friction torque\n",
    "tau_mu = 5.3e-3\n",
    "b0 = 1.5e-5\n",
    "# Motor constant matrix\n",
    "km = 0.14\n",
    "K = 1/np.sqrt(km)*np.identity(2)\n",
    "\n",
    "# Total friction power loss\n",
    "inst_friction_power = []\n",
    "inst_joule_power = []\n",
    "\n",
    "for i in range(len(log3.sample_times())):\n",
    "    omega_inst = omega_m[:, i]\n",
    "    tau_f = tau_mu*np.sign(omega_inst)+b0*omega_inst\n",
    "    P_f = np.dot(tau_f, omega_inst)\n",
    "    inst_friction_power.append(P_f)\n",
    "    tau_t = tau_f+tau_m[:, i]\n",
    "    P_t = np.dot(K.dot(tau_t), tau_t)\n",
    "    inst_joule_power.append(P_t)\n",
    "# Normalising to step size, since its an integration\n",
    "# If the step size is constant, this can be ignored\n",
    "print('friction losses: ', np.sum(inst_friction_power)*1e-4)\n",
    "# Losses due to joule effecto at motor windings\n",
    "print('joule losses: ', np.sum(inst_joule_power)*1e-4)"
   ]
  },
  {
   "cell_type": "code",
   "execution_count": null,
   "metadata": {},
   "outputs": [],
   "source": [
    "inst_power = []\n",
    "Kt = 0.068\n",
    "Kv = 140\n",
    "for i in range(len(log3.sample_times())):    \n",
    "    # Compute inst power demanded\n",
    "    inst_power.append(np.abs(np.multiply(log3.data()[:,i], omega[i]))/(Kt*Kv))\n",
    "\n",
    "inst_power_m = []\n",
    "Kt = 0.068\n",
    "Kv = 140\n",
    "for i in range(len(log3.sample_times())):    \n",
    "    # Compute inst power demanded\n",
    "    inst_power_m.append(np.abs(np.multiply(tau_m[:,i], omega_m[:,i]))/(Kt*Kv))"
   ]
  },
  {
   "cell_type": "code",
   "execution_count": null,
   "metadata": {},
   "outputs": [],
   "source": [
    "# The joule losses feel very high, is this common or is\n",
    "plt.plot(log3.sample_times(), inst_power)\n",
    "print(\"max power used: \", np.max(inst_power), \"W\")"
   ]
  },
  {
   "cell_type": "code",
   "execution_count": null,
   "metadata": {
    "scrolled": true
   },
   "outputs": [],
   "source": [
    "# The joule losses feel very high, is this common or is\n",
    "plt.plot(log3.sample_times(), inst_joule_power)\n",
    "print(\"max power used: \", np.max(inst_joule_power), \"W\")"
   ]
  },
  {
   "cell_type": "code",
   "execution_count": null,
   "metadata": {},
   "outputs": [],
   "source": [
    "inst_power_m = []\n",
    "Kt = 0.068\n",
    "Kv = 140\n",
    "for i in range(len(log3.sample_times())):    \n",
    "    # Compute inst power demanded\n",
    "    inst_power_m.append(np.multiply(tau_m[:,i], omega_m[:,i]*60/(2*np.pi))/(Kt*Kv))\n",
    "    \n",
    "    # The joule losses feel very high, is this common or is\n",
    "plt.plot(log3.sample_times(), inst_power_m)\n",
    "print(\"max power used: \", np.max(inst_power_m), \"W\")"
   ]
  },
  {
   "cell_type": "code",
   "execution_count": null,
   "metadata": {},
   "outputs": [],
   "source": [
    "print(total_friction_loss)\n",
    "print(total_joule_loss)"
   ]
  },
  {
   "cell_type": "code",
   "execution_count": null,
   "metadata": {},
   "outputs": [],
   "source": [
    "# Compute cost\n",
    "print(1+1+1+ts+total_friction_loss+total_joule_loss)"
   ]
  },
  {
   "cell_type": "code",
   "execution_count": null,
   "metadata": {},
   "outputs": [],
   "source": [
    "def gripper_forward_kinematics_example():\n",
    "    builder = DiagramBuilder()\n",
    "    plant, scene_graph = AddMultibodyPlantSceneGraph(builder, time_step=1e-4)\n",
    "    model = Parser(plant, scene_graph).AddModelFromFile(urdf_path, 'diva_robot')\n",
    "    # Transform for the robot location\n",
    "    X_R = RigidTransform(RotationMatrix.MakeYRotation(-np.pi/2), np.array([-0.1, 0.5, 1]))\n",
    "#     X_R = RigidTransform(RotationMatrix(RollPitchYaw([0.8, -0.8, 0])), np.array([-0.1, 0.5, 1]))\n",
    "    plant.WeldFrames(plant.world_frame(), plant.get_body(plant.GetBodyIndices(model)[0]).body_frame(), X_R)\n",
    "    # Spawn table\n",
    "    table = Parser(plant, scene_graph).AddModelFromFile('./urdfs/table/extra_heavy_duty_table_modified.sdf','table')\n",
    "    # Spawn spherical work piece\n",
    "    sphere = Parser(plant, scene_graph).AddModelFromFile('./urdfs/helper/sphere.urdf','sphere')\n",
    "    # Place the sphere at the center of the table\n",
    "    # Length, width and height and thickness of the table\n",
    "    # 1.39, 0.762, 0.736, 0.057\n",
    "    # Sphere radius -- Can be made a design variable\n",
    "    # 0.15\n",
    "    # We can sample end-points on the surface of the sphere\n",
    "    X_R = RigidTransform(RotationMatrix(RollPitchYaw([0, 0, 0])), np.array([0, 0, 0.736]))\n",
    "    plant.WeldFrames(plant.world_frame(), plant.get_body(plant.GetBodyIndices(sphere)[0]).body_frame(), X_R)\n",
    "\n",
    "    plant.Finalize()\n",
    "    \n",
    "    end_frame = \"eef\"\n",
    "    \n",
    "    # Draw the frames\n",
    "    for body_name in [\"base_link\", end_frame]:\n",
    "        AddMultibodyTriad(plant.GetFrameByName(body_name, model), scene_graph)\n",
    "\n",
    "    meshcat.Delete()\n",
    "    meshcat.DeleteAddedControls()\n",
    "\n",
    "    visualizer = MeshcatVisualizerCpp.AddToBuilder(builder, scene_graph, meshcat)\n",
    "\n",
    "    diagram = builder.Build()\n",
    "    context = diagram.CreateDefaultContext()\n",
    "\n",
    "#     plant.SetPositions(plant.GetMyContextFromRoot(context),\n",
    "#                   plant.GetModelInstanceByName(\"diva_robot\"),\n",
    "#                   [-3.54, -2.33, -1.49, -1.62, -0.97, -0.19, 0.47])\n",
    "    plant.SetPositions(plant.GetMyContextFromRoot(context),\n",
    "                  plant.GetModelInstanceByName(\"diva_robot\"),\n",
    "                  fully_stretched)\n",
    "    \n",
    "    gripper = plant.GetBodyByName(end_frame)\n",
    "    def pose_callback(context):\n",
    "        pose = plant.EvalBodyPoseInWorld(context, gripper)   ## This is the important line\n",
    "        print(pose.translation())\n",
    "        clear_output(wait=True)\n",
    "        print(\"gripper position (m): \" + np.array2string(\n",
    "            pose.translation(), formatter={\n",
    "                'float': lambda x: \"{:3.2f}\".format(x)}))\n",
    "        print(\"gripper roll-pitch-yaw (rad):\" + np.array2string(\n",
    "            RollPitchYaw(pose.rotation()).vector(),\n",
    "                         formatter={'float': lambda x: \"{:3.2f}\".format(x)}))\n",
    "        print(\"pose rotation: \", pose.rotation())\n",
    "    sliders = MeshcatJointSlidersThatPublish(meshcat, plant, visualizer, context)\n",
    "    # sliders.Run()\n",
    "    sliders.Run(pose_callback)\n",
    "\n",
    "gripper_forward_kinematics_example()"
   ]
  },
  {
   "cell_type": "code",
   "execution_count": null,
   "metadata": {},
   "outputs": [],
   "source": []
  }
 ],
 "metadata": {
  "colab": {
   "collapsed_sections": [],
   "name": "Robotic Manipulation - Let's get you a robot.ipynb",
   "provenance": [],
   "toc_visible": true
  },
  "interpreter": {
   "hash": "31f2aee4e71d21fbe5cf8b01ff0e069b9275f58929596ceb00d14d90e3e16cd6"
  },
  "kernelspec": {
   "display_name": "Python 3 (ipykernel)",
   "language": "python",
   "name": "python3"
  },
  "language_info": {
   "codemirror_mode": {
    "name": "ipython",
    "version": 3
   },
   "file_extension": ".py",
   "mimetype": "text/x-python",
   "name": "python",
   "nbconvert_exporter": "python",
   "pygments_lexer": "ipython3",
   "version": "3.8.5"
  }
 },
 "nbformat": 4,
 "nbformat_minor": 2
}
