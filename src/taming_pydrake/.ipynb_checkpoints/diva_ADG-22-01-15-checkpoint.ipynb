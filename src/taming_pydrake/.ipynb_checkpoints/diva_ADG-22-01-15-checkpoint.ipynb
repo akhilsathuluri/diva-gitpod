{
 "cells": [
  {
   "cell_type": "code",
   "execution_count": 1,
   "metadata": {},
   "outputs": [],
   "source": [
    "# Imports\n",
    "import numpy as np\n",
    "import altair as alt\n",
    "import pydot\n",
    "from IPython.display import display, SVG, clear_output, HTML\n",
    "import matplotlib.pyplot as plt\n",
    "\n",
    "from pydrake.all import *\n",
    "from pydrake.examples.manipulation_station import ManipulationStation\n",
    "\n",
    "from manipulation import running_as_notebook\n",
    "from manipulation.meshcat_cpp_utils import (\n",
    "    StartMeshcat, MeshcatJointSlidersThatPublish)\n",
    "from manipulation.scenarios import AddMultibodyTriad, SetColor\n",
    "\n",
    "import pandas as pd"
   ]
  },
  {
   "cell_type": "code",
   "execution_count": 2,
   "metadata": {},
   "outputs": [
    {
     "data": {
      "text/html": [
       "Meshcat is now available at <a href=\"http://localhost:7001\">http://localhost:7001</a>"
      ],
      "text/plain": [
       "<IPython.core.display.HTML object>"
      ]
     },
     "metadata": {},
     "output_type": "display_data"
    }
   ],
   "source": [
    "# Start the visualizer.\n",
    "meshcat = StartMeshcat()"
   ]
  },
  {
   "cell_type": "code",
   "execution_count": 8,
   "metadata": {},
   "outputs": [],
   "source": [
    "class ActuatorBox(LeafSystem):\n",
    "    def __init__(self, tau_max_dv, inst_power_max):\n",
    "        LeafSystem.__init__(self)\n",
    "        self.tau_max = tau_max_dv\n",
    "        self.inst_power_max = inst_power_max\n",
    "        self.DeclareVectorInputPort('commanded_torque', BasicVector(7))\n",
    "        self.DeclareVectorInputPort('joint_state', BasicVector(14))\n",
    "        self.DeclareVectorOutputPort('realised_torque', BasicVector(7), self.OutputJointTorque)\n",
    "        \n",
    "    def OutputJointTorque(self, context, output):\n",
    "        u = self.EvalVectorInput(context, 0).get_value()\n",
    "        # Enforcing saturation with joint effort\n",
    "        u = np.array(u)\n",
    "        u_demanded = u\n",
    "        # Bound control input with tau_max\n",
    "        u[u>self.tau_max]=self.tau_max\n",
    "        u[u<-self.tau_max]=-self.tau_max\n",
    "        # Also check for instantaneous power delivered\n",
    "        q = self.EvalVectorInput(context, 1).get_value()\n",
    "        # Extract joint velocity\n",
    "        qvel = np.array(q)[7:]\n",
    "        # We need Kt and Kv to compute the power\n",
    "        # Assuming them to be constant for now\n",
    "        Kt = 0.068\n",
    "        Kv = 140\n",
    "        # Compute inst power demanded\n",
    "        inst_power = np.abs(np.multiply(u, qvel))/(Kt*Kv)\n",
    "        # Find joints which violate power \n",
    "        index = np.where(inst_power >= self.inst_power_max)\n",
    "        for i in index:\n",
    "            u[i] = self.inst_power_max/qvel[i]\n",
    "            \n",
    "        output.SetFromVector(u)"
   ]
  },
  {
   "cell_type": "code",
   "execution_count": 9,
   "metadata": {},
   "outputs": [],
   "source": [
    "# Sample design from the DV space\n",
    "input_path = '~/git/research/xray/src/problems/DIVAR3V/input/'\n",
    "dv_frame = pd.read_csv(input_path+'dv_space.csv')\n",
    "qoi = pd.read_csv(input_path+'qoi_space.csv')\n",
    "\n",
    "def sample_variables(dv):\n",
    "    dv_samples = pd.DataFrame(np.random.uniform(dv.Lower, dv.Upper, (1, len(dv))),columns=dv.Variables)\n",
    "    return dv_samples"
   ]
  },
  {
   "cell_type": "code",
   "execution_count": 21,
   "metadata": {},
   "outputs": [
    {
     "name": "stdout",
     "output_type": "stream",
     "text": [
      "taumax:  39.09082321\n",
      "pmax:  144.11654882\n",
      "Kp_sample:  12.44449637\n",
      "Kd_sample:  9.25095514\n",
      "gear_ratio:  38.4785696\n",
      "./urdfs/divar3v8540187723.urdf\n"
     ]
    }
   ],
   "source": [
    "# a1, lua, a23_distr, lfa, a45_distr, K, taumax, m_m, N, Pmax, Kd, a7\n",
    "# sample_dv_frame = sample_variables(dv_frame)\n",
    "# dv = sample_dv_frame.values.tolist()[0]\n",
    "# print(sample_dv_frame)\n",
    "# print(sample_dv)\n",
    "# a1, lua, a23_distr, lfa, a45_distr, K, taumax, m_m, N, Pmax, Kd, a7\n",
    "# dv = [0.3, 0.3, 0.5, 0.3, 0.5, 10.5, 32.88886082, 0.55, 15.43, 150., 14.16907122, 0.175]\n",
    "# Bad design\n",
    "# dv = [1.37824764e-01, 3.80908499e-01, 9.48871510e-01, 1.11472923e-01,\n",
    "#  4.51461495e-01, 1.17623087e+01, 1.05489844e+01, 7.51899527e-01,\n",
    "#  9.31085993e+00, 1.96724922e+02, 4.51052437e+00, 2.48978655e-01]\n",
    "\n",
    "# Best design from pygmo optimisation\n",
    "# a1, lua, a23_distr, lfa, a45_distr, K, taumax, m_m, N, Pmax, Kd, a7\n",
    "dv = [0.18241015,   0.41597629,   0.19780281,   0.27633012,   0.79858756,\n",
    "  12.44449637,  39.09082321,   0.24829261,  38.4785696,  144.11654882,\n",
    "   9.25095514,   0.24944358]\n",
    "\n",
    "carti = np.array([-0.65, 0.2, 0.8])\n",
    "cartd = np.array([-0.25, 0.05,0.45])\n",
    "\n",
    "sim_time = qoi[qoi.Variables.str.match('tcycle')].Upper[0]\n",
    "error_threshold = 5e-3\n",
    "# Friction torque\n",
    "tau_mu = 5.3e-3\n",
    "b0 = 1.5e-5\n",
    "# Motor constant matrix\n",
    "km = 0.14\n",
    "\n",
    "# a1, lua, a23_distr, lfa, a45_distr, K, taumax, m_m, N, Pmax, Kd, a7\n",
    "taumax = dv[6]\n",
    "# taumax = 10\n",
    "pmax = dv[9]\n",
    "Kp_sample = dv[5]\n",
    "Kd_sample = dv[10]\n",
    "# Kd_sample = 3\n",
    "# Kd_sample = 2*np.sqrt(Kp_sample)\n",
    "gear_ratio = dv[8]\n",
    "print('taumax: ', taumax)\n",
    "print('pmax: ', pmax)\n",
    "print('Kp_sample: ', Kp_sample)\n",
    "print('Kd_sample: ', Kd_sample)\n",
    "print('gear_ratio: ', gear_ratio)\n",
    "\n",
    "# Run this every time a new URDF is to be created\n",
    "# Clear kernel every time urdf_creator is changed\n",
    "import sys\n",
    "sys.path.append('../../../xray/src/problems/DIVAR3V/library')\n",
    "from urdf_creator import *\n",
    "save_path = './urdfs/'\n",
    "urdf_path = urdf_creator(dv, path = save_path)\n",
    "print(urdf_path)\n",
    "\n",
    "# urdf_path = './urdfs/divar3v4803583300.urdf'"
   ]
  },
  {
   "cell_type": "code",
   "execution_count": 22,
   "metadata": {},
   "outputs": [],
   "source": [
    "meshcat.Delete()\n",
    "meshcat.DeleteAddedControls()\n",
    "\n",
    "builder = DiagramBuilder()\n",
    "time_step = 1e-4\n",
    "plant, scene_graph = AddMultibodyPlantSceneGraph(builder, time_step=time_step)\n",
    "model = Parser(plant, scene_graph).AddModelFromFile(urdf_path, 'diva_robot')\n",
    "# Set robot near table\n",
    "X_R = RigidTransform(RotationMatrix.MakeYRotation(-np.pi/2), np.array([-0.1, 0.5, 1]))\n",
    "plant.WeldFrames(plant.world_frame(), plant.get_body(plant.GetBodyIndices(model)[0]).body_frame(), X_R)\n",
    "# Set sphere to desired position\n",
    "sphere = Parser(plant, scene_graph).AddModelFromFile('./urdfs/helper/sphere.urdf','sphere')\n",
    "X_R = RigidTransform(RotationMatrix(RollPitchYaw([0, 0, 0])), cartd)\n",
    "plant.WeldFrames(plant.world_frame(), plant.get_body(plant.GetBodyIndices(sphere)[0]).body_frame(), X_R)\n",
    "plant.Finalize()        \n",
    "actuator = builder.AddSystem(ActuatorBox(taumax, pmax))"
   ]
  },
  {
   "cell_type": "code",
   "execution_count": 13,
   "metadata": {},
   "outputs": [],
   "source": [
    "# Draw the frames\n",
    "# for body_name in [\"base_link\", \"eef\", 'link1', 'link2', 'link3', 'link4', 'link5', 'link6']:\n",
    "for body_name in [\"base_link\", \"eef\"]:\n",
    "    AddMultibodyTriad(plant.GetFrameByName(body_name, model), scene_graph)\n",
    "\n",
    "# Adds the MeshcatVisualizer and wires it to the SceneGraph.\n",
    "visualizer = MeshcatVisualizerCpp.AddToBuilder(builder, scene_graph, meshcat)\n",
    "\n",
    "Kp = np.full(7, Kp_sample)\n",
    "Ki = np.full(7, 0)\n",
    "Kd = np.full(7, Kd_sample)\n",
    "# Kd = np.full(7, 3)\n",
    "\n",
    "iiwa_controller = builder.AddSystem(InverseDynamicsController(plant, Kp, Ki, Kd, False))\n",
    "iiwa_controller.set_name(\"iiwa_controller\");\n",
    "builder.Connect(plant.get_state_output_port(model),\n",
    "                iiwa_controller.get_input_port_estimated_state())\n",
    "\n",
    "# Add a motor characteristics box here to define how the motor output would be based on the commanded control \n",
    "builder.Connect(iiwa_controller.get_output_port_control(), \n",
    "                actuator.get_input_port(0))\n",
    "builder.Connect(plant.get_state_output_port(model),\n",
    "                actuator.get_input_port(1))\n",
    "builder.Connect(actuator.get_output_port(),  plant.get_actuation_input_port())\n",
    "\n",
    "# Connecting a data logger\n",
    "# Commanded torque\n",
    "logger1 = LogVectorOutput(iiwa_controller.get_output_port_control(), builder)\n",
    "# Joint state\n",
    "logger2 = LogVectorOutput(plant.get_state_output_port(model), builder)\n",
    "# Realised torque\n",
    "logger3 = LogVectorOutput(actuator.get_output_port(), builder)\n",
    "\n",
    "diagram = builder.Build()"
   ]
  },
  {
   "cell_type": "code",
   "execution_count": 14,
   "metadata": {},
   "outputs": [],
   "source": [
    "#  SVG(pydot.graph_from_dot_data(diagram.GetGraphvizString())[0].create_svg())"
   ]
  },
  {
   "cell_type": "code",
   "execution_count": 15,
   "metadata": {},
   "outputs": [],
   "source": [
    "# diagram.set_name(\"diagram\")\n",
    "# HTML('<script src=\"https://unpkg.com/gojs/release/go.js\"></script>' + GenerateHtml(diagram))"
   ]
  },
  {
   "cell_type": "code",
   "execution_count": 16,
   "metadata": {},
   "outputs": [
    {
     "name": "stdout",
     "output_type": "stream",
     "text": [
      "init pose IK:  True   [ 0.12051515 -0.50082958 -0.47773016 -0.85499367 -0.04983195 -0.79906351\n",
      " -0.36207394]\n",
      "final pose IK:  True   [-0.62914879  0.06674597 -0.26637911 -0.35411766  0.02244249 -0.28976955\n",
      " -0.04074945]\n"
     ]
    }
   ],
   "source": [
    "context = diagram.CreateDefaultContext()\n",
    "plant_context = plant.GetMyMutableContextFromRoot(context)\n",
    "q0 = plant.GetPositions(plant_context)\n",
    "gripper_frame = plant.GetBodyByName(\"eef\").body_frame()\n",
    "\n",
    "# Compute IK\n",
    "ik = InverseKinematics(plant, plant_context)\n",
    "ik.AddPositionConstraint(\n",
    "            gripper_frame, [0, 0, 0], plant.world_frame(), \n",
    "            carti, carti)\n",
    "prog = ik.get_mutable_prog()\n",
    "q = ik.q()\n",
    "prog.AddQuadraticErrorCost(np.identity(len(q)), q0, q)\n",
    "prog.SetInitialGuess(q, q0)\n",
    "result = Solve(ik.prog())\n",
    "qinit = result.GetSolution(ik.q())\n",
    "# Condition the final angles to be between -pi and pi\n",
    "qinit = (np.arctan2(np.sin(qinit), np.cos(qinit)))\n",
    "print('init pose IK: ', result.is_success(),' ', qinit )\n",
    "\n",
    "# Compute ik for pose-2\n",
    "ik = InverseKinematics(plant, plant_context)\n",
    "ik.AddPositionConstraint(\n",
    "            gripper_frame, [0, 0, 0], plant.world_frame(), \n",
    "            cartd, cartd)\n",
    "prog = ik.get_mutable_prog()\n",
    "q = ik.q()\n",
    "prog.AddQuadraticErrorCost(np.identity(len(q)), qinit, q)\n",
    "prog.SetInitialGuess(q, qinit)\n",
    "result = Solve(ik.prog())\n",
    "qd = result.GetSolution(ik.q())\n",
    "# Condition the final angles to be between -pi and pi\n",
    "qd = (np.arctan2(np.sin(qd), np.cos(qd)))\n",
    "print('final pose IK: ', result.is_success(),' ', qd)\n",
    "# diagram.Publish(context)"
   ]
  },
  {
   "cell_type": "code",
   "execution_count": 17,
   "metadata": {},
   "outputs": [
    {
     "name": "stdout",
     "output_type": "stream",
     "text": [
      "[-6.12323400e-16 -8.08528704e+00  5.87150210e+00 -1.75027951e+00\n",
      "  8.24775960e+00 -1.62917798e+00 -2.83242792e+00]\n",
      "8.24775959687235\n"
     ]
    }
   ],
   "source": [
    "# Check for applied force\n",
    "G = plant.GetBodyByName(\"eef\").body_frame()\n",
    "W = plant.world_frame()\n",
    "# If we can reach the final position, set that as the robots position\n",
    "plant.SetPositions(plant.GetMyContextFromRoot(context), model, qd)\n",
    "J_G = plant.CalcJacobianSpatialVelocity(plant_context, JacobianWrtVariable.kQDot, G, [0,0,0], W, W)\n",
    "joint_torques = np.matmul(J_G.transpose(), np.array([0,0,-10,0,0,0]))\n",
    "# diagram.Publish(context)\n",
    "print(joint_torques)\n",
    "print(np.max(np.abs(joint_torques)))"
   ]
  },
  {
   "cell_type": "code",
   "execution_count": 18,
   "metadata": {},
   "outputs": [
    {
     "name": "stdout",
     "output_type": "stream",
     "text": [
      "[ 1.00000000e+01 -6.12323400e-16  9.99999755e+00  6.99999943e-03\n",
      "  9.99999755e+00  6.99999943e-03 -6.12323400e-16]\n",
      "10.0\n"
     ]
    }
   ],
   "source": [
    "# For payload computation\n",
    "fully_stretched = np.array([0,-1.57,0,0,0,0,0])\n",
    "plant.SetPositions(plant.GetMyContextFromRoot(context), model,\n",
    "              fully_stretched)\n",
    "J_G = plant.CalcJacobianSpatialVelocity(plant_context, JacobianWrtVariable.kQDot, G, [0,0,0], W, W)\n",
    "# Lift a weight of 10N (1kg payload)\n",
    "joint_torques = np.matmul(J_G.transpose(), np.array([-10,0,0,0,0,0]))    \n",
    "# diagram.Publish(context)\n",
    "\n",
    "print(joint_torques)\n",
    "print(np.max(np.abs(joint_torques)))"
   ]
  },
  {
   "cell_type": "code",
   "execution_count": 19,
   "metadata": {},
   "outputs": [],
   "source": [
    "xd = np.hstack((qd, 0*qd))\n",
    "plant.SetPositions(plant_context, qinit)\n",
    "iiwa_controller.GetInputPort('desired_state').FixValue(\n",
    "iiwa_controller.GetMyMutableContextFromRoot(context), xd)\n",
    "diagram.Publish(context)"
   ]
  },
  {
   "cell_type": "code",
   "execution_count": 26,
   "metadata": {},
   "outputs": [
    {
     "ename": "RuntimeError",
     "evalue": "Error control wants to select step smaller than minimum allowed (1.2429e-14)",
     "output_type": "error",
     "traceback": [
      "\u001b[0;31m---------------------------------------------------------------------------\u001b[0m",
      "\u001b[0;31mRuntimeError\u001b[0m                              Traceback (most recent call last)",
      "Input \u001b[0;32mIn [26]\u001b[0m, in \u001b[0;36m<module>\u001b[0;34m\u001b[0m\n\u001b[1;32m      1\u001b[0m simulator \u001b[38;5;241m=\u001b[39m Simulator(diagram, context)\n\u001b[0;32m----> 2\u001b[0m \u001b[43msimulator\u001b[49m\u001b[38;5;241;43m.\u001b[39;49m\u001b[43mAdvanceTo\u001b[49m\u001b[43m(\u001b[49m\u001b[43msim_time\u001b[49m\u001b[43m)\u001b[49m\n",
      "\u001b[0;31mRuntimeError\u001b[0m: Error control wants to select step smaller than minimum allowed (1.2429e-14)"
     ]
    }
   ],
   "source": [
    "simulator = Simulator(diagram, context)\n",
    "simulator.AdvanceTo(sim_time);"
   ]
  },
  {
   "cell_type": "code",
   "execution_count": 27,
   "metadata": {},
   "outputs": [],
   "source": [
    "# Now we want to get the simulation data, i.e., \n",
    "# the torque applied, final time and the \n",
    "log1 = logger1.FindLog(context)\n",
    "log2 = logger2.FindLog(context)\n",
    "log3 = logger3.FindLog(context)"
   ]
  },
  {
   "cell_type": "code",
   "execution_count": 28,
   "metadata": {},
   "outputs": [
    {
     "name": "stdout",
     "output_type": "stream",
     "text": [
      "22497814472289.223\n"
     ]
    }
   ],
   "source": [
    "error = np.abs(log2.data()[:7,:].transpose() - np.tile(qd,(log3.data().shape[1],1)))\n",
    "e_norm = np.array([np.linalg.norm(val) for val in error])\n",
    "print(e_norm[-1])"
   ]
  },
  {
   "cell_type": "code",
   "execution_count": 29,
   "metadata": {},
   "outputs": [],
   "source": [
    "omega = []\n",
    "for i in range(log2.data().shape[1]):\n",
    "    omega.append(log2.data()[:,i][7:])\n",
    "omega_m = np.array(omega).transpose()*gear_ratio\n",
    "\n",
    "# Motor torque realised\n",
    "tau_m = log3.data()/gear_ratio\n",
    "# Costant matrix for tau->joule_loss\n",
    "K = 1/np.sqrt(km)*np.identity(7)"
   ]
  },
  {
   "cell_type": "code",
   "execution_count": 30,
   "metadata": {},
   "outputs": [],
   "source": [
    "# Total power loss\n",
    "inst_friction_power = []\n",
    "inst_joule_power = []\n",
    "for i in range(len(log3.sample_times())):\n",
    "    omega_inst = omega_m[:, i]\n",
    "    tau_f = tau_mu*np.sign(omega_inst)+b0*omega_inst\n",
    "    P_f = np.dot(tau_f, omega_inst)\n",
    "    inst_friction_power.append(P_f)\n",
    "    tau_t = tau_f+tau_m[:, i]\n",
    "    P_t = np.dot(K.dot(tau_t), tau_t)\n",
    "    inst_joule_power.append(P_t)"
   ]
  },
  {
   "cell_type": "code",
   "execution_count": 31,
   "metadata": {},
   "outputs": [
    {
     "name": "stdout",
     "output_type": "stream",
     "text": [
      "total_friction_loss:  6.581903784286736e+27\n",
      "total_joule_loss:  2.6386316693048394e+23\n"
     ]
    }
   ],
   "source": [
    "total_friction_loss = np.sum(inst_friction_power)*time_step\n",
    "total_joule_loss = np.sum(inst_joule_power)*time_step\n",
    "print('total_friction_loss: ', total_friction_loss)\n",
    "print('total_joule_loss: ', total_joule_loss)"
   ]
  },
  {
   "cell_type": "code",
   "execution_count": 32,
   "metadata": {},
   "outputs": [],
   "source": [
    "# Extracting the angular velocity\n",
    "vel = []\n",
    "for i in range(log2.data().shape[1]):\n",
    "    vel.append(log2.data()[:,i][7:])\n",
    "vel = np.array(vel).transpose()"
   ]
  },
  {
   "cell_type": "code",
   "execution_count": 33,
   "metadata": {},
   "outputs": [],
   "source": [
    "# Instantaneous joint power\n",
    "inst_power = []\n",
    "for i in range(7):\n",
    "    inst_power.append(np.multiply(log3.data()[i,:], vel[i,:]))\n",
    "inst_power = np.abs(np.array(inst_power))\n",
    "    \n",
    "# plt.plot(log1.sample_times(), inst_power[0, :], log1.sample_times(), motor_rpm[1, :],\\\n",
    "#     log1.sample_times(), inst_power[2, :], log1.sample_times(), inst_power[3, :], \\\n",
    "#     log1.sample_times(), inst_power[4, :], log1.sample_times(), inst_power[5, :], \\\n",
    "#     log1.sample_times(), inst_power[6, :])"
   ]
  },
  {
   "cell_type": "code",
   "execution_count": 34,
   "metadata": {},
   "outputs": [
    {
     "data": {
      "text/plain": [
       "0.18727056563766115"
      ]
     },
     "execution_count": 34,
     "metadata": {},
     "output_type": "execute_result"
    }
   ],
   "source": [
    "np.max(inst_power*time_step)\n",
    "# Clearly never reaches maximum"
   ]
  },
  {
   "cell_type": "code",
   "execution_count": 35,
   "metadata": {},
   "outputs": [
    {
     "data": {
      "text/plain": [
       "[<matplotlib.lines.Line2D at 0x7f6df9ea02b0>,\n",
       " <matplotlib.lines.Line2D at 0x7f6df9ea0250>,\n",
       " <matplotlib.lines.Line2D at 0x7f6df9ea0370>,\n",
       " <matplotlib.lines.Line2D at 0x7f6df9ea05b0>,\n",
       " <matplotlib.lines.Line2D at 0x7f6df9ea0490>,\n",
       " <matplotlib.lines.Line2D at 0x7f6df9ea05e0>,\n",
       " <matplotlib.lines.Line2D at 0x7f6df9ea07f0>]"
      ]
     },
     "execution_count": 35,
     "metadata": {},
     "output_type": "execute_result"
    },
    {
     "data": {
      "image/png": "[encoded data removed]",
      "text/plain": [
       "<Figure size 432x288 with 1 Axes>"
      ]
     },
     "metadata": {
      "needs_background": "light"
     },
     "output_type": "display_data"
    }
   ],
   "source": [
    "# Angular angular velocity of the robot\n",
    "motor_rpm = vel*gear_ratio*60/(2*np.pi)\n",
    "\n",
    "plt.plot(log2.sample_times(), motor_rpm[0, :], log2.sample_times(), motor_rpm[1, :],\\\n",
    "        log2.sample_times(), motor_rpm[2, :], log2.sample_times(), motor_rpm[3, :], \\\n",
    "        log2.sample_times(), motor_rpm[4, :], log2.sample_times(), motor_rpm[5, :], \\\n",
    "        log2.sample_times(), motor_rpm[6, :])"
   ]
  },
  {
   "cell_type": "code",
   "execution_count": 36,
   "metadata": {},
   "outputs": [
    {
     "data": {
      "text/plain": [
       "1.48388591797409e+19"
      ]
     },
     "execution_count": 36,
     "metadata": {},
     "output_type": "execute_result"
    }
   ],
   "source": [
    "np.max(np.abs(motor_rpm))"
   ]
  },
  {
   "cell_type": "code",
   "execution_count": 37,
   "metadata": {},
   "outputs": [
    {
     "data": {
      "text/plain": [
       "22497814472289.223"
      ]
     },
     "execution_count": 37,
     "metadata": {},
     "output_type": "execute_result"
    }
   ],
   "source": [
    "# Final state of the robot\n",
    "np.linalg.norm(qd-(log2.data()[:7, -1]))"
   ]
  },
  {
   "cell_type": "code",
   "execution_count": 40,
   "metadata": {},
   "outputs": [
    {
     "data": {
      "text/plain": [
       "(7, 12491)"
      ]
     },
     "execution_count": 40,
     "metadata": {},
     "output_type": "execute_result"
    }
   ],
   "source": [
    "log1.data().shape"
   ]
  },
  {
   "cell_type": "code",
   "execution_count": 42,
   "metadata": {},
   "outputs": [],
   "source": [
    "end_point = 10000"
   ]
  },
  {
   "cell_type": "code",
   "execution_count": 45,
   "metadata": {},
   "outputs": [
    {
     "data": {
      "text/plain": [
       "[<matplotlib.lines.Line2D at 0x7f6d71130ac0>]"
      ]
     },
     "execution_count": 45,
     "metadata": {},
     "output_type": "execute_result"
    },
    {
     "data": {
      "image/png": "[encoded data removed]",
      "text/plain": [
       "<Figure size 432x288 with 1 Axes>"
      ]
     },
     "metadata": {
      "needs_background": "light"
     },
     "output_type": "display_data"
    }
   ],
   "source": [
    "plt.plot(log1.data()[0, :end_point])"
   ]
  },
  {
   "cell_type": "code",
   "execution_count": 44,
   "metadata": {},
   "outputs": [
    {
     "data": {
      "text/plain": [
       "[<matplotlib.lines.Line2D at 0x7f6d71158850>,\n",
       " <matplotlib.lines.Line2D at 0x7f6d71145fd0>,\n",
       " <matplotlib.lines.Line2D at 0x7f6d71158730>,\n",
       " <matplotlib.lines.Line2D at 0x7f6d71158a60>]"
      ]
     },
     "execution_count": 44,
     "metadata": {},
     "output_type": "execute_result"
    },
    {
     "data": {
      "image/png": "[encoded data removed]",
      "text/plain": [
       "<Figure size 432x288 with 1 Axes>"
      ]
     },
     "metadata": {
      "needs_background": "light"
     },
     "output_type": "display_data"
    }
   ],
   "source": [
    "fig = plt.figure()\n",
    "plt.plot(log1.data()[0, :end_point], log1.data()[1, :end_point],\\\n",
    "        log1.data()[2, :end_point], log1.data()[3, :end_point], \\\n",
    "        log1.data()[4, :end_point], log1.data()[5, :end_point], \\\n",
    "        log1.data()[6, :end_point])"
   ]
  },
  {
   "cell_type": "code",
   "execution_count": 39,
   "metadata": {},
   "outputs": [
    {
     "data": {
      "text/plain": [
       "[<matplotlib.lines.Line2D at 0x7f6dfaa36250>,\n",
       " <matplotlib.lines.Line2D at 0x7f6df9e69c40>,\n",
       " <matplotlib.lines.Line2D at 0x7f6dfa834610>,\n",
       " <matplotlib.lines.Line2D at 0x7f6df95633d0>,\n",
       " <matplotlib.lines.Line2D at 0x7f6df9563130>,\n",
       " <matplotlib.lines.Line2D at 0x7f6df9563400>,\n",
       " <matplotlib.lines.Line2D at 0x7f6df9563610>]"
      ]
     },
     "execution_count": 39,
     "metadata": {},
     "output_type": "execute_result"
    },
    {
     "data": {
      "image/png": "[encoded data removed]",
      "text/plain": [
       "<Figure size 432x288 with 1 Axes>"
      ]
     },
     "metadata": {
      "needs_background": "light"
     },
     "output_type": "display_data"
    }
   ],
   "source": [
    "fig = plt.figure()\n",
    "plt.plot(log3.sample_times(), log3.data()[0, :], log3.sample_times(), log3.data()[1, :],\\\n",
    "        log3.sample_times(), log3.data()[2, :], log3.sample_times(), log3.data()[3, :], \\\n",
    "        log3.sample_times(), log3.data()[4, :], log3.sample_times(), log3.data()[5, :], \\\n",
    "        log3.sample_times(), log3.data()[6, :])"
   ]
  },
  {
   "cell_type": "code",
   "execution_count": 103,
   "metadata": {},
   "outputs": [],
   "source": [
    "error = np.abs(log2.data()[:7,:].transpose() - np.tile(qd,(log3.data().shape[1],1)))"
   ]
  },
  {
   "cell_type": "code",
   "execution_count": 104,
   "metadata": {},
   "outputs": [
    {
     "data": {
      "text/plain": [
       "[<matplotlib.lines.Line2D at 0x7f99183c9130>,\n",
       " <matplotlib.lines.Line2D at 0x7f99183c9190>,\n",
       " <matplotlib.lines.Line2D at 0x7f99183c92b0>,\n",
       " <matplotlib.lines.Line2D at 0x7f99183c93d0>,\n",
       " <matplotlib.lines.Line2D at 0x7f99183c94f0>,\n",
       " <matplotlib.lines.Line2D at 0x7f99183c9610>,\n",
       " <matplotlib.lines.Line2D at 0x7f99183c9730>]"
      ]
     },
     "execution_count": 104,
     "metadata": {},
     "output_type": "execute_result"
    },
    {
     "data": {
      "image/png": "[encoded data removed]",
      "text/plain": [
       "<Figure size 432x288 with 1 Axes>"
      ]
     },
     "metadata": {
      "needs_background": "light"
     },
     "output_type": "display_data"
    }
   ],
   "source": [
    "plt.plot(error)"
   ]
  },
  {
   "cell_type": "code",
   "execution_count": 105,
   "metadata": {},
   "outputs": [
    {
     "name": "stdout",
     "output_type": "stream",
     "text": [
      "32869\n"
     ]
    }
   ],
   "source": [
    "e_norm = np.array([np.linalg.norm(val) for val in error])\n",
    "for i in range(len(e_norm)):\n",
    "    if np.all(e_norm[i:]<5e-3):\n",
    "        print(i)\n",
    "        break"
   ]
  },
  {
   "cell_type": "code",
   "execution_count": 106,
   "metadata": {},
   "outputs": [
    {
     "name": "stdout",
     "output_type": "stream",
     "text": [
      "3.2711\n"
     ]
    }
   ],
   "source": [
    "ts = log2.sample_times()[i]\n",
    "print(ts)"
   ]
  },
  {
   "cell_type": "code",
   "execution_count": 107,
   "metadata": {},
   "outputs": [
    {
     "name": "stdout",
     "output_type": "stream",
     "text": [
      "8.205323505901527\n",
      "8.205323505901527\n"
     ]
    }
   ],
   "source": [
    "# Max torque required\n",
    "# We can enforce max torque requirements at each joint in the URDF itself\n",
    "print(np.max(np.abs(log1.data())))\n",
    "print(np.max(np.abs(log3.data())))"
   ]
  },
  {
   "cell_type": "code",
   "execution_count": 108,
   "metadata": {},
   "outputs": [
    {
     "data": {
      "text/plain": [
       "[<matplotlib.lines.Line2D at 0x7f9918342220>,\n",
       " <matplotlib.lines.Line2D at 0x7f9918342280>,\n",
       " <matplotlib.lines.Line2D at 0x7f99183423a0>,\n",
       " <matplotlib.lines.Line2D at 0x7f99183425e0>,\n",
       " <matplotlib.lines.Line2D at 0x7f99183424c0>,\n",
       " <matplotlib.lines.Line2D at 0x7f9918342610>,\n",
       " <matplotlib.lines.Line2D at 0x7f9918342820>]"
      ]
     },
     "execution_count": 108,
     "metadata": {},
     "output_type": "execute_result"
    },
    {
     "data": {
      "image/png": "[encoded data removed]",
      "text/plain": [
       "<Figure size 432x288 with 1 Axes>"
      ]
     },
     "metadata": {
      "needs_background": "light"
     },
     "output_type": "display_data"
    }
   ],
   "source": [
    "plt.plot(log2.sample_times(), log2.data()[0, :], log2.sample_times(), log2.data()[1, :],\\\n",
    "        log2.sample_times(), log2.data()[2, :], log2.sample_times(), log2.data()[3, :], \\\n",
    "        log2.sample_times(), log2.data()[4, :], log2.sample_times(), log2.data()[5, :], \\\n",
    "        log2.sample_times(), log2.data()[6, :])"
   ]
  },
  {
   "cell_type": "code",
   "execution_count": 109,
   "metadata": {},
   "outputs": [],
   "source": [
    "# Now all that is left is to integrate these\n",
    "# bottom-up mappings with auto-generation of the URDF\n",
    "# and solution space computation"
   ]
  },
  {
   "cell_type": "code",
   "execution_count": 110,
   "metadata": {},
   "outputs": [
    {
     "name": "stdout",
     "output_type": "stream",
     "text": [
      "friction losses:  0.3217557130891491\n",
      "joule losses:  0.8431267781754886\n"
     ]
    }
   ],
   "source": [
    "# Motor angular velocity\n",
    "omega = []\n",
    "for i in range(log2.data().shape[1]):\n",
    "    omega.append(log2.data()[:,i][7:])\n",
    "omega_m = np.array(omega).transpose()*gear_ratio\n",
    "# Motor torque\n",
    "tau_m = log3.data()/gear_ratio\n",
    "\n",
    "# Friction torque\n",
    "tau_mu = 5.3e-3\n",
    "b0 = 1.5e-5\n",
    "# Motor constant matrix\n",
    "km = 0.14\n",
    "K = 1/np.sqrt(km)*np.identity(7)\n",
    "\n",
    "# Total friction power loss\n",
    "inst_friction_power = []\n",
    "inst_joule_power = []\n",
    "\n",
    "for i in range(len(log1.sample_times())):\n",
    "    omega_inst = omega_m[:, i]\n",
    "    tau_f = tau_mu*np.sign(omega_inst)+b0*omega_inst\n",
    "    P_f = np.dot(tau_f, omega_inst)\n",
    "    inst_friction_power.append(P_f)\n",
    "    tau_t = tau_f+tau_m[:, i]\n",
    "    P_t = np.dot(K.dot(tau_t), tau_t)\n",
    "    inst_joule_power.append(P_t)\n",
    "# Normalising to step size, since its an integration\n",
    "# If the step size is constant, this can be ignored\n",
    "print('friction losses: ', np.sum(inst_friction_power)*1e-4)\n",
    "# Losses due to joule effecto at motor windings\n",
    "print('joule losses: ', np.sum(inst_joule_power)*1e-4)"
   ]
  },
  {
   "cell_type": "code",
   "execution_count": 111,
   "metadata": {},
   "outputs": [],
   "source": [
    "inst_power = []\n",
    "Kt = 0.068\n",
    "Kv = 140\n",
    "for i in range(len(log1.sample_times())):    \n",
    "    # Compute inst power demanded\n",
    "    inst_power.append(np.abs(np.multiply(log3.data()[:,i], omega[i]))/(Kt*Kv))"
   ]
  },
  {
   "cell_type": "code",
   "execution_count": 112,
   "metadata": {},
   "outputs": [
    {
     "name": "stdout",
     "output_type": "stream",
     "text": [
      "max power used:  0.26270953076444536 W\n"
     ]
    },
    {
     "data": {
      "image/png": "[encoded data removed]",
      "text/plain": [
       "<Figure size 432x288 with 1 Axes>"
      ]
     },
     "metadata": {
      "needs_background": "light"
     },
     "output_type": "display_data"
    }
   ],
   "source": [
    "# The joule losses feel very high, is this common or is\n",
    "plt.plot(log1.sample_times(), inst_power)\n",
    "print(\"max power used: \", np.max(inst_power), \"W\")"
   ]
  },
  {
   "cell_type": "code",
   "execution_count": 113,
   "metadata": {
    "scrolled": true
   },
   "outputs": [
    {
     "name": "stdout",
     "output_type": "stream",
     "text": [
      "max power used:  0.17453052029674823 W\n"
     ]
    },
    {
     "data": {
      "image/png": "[encoded data removed]",
      "text/plain": [
       "<Figure size 432x288 with 1 Axes>"
      ]
     },
     "metadata": {
      "needs_background": "light"
     },
     "output_type": "display_data"
    }
   ],
   "source": [
    "# The joule losses feel very high, is this common or is\n",
    "plt.plot(log1.sample_times(), inst_joule_power)\n",
    "print(\"max power used: \", np.max(inst_joule_power), \"W\")"
   ]
  },
  {
   "cell_type": "code",
   "execution_count": 114,
   "metadata": {},
   "outputs": [
    {
     "name": "stdout",
     "output_type": "stream",
     "text": [
      "7.435982491264638\n"
     ]
    }
   ],
   "source": [
    "# Compute cost\n",
    "print(1+1+1+ts+total_friction_loss+total_joule_loss)"
   ]
  },
  {
   "cell_type": "code",
   "execution_count": null,
   "metadata": {},
   "outputs": [
    {
     "name": "stdout",
     "output_type": "stream",
     "text": [
      "gripper position (m): [-0.51 1.42 1.00]\n",
      "gripper roll-pitch-yaw (rad):[-0.66 -1.57 -0.66]\n",
      "pose rotation:  RotationMatrix([\n",
      "  [6.123233995736765e-17, 0.9709812067659309, -0.23915579881611998],\n",
      "  [0.0, 0.23915579881612, 0.9709812067659309],\n",
      "  [0.9999999999999999, -5.945545134490659e-17, 1.4644069175884485e-17],\n",
      "])\n",
      "[-0.50787428  1.41539252  1.        ]\n"
     ]
    }
   ],
   "source": [
    "def gripper_forward_kinematics_example():\n",
    "    builder = DiagramBuilder()\n",
    "    plant, scene_graph = AddMultibodyPlantSceneGraph(builder, time_step=1e-4)\n",
    "    model = Parser(plant, scene_graph).AddModelFromFile(urdf_path, 'diva_robot')\n",
    "    # Transform for the robot location\n",
    "    X_R = RigidTransform(RotationMatrix.MakeYRotation(-np.pi/2), np.array([-0.1, 0.5, 1]))\n",
    "#     X_R = RigidTransform(RotationMatrix(RollPitchYaw([0.8, -0.8, 0])), np.array([-0.1, 0.5, 1]))\n",
    "    plant.WeldFrames(plant.world_frame(), plant.get_body(plant.GetBodyIndices(model)[0]).body_frame(), X_R)\n",
    "    # Spawn table\n",
    "    table = Parser(plant, scene_graph).AddModelFromFile('./urdfs/table/extra_heavy_duty_table_modified.sdf','table')\n",
    "    # Spawn spherical work piece\n",
    "    sphere = Parser(plant, scene_graph).AddModelFromFile('./urdfs/helper/sphere.urdf','sphere')\n",
    "    # Place the sphere at the center of the table\n",
    "    # Length, width and height and thickness of the table\n",
    "    # 1.39, 0.762, 0.736, 0.057\n",
    "    # Sphere radius -- Can be made a design variable\n",
    "    # 0.15\n",
    "    # We can sample end-points on the surface of the sphere\n",
    "    X_R = RigidTransform(RotationMatrix(RollPitchYaw([0, 0, 0])), np.array([0, 0, 0.736]))\n",
    "    plant.WeldFrames(plant.world_frame(), plant.get_body(plant.GetBodyIndices(sphere)[0]).body_frame(), X_R)\n",
    "\n",
    "    plant.Finalize()\n",
    "    \n",
    "    end_frame = \"eef\"\n",
    "    \n",
    "    # Draw the frames\n",
    "    for body_name in [\"base_link\", 'link1', 'link2', 'link3', 'link4', 'link5', 'link6', end_frame]:\n",
    "    # for body_name in [\"base_link\", end_frame]:\n",
    "        AddMultibodyTriad(plant.GetFrameByName(body_name, model), scene_graph)\n",
    "\n",
    "    meshcat.Delete()\n",
    "    meshcat.DeleteAddedControls()\n",
    "\n",
    "    visualizer = MeshcatVisualizerCpp.AddToBuilder(builder, scene_graph, meshcat)\n",
    "\n",
    "    diagram = builder.Build()\n",
    "    context = diagram.CreateDefaultContext()\n",
    "\n",
    "#     plant.SetPositions(plant.GetMyContextFromRoot(context),\n",
    "#                   plant.GetModelInstanceByName(\"diva_robot\"),\n",
    "#                   [-3.54, -2.33, -1.49, -1.62, -0.97, -0.19, 0.47])\n",
    "    plant.SetPositions(plant.GetMyContextFromRoot(context), model,\n",
    "                      fully_stretched)\n",
    "    \n",
    "    gripper = plant.GetBodyByName(end_frame)\n",
    "    def pose_callback(context):\n",
    "        pose = plant.EvalBodyPoseInWorld(context, gripper)   ## This is the important line\n",
    "        print(pose.translation())\n",
    "        clear_output(wait=True)\n",
    "        print(\"gripper position (m): \" + np.array2string(\n",
    "            pose.translation(), formatter={\n",
    "                'float': lambda x: \"{:3.2f}\".format(x)}))\n",
    "        print(\"gripper roll-pitch-yaw (rad):\" + np.array2string(\n",
    "            RollPitchYaw(pose.rotation()).vector(),\n",
    "                         formatter={'float': lambda x: \"{:3.2f}\".format(x)}))\n",
    "        print(\"pose rotation: \", pose.rotation())\n",
    "    sliders = MeshcatJointSlidersThatPublish(meshcat, plant, visualizer, context)\n",
    "    # sliders.Run()\n",
    "    sliders.Run(pose_callback)\n",
    "\n",
    "gripper_forward_kinematics_example()"
   ]
  },
  {
   "cell_type": "code",
   "execution_count": null,
   "metadata": {},
   "outputs": [],
   "source": []
  }
 ],
 "metadata": {
  "colab": {
   "collapsed_sections": [],
   "name": "Robotic Manipulation - Let's get you a robot.ipynb",
   "provenance": [],
   "toc_visible": true
  },
  "interpreter": {
   "hash": "31f2aee4e71d21fbe5cf8b01ff0e069b9275f58929596ceb00d14d90e3e16cd6"
  },
  "kernelspec": {
   "display_name": "Python 3 (ipykernel)",
   "language": "python",
   "name": "python3"
  },
  "language_info": {
   "codemirror_mode": {
    "name": "ipython",
    "version": 3
   },
   "file_extension": ".py",
   "mimetype": "text/x-python",
   "name": "python",
   "nbconvert_exporter": "python",
   "pygments_lexer": "ipython3",
   "version": "3.8.5"
  }
 },
 "nbformat": 4,
 "nbformat_minor": 2
}
