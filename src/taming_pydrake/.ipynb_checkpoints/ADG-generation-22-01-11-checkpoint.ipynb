{
 "cells": [
  {
   "cell_type": "code",
   "execution_count": 8,
   "metadata": {},
   "outputs": [],
   "source": [
    "# Imports\n",
    "import numpy as np\n",
    "import pandas as pd\n",
    "import pydot\n",
    "from IPython.display import display, SVG, clear_output, HTML"
   ]
  },
  {
   "cell_type": "code",
   "execution_count": 2,
   "metadata": {},
   "outputs": [],
   "source": [
    "dv = pd.read_csv('./input/dv_space.csv')\n",
    "qoi = pd.read_csv('./input/qoi_space.csv')"
   ]
  },
  {
   "cell_type": "code",
   "execution_count": 3,
   "metadata": {},
   "outputs": [],
   "source": [
    "graph = pydot.Dot(\"ADG\", graph_type=\"digraph\", bgcolor=\"transparent\", rankdir='BT')"
   ]
  },
  {
   "cell_type": "code",
   "execution_count": 4,
   "metadata": {},
   "outputs": [],
   "source": [
    "# Add nodes\n",
    "dv_nodes = []\n",
    "for var in dv.Variables:\n",
    "    dvnode = pydot.Node(var)\n",
    "    graph.add_node(dvnode)\n",
    "    dv_nodes.append(dvnode)\n",
    "    \n",
    "qoi_nodes = []\n",
    "for var in qoi.Variables:\n",
    "    qoinode = pydot.Node(var)\n",
    "    graph.add_node(qoinode)\n",
    "    qoi_nodes.append(qoinode)\n",
    "    \n",
    "# for i in range(len(qoi_nodes)):\n",
    "#     for j in range(len(dv_nodes)):\n",
    "#         graph.add_edge(pydot.Edge(qoi_nodes[i], dv_nodes[j]))"
   ]
  },
  {
   "cell_type": "code",
   "execution_count": 5,
   "metadata": {},
   "outputs": [],
   "source": [
    "# Adding clusters\n",
    "clusters = []\n",
    "for cluster in set(list(dv.Cluster)):\n",
    "    # Set cluster properties\n",
    "    temp_cluster = pydot.Cluster(cluster, style='filled', color='lightgrey', label=cluster)\n",
    "    # Find corresponding dv_nodes\n",
    "    cluster_indices = list(dv[dv['Cluster']==cluster].index)\n",
    "    # Add dv nodes to the cluster\n",
    "    for index in cluster_indices:\n",
    "        temp_cluster.add_node(dv_nodes[index])\n",
    "    # Add cluster to the graph    \n",
    "    graph.add_subgraph(temp_cluster)\n",
    "    clusters.append(temp_cluster)"
   ]
  },
  {
   "cell_type": "code",
   "execution_count": 10,
   "metadata": {},
   "outputs": [],
   "source": [
    "output_graphviz_svg = graph.create_svg()\n",
    "graph.write_png(\"output.png\")"
   ]
  },
  {
   "cell_type": "code",
   "execution_count": 11,
   "metadata": {},
   "outputs": [
    {
     "data": {
      "image/svg+xml": [
       "<svg xmlns=\"http://www.w3.org/2000/svg\" xmlns:xlink=\"http://www.w3.org/1999/xlink\" width=\"1866pt\" height=\"99pt\" viewBox=\"0.00 0.00 1865.60 99.00\">\n",
       "<g id=\"graph0\" class=\"graph\" transform=\"scale(1 1) rotate(0) translate(4 95)\">\n",
       "<title>ADG</title>\n",
       "<g id=\"clust1\" class=\"cluster\">\n",
       "<title>cluster_Actuator attributes</title>\n",
       "<polygon fill=\"lightgrey\" stroke=\"lightgrey\" points=\"784,-8 784,-83 1024,-83 1024,-8 784,-8\"/>\n",
       "<text text-anchor=\"middle\" x=\"904\" y=\"-15.8\" font-family=\"Times,serif\" font-size=\"14.00\">Actuator attributes</text>\n",
       "</g>\n",
       "<g id=\"clust2\" class=\"cluster\">\n",
       "<title>cluster_Mechanical attributes</title>\n",
       "<polygon fill=\"lightgrey\" stroke=\"lightgrey\" points=\"442,-8 442,-83 656,-83 656,-8 442,-8\"/>\n",
       "<text text-anchor=\"middle\" x=\"549\" y=\"-15.8\" font-family=\"Times,serif\" font-size=\"14.00\">Mechanical attributes</text>\n",
       "</g>\n",
       "<g id=\"clust3\" class=\"cluster\">\n",
       "<title>cluster_Control attributes</title>\n",
       "<polygon fill=\"lightgrey\" stroke=\"lightgrey\" points=\"664,-8 664,-83 776,-83 776,-8 664,-8\"/>\n",
       "<text text-anchor=\"middle\" x=\"720\" y=\"-15.8\" font-family=\"Times,serif\" font-size=\"14.00\">Control attributes</text>\n",
       "</g>\n",
       "<g id=\"clust4\" class=\"cluster\">\n",
       "<title>cluster_Kinematic attributes</title>\n",
       "<polygon fill=\"lightgrey\" stroke=\"lightgrey\" points=\"8,-8 8,-83 434,-83 434,-8 8,-8\"/>\n",
       "<text text-anchor=\"middle\" x=\"221\" y=\"-15.8\" font-family=\"Times,serif\" font-size=\"14.00\">Kinematic attributes</text>\n",
       "</g>\n",
       "<!-- a1 -->\n",
       "<g id=\"node1\" class=\"node\">\n",
       "<title>a1</title>\n",
       "<ellipse fill=\"none\" stroke=\"black\" cx=\"399\" cy=\"-57\" rx=\"27\" ry=\"18\"/>\n",
       "<text text-anchor=\"middle\" x=\"399\" y=\"-53.3\" font-family=\"Times,serif\" font-size=\"14.00\">a1</text>\n",
       "</g>\n",
       "<!-- rho -->\n",
       "<g id=\"node2\" class=\"node\">\n",
       "<title>rho</title>\n",
       "<ellipse fill=\"none\" stroke=\"black\" cx=\"621\" cy=\"-57\" rx=\"27\" ry=\"18\"/>\n",
       "<text text-anchor=\"middle\" x=\"621\" y=\"-53.3\" font-family=\"Times,serif\" font-size=\"14.00\">rho</text>\n",
       "</g>\n",
       "<!-- K -->\n",
       "<g id=\"node3\" class=\"node\">\n",
       "<title>K</title>\n",
       "<ellipse fill=\"none\" stroke=\"black\" cx=\"720\" cy=\"-57\" rx=\"27\" ry=\"18\"/>\n",
       "<text text-anchor=\"middle\" x=\"720\" y=\"-53.3\" font-family=\"Times,serif\" font-size=\"14.00\">K</text>\n",
       "</g>\n",
       "<!-- taumax -->\n",
       "<g id=\"node4\" class=\"node\">\n",
       "<title>taumax</title>\n",
       "<ellipse fill=\"none\" stroke=\"black\" cx=\"979\" cy=\"-57\" rx=\"37.09\" ry=\"18\"/>\n",
       "<text text-anchor=\"middle\" x=\"979\" y=\"-53.3\" font-family=\"Times,serif\" font-size=\"14.00\">taumax</text>\n",
       "</g>\n",
       "<!-- lua -->\n",
       "<g id=\"node5\" class=\"node\">\n",
       "<title>lua</title>\n",
       "<ellipse fill=\"none\" stroke=\"black\" cx=\"327\" cy=\"-57\" rx=\"27\" ry=\"18\"/>\n",
       "<text text-anchor=\"middle\" x=\"327\" y=\"-53.3\" font-family=\"Times,serif\" font-size=\"14.00\">lua</text>\n",
       "</g>\n",
       "<!-- s2 -->\n",
       "<g id=\"node6\" class=\"node\">\n",
       "<title>s2</title>\n",
       "<ellipse fill=\"none\" stroke=\"black\" cx=\"549\" cy=\"-57\" rx=\"27\" ry=\"18\"/>\n",
       "<text text-anchor=\"middle\" x=\"549\" y=\"-53.3\" font-family=\"Times,serif\" font-size=\"14.00\">s2</text>\n",
       "</g>\n",
       "<!-- m_m -->\n",
       "<g id=\"node7\" class=\"node\">\n",
       "<title>m_m</title>\n",
       "<ellipse fill=\"none\" stroke=\"black\" cx=\"894\" cy=\"-57\" rx=\"29.8\" ry=\"18\"/>\n",
       "<text text-anchor=\"middle\" x=\"894\" y=\"-53.3\" font-family=\"Times,serif\" font-size=\"14.00\">m_m</text>\n",
       "</g>\n",
       "<!-- a23_distr -->\n",
       "<g id=\"node8\" class=\"node\">\n",
       "<title>a23_distr</title>\n",
       "<ellipse fill=\"none\" stroke=\"black\" cx=\"238\" cy=\"-57\" rx=\"43.59\" ry=\"18\"/>\n",
       "<text text-anchor=\"middle\" x=\"238\" y=\"-53.3\" font-family=\"Times,serif\" font-size=\"14.00\">a23_distr</text>\n",
       "</g>\n",
       "<!-- s4 -->\n",
       "<g id=\"node9\" class=\"node\">\n",
       "<title>s4</title>\n",
       "<ellipse fill=\"none\" stroke=\"black\" cx=\"477\" cy=\"-57\" rx=\"27\" ry=\"18\"/>\n",
       "<text text-anchor=\"middle\" x=\"477\" y=\"-53.3\" font-family=\"Times,serif\" font-size=\"14.00\">s4</text>\n",
       "</g>\n",
       "<!-- N -->\n",
       "<g id=\"node10\" class=\"node\">\n",
       "<title>N</title>\n",
       "<ellipse fill=\"none\" stroke=\"black\" cx=\"819\" cy=\"-57\" rx=\"27\" ry=\"18\"/>\n",
       "<text text-anchor=\"middle\" x=\"819\" y=\"-53.3\" font-family=\"Times,serif\" font-size=\"14.00\">N</text>\n",
       "</g>\n",
       "<!-- lfa -->\n",
       "<g id=\"node11\" class=\"node\">\n",
       "<title>lfa</title>\n",
       "<ellipse fill=\"none\" stroke=\"black\" cx=\"149\" cy=\"-57\" rx=\"27\" ry=\"18\"/>\n",
       "<text text-anchor=\"middle\" x=\"149\" y=\"-53.3\" font-family=\"Times,serif\" font-size=\"14.00\">lfa</text>\n",
       "</g>\n",
       "<!-- a45_distr -->\n",
       "<g id=\"node12\" class=\"node\">\n",
       "<title>a45_distr</title>\n",
       "<ellipse fill=\"none\" stroke=\"black\" cx=\"60\" cy=\"-57\" rx=\"43.59\" ry=\"18\"/>\n",
       "<text text-anchor=\"middle\" x=\"60\" y=\"-53.3\" font-family=\"Times,serif\" font-size=\"14.00\">a45_distr</text>\n",
       "</g>\n",
       "<!-- tcycle -->\n",
       "<g id=\"node13\" class=\"node\">\n",
       "<title>tcycle</title>\n",
       "<ellipse fill=\"none\" stroke=\"black\" cx=\"1066\" cy=\"-57\" rx=\"31.7\" ry=\"18\"/>\n",
       "<text text-anchor=\"middle\" x=\"1066\" y=\"-53.3\" font-family=\"Times,serif\" font-size=\"14.00\">tcycle</text>\n",
       "</g>\n",
       "<!-- reachability -->\n",
       "<g id=\"node14\" class=\"node\">\n",
       "<title>reachability</title>\n",
       "<ellipse fill=\"none\" stroke=\"black\" cx=\"1168\" cy=\"-57\" rx=\"51.99\" ry=\"18\"/>\n",
       "<text text-anchor=\"middle\" x=\"1168\" y=\"-53.3\" font-family=\"Times,serif\" font-size=\"14.00\">reachability</text>\n",
       "</g>\n",
       "<!-- applied_force -->\n",
       "<g id=\"node15\" class=\"node\">\n",
       "<title>applied_force</title>\n",
       "<ellipse fill=\"none\" stroke=\"black\" cx=\"1297\" cy=\"-57\" rx=\"59.29\" ry=\"18\"/>\n",
       "<text text-anchor=\"middle\" x=\"1297\" y=\"-53.3\" font-family=\"Times,serif\" font-size=\"14.00\">applied_force</text>\n",
       "</g>\n",
       "<!-- payload -->\n",
       "<g id=\"node16\" class=\"node\">\n",
       "<title>payload</title>\n",
       "<ellipse fill=\"none\" stroke=\"black\" cx=\"1412\" cy=\"-57\" rx=\"38.19\" ry=\"18\"/>\n",
       "<text text-anchor=\"middle\" x=\"1412\" y=\"-53.3\" font-family=\"Times,serif\" font-size=\"14.00\">payload</text>\n",
       "</g>\n",
       "<!-- motion_feasibility -->\n",
       "<g id=\"node17\" class=\"node\">\n",
       "<title>motion_feasibility</title>\n",
       "<ellipse fill=\"none\" stroke=\"black\" cx=\"1544\" cy=\"-57\" rx=\"75.29\" ry=\"18\"/>\n",
       "<text text-anchor=\"middle\" x=\"1544\" y=\"-53.3\" font-family=\"Times,serif\" font-size=\"14.00\">motion_feasibility</text>\n",
       "</g>\n",
       "<!-- joule_loss -->\n",
       "<g id=\"node18\" class=\"node\">\n",
       "<title>joule_loss</title>\n",
       "<ellipse fill=\"none\" stroke=\"black\" cx=\"1684\" cy=\"-57\" rx=\"46.29\" ry=\"18\"/>\n",
       "<text text-anchor=\"middle\" x=\"1684\" y=\"-53.3\" font-family=\"Times,serif\" font-size=\"14.00\">joule_loss</text>\n",
       "</g>\n",
       "<!-- friction_loss -->\n",
       "<g id=\"node19\" class=\"node\">\n",
       "<title>friction_loss</title>\n",
       "<ellipse fill=\"none\" stroke=\"black\" cx=\"1803\" cy=\"-57\" rx=\"54.69\" ry=\"18\"/>\n",
       "<text text-anchor=\"middle\" x=\"1803\" y=\"-53.3\" font-family=\"Times,serif\" font-size=\"14.00\">friction_loss</text>\n",
       "</g>\n",
       "</g>\n",
       "</svg>"
      ],
      "text/plain": [
       "<IPython.core.display.SVG object>"
      ]
     },
     "execution_count": 11,
     "metadata": {},
     "output_type": "execute_result"
    }
   ],
   "source": [
    "SVG(output_graphviz_svg)"
   ]
  },
  {
   "cell_type": "code",
   "execution_count": 21,
   "metadata": {},
   "outputs": [],
   "source": [
    "# pydot.Dot.set_node_defaults(graph, color='lightgray',\n",
    "#                             style='filled',\n",
    "#                             shape='box',\n",
    "#                             fontname='Courier',\n",
    "#                             fontsize='10')"
   ]
  }
 ],
 "metadata": {
  "colab": {
   "collapsed_sections": [],
   "name": "Robotic Manipulation - Let's get you a robot.ipynb",
   "provenance": [],
   "toc_visible": true
  },
  "interpreter": {
   "hash": "31f2aee4e71d21fbe5cf8b01ff0e069b9275f58929596ceb00d14d90e3e16cd6"
  },
  "kernelspec": {
   "display_name": "Python 3 (ipykernel)",
   "language": "python",
   "name": "python3"
  },
  "language_info": {
   "codemirror_mode": {
    "name": "ipython",
    "version": 3
   },
   "file_extension": ".py",
   "mimetype": "text/x-python",
   "name": "python",
   "nbconvert_exporter": "python",
   "pygments_lexer": "ipython3",
   "version": "3.8.11"
  }
 },
 "nbformat": 4,
 "nbformat_minor": 2
}
