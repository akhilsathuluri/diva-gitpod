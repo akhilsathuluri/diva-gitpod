{
 "cells": [
  {
   "cell_type": "code",
   "execution_count": 1,
   "metadata": {},
   "outputs": [],
   "source": [
    "# Imports\n",
    "import numpy as np\n",
    "import altair as alt\n",
    "import pydot\n",
    "from IPython.display import display, SVG, clear_output, HTML\n",
    "import matplotlib.pyplot as plt\n",
    "\n",
    "from pydrake.all import *\n",
    "from pydrake.examples.manipulation_station import ManipulationStation\n",
    "\n",
    "from manipulation import running_as_notebook\n",
    "from manipulation.meshcat_cpp_utils import (\n",
    "    StartMeshcat, MeshcatJointSlidersThatPublish)\n",
    "from manipulation.scenarios import AddMultibodyTriad, SetColor\n",
    "\n",
    "import pandas as pd"
   ]
  },
  {
   "cell_type": "code",
   "execution_count": 2,
   "metadata": {},
   "outputs": [
    {
     "data": {
      "text/html": [
       "Meshcat is now available at <a href=\"http://localhost:7000\">http://localhost:7000</a>"
      ],
      "text/plain": [
       "<IPython.core.display.HTML object>"
      ]
     },
     "metadata": {},
     "output_type": "display_data"
    }
   ],
   "source": [
    "# Start the visualizer.\n",
    "meshcat = StartMeshcat()"
   ]
  },
  {
   "cell_type": "code",
   "execution_count": 3,
   "metadata": {},
   "outputs": [],
   "source": [
    "class ActuatorBox(LeafSystem):\n",
    "    def __init__(self, tau_max_dv, inst_power_max):\n",
    "        LeafSystem.__init__(self)\n",
    "        self.tau_max = tau_max_dv\n",
    "        self.inst_power_max = inst_power_max\n",
    "        self.DeclareVectorInputPort('commanded_torque', BasicVector(7))\n",
    "        self.DeclareVectorInputPort('joint_state', BasicVector(14))\n",
    "        self.DeclareVectorOutputPort('realised_torque', BasicVector(7), self.OutputJointTorque)\n",
    "        \n",
    "    def OutputJointTorque(self, context, output):\n",
    "        u = self.EvalVectorInput(context, 0).get_value()\n",
    "        # Enforcing saturation with joint effort\n",
    "        u = np.array(u)\n",
    "        u_demanded = u\n",
    "        # Bound control input with tau_max\n",
    "        u[u>self.tau_max]=self.tau_max\n",
    "        u[u<-self.tau_max]=-self.tau_max\n",
    "        # Also check for instantaneous power delivered\n",
    "        q = self.EvalVectorInput(context, 1).get_value()\n",
    "        # Extract joint velocity\n",
    "        qvel = np.array(q)[7:]\n",
    "        # We need Kt and Kv to compute the power\n",
    "        # Assuming them to be constant for now\n",
    "        Kt = 0.068\n",
    "        Kv = 140\n",
    "        # Compute inst power demanded\n",
    "        inst_power = np.abs(np.multiply(u, qvel))/(Kt*Kv)\n",
    "        # Find joints which violate power \n",
    "        index = np.where(inst_power >= self.inst_power_max)\n",
    "        for i in index:\n",
    "            u[i] = self.inst_power_max/qvel[i]\n",
    "            \n",
    "        output.SetFromVector(u)"
   ]
  },
  {
   "cell_type": "code",
   "execution_count": 4,
   "metadata": {},
   "outputs": [],
   "source": [
    "# Sample design from the DV space\n",
    "input_path = '~/git/research/xray/src/problems/DIVAR3V/input/'\n",
    "dv_frame = pd.read_csv(input_path+'dv_space.csv')\n",
    "qoi = pd.read_csv(input_path+'qoi_space.csv')\n",
    "\n",
    "def sample_variables(dv):\n",
    "    dv_samples = pd.DataFrame(np.random.uniform(dv.Lower, dv.Upper, (1, len(dv))),columns=dv.Variables)\n",
    "    return dv_samples"
   ]
  },
  {
   "cell_type": "code",
   "execution_count": 192,
   "metadata": {},
   "outputs": [
    {
     "name": "stdout",
     "output_type": "stream",
     "text": [
      "taumax:  11.816\n",
      "pmax:  152.14\n",
      "Kp_sample:  6.877\n",
      "Kd_sample:  4.52\n",
      "gear_ratio:  38.599\n",
      "./urdfs/divar3v8407712688.urdf\n",
      "[1.8400e-01 4.1800e-01 7.6000e-02 2.9500e-01 7.0400e-01 6.8770e+00\n",
      " 1.1816e+01 1.7400e-01 3.8599e+01 1.5214e+02 4.5200e+00 2.0200e-01]\n"
     ]
    }
   ],
   "source": [
    "# a1, lua, a23_distr, lfa, a45_distr, K, taumax, m_m, N, Pmax, Kd, a7\n",
    "# sample_dv_frame = sample_variables(dv_frame)\n",
    "# dv = sample_dv_frame.values.tolist()[0]\n",
    "# print(sample_dv_frame)\n",
    "# print(sample_dv)\n",
    "# a1, lua, a23_distr, lfa, a45_distr, K, taumax, m_m, N, Pmax, Kd, a7\n",
    "# dv = [0.3, 0.3, 0.5, 0.3, 0.5, 10.5, 32.88886082, 0.55, 15.43, 150., 14.16907122, 0.175]\n",
    "# Bad design\n",
    "# dv = [1.37824764e-01, 3.80908499e-01, 9.48871510e-01, 1.11472923e-01,\n",
    "#  4.51461495e-01, 1.17623087e+01, 1.05489844e+01, 7.51899527e-01,\n",
    "#  9.31085993e+00, 1.96724922e+02, 4.51052437e+00, 2.48978655e-01]\n",
    "\n",
    "# Best design from pygmo optimisation\n",
    "# a1, lua, a23_distr, lfa, a45_distr, K, taumax, m_m, N, Pmax, Kd, a7\n",
    "dv = [0.184, 0.418, 0.076, 0.295, 0.704, 6.877, 11.816, 0.174, 38.599, 152.140, 4.520, 0.202]\n",
    "# Round off to 4 decimals\n",
    "dv = np.round(dv,4)\n",
    "carti = np.array([-0.65, 0.2, 0.8])\n",
    "cartd = np.array([-0.25, 0.05,0.45])\n",
    "\n",
    "sim_time = qoi[qoi.Variables.str.match('tcycle')].Upper[0]\n",
    "error_threshold = 5e-3\n",
    "# Friction torque\n",
    "tau_mu = 5.3e-3\n",
    "b0 = 1.5e-5\n",
    "# Motor constant matrix\n",
    "km = 0.14\n",
    "\n",
    "# a1, lua, a23_distr, lfa, a45_distr, K, taumax, m_m, N, Pmax, Kd, a7\n",
    "taumax = dv[6]\n",
    "# taumax = 10\n",
    "pmax = dv[9]\n",
    "Kp_sample = dv[5]\n",
    "Kd_sample = dv[10]\n",
    "# Kd_sample = 3\n",
    "# Kd_sample = 2*np.sqrt(Kp_sample)\n",
    "gear_ratio = dv[8]\n",
    "print('taumax: ', taumax)\n",
    "print('pmax: ', pmax)\n",
    "print('Kp_sample: ', Kp_sample)\n",
    "print('Kd_sample: ', Kd_sample)\n",
    "print('gear_ratio: ', gear_ratio)\n",
    "\n",
    "# Run this every time a new URDF is to be created\n",
    "# Clear kernel every time urdf_creator is changed\n",
    "import sys\n",
    "sys.path.append('../../../xray/src/problems/DIVAR3V/library')\n",
    "from urdf_creator import *\n",
    "save_path = './urdfs/'\n",
    "urdf_path = urdf_creator(dv, path = save_path)\n",
    "print(urdf_path)\n",
    "print(dv)\n",
    "# urdf_path = './urdfs/divar3v4803583300.urdf'"
   ]
  },
  {
   "cell_type": "code",
   "execution_count": 193,
   "metadata": {},
   "outputs": [],
   "source": [
    "meshcat.Delete()\n",
    "meshcat.DeleteAddedControls()\n",
    "\n",
    "builder = DiagramBuilder()\n",
    "time_step = 1e-4\n",
    "plant, scene_graph = AddMultibodyPlantSceneGraph(builder, time_step=time_step)\n",
    "model = Parser(plant, scene_graph).AddModelFromFile(urdf_path, 'diva_robot')\n",
    "# Set robot near table\n",
    "X_R = RigidTransform(RotationMatrix.MakeYRotation(-np.pi/2), np.array([-0.1, 0.5, 1]))\n",
    "plant.WeldFrames(plant.world_frame(), plant.get_body(plant.GetBodyIndices(model)[0]).body_frame(), X_R)\n",
    "# Set sphere to desired position\n",
    "sphere = Parser(plant, scene_graph).AddModelFromFile('./urdfs/helper/sphere.urdf','sphere')\n",
    "X_R = RigidTransform(RotationMatrix(RollPitchYaw([0, 0, 0])), cartd)\n",
    "plant.WeldFrames(plant.world_frame(), plant.get_body(plant.GetBodyIndices(sphere)[0]).body_frame(), X_R)\n",
    "plant.Finalize()        \n",
    "actuator = builder.AddSystem(ActuatorBox(taumax, pmax))"
   ]
  },
  {
   "cell_type": "code",
   "execution_count": 194,
   "metadata": {},
   "outputs": [],
   "source": [
    "# Draw the frames\n",
    "for body_name in [\"base_link\", \"eef\", 'link1', 'link2', 'link3', 'link4', 'link5', 'link6']:\n",
    "# for body_name in [\"base_link\", \"eef\"]:\n",
    "    AddMultibodyTriad(plant.GetFrameByName(body_name, model), scene_graph)\n",
    "\n",
    "# Adds the MeshcatVisualizer and wires it to the SceneGraph.\n",
    "visualizer = MeshcatVisualizerCpp.AddToBuilder(builder, scene_graph, meshcat)\n",
    "\n",
    "Kp = np.full(7, Kp_sample)\n",
    "Ki = np.full(7, 0)\n",
    "Kd = np.full(7, Kd_sample)\n",
    "# Kd = np.full(7, 3)\n",
    "\n",
    "iiwa_controller = builder.AddSystem(InverseDynamicsController(plant, Kp, Ki, Kd, False))\n",
    "iiwa_controller.set_name(\"iiwa_controller\");\n",
    "builder.Connect(plant.get_state_output_port(model),\n",
    "                iiwa_controller.get_input_port_estimated_state())\n",
    "\n",
    "# Add a motor characteristics box here to define how the motor output would be based on the commanded control \n",
    "builder.Connect(iiwa_controller.get_output_port_control(), \n",
    "                actuator.get_input_port(0))\n",
    "builder.Connect(plant.get_state_output_port(model),\n",
    "                actuator.get_input_port(1))\n",
    "builder.Connect(actuator.get_output_port(),  plant.get_actuation_input_port())\n",
    "\n",
    "# Connecting a data logger\n",
    "# Commanded torque\n",
    "logger1 = LogVectorOutput(iiwa_controller.get_output_port_control(), builder)\n",
    "# Joint state\n",
    "logger2 = LogVectorOutput(plant.get_state_output_port(model), builder)\n",
    "# Realised torque\n",
    "logger3 = LogVectorOutput(actuator.get_output_port(), builder)\n",
    "\n",
    "diagram = builder.Build()"
   ]
  },
  {
   "cell_type": "code",
   "execution_count": 195,
   "metadata": {},
   "outputs": [],
   "source": [
    "#  SVG(pydot.graph_from_dot_data(diagram.GetGraphvizString())[0].create_svg())"
   ]
  },
  {
   "cell_type": "code",
   "execution_count": 196,
   "metadata": {},
   "outputs": [],
   "source": [
    "# diagram.set_name(\"diagram\")\n",
    "# HTML('<script src=\"https://unpkg.com/gojs/release/go.js\"></script>' + GenerateHtml(diagram))"
   ]
  },
  {
   "cell_type": "code",
   "execution_count": 200,
   "metadata": {},
   "outputs": [
    {
     "name": "stdout",
     "output_type": "stream",
     "text": [
      "init pose IK:  True   [-0.98617492 -1.69679712 -1.05689813  1.35432447 -0.32143598  1.21387436\n",
      "  0.01501323]\n",
      "final pose IK:  True   [-1.01589638 -0.61027086 -1.19226046  0.99414244 -0.40968673  0.76159522\n",
      "  0.09649818]\n"
     ]
    }
   ],
   "source": [
    "context = diagram.CreateDefaultContext()\n",
    "plant_context = plant.GetMyMutableContextFromRoot(context)\n",
    "# q0 = plant.GetPositions(plant_context)\n",
    "q0 = np.array([-0.88, -1, -0.9, 0.97, -0.31, 0.7, 0])\n",
    "gripper_frame = plant.GetBodyByName(\"eef\").body_frame()\n",
    "\n",
    "# Find the average position\n",
    "# cart_int = (carti+cartd)/2.\n",
    "# print(cart_int)\n",
    "# # Compute IK\n",
    "# ik = InverseKinematics(plant, plant_context)\n",
    "# ik.AddPositionConstraint(\n",
    "#             gripper_frame, [0, 0, 0], plant.world_frame(), \n",
    "#             cart_int, cart_int)\n",
    "# prog = ik.get_mutable_prog()\n",
    "# q = ik.q()\n",
    "# prog.AddQuadraticErrorCost(np.identity(len(q)), q0, q)\n",
    "# prog.SetInitialGuess(q, q0)\n",
    "# result = Solve(ik.prog())\n",
    "# q_int = result.GetSolution(ik.q())\n",
    "# # Condition the final angles to be between -pi and pi\n",
    "# q_int = (np.arctan2(np.sin(q_int), np.cos(q_int)))\n",
    "# print('init pose IK: ', result.is_success(),' ', q_int )\n",
    "# q_int = (np.arctan2(np.sin(q_int), np.cos(q_int)))\n",
    "\n",
    "# Compute IK\n",
    "ik = InverseKinematics(plant, plant_context)\n",
    "ik.AddPositionConstraint(\n",
    "            gripper_frame, [0, 0, 0], plant.world_frame(), \n",
    "            carti, carti)\n",
    "prog = ik.get_mutable_prog()\n",
    "q = ik.q()\n",
    "prog.AddQuadraticErrorCost(np.identity(len(q)), q0, q)\n",
    "prog.SetInitialGuess(q, q0)\n",
    "result = Solve(ik.prog())\n",
    "qinit = result.GetSolution(ik.q())\n",
    "# Condition the final angles to be between -pi and pi\n",
    "# qinit = (np.arctan2(np.sin(qinit), np.cos(qinit)))\n",
    "print('init pose IK: ', result.is_success(),' ', qinit )\n",
    "\n",
    "# Compute ik for pose-2\n",
    "ik = InverseKinematics(plant, plant_context)\n",
    "ik.AddPositionConstraint(\n",
    "            gripper_frame, [0, 0, 0], plant.world_frame(), \n",
    "            cartd, cartd)\n",
    "prog = ik.get_mutable_prog()\n",
    "q = ik.q()\n",
    "prog.AddQuadraticErrorCost(np.identity(len(q)), qinit, q)\n",
    "prog.SetInitialGuess(q, qinit)\n",
    "result = Solve(ik.prog())\n",
    "qd = result.GetSolution(ik.q())\n",
    "# Condition the final angles to be between -pi and pi\n",
    "# qd = (np.arctan2(np.sin(qd), np.cos(qd)))\n",
    "print('final pose IK: ', result.is_success(),' ', qd)\n",
    "# diagram.Publish(context)"
   ]
  },
  {
   "cell_type": "code",
   "execution_count": 201,
   "metadata": {},
   "outputs": [
    {
     "name": "stdout",
     "output_type": "stream",
     "text": [
      "force_projection:  [ 4.5         0.28898407  2.72604508  2.67164868  1.1297725   1.03549515\n",
      " -1.52465839]\n",
      "Gvec:  [-8.08518469  3.94833069 -2.62864661 -2.23971694 -0.35727194 -0.32749732\n",
      "  0.47981918]\n",
      "joint_torques:  [ 3.58518469 -4.23731477 -0.09739847 -0.43193175 -0.77250056 -0.70799783\n",
      "  1.04483921]\n",
      "4.23731476614887\n"
     ]
    },
    {
     "ename": "RuntimeError",
     "evalue": "InputPort::Eval(): required InputPort[1] (desired_state) of System ::_::iiwa_controller::drake/systems/controllers/PidController@0000563f5ef0d900 (PidController<double>) is not connected",
     "output_type": "error",
     "traceback": [
      "\u001b[0;31m---------------------------------------------------------------------------\u001b[0m",
      "\u001b[0;31mRuntimeError\u001b[0m                              Traceback (most recent call last)",
      "Input \u001b[0;32mIn [201]\u001b[0m, in \u001b[0;36m<module>\u001b[0;34m\u001b[0m\n\u001b[1;32m     17\u001b[0m \u001b[38;5;28mprint\u001b[39m(\u001b[38;5;124m'\u001b[39m\u001b[38;5;124mjoint_torques: \u001b[39m\u001b[38;5;124m'\u001b[39m, joint_torques)\n\u001b[1;32m     18\u001b[0m \u001b[38;5;28mprint\u001b[39m(np\u001b[38;5;241m.\u001b[39mmax(np\u001b[38;5;241m.\u001b[39mabs(joint_torques)))\n\u001b[0;32m---> 19\u001b[0m \u001b[43mdiagram\u001b[49m\u001b[38;5;241;43m.\u001b[39;49m\u001b[43mPublish\u001b[49m\u001b[43m(\u001b[49m\u001b[43mcontext\u001b[49m\u001b[43m)\u001b[49m\n",
      "\u001b[0;31mRuntimeError\u001b[0m: InputPort::Eval(): required InputPort[1] (desired_state) of System ::_::iiwa_controller::drake/systems/controllers/PidController@0000563f5ef0d900 (PidController<double>) is not connected"
     ]
    }
   ],
   "source": [
    "# Check for applied force\n",
    "G = plant.GetBodyByName(\"eef\").body_frame()\n",
    "W = plant.world_frame()\n",
    "# If we can reach the final position, set that as the robots position\n",
    "plant.SetPositions(plant.GetMyContextFromRoot(context), model, qd)\n",
    "J_G = plant.CalcJacobianSpatialVelocity(plant_context, JacobianWrtVariable.kV, G, [0,0,0], W, W)\n",
    "# Required force in global frame\n",
    "force_applied = np.array([0,0,0,0,0,10])\n",
    "force_projection = np.matmul(J_G.transpose(), force_applied)\n",
    "print('force_projection: ', force_projection)\n",
    "\n",
    "# Calculate the gravity generalised forces\n",
    "Gvec = plant.CalcGravityGeneralizedForces(plant_context)\n",
    "print('Gvec: ', Gvec)\n",
    "joint_torques = -Gvec-force_projection\n",
    "\n",
    "print('joint_torques: ', joint_torques)\n",
    "print(np.max(np.abs(joint_torques)))\n",
    "diagram.Publish(context)"
   ]
  },
  {
   "cell_type": "code",
   "execution_count": 202,
   "metadata": {},
   "outputs": [
    {
     "name": "stdout",
     "output_type": "stream",
     "text": [
      "force_projection:  [-6.41199948e-03  3.92621732e-19 -2.03830008e-16 -4.98000000e+00\n",
      "  1.80519662e-16 -2.03000000e+00  8.65825216e-20]\n",
      "Gvec:  [-1.12873952e-02  6.91153621e-19  1.73472348e-18 -4.72182447e+00\n",
      " -0.00000000e+00 -6.42015873e-01  2.72480413e-20]\n",
      "joint_torques:  [ 1.76993947e-02 -1.08377535e-18  2.02095285e-16  9.70182447e+00\n",
      " -1.80519662e-16  2.67201587e+00 -1.13830563e-19]\n",
      "9.701824467224998\n"
     ]
    },
    {
     "ename": "RuntimeError",
     "evalue": "InputPort::Eval(): required InputPort[1] (desired_state) of System ::_::iiwa_controller::drake/systems/controllers/PidController@0000563f5ef0d900 (PidController<double>) is not connected",
     "output_type": "error",
     "traceback": [
      "\u001b[0;31m---------------------------------------------------------------------------\u001b[0m",
      "\u001b[0;31mRuntimeError\u001b[0m                              Traceback (most recent call last)",
      "Input \u001b[0;32mIn [202]\u001b[0m, in \u001b[0;36m<module>\u001b[0;34m\u001b[0m\n\u001b[1;32m     18\u001b[0m \u001b[38;5;28mprint\u001b[39m(\u001b[38;5;124m'\u001b[39m\u001b[38;5;124mjoint_torques: \u001b[39m\u001b[38;5;124m'\u001b[39m, joint_torques)\n\u001b[1;32m     19\u001b[0m \u001b[38;5;28mprint\u001b[39m(np\u001b[38;5;241m.\u001b[39mmax(np\u001b[38;5;241m.\u001b[39mabs(joint_torques)))\n\u001b[0;32m---> 20\u001b[0m \u001b[43mdiagram\u001b[49m\u001b[38;5;241;43m.\u001b[39;49m\u001b[43mPublish\u001b[49m\u001b[43m(\u001b[49m\u001b[43mcontext\u001b[49m\u001b[43m)\u001b[49m\n",
      "\u001b[0;31mRuntimeError\u001b[0m: InputPort::Eval(): required InputPort[1] (desired_state) of System ::_::iiwa_controller::drake/systems/controllers/PidController@0000563f5ef0d900 (PidController<double>) is not connected"
     ]
    }
   ],
   "source": [
    "G = plant.GetBodyByName(\"eef\").body_frame()\n",
    "# For payload computation\n",
    "fully_stretched = np.array([0,-1.57,0,0,0,0,0])\n",
    "plant.SetPositions(plant.GetMyContextFromRoot(context), model,\n",
    "              fully_stretched)\n",
    "J_G = plant.CalcJacobianSpatialVelocity(plant_context, JacobianWrtVariable.kV, G, [0,0,0], W, W)\n",
    "# Lift a weight of 10N (1kg payload)\n",
    "# Applied force should be in W frame\n",
    "force_applied = np.array([0,0,0,0,0,-10])\n",
    "force_projection = np.matmul(J_G.transpose(), force_applied)\n",
    "print('force_projection: ', force_projection)\n",
    "\n",
    "# Calculate the gravity generalised forces\n",
    "Gvec = plant.CalcGravityGeneralizedForces(plant_context)\n",
    "print('Gvec: ', Gvec)\n",
    "joint_torques = -Gvec-force_projection\n",
    "\n",
    "print('joint_torques: ', joint_torques)\n",
    "print(np.max(np.abs(joint_torques)))\n",
    "diagram.Publish(context)"
   ]
  },
  {
   "cell_type": "code",
   "execution_count": 203,
   "metadata": {},
   "outputs": [],
   "source": [
    "xd = np.hstack((qd, 0*qd))\n",
    "plant.SetPositions(plant_context, qinit)\n",
    "iiwa_controller.GetInputPort('desired_state').FixValue(\n",
    "iiwa_controller.GetMyMutableContextFromRoot(context), xd)\n",
    "diagram.Publish(context)"
   ]
  },
  {
   "cell_type": "code",
   "execution_count": 204,
   "metadata": {},
   "outputs": [],
   "source": [
    "simulator = Simulator(diagram, context)\n",
    "simulator.AdvanceTo(sim_time);"
   ]
  },
  {
   "cell_type": "code",
   "execution_count": 205,
   "metadata": {},
   "outputs": [],
   "source": [
    "# Now we want to get the simulation data, i.e., \n",
    "# the torque applied, final time and the \n",
    "log1 = logger1.FindLog(context)\n",
    "log2 = logger2.FindLog(context)\n",
    "log3 = logger3.FindLog(context)"
   ]
  },
  {
   "cell_type": "code",
   "execution_count": 206,
   "metadata": {},
   "outputs": [
    {
     "name": "stdout",
     "output_type": "stream",
     "text": [
      "2.3686999899584012e-05\n"
     ]
    }
   ],
   "source": [
    "error = np.abs(log2.data()[:7,:].transpose() - np.tile(qd,(log3.data().shape[1],1)))\n",
    "e_norm = np.array([np.linalg.norm(val) for val in error])\n",
    "print(e_norm[-1])"
   ]
  },
  {
   "cell_type": "code",
   "execution_count": 207,
   "metadata": {},
   "outputs": [],
   "source": [
    "omega = []\n",
    "for i in range(log2.data().shape[1]):\n",
    "    omega.append(log2.data()[:,i][7:])\n",
    "omega_m = np.array(omega).transpose()*gear_ratio\n",
    "\n",
    "# Motor torque realised\n",
    "tau_m = log3.data()/gear_ratio\n",
    "# Costant matrix for tau->joule_loss\n",
    "K = 1/np.sqrt(km)*np.identity(7)"
   ]
  },
  {
   "cell_type": "code",
   "execution_count": 208,
   "metadata": {},
   "outputs": [],
   "source": [
    "# Total power loss\n",
    "inst_friction_power = []\n",
    "inst_joule_power = []\n",
    "for i in range(len(log3.sample_times())):\n",
    "    omega_inst = omega_m[:, i]\n",
    "    tau_f = tau_mu*np.sign(omega_inst)+b0*omega_inst\n",
    "    P_f = np.dot(tau_f, omega_inst)\n",
    "    inst_friction_power.append(P_f)\n",
    "    tau_t = tau_f+tau_m[:, i]\n",
    "    P_t = np.dot(K.dot(tau_t), tau_t)\n",
    "    inst_joule_power.append(P_t)"
   ]
  },
  {
   "cell_type": "code",
   "execution_count": 209,
   "metadata": {},
   "outputs": [
    {
     "name": "stdout",
     "output_type": "stream",
     "text": [
      "total_friction_loss:  0.4900437736166956\n",
      "total_joule_loss:  0.8870141276093512\n"
     ]
    }
   ],
   "source": [
    "total_friction_loss = np.sum(inst_friction_power)*time_step\n",
    "total_joule_loss = np.sum(inst_joule_power)*time_step\n",
    "print('total_friction_loss: ', total_friction_loss)\n",
    "print('total_joule_loss: ', total_joule_loss)"
   ]
  },
  {
   "cell_type": "code",
   "execution_count": 210,
   "metadata": {},
   "outputs": [],
   "source": [
    "# Extracting the angular velocity\n",
    "vel = []\n",
    "for i in range(log2.data().shape[1]):\n",
    "    vel.append(log2.data()[:,i][7:])\n",
    "vel = np.array(vel).transpose()"
   ]
  },
  {
   "cell_type": "code",
   "execution_count": 211,
   "metadata": {},
   "outputs": [],
   "source": [
    "# Instantaneous joint power\n",
    "inst_power = []\n",
    "for i in range(7):\n",
    "    inst_power.append(np.multiply(log3.data()[i,:], vel[i,:]))\n",
    "inst_power = np.abs(np.array(inst_power))\n",
    "    \n",
    "# plt.plot(log1.sample_times(), inst_power[0, :], log1.sample_times(), motor_rpm[1, :],\\\n",
    "#     log1.sample_times(), inst_power[2, :], log1.sample_times(), inst_power[3, :], \\\n",
    "#     log1.sample_times(), inst_power[4, :], log1.sample_times(), inst_power[5, :], \\\n",
    "#     log1.sample_times(), inst_power[6, :])"
   ]
  },
  {
   "cell_type": "code",
   "execution_count": 212,
   "metadata": {},
   "outputs": [
    {
     "data": {
      "text/plain": [
       "0.0010715450776698475"
      ]
     },
     "execution_count": 212,
     "metadata": {},
     "output_type": "execute_result"
    }
   ],
   "source": [
    "np.max(inst_power*time_step)\n",
    "# Clearly never reaches maximum"
   ]
  },
  {
   "cell_type": "code",
   "execution_count": 188,
   "metadata": {
    "scrolled": false
   },
   "outputs": [
    {
     "data": {
      "text/plain": [
       "[<matplotlib.lines.Line2D at 0x7f7f6afb56d0>,\n",
       " <matplotlib.lines.Line2D at 0x7f7f6afb5730>,\n",
       " <matplotlib.lines.Line2D at 0x7f7f6afb5850>,\n",
       " <matplotlib.lines.Line2D at 0x7f7f6afb5a90>,\n",
       " <matplotlib.lines.Line2D at 0x7f7f6afb5970>,\n",
       " <matplotlib.lines.Line2D at 0x7f7f6afb5ac0>,\n",
       " <matplotlib.lines.Line2D at 0x7f7f6afb5cd0>]"
      ]
     },
     "execution_count": 188,
     "metadata": {},
     "output_type": "execute_result"
    },
    {
     "data": {
      "image/png": "[encoded data removed]",
      "text/plain": [
       "<Figure size 432x288 with 1 Axes>"
      ]
     },
     "metadata": {
      "needs_background": "light"
     },
     "output_type": "display_data"
    }
   ],
   "source": [
    "# Angular angular velocity of the robot\n",
    "motor_rpm = vel*gear_ratio*60/(2*np.pi)\n",
    "\n",
    "plt.plot(log2.sample_times(), motor_rpm[0, :], log2.sample_times(), motor_rpm[1, :],\\\n",
    "        log2.sample_times(), motor_rpm[2, :], log2.sample_times(), motor_rpm[3, :], \\\n",
    "        log2.sample_times(), motor_rpm[4, :], log2.sample_times(), motor_rpm[5, :], \\\n",
    "        log2.sample_times(), motor_rpm[6, :])"
   ]
  },
  {
   "cell_type": "code",
   "execution_count": 189,
   "metadata": {
    "scrolled": true
   },
   "outputs": [
    {
     "data": {
      "text/plain": [
       "294.69284023900775"
      ]
     },
     "execution_count": 189,
     "metadata": {},
     "output_type": "execute_result"
    }
   ],
   "source": [
    "np.max(np.abs(motor_rpm))"
   ]
  },
  {
   "cell_type": "code",
   "execution_count": 190,
   "metadata": {},
   "outputs": [
    {
     "data": {
      "text/plain": [
       "2.9643232384149e-05"
      ]
     },
     "execution_count": 190,
     "metadata": {},
     "output_type": "execute_result"
    }
   ],
   "source": [
    "# Final state of the robot\n",
    "np.linalg.norm(qd-(log2.data()[:7, -1]))"
   ]
  },
  {
   "cell_type": "code",
   "execution_count": 191,
   "metadata": {},
   "outputs": [
    {
     "data": {
      "text/plain": [
       "(7, 50242)"
      ]
     },
     "execution_count": 191,
     "metadata": {},
     "output_type": "execute_result"
    }
   ],
   "source": [
    "log1.data().shape"
   ]
  },
  {
   "cell_type": "code",
   "execution_count": 87,
   "metadata": {},
   "outputs": [],
   "source": [
    "end_point = 10000"
   ]
  },
  {
   "cell_type": "code",
   "execution_count": 88,
   "metadata": {},
   "outputs": [
    {
     "data": {
      "text/plain": [
       "[<matplotlib.lines.Line2D at 0x7f7f9897f5e0>]"
      ]
     },
     "execution_count": 88,
     "metadata": {},
     "output_type": "execute_result"
    },
    {
     "data": {
      "image/png": "[encoded data removed]",
      "text/plain": [
       "<Figure size 432x288 with 1 Axes>"
      ]
     },
     "metadata": {
      "needs_background": "light"
     },
     "output_type": "display_data"
    }
   ],
   "source": [
    "plt.plot(log1.data()[0, :end_point])"
   ]
  },
  {
   "cell_type": "code",
   "execution_count": 89,
   "metadata": {},
   "outputs": [
    {
     "data": {
      "text/plain": [
       "[<matplotlib.lines.Line2D at 0x7f7f6ac74d60>,\n",
       " <matplotlib.lines.Line2D at 0x7f7f6ac74dc0>,\n",
       " <matplotlib.lines.Line2D at 0x7f7f6ac74ee0>,\n",
       " <matplotlib.lines.Line2D at 0x7f7f6ac01160>,\n",
       " <matplotlib.lines.Line2D at 0x7f7f6ac01040>,\n",
       " <matplotlib.lines.Line2D at 0x7f7f6ac01190>,\n",
       " <matplotlib.lines.Line2D at 0x7f7f6ac013a0>]"
      ]
     },
     "execution_count": 89,
     "metadata": {},
     "output_type": "execute_result"
    },
    {
     "data": {
      "image/png": "[encoded data removed]",
      "text/plain": [
       "<Figure size 432x288 with 1 Axes>"
      ]
     },
     "metadata": {
      "needs_background": "light"
     },
     "output_type": "display_data"
    }
   ],
   "source": [
    "fig = plt.figure()\n",
    "plt.plot(log1.sample_times(), log1.data()[0, :], log1.sample_times(), log1.data()[1, :],\\\n",
    "        log1.sample_times(), log1.data()[2, :], log1.sample_times(), log1.data()[3, :], \\\n",
    "        log1.sample_times(), log1.data()[4, :], log1.sample_times(), log1.data()[5, :], \\\n",
    "        log1.sample_times(), log1.data()[6, :])"
   ]
  },
  {
   "cell_type": "code",
   "execution_count": 90,
   "metadata": {},
   "outputs": [
    {
     "data": {
      "text/plain": [
       "[<matplotlib.lines.Line2D at 0x7f7f6acb0fa0>,\n",
       " <matplotlib.lines.Line2D at 0x7f7f6abe8370>,\n",
       " <matplotlib.lines.Line2D at 0x7f7f6abe84c0>,\n",
       " <matplotlib.lines.Line2D at 0x7f7f6abe8700>,\n",
       " <matplotlib.lines.Line2D at 0x7f7f6abe85e0>,\n",
       " <matplotlib.lines.Line2D at 0x7f7f6abe8730>,\n",
       " <matplotlib.lines.Line2D at 0x7f7f6abe8940>]"
      ]
     },
     "execution_count": 90,
     "metadata": {},
     "output_type": "execute_result"
    },
    {
     "data": {
      "image/png": "[encoded data removed]",
      "text/plain": [
       "<Figure size 432x288 with 1 Axes>"
      ]
     },
     "metadata": {
      "needs_background": "light"
     },
     "output_type": "display_data"
    }
   ],
   "source": [
    "fig = plt.figure()\n",
    "plt.plot(log3.sample_times(), log3.data()[0, :], log3.sample_times(), log3.data()[1, :],\\\n",
    "        log3.sample_times(), log3.data()[2, :], log3.sample_times(), log3.data()[3, :], \\\n",
    "        log3.sample_times(), log3.data()[4, :], log3.sample_times(), log3.data()[5, :], \\\n",
    "        log3.sample_times(), log3.data()[6, :])"
   ]
  },
  {
   "cell_type": "code",
   "execution_count": 91,
   "metadata": {},
   "outputs": [],
   "source": [
    "error = np.abs(log2.data()[:7,:].transpose() - np.tile(qd,(log3.data().shape[1],1)))"
   ]
  },
  {
   "cell_type": "code",
   "execution_count": 92,
   "metadata": {},
   "outputs": [
    {
     "data": {
      "text/plain": [
       "[<matplotlib.lines.Line2D at 0x7f7f98945700>,\n",
       " <matplotlib.lines.Line2D at 0x7f7f6ab4fd30>,\n",
       " <matplotlib.lines.Line2D at 0x7f7f6ab4fe50>,\n",
       " <matplotlib.lines.Line2D at 0x7f7f6ab4ff70>,\n",
       " <matplotlib.lines.Line2D at 0x7f7f6ab40be0>,\n",
       " <matplotlib.lines.Line2D at 0x7f7f6ab40c10>,\n",
       " <matplotlib.lines.Line2D at 0x7f7f6ab5c1f0>]"
      ]
     },
     "execution_count": 92,
     "metadata": {},
     "output_type": "execute_result"
    },
    {
     "data": {
      "image/png": "[encoded data removed]",
      "text/plain": [
       "<Figure size 432x288 with 1 Axes>"
      ]
     },
     "metadata": {
      "needs_background": "light"
     },
     "output_type": "display_data"
    }
   ],
   "source": [
    "plt.plot(error)"
   ]
  },
  {
   "cell_type": "code",
   "execution_count": 93,
   "metadata": {},
   "outputs": [
    {
     "name": "stdout",
     "output_type": "stream",
     "text": [
      "36696\n"
     ]
    }
   ],
   "source": [
    "e_norm = np.array([np.linalg.norm(val) for val in error])\n",
    "for i in range(len(e_norm)):\n",
    "    if np.all(e_norm[i:]<5e-3):\n",
    "        print(i)\n",
    "        break"
   ]
  },
  {
   "cell_type": "code",
   "execution_count": 94,
   "metadata": {},
   "outputs": [
    {
     "name": "stdout",
     "output_type": "stream",
     "text": [
      "3.652\n"
     ]
    }
   ],
   "source": [
    "ts = log2.sample_times()[i]\n",
    "print(ts)"
   ]
  },
  {
   "cell_type": "code",
   "execution_count": 95,
   "metadata": {},
   "outputs": [
    {
     "name": "stdout",
     "output_type": "stream",
     "text": [
      "12.598707312502793\n",
      "11.816\n"
     ]
    }
   ],
   "source": [
    "# Max torque required\n",
    "# We can enforce max torque requirements at each joint in the URDF itself\n",
    "print(np.max(np.abs(log1.data())))\n",
    "print(np.max(np.abs(log3.data())))"
   ]
  },
  {
   "cell_type": "code",
   "execution_count": 96,
   "metadata": {},
   "outputs": [
    {
     "data": {
      "text/plain": [
       "[<matplotlib.lines.Line2D at 0x7f7f6ac514c0>,\n",
       " <matplotlib.lines.Line2D at 0x7f7f6aacc700>,\n",
       " <matplotlib.lines.Line2D at 0x7f7f6aacc880>,\n",
       " <matplotlib.lines.Line2D at 0x7f7f6aaccac0>,\n",
       " <matplotlib.lines.Line2D at 0x7f7f6aacc9a0>,\n",
       " <matplotlib.lines.Line2D at 0x7f7f6aaccaf0>,\n",
       " <matplotlib.lines.Line2D at 0x7f7f6aaccd00>]"
      ]
     },
     "execution_count": 96,
     "metadata": {},
     "output_type": "execute_result"
    },
    {
     "data": {
      "image/png": "[encoded data removed]",
      "text/plain": [
       "<Figure size 432x288 with 1 Axes>"
      ]
     },
     "metadata": {
      "needs_background": "light"
     },
     "output_type": "display_data"
    }
   ],
   "source": [
    "plt.plot(log2.sample_times(), log2.data()[0, :], log2.sample_times(), log2.data()[1, :],\\\n",
    "        log2.sample_times(), log2.data()[2, :], log2.sample_times(), log2.data()[3, :], \\\n",
    "        log2.sample_times(), log2.data()[4, :], log2.sample_times(), log2.data()[5, :], \\\n",
    "        log2.sample_times(), log2.data()[6, :])"
   ]
  },
  {
   "cell_type": "code",
   "execution_count": 97,
   "metadata": {},
   "outputs": [],
   "source": [
    "# Now all that is left is to integrate these\n",
    "# bottom-up mappings with auto-generation of the URDF\n",
    "# and solution space computation"
   ]
  },
  {
   "cell_type": "code",
   "execution_count": 98,
   "metadata": {},
   "outputs": [
    {
     "name": "stdout",
     "output_type": "stream",
     "text": [
      "friction losses:  4.270992656369323\n",
      "joule losses:  0.7545351651641892\n"
     ]
    }
   ],
   "source": [
    "# Motor angular velocity\n",
    "omega = []\n",
    "for i in range(log2.data().shape[1]):\n",
    "    omega.append(log2.data()[:,i][7:])\n",
    "omega_m = np.array(omega).transpose()*gear_ratio\n",
    "# Motor torque\n",
    "tau_m = log3.data()/gear_ratio\n",
    "\n",
    "# Friction torque\n",
    "tau_mu = 5.3e-3\n",
    "b0 = 1.5e-5\n",
    "# Motor constant matrix\n",
    "km = 0.14\n",
    "K = 1/np.sqrt(km)*np.identity(7)\n",
    "\n",
    "# Total friction power loss\n",
    "inst_friction_power = []\n",
    "inst_joule_power = []\n",
    "\n",
    "for i in range(len(log1.sample_times())):\n",
    "    omega_inst = omega_m[:, i]\n",
    "    tau_f = tau_mu*np.sign(omega_inst)+b0*omega_inst\n",
    "    P_f = np.dot(tau_f, omega_inst)\n",
    "    inst_friction_power.append(P_f)\n",
    "    tau_t = tau_f+tau_m[:, i]\n",
    "    P_t = np.dot(K.dot(tau_t), tau_t)\n",
    "    inst_joule_power.append(P_t)\n",
    "# Normalising to step size, since its an integration\n",
    "# If the step size is constant, this can be ignored\n",
    "print('friction losses: ', np.sum(inst_friction_power)*1e-4)\n",
    "# Losses due to joule effecto at motor windings\n",
    "print('joule losses: ', np.sum(inst_joule_power)*1e-4)"
   ]
  },
  {
   "cell_type": "code",
   "execution_count": 99,
   "metadata": {},
   "outputs": [],
   "source": [
    "inst_power = []\n",
    "Kt = 0.068\n",
    "Kv = 140\n",
    "for i in range(len(log1.sample_times())):    \n",
    "    # Compute inst power demanded\n",
    "    inst_power.append(np.abs(np.multiply(log3.data()[:,i], omega[i]))/(Kt*Kv))\n",
    "\n",
    "inst_power_m = []\n",
    "Kt = 0.068\n",
    "Kv = 140\n",
    "for i in range(len(log1.sample_times())):    \n",
    "    # Compute inst power demanded\n",
    "    inst_power_m.append(np.abs(np.multiply(tau_m[:,i], omega_m[:,i]))/(Kt*Kv))"
   ]
  },
  {
   "cell_type": "code",
   "execution_count": 100,
   "metadata": {},
   "outputs": [
    {
     "name": "stdout",
     "output_type": "stream",
     "text": [
      "max power used:  7.146950779605477 W\n"
     ]
    },
    {
     "data": {
      "image/png": "[encoded data removed]",
      "text/plain": [
       "<Figure size 432x288 with 1 Axes>"
      ]
     },
     "metadata": {
      "needs_background": "light"
     },
     "output_type": "display_data"
    }
   ],
   "source": [
    "# The joule losses feel very high, is this common or is\n",
    "plt.plot(log1.sample_times(), inst_power)\n",
    "print(\"max power used: \", np.max(inst_power), \"W\")"
   ]
  },
  {
   "cell_type": "code",
   "execution_count": 101,
   "metadata": {
    "scrolled": true
   },
   "outputs": [
    {
     "name": "stdout",
     "output_type": "stream",
     "text": [
      "max power used:  0.6733320678131786 W\n"
     ]
    },
    {
     "data": {
      "image/png": "[encoded data removed]",
      "text/plain": [
       "<Figure size 432x288 with 1 Axes>"
      ]
     },
     "metadata": {
      "needs_background": "light"
     },
     "output_type": "display_data"
    }
   ],
   "source": [
    "# The joule losses feel very high, is this common or is\n",
    "plt.plot(log1.sample_times(), inst_joule_power)\n",
    "print(\"max power used: \", np.max(inst_joule_power), \"W\")"
   ]
  },
  {
   "cell_type": "code",
   "execution_count": 102,
   "metadata": {},
   "outputs": [
    {
     "name": "stdout",
     "output_type": "stream",
     "text": [
      "4.270992656369323\n",
      "0.7545351651641892\n"
     ]
    }
   ],
   "source": [
    "print(total_friction_loss)\n",
    "print(total_joule_loss)"
   ]
  },
  {
   "cell_type": "code",
   "execution_count": 103,
   "metadata": {},
   "outputs": [
    {
     "name": "stdout",
     "output_type": "stream",
     "text": [
      "11.677527821533513\n"
     ]
    }
   ],
   "source": [
    "# Compute cost\n",
    "print(1+1+1+ts+total_friction_loss+total_joule_loss)"
   ]
  },
  {
   "cell_type": "code",
   "execution_count": 104,
   "metadata": {},
   "outputs": [
    {
     "name": "stdout",
     "output_type": "stream",
     "text": [
      "gripper position (m): [-1.12 0.50 1.00]\n",
      "gripper roll-pitch-yaw (rad):[0.00 -1.57 0.00]\n",
      "pose rotation:  RotationMatrix([\n",
      "  [6.123233995736766e-17, -0.0006999999428332577, -0.9999997550000099],\n",
      "  [0.0, 0.9999997550000099, -0.0006999999428332576],\n",
      "  [1.0, 4.286263446970397e-20, 6.123232495544497e-17],\n",
      "])\n"
     ]
    }
   ],
   "source": [
    "def gripper_forward_kinematics_example():\n",
    "    builder = DiagramBuilder()\n",
    "    plant, scene_graph = AddMultibodyPlantSceneGraph(builder, time_step=1e-4)\n",
    "    model = Parser(plant, scene_graph).AddModelFromFile(urdf_path, 'diva_robot')\n",
    "    # Transform for the robot location\n",
    "    X_R = RigidTransform(RotationMatrix.MakeYRotation(-np.pi/2), np.array([-0.1, 0.5, 1]))\n",
    "#     X_R = RigidTransform(RotationMatrix(RollPitchYaw([0.8, -0.8, 0])), np.array([-0.1, 0.5, 1]))\n",
    "    plant.WeldFrames(plant.world_frame(), plant.get_body(plant.GetBodyIndices(model)[0]).body_frame(), X_R)\n",
    "    # Spawn table\n",
    "    table = Parser(plant, scene_graph).AddModelFromFile('./urdfs/table/extra_heavy_duty_table_modified.sdf','table')\n",
    "    # Spawn spherical work piece\n",
    "    sphere = Parser(plant, scene_graph).AddModelFromFile('./urdfs/helper/sphere.urdf','sphere')\n",
    "    # Place the sphere at the center of the table\n",
    "    # Length, width and height and thickness of the table\n",
    "    # 1.39, 0.762, 0.736, 0.057\n",
    "    # Sphere radius -- Can be made a design variable\n",
    "    # 0.15\n",
    "    # We can sample end-points on the surface of the sphere\n",
    "    X_R = RigidTransform(RotationMatrix(RollPitchYaw([0, 0, 0])), np.array([0, 0, 0.736]))\n",
    "    plant.WeldFrames(plant.world_frame(), plant.get_body(plant.GetBodyIndices(sphere)[0]).body_frame(), X_R)\n",
    "\n",
    "    plant.Finalize()\n",
    "    \n",
    "    end_frame = \"eef\"\n",
    "    \n",
    "    # Draw the frames\n",
    "    for body_name in [\"base_link\", end_frame]:\n",
    "        AddMultibodyTriad(plant.GetFrameByName(body_name, model), scene_graph)\n",
    "\n",
    "    meshcat.Delete()\n",
    "    meshcat.DeleteAddedControls()\n",
    "\n",
    "    visualizer = MeshcatVisualizerCpp.AddToBuilder(builder, scene_graph, meshcat)\n",
    "\n",
    "    diagram = builder.Build()\n",
    "    context = diagram.CreateDefaultContext()\n",
    "\n",
    "#     plant.SetPositions(plant.GetMyContextFromRoot(context),\n",
    "#                   plant.GetModelInstanceByName(\"diva_robot\"),\n",
    "#                   [-3.54, -2.33, -1.49, -1.62, -0.97, -0.19, 0.47])\n",
    "    plant.SetPositions(plant.GetMyContextFromRoot(context),\n",
    "                  plant.GetModelInstanceByName(\"diva_robot\"),\n",
    "                  fully_stretched)\n",
    "    \n",
    "    gripper = plant.GetBodyByName(end_frame)\n",
    "    def pose_callback(context):\n",
    "        pose = plant.EvalBodyPoseInWorld(context, gripper)   ## This is the important line\n",
    "        print(pose.translation())\n",
    "        clear_output(wait=True)\n",
    "        print(\"gripper position (m): \" + np.array2string(\n",
    "            pose.translation(), formatter={\n",
    "                'float': lambda x: \"{:3.2f}\".format(x)}))\n",
    "        print(\"gripper roll-pitch-yaw (rad):\" + np.array2string(\n",
    "            RollPitchYaw(pose.rotation()).vector(),\n",
    "                         formatter={'float': lambda x: \"{:3.2f}\".format(x)}))\n",
    "        print(\"pose rotation: \", pose.rotation())\n",
    "    sliders = MeshcatJointSlidersThatPublish(meshcat, plant, visualizer, context)\n",
    "    # sliders.Run()\n",
    "    sliders.Run(pose_callback)\n",
    "\n",
    "gripper_forward_kinematics_example()"
   ]
  },
  {
   "cell_type": "code",
   "execution_count": null,
   "metadata": {},
   "outputs": [],
   "source": []
  }
 ],
 "metadata": {
  "colab": {
   "collapsed_sections": [],
   "name": "Robotic Manipulation - Let's get you a robot.ipynb",
   "provenance": [],
   "toc_visible": true
  },
  "interpreter": {
   "hash": "31f2aee4e71d21fbe5cf8b01ff0e069b9275f58929596ceb00d14d90e3e16cd6"
  },
  "kernelspec": {
   "display_name": "Python 3 (ipykernel)",
   "language": "python",
   "name": "python3"
  },
  "language_info": {
   "codemirror_mode": {
    "name": "ipython",
    "version": 3
   },
   "file_extension": ".py",
   "mimetype": "text/x-python",
   "name": "python",
   "nbconvert_exporter": "python",
   "pygments_lexer": "ipython3",
   "version": "3.8.5"
  }
 },
 "nbformat": 4,
 "nbformat_minor": 2
}
