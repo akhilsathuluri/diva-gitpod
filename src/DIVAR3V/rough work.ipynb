{
 "cells": [
  {
   "cell_type": "code",
   "execution_count": 1,
   "id": "d458d5e0",
   "metadata": {},
   "outputs": [],
   "source": [
    "import numpy as np"
   ]
  },
  {
   "cell_type": "code",
   "execution_count": 4,
   "id": "2a970371",
   "metadata": {},
   "outputs": [
    {
     "data": {
      "text/plain": [
       "0.393944898086492"
      ]
     },
     "execution_count": 4,
     "metadata": {},
     "output_type": "execute_result"
    }
   ],
   "source": [
    "m_m = (2.22/5.48)**(1/0.97)\n",
    "m_m"
   ]
  },
  {
   "cell_type": "code",
   "execution_count": 6,
   "id": "50b6c26a",
   "metadata": {},
   "outputs": [
    {
     "data": {
      "text/plain": [
       "0.04109098734990142"
      ]
     },
     "execution_count": 6,
     "metadata": {},
     "output_type": "execute_result"
    }
   ],
   "source": [
    "Km = 0.15*m_m**1.39\n",
    "Km"
   ]
  },
  {
   "cell_type": "code",
   "execution_count": null,
   "id": "38bf56db",
   "metadata": {},
   "outputs": [],
   "source": []
  }
 ],
 "metadata": {
  "kernelspec": {
   "display_name": "Python 3 (ipykernel)",
   "language": "python",
   "name": "python3"
  },
  "language_info": {
   "codemirror_mode": {
    "name": "ipython",
    "version": 3
   },
   "file_extension": ".py",
   "mimetype": "text/x-python",
   "name": "python",
   "nbconvert_exporter": "python",
   "pygments_lexer": "ipython3",
   "version": "3.8.13"
  }
 },
 "nbformat": 4,
 "nbformat_minor": 5
}
